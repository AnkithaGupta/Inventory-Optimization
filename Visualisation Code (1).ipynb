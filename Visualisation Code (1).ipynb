{
 "cells": [
  {
   "cell_type": "code",
   "execution_count": 47,
   "id": "237b3531",
   "metadata": {},
   "outputs": [],
   "source": [
    "import pandas as pd\n",
    "import matplotlib.pyplot as plt\n",
    "import seaborn as sns"
   ]
  },
  {
   "cell_type": "code",
   "execution_count": 48,
   "id": "8dbae0dd",
   "metadata": {},
   "outputs": [
    {
     "data": {
      "text/plain": [
       "store                    0\n",
       "sale.date                0\n",
       "tran.no                  0\n",
       "tran.type                0\n",
       "cashier                  0\n",
       "style                    0\n",
       "style.desc               0\n",
       "size                     0\n",
       "color                    0\n",
       "class.desc               0\n",
       "sub.class.desc           0\n",
       "unit                     0\n",
       "unit.cost               64\n",
       "sale.amt                 0\n",
       "unit.current.retail      0\n",
       "unit.original.retail     0\n",
       "dtype: int64"
      ]
     },
     "execution_count": 48,
     "metadata": {},
     "output_type": "execute_result"
    }
   ],
   "source": [
    "df=pd.read_csv('retail-sample-1 (1).csv')\n",
    "df.isnull().sum()"
   ]
  },
  {
   "cell_type": "code",
   "execution_count": 49,
   "id": "38d833ed",
   "metadata": {},
   "outputs": [
    {
     "data": {
      "image/png": "[encoded data removed]",
      "text/plain": [
       "<Figure size 432x288 with 1 Axes>"
      ]
     },
     "metadata": {
      "needs_background": "light"
     },
     "output_type": "display_data"
    }
   ],
   "source": [
    "df.boxplot(column=['unit.cost'])\n",
    "plt.show()"
   ]
  },
  {
   "cell_type": "code",
   "execution_count": 50,
   "id": "bf0a8b55",
   "metadata": {},
   "outputs": [
    {
     "data": {
      "text/plain": [
       "store                     0\n",
       "sale.date                 0\n",
       "tran.no                   0\n",
       "tran.type                 0\n",
       "cashier                   0\n",
       "style                     0\n",
       "style.desc                0\n",
       "size                      0\n",
       "color                     0\n",
       "class.desc                0\n",
       "sub.class.desc            0\n",
       "unit                      0\n",
       "unit.cost               572\n",
       "sale.amt                  0\n",
       "unit.current.retail       0\n",
       "unit.original.retail      0\n",
       "dtype: int64"
      ]
     },
     "execution_count": 50,
     "metadata": {},
     "output_type": "execute_result"
    }
   ],
   "source": [
    "df1=pd.read_csv('retail-sample-2.csv')\n",
    "df1.isnull().sum()"
   ]
  },
  {
   "cell_type": "code",
   "execution_count": 51,
   "id": "8aa75579",
   "metadata": {},
   "outputs": [
    {
     "data": {
      "image/png": "[encoded data removed]",
      "text/plain": [
       "<Figure size 432x288 with 1 Axes>"
      ]
     },
     "metadata": {
      "needs_background": "light"
     },
     "output_type": "display_data"
    }
   ],
   "source": [
    "df1.boxplot(column=['unit.cost'])\n",
    "plt.show()"
   ]
  },
  {
   "cell_type": "code",
   "execution_count": 52,
   "id": "1b443bc0",
   "metadata": {},
   "outputs": [],
   "source": [
    "merged_df = pd.concat([df, df1], axis=0)\n",
    "Q1 = merged_df['unit.cost'].quantile(0.25)\n",
    "Q3 = merged_df['unit.cost'].quantile(0.75)\n",
    "IQR = Q3 - Q1\n",
    "upper_bound = Q3 + 1.5 * IQR\n",
    "lower_bound = Q1 - 1.5 * IQR"
   ]
  },
  {
   "cell_type": "code",
   "execution_count": 53,
   "id": "397a5706",
   "metadata": {},
   "outputs": [],
   "source": [
    "outliers = merged_df.loc[(merged_df['unit.cost'] < lower_bound) | (merged_df['unit.cost'] > upper_bound)]"
   ]
  },
  {
   "cell_type": "code",
   "execution_count": 54,
   "id": "b43f8feb",
   "metadata": {},
   "outputs": [
    {
     "name": "stdout",
     "output_type": "stream",
     "text": [
      "Number of outliers: 569\n"
     ]
    }
   ],
   "source": [
    "# Print the count of outliers\n",
    "print('Number of outliers:', len(outliers))"
   ]
  },
  {
   "cell_type": "code",
   "execution_count": 55,
   "id": "5d49c21e",
   "metadata": {},
   "outputs": [
    {
     "data": {
      "text/plain": [
       "(55445, 16)"
      ]
     },
     "execution_count": 55,
     "metadata": {},
     "output_type": "execute_result"
    }
   ],
   "source": [
    "merged_df.shape"
   ]
  },
  {
   "cell_type": "code",
   "execution_count": 56,
   "id": "7c4d42b0",
   "metadata": {},
   "outputs": [
    {
     "data": {
      "text/plain": [
       "store                     0\n",
       "sale.date                 0\n",
       "tran.no                   0\n",
       "tran.type                 0\n",
       "cashier                   0\n",
       "style                     0\n",
       "style.desc                0\n",
       "size                      0\n",
       "color                     0\n",
       "class.desc                0\n",
       "sub.class.desc            0\n",
       "unit                      0\n",
       "unit.cost               636\n",
       "sale.amt                  0\n",
       "unit.current.retail       0\n",
       "unit.original.retail      0\n",
       "dtype: int64"
      ]
     },
     "execution_count": 56,
     "metadata": {},
     "output_type": "execute_result"
    }
   ],
   "source": [
    "merged_df.isna().sum()"
   ]
  },
  {
   "cell_type": "markdown",
   "id": "b6d0ac59",
   "metadata": {},
   "source": [
    "### Calculate Mean of each type of class and assign individual group mean/median\n",
    "### Check which group has most missing value"
   ]
  },
  {
   "cell_type": "code",
   "execution_count": 57,
   "id": "4def4fbf",
   "metadata": {},
   "outputs": [
    {
     "data": {
      "text/plain": [
       "sub.class.desc\n",
       "Blouse                     10.1000\n",
       "Bodysuits                   9.0600\n",
       "Button Down                 9.8500\n",
       "Kimono                      9.8500\n",
       "Long Cardigans             11.8200\n",
       "Long Sleeve Knits           8.6700\n",
       "Misc Fashion Tops           5.7500\n",
       "Pullover Sweater           11.2500\n",
       "Short Cardigans            12.5600\n",
       "Short Sleeve Knits          8.1300\n",
       "Sleeveless Woven Tanks      8.8700\n",
       "Sweater Tanks and Tanks     9.5889\n",
       "Sweatshirt                 11.3300\n",
       "Traditional Cardigan       10.8400\n",
       "Vest                       11.8200\n",
       "Name: unit.cost, dtype: float64"
      ]
     },
     "execution_count": 57,
     "metadata": {},
     "output_type": "execute_result"
    }
   ],
   "source": [
    "median_unit_cost_subclasswise=merged_df.groupby(['sub.class.desc'])['unit.cost'].median()\n",
    "median_unit_cost_subclasswise"
   ]
  },
  {
   "cell_type": "code",
   "execution_count": 58,
   "id": "ca373f4f",
   "metadata": {},
   "outputs": [
    {
     "data": {
      "text/plain": [
       "sub.class.desc\n",
       "Blouse                     10.004369\n",
       "Bodysuits                   8.956256\n",
       "Button Down                 9.897298\n",
       "Kimono                     10.696489\n",
       "Long Cardigans             11.704310\n",
       "Long Sleeve Knits           8.877064\n",
       "Misc Fashion Tops           5.750000\n",
       "Pullover Sweater           11.098416\n",
       "Short Cardigans            12.444571\n",
       "Short Sleeve Knits          8.226013\n",
       "Sleeveless Woven Tanks      8.656300\n",
       "Sweater Tanks and Tanks     9.267193\n",
       "Sweatshirt                 10.842304\n",
       "Traditional Cardigan       10.738244\n",
       "Vest                       11.921899\n",
       "Name: unit.cost, dtype: float64"
      ]
     },
     "execution_count": 58,
     "metadata": {},
     "output_type": "execute_result"
    }
   ],
   "source": [
    "mean_unit_cost_subclasswise=merged_df.groupby(['sub.class.desc'])['unit.cost'].mean()\n",
    "mean_unit_cost_subclasswise"
   ]
  },
  {
   "cell_type": "code",
   "execution_count": 59,
   "id": "4f66ffe2",
   "metadata": {},
   "outputs": [
    {
     "data": {
      "text/plain": [
       "sub.class.desc\n",
       "Blouse                     117\n",
       "Bodysuits                    9\n",
       "Button Down                 71\n",
       "Kimono                       7\n",
       "Long Cardigans              21\n",
       "Long Sleeve Knits           23\n",
       "Misc Fashion Tops            1\n",
       "Pullover Sweater           101\n",
       "Short Cardigans             19\n",
       "Short Sleeve Knits         101\n",
       "Sleeveless Woven Tanks     118\n",
       "Sweater Tanks and Tanks     37\n",
       "Sweatshirt                   5\n",
       "Traditional Cardigan         2\n",
       "Vest                         4\n",
       "Name: unit.cost, dtype: int64"
      ]
     },
     "execution_count": 59,
     "metadata": {},
     "output_type": "execute_result"
    }
   ],
   "source": [
    "# group the DataFrame by the category column and count the number of missing values in the value column for each group\n",
    "missing_counts = merged_df.groupby('sub.class.desc')['unit.cost'].apply(lambda x: x.isna().sum())\n",
    "missing_counts"
   ]
  },
  {
   "cell_type": "code",
   "execution_count": 60,
   "id": "db82f394",
   "metadata": {},
   "outputs": [],
   "source": [
    "merged_df['unit.cost'] = merged_df.groupby('sub.class.desc')['unit.cost'].transform(lambda x: x.fillna(x.median()))"
   ]
  },
  {
   "cell_type": "code",
   "execution_count": 61,
   "id": "36c2006b",
   "metadata": {},
   "outputs": [
    {
     "data": {
      "text/plain": [
       "store                   0\n",
       "sale.date               0\n",
       "tran.no                 0\n",
       "tran.type               0\n",
       "cashier                 0\n",
       "style                   0\n",
       "style.desc              0\n",
       "size                    0\n",
       "color                   0\n",
       "class.desc              0\n",
       "sub.class.desc          0\n",
       "unit                    0\n",
       "unit.cost               0\n",
       "sale.amt                0\n",
       "unit.current.retail     0\n",
       "unit.original.retail    0\n",
       "dtype: int64"
      ]
     },
     "execution_count": 61,
     "metadata": {},
     "output_type": "execute_result"
    }
   ],
   "source": [
    "merged_df.isna().sum()"
   ]
  },
  {
   "cell_type": "code",
   "execution_count": 62,
   "id": "cd903b21",
   "metadata": {},
   "outputs": [],
   "source": [
    "merged_df=merged_df.drop(['style','style.desc'], axis=1)"
   ]
  },
  {
   "cell_type": "code",
   "execution_count": 63,
   "id": "e5ebbc50",
   "metadata": {},
   "outputs": [],
   "source": [
    "merged_df['sale.date']=pd.to_datetime(merged_df['sale.date'])"
   ]
  },
  {
   "cell_type": "code",
   "execution_count": 64,
   "id": "54ed67d9",
   "metadata": {},
   "outputs": [],
   "source": [
    "#Extracting date from date and time\n",
    "\n",
    "merged_df['sale.date'] = merged_df['sale.date'].dt.date"
   ]
  },
  {
   "cell_type": "code",
   "execution_count": 65,
   "id": "66fe77d9",
   "metadata": {},
   "outputs": [],
   "source": [
    "merged_df['gross_margin']=(merged_df['sale.amt']-(merged_df['unit.cost']*merged_df['unit']))/merged_df['sale.amt']"
   ]
  },
  {
   "cell_type": "code",
   "execution_count": 66,
   "id": "44be949b",
   "metadata": {},
   "outputs": [],
   "source": [
    "merged_df['cost']=merged_df['unit.cost']*merged_df['unit']"
   ]
  },
  {
   "cell_type": "code",
   "execution_count": 67,
   "id": "e25181e3",
   "metadata": {},
   "outputs": [
    {
     "data": {
      "text/plain": [
       "store\n",
       "3      62901.4159\n",
       "7     121917.2976\n",
       "11     68029.8543\n",
       "13     51317.6990\n",
       "14    111769.1693\n",
       "16     66856.5263\n",
       "19    151730.0080\n",
       "20    137959.0272\n",
       "21    105753.9018\n",
       "27     55966.2688\n",
       "dtype: float64"
      ]
     },
     "execution_count": 67,
     "metadata": {},
     "output_type": "execute_result"
    }
   ],
   "source": [
    "###gross margin by store\n",
    "profit_storewise = merged_df.groupby(['store'])['sale.amt'].sum() - merged_df.groupby(['store'])['cost'].sum()\n",
    "profit_storewise"
   ]
  },
  {
   "cell_type": "code",
   "execution_count": 68,
   "id": "657de8ee",
   "metadata": {},
   "outputs": [
    {
     "data": {
      "text/plain": [
       "store\n",
       "3     103316.88\n",
       "7     192465.96\n",
       "11    110189.71\n",
       "13     80598.48\n",
       "14    174763.02\n",
       "16    103167.93\n",
       "19    239191.94\n",
       "20    217038.83\n",
       "21    164570.02\n",
       "27     89687.75\n",
       "Name: sale.amt, dtype: float64"
      ]
     },
     "execution_count": 68,
     "metadata": {},
     "output_type": "execute_result"
    }
   ],
   "source": [
    "sales_storewise=merged_df.groupby(['store'])['sale.amt'].sum()\n",
    "sales_storewise"
   ]
  },
  {
   "cell_type": "markdown",
   "id": "7febfaca",
   "metadata": {},
   "source": [
    "# graph for f=gross margin and sales by store"
   ]
  },
  {
   "cell_type": "code",
   "execution_count": 69,
   "id": "4b55d261",
   "metadata": {},
   "outputs": [
    {
     "data": {
      "application/vnd.plotly.v1+json": {
       "config": {
        "plotlyServerURL": "https://plot.ly"
       },
       "data": [
        {
         "marker": {
          "color": "#2E7D32"
         },
         "name": "Gross Profit",
         "orientation": "h",
         "type": "bar",
         "x": [
          151730.008,
          137959.02719999998,
          121917.29759999999,
          111769.16929999998,
          105753.90179999999,
          68029.8543,
          62901.41590000001,
          66856.5263,
          55966.2688,
          51317.69899999999
         ],
         "y": [
          "19",
          "20",
          "7",
          "14",
          "21",
          "11",
          "3",
          "16",
          "27",
          "13"
         ]
        },
        {
         "marker": {
          "color": "#81C784"
         },
         "name": "Sales",
         "orientation": "h",
         "type": "bar",
         "x": [
          239191.94,
          217038.83,
          192465.96,
          174763.02,
          164570.02,
          110189.71,
          103316.88,
          103167.93,
          89687.75,
          80598.48
         ],
         "y": [
          "19",
          "20",
          "7",
          "14",
          "21",
          "11",
          "3",
          "16",
          "27",
          "13"
         ]
        }
       ],
       "layout": {
        "barmode": "group",
        "font": {
         "size": 14
        },
        "legend": {
         "title": {
          "text": ""
         }
        },
        "paper_bgcolor": "rgba(0, 0, 0, 0)",
        "plot_bgcolor": "rgba(0, 0, 0, 0)",
        "template": {
         "data": {
          "bar": [
           {
            "error_x": {
             "color": "#2a3f5f"
            },
            "error_y": {
             "color": "#2a3f5f"
            },
            "marker": {
             "line": {
              "color": "#E5ECF6",
              "width": 0.5
             },
             "pattern": {
              "fillmode": "overlay",
              "size": 10,
              "solidity": 0.2
             }
            },
            "type": "bar"
           }
          ],
          "barpolar": [
           {
            "marker": {
             "line": {
              "color": "#E5ECF6",
              "width": 0.5
             },
             "pattern": {
              "fillmode": "overlay",
              "size": 10,
              "solidity": 0.2
             }
            },
            "type": "barpolar"
           }
          ],
          "carpet": [
           {
            "aaxis": {
             "endlinecolor": "#2a3f5f",
             "gridcolor": "white",
             "linecolor": "white",
             "minorgridcolor": "white",
             "startlinecolor": "#2a3f5f"
            },
            "baxis": {
             "endlinecolor": "#2a3f5f",
             "gridcolor": "white",
             "linecolor": "white",
             "minorgridcolor": "white",
             "startlinecolor": "#2a3f5f"
            },
            "type": "carpet"
           }
          ],
          "choropleth": [
           {
            "colorbar": {
             "outlinewidth": 0,
             "ticks": ""
            },
            "type": "choropleth"
           }
          ],
          "contour": [
           {
            "colorbar": {
             "outlinewidth": 0,
             "ticks": ""
            },
            "colorscale": [
             [
              0,
              "#0d0887"
             ],
             [
              0.1111111111111111,
              "#46039f"
             ],
             [
              0.2222222222222222,
              "#7201a8"
             ],
             [
              0.3333333333333333,
              "#9c179e"
             ],
             [
              0.4444444444444444,
              "#bd3786"
             ],
             [
              0.5555555555555556,
              "#d8576b"
             ],
             [
              0.6666666666666666,
              "#ed7953"
             ],
             [
              0.7777777777777778,
              "#fb9f3a"
             ],
             [
              0.8888888888888888,
              "#fdca26"
             ],
             [
              1,
              "#f0f921"
             ]
            ],
            "type": "contour"
           }
          ],
          "contourcarpet": [
           {
            "colorbar": {
             "outlinewidth": 0,
             "ticks": ""
            },
            "type": "contourcarpet"
           }
          ],
          "heatmap": [
           {
            "colorbar": {
             "outlinewidth": 0,
             "ticks": ""
            },
            "colorscale": [
             [
              0,
              "#0d0887"
             ],
             [
              0.1111111111111111,
              "#46039f"
             ],
             [
              0.2222222222222222,
              "#7201a8"
             ],
             [
              0.3333333333333333,
              "#9c179e"
             ],
             [
              0.4444444444444444,
              "#bd3786"
             ],
             [
              0.5555555555555556,
              "#d8576b"
             ],
             [
              0.6666666666666666,
              "#ed7953"
             ],
             [
              0.7777777777777778,
              "#fb9f3a"
             ],
             [
              0.8888888888888888,
              "#fdca26"
             ],
             [
              1,
              "#f0f921"
             ]
            ],
            "type": "heatmap"
           }
          ],
          "heatmapgl": [
           {
            "colorbar": {
             "outlinewidth": 0,
             "ticks": ""
            },
            "colorscale": [
             [
              0,
              "#0d0887"
             ],
             [
              0.1111111111111111,
              "#46039f"
             ],
             [
              0.2222222222222222,
              "#7201a8"
             ],
             [
              0.3333333333333333,
              "#9c179e"
             ],
             [
              0.4444444444444444,
              "#bd3786"
             ],
             [
              0.5555555555555556,
              "#d8576b"
             ],
             [
              0.6666666666666666,
              "#ed7953"
             ],
             [
              0.7777777777777778,
              "#fb9f3a"
             ],
             [
              0.8888888888888888,
              "#fdca26"
             ],
             [
              1,
              "#f0f921"
             ]
            ],
            "type": "heatmapgl"
           }
          ],
          "histogram": [
           {
            "marker": {
             "pattern": {
              "fillmode": "overlay",
              "size": 10,
              "solidity": 0.2
             }
            },
            "type": "histogram"
           }
          ],
          "histogram2d": [
           {
            "colorbar": {
             "outlinewidth": 0,
             "ticks": ""
            },
            "colorscale": [
             [
              0,
              "#0d0887"
             ],
             [
              0.1111111111111111,
              "#46039f"
             ],
             [
              0.2222222222222222,
              "#7201a8"
             ],
             [
              0.3333333333333333,
              "#9c179e"
             ],
             [
              0.4444444444444444,
              "#bd3786"
             ],
             [
              0.5555555555555556,
              "#d8576b"
             ],
             [
              0.6666666666666666,
              "#ed7953"
             ],
             [
              0.7777777777777778,
              "#fb9f3a"
             ],
             [
              0.8888888888888888,
              "#fdca26"
             ],
             [
              1,
              "#f0f921"
             ]
            ],
            "type": "histogram2d"
           }
          ],
          "histogram2dcontour": [
           {
            "colorbar": {
             "outlinewidth": 0,
             "ticks": ""
            },
            "colorscale": [
             [
              0,
              "#0d0887"
             ],
             [
              0.1111111111111111,
              "#46039f"
             ],
             [
              0.2222222222222222,
              "#7201a8"
             ],
             [
              0.3333333333333333,
              "#9c179e"
             ],
             [
              0.4444444444444444,
              "#bd3786"
             ],
             [
              0.5555555555555556,
              "#d8576b"
             ],
             [
              0.6666666666666666,
              "#ed7953"
             ],
             [
              0.7777777777777778,
              "#fb9f3a"
             ],
             [
              0.8888888888888888,
              "#fdca26"
             ],
             [
              1,
              "#f0f921"
             ]
            ],
            "type": "histogram2dcontour"
           }
          ],
          "mesh3d": [
           {
            "colorbar": {
             "outlinewidth": 0,
             "ticks": ""
            },
            "type": "mesh3d"
           }
          ],
          "parcoords": [
           {
            "line": {
             "colorbar": {
              "outlinewidth": 0,
              "ticks": ""
             }
            },
            "type": "parcoords"
           }
          ],
          "pie": [
           {
            "automargin": true,
            "type": "pie"
           }
          ],
          "scatter": [
           {
            "marker": {
             "colorbar": {
              "outlinewidth": 0,
              "ticks": ""
             }
            },
            "type": "scatter"
           }
          ],
          "scatter3d": [
           {
            "line": {
             "colorbar": {
              "outlinewidth": 0,
              "ticks": ""
             }
            },
            "marker": {
             "colorbar": {
              "outlinewidth": 0,
              "ticks": ""
             }
            },
            "type": "scatter3d"
           }
          ],
          "scattercarpet": [
           {
            "marker": {
             "colorbar": {
              "outlinewidth": 0,
              "ticks": ""
             }
            },
            "type": "scattercarpet"
           }
          ],
          "scattergeo": [
           {
            "marker": {
             "colorbar": {
              "outlinewidth": 0,
              "ticks": ""
             }
            },
            "type": "scattergeo"
           }
          ],
          "scattergl": [
           {
            "marker": {
             "colorbar": {
              "outlinewidth": 0,
              "ticks": ""
             }
            },
            "type": "scattergl"
           }
          ],
          "scattermapbox": [
           {
            "marker": {
             "colorbar": {
              "outlinewidth": 0,
              "ticks": ""
             }
            },
            "type": "scattermapbox"
           }
          ],
          "scatterpolar": [
           {
            "marker": {
             "colorbar": {
              "outlinewidth": 0,
              "ticks": ""
             }
            },
            "type": "scatterpolar"
           }
          ],
          "scatterpolargl": [
           {
            "marker": {
             "colorbar": {
              "outlinewidth": 0,
              "ticks": ""
             }
            },
            "type": "scatterpolargl"
           }
          ],
          "scatterternary": [
           {
            "marker": {
             "colorbar": {
              "outlinewidth": 0,
              "ticks": ""
             }
            },
            "type": "scatterternary"
           }
          ],
          "surface": [
           {
            "colorbar": {
             "outlinewidth": 0,
             "ticks": ""
            },
            "colorscale": [
             [
              0,
              "#0d0887"
             ],
             [
              0.1111111111111111,
              "#46039f"
             ],
             [
              0.2222222222222222,
              "#7201a8"
             ],
             [
              0.3333333333333333,
              "#9c179e"
             ],
             [
              0.4444444444444444,
              "#bd3786"
             ],
             [
              0.5555555555555556,
              "#d8576b"
             ],
             [
              0.6666666666666666,
              "#ed7953"
             ],
             [
              0.7777777777777778,
              "#fb9f3a"
             ],
             [
              0.8888888888888888,
              "#fdca26"
             ],
             [
              1,
              "#f0f921"
             ]
            ],
            "type": "surface"
           }
          ],
          "table": [
           {
            "cells": {
             "fill": {
              "color": "#EBF0F8"
             },
             "line": {
              "color": "white"
             }
            },
            "header": {
             "fill": {
              "color": "#C8D4E3"
             },
             "line": {
              "color": "white"
             }
            },
            "type": "table"
           }
          ]
         },
         "layout": {
          "annotationdefaults": {
           "arrowcolor": "#2a3f5f",
           "arrowhead": 0,
           "arrowwidth": 1
          },
          "autotypenumbers": "strict",
          "coloraxis": {
           "colorbar": {
            "outlinewidth": 0,
            "ticks": ""
           }
          },
          "colorscale": {
           "diverging": [
            [
             0,
             "#8e0152"
            ],
            [
             0.1,
             "#c51b7d"
            ],
            [
             0.2,
             "#de77ae"
            ],
            [
             0.3,
             "#f1b6da"
            ],
            [
             0.4,
             "#fde0ef"
            ],
            [
             0.5,
             "#f7f7f7"
            ],
            [
             0.6,
             "#e6f5d0"
            ],
            [
             0.7,
             "#b8e186"
            ],
            [
             0.8,
             "#7fbc41"
            ],
            [
             0.9,
             "#4d9221"
            ],
            [
             1,
             "#276419"
            ]
           ],
           "sequential": [
            [
             0,
             "#0d0887"
            ],
            [
             0.1111111111111111,
             "#46039f"
            ],
            [
             0.2222222222222222,
             "#7201a8"
            ],
            [
             0.3333333333333333,
             "#9c179e"
            ],
            [
             0.4444444444444444,
             "#bd3786"
            ],
            [
             0.5555555555555556,
             "#d8576b"
            ],
            [
             0.6666666666666666,
             "#ed7953"
            ],
            [
             0.7777777777777778,
             "#fb9f3a"
            ],
            [
             0.8888888888888888,
             "#fdca26"
            ],
            [
             1,
             "#f0f921"
            ]
           ],
           "sequentialminus": [
            [
             0,
             "#0d0887"
            ],
            [
             0.1111111111111111,
             "#46039f"
            ],
            [
             0.2222222222222222,
             "#7201a8"
            ],
            [
             0.3333333333333333,
             "#9c179e"
            ],
            [
             0.4444444444444444,
             "#bd3786"
            ],
            [
             0.5555555555555556,
             "#d8576b"
            ],
            [
             0.6666666666666666,
             "#ed7953"
            ],
            [
             0.7777777777777778,
             "#fb9f3a"
            ],
            [
             0.8888888888888888,
             "#fdca26"
            ],
            [
             1,
             "#f0f921"
            ]
           ]
          },
          "colorway": [
           "#636efa",
           "#EF553B",
           "#00cc96",
           "#ab63fa",
           "#FFA15A",
           "#19d3f3",
           "#FF6692",
           "#B6E880",
           "#FF97FF",
           "#FECB52"
          ],
          "font": {
           "color": "#2a3f5f"
          },
          "geo": {
           "bgcolor": "white",
           "lakecolor": "white",
           "landcolor": "#E5ECF6",
           "showlakes": true,
           "showland": true,
           "subunitcolor": "white"
          },
          "hoverlabel": {
           "align": "left"
          },
          "hovermode": "closest",
          "mapbox": {
           "style": "light"
          },
          "paper_bgcolor": "white",
          "plot_bgcolor": "#E5ECF6",
          "polar": {
           "angularaxis": {
            "gridcolor": "white",
            "linecolor": "white",
            "ticks": ""
           },
           "bgcolor": "#E5ECF6",
           "radialaxis": {
            "gridcolor": "white",
            "linecolor": "white",
            "ticks": ""
           }
          },
          "scene": {
           "xaxis": {
            "backgroundcolor": "#E5ECF6",
            "gridcolor": "white",
            "gridwidth": 2,
            "linecolor": "white",
            "showbackground": true,
            "ticks": "",
            "zerolinecolor": "white"
           },
           "yaxis": {
            "backgroundcolor": "#E5ECF6",
            "gridcolor": "white",
            "gridwidth": 2,
            "linecolor": "white",
            "showbackground": true,
            "ticks": "",
            "zerolinecolor": "white"
           },
           "zaxis": {
            "backgroundcolor": "#E5ECF6",
            "gridcolor": "white",
            "gridwidth": 2,
            "linecolor": "white",
            "showbackground": true,
            "ticks": "",
            "zerolinecolor": "white"
           }
          },
          "shapedefaults": {
           "line": {
            "color": "#2a3f5f"
           }
          },
          "ternary": {
           "aaxis": {
            "gridcolor": "white",
            "linecolor": "white",
            "ticks": ""
           },
           "baxis": {
            "gridcolor": "white",
            "linecolor": "white",
            "ticks": ""
           },
           "bgcolor": "#E5ECF6",
           "caxis": {
            "gridcolor": "white",
            "linecolor": "white",
            "ticks": ""
           }
          },
          "title": {
           "x": 0.05
          },
          "xaxis": {
           "automargin": true,
           "gridcolor": "white",
           "linecolor": "white",
           "ticks": "",
           "title": {
            "standoff": 15
           },
           "zerolinecolor": "white",
           "zerolinewidth": 2
          },
          "yaxis": {
           "automargin": true,
           "gridcolor": "white",
           "linecolor": "white",
           "ticks": "",
           "title": {
            "standoff": 15
           },
           "zerolinecolor": "white",
           "zerolinewidth": 2
          }
         }
        },
        "title": {
         "text": "Sales and Gross Profit by Store"
        },
        "xaxis": {
         "title": {
          "text": "Amount"
         }
        },
        "yaxis": {
         "autorange": "reversed",
         "categoryorder": "total ascending",
         "title": {
          "text": "Store"
         }
        }
       }
      },
      "text/html": [
       "<div>                            <div id=\"d95a3980-3d59-4130-aeda-bffeb2b9830c\" class=\"plotly-graph-div\" style=\"height:525px; width:100%;\"></div>            <script type=\"text/javascript\">                require([\"plotly\"], function(Plotly) {                    window.PLOTLYENV=window.PLOTLYENV || {};                                    if (document.getElementById(\"d95a3980-3d59-4130-aeda-bffeb2b9830c\")) {                    Plotly.newPlot(                        \"d95a3980-3d59-4130-aeda-bffeb2b9830c\",                        [{\"marker\":{\"color\":\"#2E7D32\"},\"name\":\"Gross Profit\",\"orientation\":\"h\",\"x\":[151730.008,137959.02719999998,121917.29759999999,111769.16929999998,105753.90179999999,68029.8543,62901.41590000001,66856.5263,55966.2688,51317.69899999999],\"y\":[\"19\",\"20\",\"7\",\"14\",\"21\",\"11\",\"3\",\"16\",\"27\",\"13\"],\"type\":\"bar\"},{\"marker\":{\"color\":\"#81C784\"},\"name\":\"Sales\",\"orientation\":\"h\",\"x\":[239191.94,217038.83,192465.96,174763.02,164570.02,110189.71,103316.88,103167.93,89687.75,80598.48],\"y\":[\"19\",\"20\",\"7\",\"14\",\"21\",\"11\",\"3\",\"16\",\"27\",\"13\"],\"type\":\"bar\"}],                        {\"template\":{\"data\":{\"bar\":[{\"error_x\":{\"color\":\"#2a3f5f\"},\"error_y\":{\"color\":\"#2a3f5f\"},\"marker\":{\"line\":{\"color\":\"#E5ECF6\",\"width\":0.5},\"pattern\":{\"fillmode\":\"overlay\",\"size\":10,\"solidity\":0.2}},\"type\":\"bar\"}],\"barpolar\":[{\"marker\":{\"line\":{\"color\":\"#E5ECF6\",\"width\":0.5},\"pattern\":{\"fillmode\":\"overlay\",\"size\":10,\"solidity\":0.2}},\"type\":\"barpolar\"}],\"carpet\":[{\"aaxis\":{\"endlinecolor\":\"#2a3f5f\",\"gridcolor\":\"white\",\"linecolor\":\"white\",\"minorgridcolor\":\"white\",\"startlinecolor\":\"#2a3f5f\"},\"baxis\":{\"endlinecolor\":\"#2a3f5f\",\"gridcolor\":\"white\",\"linecolor\":\"white\",\"minorgridcolor\":\"white\",\"startlinecolor\":\"#2a3f5f\"},\"type\":\"carpet\"}],\"choropleth\":[{\"colorbar\":{\"outlinewidth\":0,\"ticks\":\"\"},\"type\":\"choropleth\"}],\"contour\":[{\"colorbar\":{\"outlinewidth\":0,\"ticks\":\"\"},\"colorscale\":[[0.0,\"#0d0887\"],[0.1111111111111111,\"#46039f\"],[0.2222222222222222,\"#7201a8\"],[0.3333333333333333,\"#9c179e\"],[0.4444444444444444,\"#bd3786\"],[0.5555555555555556,\"#d8576b\"],[0.6666666666666666,\"#ed7953\"],[0.7777777777777778,\"#fb9f3a\"],[0.8888888888888888,\"#fdca26\"],[1.0,\"#f0f921\"]],\"type\":\"contour\"}],\"contourcarpet\":[{\"colorbar\":{\"outlinewidth\":0,\"ticks\":\"\"},\"type\":\"contourcarpet\"}],\"heatmap\":[{\"colorbar\":{\"outlinewidth\":0,\"ticks\":\"\"},\"colorscale\":[[0.0,\"#0d0887\"],[0.1111111111111111,\"#46039f\"],[0.2222222222222222,\"#7201a8\"],[0.3333333333333333,\"#9c179e\"],[0.4444444444444444,\"#bd3786\"],[0.5555555555555556,\"#d8576b\"],[0.6666666666666666,\"#ed7953\"],[0.7777777777777778,\"#fb9f3a\"],[0.8888888888888888,\"#fdca26\"],[1.0,\"#f0f921\"]],\"type\":\"heatmap\"}],\"heatmapgl\":[{\"colorbar\":{\"outlinewidth\":0,\"ticks\":\"\"},\"colorscale\":[[0.0,\"#0d0887\"],[0.1111111111111111,\"#46039f\"],[0.2222222222222222,\"#7201a8\"],[0.3333333333333333,\"#9c179e\"],[0.4444444444444444,\"#bd3786\"],[0.5555555555555556,\"#d8576b\"],[0.6666666666666666,\"#ed7953\"],[0.7777777777777778,\"#fb9f3a\"],[0.8888888888888888,\"#fdca26\"],[1.0,\"#f0f921\"]],\"type\":\"heatmapgl\"}],\"histogram\":[{\"marker\":{\"pattern\":{\"fillmode\":\"overlay\",\"size\":10,\"solidity\":0.2}},\"type\":\"histogram\"}],\"histogram2d\":[{\"colorbar\":{\"outlinewidth\":0,\"ticks\":\"\"},\"colorscale\":[[0.0,\"#0d0887\"],[0.1111111111111111,\"#46039f\"],[0.2222222222222222,\"#7201a8\"],[0.3333333333333333,\"#9c179e\"],[0.4444444444444444,\"#bd3786\"],[0.5555555555555556,\"#d8576b\"],[0.6666666666666666,\"#ed7953\"],[0.7777777777777778,\"#fb9f3a\"],[0.8888888888888888,\"#fdca26\"],[1.0,\"#f0f921\"]],\"type\":\"histogram2d\"}],\"histogram2dcontour\":[{\"colorbar\":{\"outlinewidth\":0,\"ticks\":\"\"},\"colorscale\":[[0.0,\"#0d0887\"],[0.1111111111111111,\"#46039f\"],[0.2222222222222222,\"#7201a8\"],[0.3333333333333333,\"#9c179e\"],[0.4444444444444444,\"#bd3786\"],[0.5555555555555556,\"#d8576b\"],[0.6666666666666666,\"#ed7953\"],[0.7777777777777778,\"#fb9f3a\"],[0.8888888888888888,\"#fdca26\"],[1.0,\"#f0f921\"]],\"type\":\"histogram2dcontour\"}],\"mesh3d\":[{\"colorbar\":{\"outlinewidth\":0,\"ticks\":\"\"},\"type\":\"mesh3d\"}],\"parcoords\":[{\"line\":{\"colorbar\":{\"outlinewidth\":0,\"ticks\":\"\"}},\"type\":\"parcoords\"}],\"pie\":[{\"automargin\":true,\"type\":\"pie\"}],\"scatter\":[{\"marker\":{\"colorbar\":{\"outlinewidth\":0,\"ticks\":\"\"}},\"type\":\"scatter\"}],\"scatter3d\":[{\"line\":{\"colorbar\":{\"outlinewidth\":0,\"ticks\":\"\"}},\"marker\":{\"colorbar\":{\"outlinewidth\":0,\"ticks\":\"\"}},\"type\":\"scatter3d\"}],\"scattercarpet\":[{\"marker\":{\"colorbar\":{\"outlinewidth\":0,\"ticks\":\"\"}},\"type\":\"scattercarpet\"}],\"scattergeo\":[{\"marker\":{\"colorbar\":{\"outlinewidth\":0,\"ticks\":\"\"}},\"type\":\"scattergeo\"}],\"scattergl\":[{\"marker\":{\"colorbar\":{\"outlinewidth\":0,\"ticks\":\"\"}},\"type\":\"scattergl\"}],\"scattermapbox\":[{\"marker\":{\"colorbar\":{\"outlinewidth\":0,\"ticks\":\"\"}},\"type\":\"scattermapbox\"}],\"scatterpolar\":[{\"marker\":{\"colorbar\":{\"outlinewidth\":0,\"ticks\":\"\"}},\"type\":\"scatterpolar\"}],\"scatterpolargl\":[{\"marker\":{\"colorbar\":{\"outlinewidth\":0,\"ticks\":\"\"}},\"type\":\"scatterpolargl\"}],\"scatterternary\":[{\"marker\":{\"colorbar\":{\"outlinewidth\":0,\"ticks\":\"\"}},\"type\":\"scatterternary\"}],\"surface\":[{\"colorbar\":{\"outlinewidth\":0,\"ticks\":\"\"},\"colorscale\":[[0.0,\"#0d0887\"],[0.1111111111111111,\"#46039f\"],[0.2222222222222222,\"#7201a8\"],[0.3333333333333333,\"#9c179e\"],[0.4444444444444444,\"#bd3786\"],[0.5555555555555556,\"#d8576b\"],[0.6666666666666666,\"#ed7953\"],[0.7777777777777778,\"#fb9f3a\"],[0.8888888888888888,\"#fdca26\"],[1.0,\"#f0f921\"]],\"type\":\"surface\"}],\"table\":[{\"cells\":{\"fill\":{\"color\":\"#EBF0F8\"},\"line\":{\"color\":\"white\"}},\"header\":{\"fill\":{\"color\":\"#C8D4E3\"},\"line\":{\"color\":\"white\"}},\"type\":\"table\"}]},\"layout\":{\"annotationdefaults\":{\"arrowcolor\":\"#2a3f5f\",\"arrowhead\":0,\"arrowwidth\":1},\"autotypenumbers\":\"strict\",\"coloraxis\":{\"colorbar\":{\"outlinewidth\":0,\"ticks\":\"\"}},\"colorscale\":{\"diverging\":[[0,\"#8e0152\"],[0.1,\"#c51b7d\"],[0.2,\"#de77ae\"],[0.3,\"#f1b6da\"],[0.4,\"#fde0ef\"],[0.5,\"#f7f7f7\"],[0.6,\"#e6f5d0\"],[0.7,\"#b8e186\"],[0.8,\"#7fbc41\"],[0.9,\"#4d9221\"],[1,\"#276419\"]],\"sequential\":[[0.0,\"#0d0887\"],[0.1111111111111111,\"#46039f\"],[0.2222222222222222,\"#7201a8\"],[0.3333333333333333,\"#9c179e\"],[0.4444444444444444,\"#bd3786\"],[0.5555555555555556,\"#d8576b\"],[0.6666666666666666,\"#ed7953\"],[0.7777777777777778,\"#fb9f3a\"],[0.8888888888888888,\"#fdca26\"],[1.0,\"#f0f921\"]],\"sequentialminus\":[[0.0,\"#0d0887\"],[0.1111111111111111,\"#46039f\"],[0.2222222222222222,\"#7201a8\"],[0.3333333333333333,\"#9c179e\"],[0.4444444444444444,\"#bd3786\"],[0.5555555555555556,\"#d8576b\"],[0.6666666666666666,\"#ed7953\"],[0.7777777777777778,\"#fb9f3a\"],[0.8888888888888888,\"#fdca26\"],[1.0,\"#f0f921\"]]},\"colorway\":[\"#636efa\",\"#EF553B\",\"#00cc96\",\"#ab63fa\",\"#FFA15A\",\"#19d3f3\",\"#FF6692\",\"#B6E880\",\"#FF97FF\",\"#FECB52\"],\"font\":{\"color\":\"#2a3f5f\"},\"geo\":{\"bgcolor\":\"white\",\"lakecolor\":\"white\",\"landcolor\":\"#E5ECF6\",\"showlakes\":true,\"showland\":true,\"subunitcolor\":\"white\"},\"hoverlabel\":{\"align\":\"left\"},\"hovermode\":\"closest\",\"mapbox\":{\"style\":\"light\"},\"paper_bgcolor\":\"white\",\"plot_bgcolor\":\"#E5ECF6\",\"polar\":{\"angularaxis\":{\"gridcolor\":\"white\",\"linecolor\":\"white\",\"ticks\":\"\"},\"bgcolor\":\"#E5ECF6\",\"radialaxis\":{\"gridcolor\":\"white\",\"linecolor\":\"white\",\"ticks\":\"\"}},\"scene\":{\"xaxis\":{\"backgroundcolor\":\"#E5ECF6\",\"gridcolor\":\"white\",\"gridwidth\":2,\"linecolor\":\"white\",\"showbackground\":true,\"ticks\":\"\",\"zerolinecolor\":\"white\"},\"yaxis\":{\"backgroundcolor\":\"#E5ECF6\",\"gridcolor\":\"white\",\"gridwidth\":2,\"linecolor\":\"white\",\"showbackground\":true,\"ticks\":\"\",\"zerolinecolor\":\"white\"},\"zaxis\":{\"backgroundcolor\":\"#E5ECF6\",\"gridcolor\":\"white\",\"gridwidth\":2,\"linecolor\":\"white\",\"showbackground\":true,\"ticks\":\"\",\"zerolinecolor\":\"white\"}},\"shapedefaults\":{\"line\":{\"color\":\"#2a3f5f\"}},\"ternary\":{\"aaxis\":{\"gridcolor\":\"white\",\"linecolor\":\"white\",\"ticks\":\"\"},\"baxis\":{\"gridcolor\":\"white\",\"linecolor\":\"white\",\"ticks\":\"\"},\"bgcolor\":\"#E5ECF6\",\"caxis\":{\"gridcolor\":\"white\",\"linecolor\":\"white\",\"ticks\":\"\"}},\"title\":{\"x\":0.05},\"xaxis\":{\"automargin\":true,\"gridcolor\":\"white\",\"linecolor\":\"white\",\"ticks\":\"\",\"title\":{\"standoff\":15},\"zerolinecolor\":\"white\",\"zerolinewidth\":2},\"yaxis\":{\"automargin\":true,\"gridcolor\":\"white\",\"linecolor\":\"white\",\"ticks\":\"\",\"title\":{\"standoff\":15},\"zerolinecolor\":\"white\",\"zerolinewidth\":2}}},\"yaxis\":{\"title\":{\"text\":\"Store\"},\"autorange\":\"reversed\",\"categoryorder\":\"total ascending\"},\"font\":{\"size\":14},\"title\":{\"text\":\"Sales and Gross Profit by Store\"},\"xaxis\":{\"title\":{\"text\":\"Amount\"}},\"legend\":{\"title\":{\"text\":\"\"}},\"barmode\":\"group\",\"plot_bgcolor\":\"rgba(0, 0, 0, 0)\",\"paper_bgcolor\":\"rgba(0, 0, 0, 0)\"},                        {\"responsive\": true}                    ).then(function(){\n",
       "                            \n",
       "var gd = document.getElementById('d95a3980-3d59-4130-aeda-bffeb2b9830c');\n",
       "var x = new MutationObserver(function (mutations, observer) {{\n",
       "        var display = window.getComputedStyle(gd).display;\n",
       "        if (!display || display === 'none') {{\n",
       "            console.log([gd, 'removed!']);\n",
       "            Plotly.purge(gd);\n",
       "            observer.disconnect();\n",
       "        }}\n",
       "}});\n",
       "\n",
       "// Listen for the removal of the full notebook cells\n",
       "var notebookContainer = gd.closest('#notebook-container');\n",
       "if (notebookContainer) {{\n",
       "    x.observe(notebookContainer, {childList: true});\n",
       "}}\n",
       "\n",
       "// Listen for the clearing of the current output cell\n",
       "var outputEl = gd.closest('.output');\n",
       "if (outputEl) {{\n",
       "    x.observe(outputEl, {childList: true});\n",
       "}}\n",
       "\n",
       "                        })                };                });            </script>        </div>"
      ]
     },
     "metadata": {},
     "output_type": "display_data"
    }
   ],
   "source": [
    "store_data = pd.DataFrame({'Store': profit_storewise.index, 'Gross Profit': profit_storewise, 'Sales': sales_storewise})\n",
    "store_data = store_data.sort_values(by='Sales', ascending=False)\n",
    "\n",
    "import plotly.graph_objects as go\n",
    "\n",
    "# Define custom color palette\n",
    "my_palette = ['#2E7D32', '#81C784']\n",
    "\n",
    "# Create a horizontal bar chart\n",
    "fig = go.Figure()\n",
    "\n",
    "fig.add_trace(go.Bar(\n",
    "    y=store_data['Store'].astype(str),\n",
    "    x=store_data['Gross Profit'],\n",
    "    name='Gross Profit',\n",
    "    orientation='h',\n",
    "    marker=dict(color=my_palette[0])\n",
    "))\n",
    "\n",
    "fig.add_trace(go.Bar(\n",
    "    y=store_data['Store'].astype(str),\n",
    "    x=store_data['Sales'],\n",
    "    name='Sales',\n",
    "    orientation='h',\n",
    "    marker=dict(color=my_palette[1])\n",
    "))\n",
    "\n",
    "# Customize the chart\n",
    "fig.update_layout(\n",
    "    title=\"Sales and Gross Profit by Store\",\n",
    "    xaxis_title=\"Amount\",\n",
    "    yaxis_title=\"Store\",\n",
    "    yaxis=dict(autorange=\"reversed\", categoryorder='total ascending'),\n",
    "    legend_title=\"\",\n",
    "    barmode='group',\n",
    "    plot_bgcolor='rgba(0, 0, 0, 0)',\n",
    "    paper_bgcolor='rgba(0, 0, 0, 0)',\n",
    "    font=dict(size=14),\n",
    ")\n",
    "\n",
    "# Display the chart\n",
    "fig.show()\n",
    "\n"
   ]
  },
  {
   "cell_type": "code",
   "execution_count": 70,
   "id": "7aecd503",
   "metadata": {},
   "outputs": [
    {
     "name": "stdout",
     "output_type": "stream",
     "text": [
      "       Store  Gross Profit      Sales\n",
      "store                                \n",
      "19        19   151730.0080  239191.94\n",
      "20        20   137959.0272  217038.83\n",
      "7          7   121917.2976  192465.96\n",
      "14        14   111769.1693  174763.02\n",
      "21        21   105753.9018  164570.02\n",
      "11        11    68029.8543  110189.71\n",
      "3          3    62901.4159  103316.88\n",
      "16        16    66856.5263  103167.93\n",
      "27        27    55966.2688   89687.75\n",
      "13        13    51317.6990   80598.48\n"
     ]
    }
   ],
   "source": [
    "# Print the store_data DataFrame\n",
    "print(store_data)\n"
   ]
  },
  {
   "cell_type": "code",
   "execution_count": 71,
   "id": "a3fae334",
   "metadata": {},
   "outputs": [
    {
     "data": {
      "text/html": [
       "<div>\n",
       "<style scoped>\n",
       "    .dataframe tbody tr th:only-of-type {\n",
       "        vertical-align: middle;\n",
       "    }\n",
       "\n",
       "    .dataframe tbody tr th {\n",
       "        vertical-align: top;\n",
       "    }\n",
       "\n",
       "    .dataframe thead th {\n",
       "        text-align: right;\n",
       "    }\n",
       "</style>\n",
       "<table border=\"1\" class=\"dataframe\">\n",
       "  <thead>\n",
       "    <tr style=\"text-align: right;\">\n",
       "      <th></th>\n",
       "      <th>gross_margin</th>\n",
       "      <th>store</th>\n",
       "    </tr>\n",
       "    <tr>\n",
       "      <th>store</th>\n",
       "      <th></th>\n",
       "      <th></th>\n",
       "    </tr>\n",
       "  </thead>\n",
       "  <tbody>\n",
       "    <tr>\n",
       "      <th>16</th>\n",
       "      <td>0.648036</td>\n",
       "      <td>16</td>\n",
       "    </tr>\n",
       "    <tr>\n",
       "      <th>21</th>\n",
       "      <td>0.642607</td>\n",
       "      <td>21</td>\n",
       "    </tr>\n",
       "    <tr>\n",
       "      <th>14</th>\n",
       "      <td>0.639547</td>\n",
       "      <td>14</td>\n",
       "    </tr>\n",
       "    <tr>\n",
       "      <th>13</th>\n",
       "      <td>0.636708</td>\n",
       "      <td>13</td>\n",
       "    </tr>\n",
       "    <tr>\n",
       "      <th>20</th>\n",
       "      <td>0.635642</td>\n",
       "      <td>20</td>\n",
       "    </tr>\n",
       "    <tr>\n",
       "      <th>19</th>\n",
       "      <td>0.634344</td>\n",
       "      <td>19</td>\n",
       "    </tr>\n",
       "    <tr>\n",
       "      <th>7</th>\n",
       "      <td>0.633449</td>\n",
       "      <td>7</td>\n",
       "    </tr>\n",
       "    <tr>\n",
       "      <th>27</th>\n",
       "      <td>0.624012</td>\n",
       "      <td>27</td>\n",
       "    </tr>\n",
       "    <tr>\n",
       "      <th>11</th>\n",
       "      <td>0.617388</td>\n",
       "      <td>11</td>\n",
       "    </tr>\n",
       "    <tr>\n",
       "      <th>3</th>\n",
       "      <td>0.608820</td>\n",
       "      <td>3</td>\n",
       "    </tr>\n",
       "  </tbody>\n",
       "</table>\n",
       "</div>"
      ],
      "text/plain": [
       "       gross_margin  store\n",
       "store                     \n",
       "16         0.648036     16\n",
       "21         0.642607     21\n",
       "14         0.639547     14\n",
       "13         0.636708     13\n",
       "20         0.635642     20\n",
       "19         0.634344     19\n",
       "7          0.633449      7\n",
       "27         0.624012     27\n",
       "11         0.617388     11\n",
       "3          0.608820      3"
      ]
     },
     "execution_count": 71,
     "metadata": {},
     "output_type": "execute_result"
    }
   ],
   "source": [
    "gross_margin_storewise = profit_storewise / sales_storewise\n",
    "results_df = pd.DataFrame()\n",
    "\n",
    "# add the gross margin column to the DataFrame\n",
    "results_df['gross_margin'] = gross_margin_storewise\n",
    "\n",
    "# add the store column to the DataFrame\n",
    "results_df['store'] = profit_storewise.index\n",
    "\n",
    "results_df.sort_values('gross_margin', ascending=False)"
   ]
  },
  {
   "cell_type": "markdown",
   "id": "1ac97551",
   "metadata": {},
   "source": [
    "# #Grpah for gross margin seasonwise across stores"
   ]
  },
  {
   "cell_type": "code",
   "execution_count": 72,
   "id": "ed8ac3df",
   "metadata": {},
   "outputs": [],
   "source": [
    "import pandas as pd\n",
    "\n",
    "# Convert the 'open_dt' column to a datetime object\n",
    "merged_df['sale.date'] = pd.to_datetime(merged_df['sale.date'])\n",
    "\n",
    "# Create a dictionary mapping each season to its start and end dates\n",
    "seasons = {\n",
    "    'Winter': {'start': pd.to_datetime('2019-01-01'), 'end': pd.to_datetime('2019-03-20')},\n",
    "    'Spring': {'start': pd.to_datetime('2019-03-21'), 'end': pd.to_datetime('2019-06-20')},\n",
    "    'Summer': {'start': pd.to_datetime('2019-06-21'), 'end': pd.to_datetime('2019-09-23')},\n",
    "    'Fall': {'start': pd.to_datetime('2019-09-24'), 'end': pd.to_datetime('2019-12-31')}\n",
    "}\n",
    "\n",
    "# Define a function to assign the season based on the start date\n",
    "def assign_season(row):\n",
    "    for season, dates in seasons.items():\n",
    "        if row['sale.date'] >= dates['start'] and row['sale.date'] <= dates['end']:\n",
    "            return season\n",
    "\n",
    "# Create a new column 'season' using the assign_season function\n",
    "merged_df['season'] = merged_df.apply(assign_season, axis=1)"
   ]
  },
  {
   "cell_type": "code",
   "execution_count": 73,
   "id": "6b627f81",
   "metadata": {},
   "outputs": [
    {
     "data": {
      "text/plain": [
       "Fall      17815\n",
       "Summer    14470\n",
       "Spring    13428\n",
       "Winter     9732\n",
       "Name: season, dtype: int64"
      ]
     },
     "execution_count": 73,
     "metadata": {},
     "output_type": "execute_result"
    }
   ],
   "source": [
    "merged_df['season'].value_counts()"
   ]
  },
  {
   "cell_type": "code",
   "execution_count": 74,
   "id": "62367afa",
   "metadata": {},
   "outputs": [
    {
     "name": "stdout",
     "output_type": "stream",
     "text": [
      "        gross_margin\n",
      "season              \n",
      "Fall        0.611492\n",
      "Spring      0.633996\n",
      "Summer      0.665538\n",
      "Winter      0.622928\n"
     ]
    }
   ],
   "source": [
    "###gross margin seasonwise\n",
    "\n",
    "profit_season_wise = merged_df.groupby(['season'])['sale.amt'].sum() - merged_df.groupby(['season'])['cost'].sum()\n",
    "profit_season_wise\n",
    "sales_season_wise=merged_df.groupby(['season'])['sale.amt'].sum()\n",
    "sales_season_wise\n",
    "gross_margin_season_wise = profit_season_wise / sales_season_wise\n",
    "results_df6 = pd.DataFrame()\n",
    "\n",
    "# add the gross margin column to the DataFrame\n",
    "results_df6['gross_margin'] = gross_margin_season_wise\n",
    "\n",
    "print(results_df6)"
   ]
  },
  {
   "cell_type": "code",
   "execution_count": 75,
   "id": "a24f1d10",
   "metadata": {},
   "outputs": [
    {
     "name": "stdout",
     "output_type": "stream",
     "text": [
      "    store  season  gross_margin\n",
      "24     19    Fall      0.628435\n",
      "12     13    Fall      0.626491\n",
      "4       7    Fall      0.623845\n",
      "20     16    Fall      0.621726\n",
      "28     20    Fall      0.614534\n",
      "36     27    Fall      0.606360\n",
      "32     21    Fall      0.603704\n",
      "16     14    Fall      0.600817\n",
      "8      11    Fall      0.599093\n",
      "0       3    Fall      0.574483\n",
      "33     21  Spring      0.659699\n",
      "21     16  Spring      0.647692\n",
      "17     14  Spring      0.646222\n",
      "29     20  Spring      0.642454\n",
      "5       7  Spring      0.636590\n",
      "9      11  Spring      0.629072\n",
      "25     19  Spring      0.623745\n",
      "1       3  Spring      0.612048\n",
      "37     27  Spring      0.611764\n",
      "13     13  Spring      0.603541\n",
      "14     13  Summer      0.685765\n",
      "22     16  Summer      0.676937\n",
      "26     19  Summer      0.676282\n",
      "34     21  Summer      0.674392\n",
      "18     14  Summer      0.670982\n",
      "38     27  Summer      0.666418\n",
      "30     20  Summer      0.663811\n",
      "10     11  Summer      0.653921\n",
      "6       7  Summer      0.653822\n",
      "2       3  Summer      0.629032\n",
      "35     21  Winter      0.649168\n",
      "19     14  Winter      0.647895\n",
      "23     16  Winter      0.644220\n",
      "15     13  Winter      0.633340\n",
      "3       3  Winter      0.631585\n",
      "31     20  Winter      0.621258\n",
      "7       7  Winter      0.614072\n",
      "39     27  Winter      0.607456\n",
      "27     19  Winter      0.601565\n",
      "11     11  Winter      0.570259\n"
     ]
    }
   ],
   "source": [
    "# Group by store and season, then calculate profit and sales\n",
    "store_profit_season_wise = merged_df.groupby(['store', 'season'])['sale.amt'].sum() - merged_df.groupby(['store', 'season'])['cost'].sum()\n",
    "store_sales_season_wise = merged_df.groupby(['store', 'season'])['sale.amt'].sum()\n",
    "\n",
    "# Calculate gross margin for each store in each season\n",
    "store_gross_margin_season_wise = store_profit_season_wise / store_sales_season_wise\n",
    "\n",
    "# Convert the gross margin series to a DataFrame and reset the index\n",
    "results_df7 = pd.DataFrame(store_gross_margin_season_wise, columns=['gross_margin']).reset_index()\n",
    "\n",
    "# Sort the DataFrame by season and gross margin (in descending order)\n",
    "results_df7 = results_df7.sort_values(['season', 'gross_margin'], ascending=[True, False])\n",
    "\n",
    "# Display the sorted DataFrame\n",
    "print(results_df7)\n"
   ]
  },
  {
   "cell_type": "code",
   "execution_count": 76,
   "id": "bc1ba05d",
   "metadata": {},
   "outputs": [
    {
     "data": {
      "application/vnd.plotly.v1+json": {
       "config": {
        "plotlyServerURL": "https://plot.ly"
       },
       "data": [
        {
         "legendgroup": "Highest",
         "marker": {
          "color": "#1f77b4"
         },
         "name": "Highest",
         "showlegend": true,
         "type": "bar",
         "x": [
          "Store 19"
         ],
         "xaxis": "x",
         "y": [
          62.843509741754424
         ],
         "yaxis": "y"
        },
        {
         "legendgroup": "Lowest",
         "marker": {
          "color": "#aec7e8"
         },
         "name": "Lowest",
         "showlegend": true,
         "type": "bar",
         "x": [
          "Store 3"
         ],
         "xaxis": "x",
         "y": [
          57.44833071365837
         ],
         "yaxis": "y"
        },
        {
         "legendgroup": "Highest",
         "marker": {
          "color": "#1f77b4"
         },
         "name": "Highest",
         "showlegend": false,
         "type": "bar",
         "x": [
          "Store 21"
         ],
         "xaxis": "x2",
         "y": [
          65.96992160032785
         ],
         "yaxis": "y2"
        },
        {
         "legendgroup": "Lowest",
         "marker": {
          "color": "#aec7e8"
         },
         "name": "Lowest",
         "showlegend": false,
         "type": "bar",
         "x": [
          "Store 13"
         ],
         "xaxis": "x2",
         "y": [
          60.35407613583151
         ],
         "yaxis": "y2"
        },
        {
         "legendgroup": "Highest",
         "marker": {
          "color": "#1f77b4"
         },
         "name": "Highest",
         "showlegend": false,
         "type": "bar",
         "x": [
          "Store 13"
         ],
         "xaxis": "x3",
         "y": [
          68.57649221260063
         ],
         "yaxis": "y3"
        },
        {
         "legendgroup": "Lowest",
         "marker": {
          "color": "#aec7e8"
         },
         "name": "Lowest",
         "showlegend": false,
         "type": "bar",
         "x": [
          "Store 3"
         ],
         "xaxis": "x3",
         "y": [
          62.90319610759726
         ],
         "yaxis": "y3"
        },
        {
         "legendgroup": "Highest",
         "marker": {
          "color": "#1f77b4"
         },
         "name": "Highest",
         "showlegend": false,
         "type": "bar",
         "x": [
          "Store 21"
         ],
         "xaxis": "x4",
         "y": [
          64.91677586176196
         ],
         "yaxis": "y4"
        },
        {
         "legendgroup": "Lowest",
         "marker": {
          "color": "#aec7e8"
         },
         "name": "Lowest",
         "showlegend": false,
         "type": "bar",
         "x": [
          "Store 11"
         ],
         "xaxis": "x4",
         "y": [
          57.02593573025232
         ],
         "yaxis": "y4"
        }
       ],
       "layout": {
        "annotations": [
         {
          "font": {
           "size": 16
          },
          "showarrow": false,
          "text": "Fall",
          "x": 0.10625,
          "xanchor": "center",
          "xref": "paper",
          "y": 1,
          "yanchor": "bottom",
          "yref": "paper"
         },
         {
          "font": {
           "size": 16
          },
          "showarrow": false,
          "text": "Spring",
          "x": 0.36875,
          "xanchor": "center",
          "xref": "paper",
          "y": 1,
          "yanchor": "bottom",
          "yref": "paper"
         },
         {
          "font": {
           "size": 16
          },
          "showarrow": false,
          "text": "Summer",
          "x": 0.6312500000000001,
          "xanchor": "center",
          "xref": "paper",
          "y": 1,
          "yanchor": "bottom",
          "yref": "paper"
         },
         {
          "font": {
           "size": 16
          },
          "showarrow": false,
          "text": "Winter",
          "x": 0.89375,
          "xanchor": "center",
          "xref": "paper",
          "y": 1,
          "yanchor": "bottom",
          "yref": "paper"
         }
        ],
        "barmode": "group",
        "plot_bgcolor": "rgba(0,0,0,0)",
        "template": {
         "data": {
          "bar": [
           {
            "error_x": {
             "color": "#2a3f5f"
            },
            "error_y": {
             "color": "#2a3f5f"
            },
            "marker": {
             "line": {
              "color": "#E5ECF6",
              "width": 0.5
             },
             "pattern": {
              "fillmode": "overlay",
              "size": 10,
              "solidity": 0.2
             }
            },
            "type": "bar"
           }
          ],
          "barpolar": [
           {
            "marker": {
             "line": {
              "color": "#E5ECF6",
              "width": 0.5
             },
             "pattern": {
              "fillmode": "overlay",
              "size": 10,
              "solidity": 0.2
             }
            },
            "type": "barpolar"
           }
          ],
          "carpet": [
           {
            "aaxis": {
             "endlinecolor": "#2a3f5f",
             "gridcolor": "white",
             "linecolor": "white",
             "minorgridcolor": "white",
             "startlinecolor": "#2a3f5f"
            },
            "baxis": {
             "endlinecolor": "#2a3f5f",
             "gridcolor": "white",
             "linecolor": "white",
             "minorgridcolor": "white",
             "startlinecolor": "#2a3f5f"
            },
            "type": "carpet"
           }
          ],
          "choropleth": [
           {
            "colorbar": {
             "outlinewidth": 0,
             "ticks": ""
            },
            "type": "choropleth"
           }
          ],
          "contour": [
           {
            "colorbar": {
             "outlinewidth": 0,
             "ticks": ""
            },
            "colorscale": [
             [
              0,
              "#0d0887"
             ],
             [
              0.1111111111111111,
              "#46039f"
             ],
             [
              0.2222222222222222,
              "#7201a8"
             ],
             [
              0.3333333333333333,
              "#9c179e"
             ],
             [
              0.4444444444444444,
              "#bd3786"
             ],
             [
              0.5555555555555556,
              "#d8576b"
             ],
             [
              0.6666666666666666,
              "#ed7953"
             ],
             [
              0.7777777777777778,
              "#fb9f3a"
             ],
             [
              0.8888888888888888,
              "#fdca26"
             ],
             [
              1,
              "#f0f921"
             ]
            ],
            "type": "contour"
           }
          ],
          "contourcarpet": [
           {
            "colorbar": {
             "outlinewidth": 0,
             "ticks": ""
            },
            "type": "contourcarpet"
           }
          ],
          "heatmap": [
           {
            "colorbar": {
             "outlinewidth": 0,
             "ticks": ""
            },
            "colorscale": [
             [
              0,
              "#0d0887"
             ],
             [
              0.1111111111111111,
              "#46039f"
             ],
             [
              0.2222222222222222,
              "#7201a8"
             ],
             [
              0.3333333333333333,
              "#9c179e"
             ],
             [
              0.4444444444444444,
              "#bd3786"
             ],
             [
              0.5555555555555556,
              "#d8576b"
             ],
             [
              0.6666666666666666,
              "#ed7953"
             ],
             [
              0.7777777777777778,
              "#fb9f3a"
             ],
             [
              0.8888888888888888,
              "#fdca26"
             ],
             [
              1,
              "#f0f921"
             ]
            ],
            "type": "heatmap"
           }
          ],
          "heatmapgl": [
           {
            "colorbar": {
             "outlinewidth": 0,
             "ticks": ""
            },
            "colorscale": [
             [
              0,
              "#0d0887"
             ],
             [
              0.1111111111111111,
              "#46039f"
             ],
             [
              0.2222222222222222,
              "#7201a8"
             ],
             [
              0.3333333333333333,
              "#9c179e"
             ],
             [
              0.4444444444444444,
              "#bd3786"
             ],
             [
              0.5555555555555556,
              "#d8576b"
             ],
             [
              0.6666666666666666,
              "#ed7953"
             ],
             [
              0.7777777777777778,
              "#fb9f3a"
             ],
             [
              0.8888888888888888,
              "#fdca26"
             ],
             [
              1,
              "#f0f921"
             ]
            ],
            "type": "heatmapgl"
           }
          ],
          "histogram": [
           {
            "marker": {
             "pattern": {
              "fillmode": "overlay",
              "size": 10,
              "solidity": 0.2
             }
            },
            "type": "histogram"
           }
          ],
          "histogram2d": [
           {
            "colorbar": {
             "outlinewidth": 0,
             "ticks": ""
            },
            "colorscale": [
             [
              0,
              "#0d0887"
             ],
             [
              0.1111111111111111,
              "#46039f"
             ],
             [
              0.2222222222222222,
              "#7201a8"
             ],
             [
              0.3333333333333333,
              "#9c179e"
             ],
             [
              0.4444444444444444,
              "#bd3786"
             ],
             [
              0.5555555555555556,
              "#d8576b"
             ],
             [
              0.6666666666666666,
              "#ed7953"
             ],
             [
              0.7777777777777778,
              "#fb9f3a"
             ],
             [
              0.8888888888888888,
              "#fdca26"
             ],
             [
              1,
              "#f0f921"
             ]
            ],
            "type": "histogram2d"
           }
          ],
          "histogram2dcontour": [
           {
            "colorbar": {
             "outlinewidth": 0,
             "ticks": ""
            },
            "colorscale": [
             [
              0,
              "#0d0887"
             ],
             [
              0.1111111111111111,
              "#46039f"
             ],
             [
              0.2222222222222222,
              "#7201a8"
             ],
             [
              0.3333333333333333,
              "#9c179e"
             ],
             [
              0.4444444444444444,
              "#bd3786"
             ],
             [
              0.5555555555555556,
              "#d8576b"
             ],
             [
              0.6666666666666666,
              "#ed7953"
             ],
             [
              0.7777777777777778,
              "#fb9f3a"
             ],
             [
              0.8888888888888888,
              "#fdca26"
             ],
             [
              1,
              "#f0f921"
             ]
            ],
            "type": "histogram2dcontour"
           }
          ],
          "mesh3d": [
           {
            "colorbar": {
             "outlinewidth": 0,
             "ticks": ""
            },
            "type": "mesh3d"
           }
          ],
          "parcoords": [
           {
            "line": {
             "colorbar": {
              "outlinewidth": 0,
              "ticks": ""
             }
            },
            "type": "parcoords"
           }
          ],
          "pie": [
           {
            "automargin": true,
            "type": "pie"
           }
          ],
          "scatter": [
           {
            "marker": {
             "colorbar": {
              "outlinewidth": 0,
              "ticks": ""
             }
            },
            "type": "scatter"
           }
          ],
          "scatter3d": [
           {
            "line": {
             "colorbar": {
              "outlinewidth": 0,
              "ticks": ""
             }
            },
            "marker": {
             "colorbar": {
              "outlinewidth": 0,
              "ticks": ""
             }
            },
            "type": "scatter3d"
           }
          ],
          "scattercarpet": [
           {
            "marker": {
             "colorbar": {
              "outlinewidth": 0,
              "ticks": ""
             }
            },
            "type": "scattercarpet"
           }
          ],
          "scattergeo": [
           {
            "marker": {
             "colorbar": {
              "outlinewidth": 0,
              "ticks": ""
             }
            },
            "type": "scattergeo"
           }
          ],
          "scattergl": [
           {
            "marker": {
             "colorbar": {
              "outlinewidth": 0,
              "ticks": ""
             }
            },
            "type": "scattergl"
           }
          ],
          "scattermapbox": [
           {
            "marker": {
             "colorbar": {
              "outlinewidth": 0,
              "ticks": ""
             }
            },
            "type": "scattermapbox"
           }
          ],
          "scatterpolar": [
           {
            "marker": {
             "colorbar": {
              "outlinewidth": 0,
              "ticks": ""
             }
            },
            "type": "scatterpolar"
           }
          ],
          "scatterpolargl": [
           {
            "marker": {
             "colorbar": {
              "outlinewidth": 0,
              "ticks": ""
             }
            },
            "type": "scatterpolargl"
           }
          ],
          "scatterternary": [
           {
            "marker": {
             "colorbar": {
              "outlinewidth": 0,
              "ticks": ""
             }
            },
            "type": "scatterternary"
           }
          ],
          "surface": [
           {
            "colorbar": {
             "outlinewidth": 0,
             "ticks": ""
            },
            "colorscale": [
             [
              0,
              "#0d0887"
             ],
             [
              0.1111111111111111,
              "#46039f"
             ],
             [
              0.2222222222222222,
              "#7201a8"
             ],
             [
              0.3333333333333333,
              "#9c179e"
             ],
             [
              0.4444444444444444,
              "#bd3786"
             ],
             [
              0.5555555555555556,
              "#d8576b"
             ],
             [
              0.6666666666666666,
              "#ed7953"
             ],
             [
              0.7777777777777778,
              "#fb9f3a"
             ],
             [
              0.8888888888888888,
              "#fdca26"
             ],
             [
              1,
              "#f0f921"
             ]
            ],
            "type": "surface"
           }
          ],
          "table": [
           {
            "cells": {
             "fill": {
              "color": "#EBF0F8"
             },
             "line": {
              "color": "white"
             }
            },
            "header": {
             "fill": {
              "color": "#C8D4E3"
             },
             "line": {
              "color": "white"
             }
            },
            "type": "table"
           }
          ]
         },
         "layout": {
          "annotationdefaults": {
           "arrowcolor": "#2a3f5f",
           "arrowhead": 0,
           "arrowwidth": 1
          },
          "autotypenumbers": "strict",
          "coloraxis": {
           "colorbar": {
            "outlinewidth": 0,
            "ticks": ""
           }
          },
          "colorscale": {
           "diverging": [
            [
             0,
             "#8e0152"
            ],
            [
             0.1,
             "#c51b7d"
            ],
            [
             0.2,
             "#de77ae"
            ],
            [
             0.3,
             "#f1b6da"
            ],
            [
             0.4,
             "#fde0ef"
            ],
            [
             0.5,
             "#f7f7f7"
            ],
            [
             0.6,
             "#e6f5d0"
            ],
            [
             0.7,
             "#b8e186"
            ],
            [
             0.8,
             "#7fbc41"
            ],
            [
             0.9,
             "#4d9221"
            ],
            [
             1,
             "#276419"
            ]
           ],
           "sequential": [
            [
             0,
             "#0d0887"
            ],
            [
             0.1111111111111111,
             "#46039f"
            ],
            [
             0.2222222222222222,
             "#7201a8"
            ],
            [
             0.3333333333333333,
             "#9c179e"
            ],
            [
             0.4444444444444444,
             "#bd3786"
            ],
            [
             0.5555555555555556,
             "#d8576b"
            ],
            [
             0.6666666666666666,
             "#ed7953"
            ],
            [
             0.7777777777777778,
             "#fb9f3a"
            ],
            [
             0.8888888888888888,
             "#fdca26"
            ],
            [
             1,
             "#f0f921"
            ]
           ],
           "sequentialminus": [
            [
             0,
             "#0d0887"
            ],
            [
             0.1111111111111111,
             "#46039f"
            ],
            [
             0.2222222222222222,
             "#7201a8"
            ],
            [
             0.3333333333333333,
             "#9c179e"
            ],
            [
             0.4444444444444444,
             "#bd3786"
            ],
            [
             0.5555555555555556,
             "#d8576b"
            ],
            [
             0.6666666666666666,
             "#ed7953"
            ],
            [
             0.7777777777777778,
             "#fb9f3a"
            ],
            [
             0.8888888888888888,
             "#fdca26"
            ],
            [
             1,
             "#f0f921"
            ]
           ]
          },
          "colorway": [
           "#636efa",
           "#EF553B",
           "#00cc96",
           "#ab63fa",
           "#FFA15A",
           "#19d3f3",
           "#FF6692",
           "#B6E880",
           "#FF97FF",
           "#FECB52"
          ],
          "font": {
           "color": "#2a3f5f"
          },
          "geo": {
           "bgcolor": "white",
           "lakecolor": "white",
           "landcolor": "#E5ECF6",
           "showlakes": true,
           "showland": true,
           "subunitcolor": "white"
          },
          "hoverlabel": {
           "align": "left"
          },
          "hovermode": "closest",
          "mapbox": {
           "style": "light"
          },
          "paper_bgcolor": "white",
          "plot_bgcolor": "#E5ECF6",
          "polar": {
           "angularaxis": {
            "gridcolor": "white",
            "linecolor": "white",
            "ticks": ""
           },
           "bgcolor": "#E5ECF6",
           "radialaxis": {
            "gridcolor": "white",
            "linecolor": "white",
            "ticks": ""
           }
          },
          "scene": {
           "xaxis": {
            "backgroundcolor": "#E5ECF6",
            "gridcolor": "white",
            "gridwidth": 2,
            "linecolor": "white",
            "showbackground": true,
            "ticks": "",
            "zerolinecolor": "white"
           },
           "yaxis": {
            "backgroundcolor": "#E5ECF6",
            "gridcolor": "white",
            "gridwidth": 2,
            "linecolor": "white",
            "showbackground": true,
            "ticks": "",
            "zerolinecolor": "white"
           },
           "zaxis": {
            "backgroundcolor": "#E5ECF6",
            "gridcolor": "white",
            "gridwidth": 2,
            "linecolor": "white",
            "showbackground": true,
            "ticks": "",
            "zerolinecolor": "white"
           }
          },
          "shapedefaults": {
           "line": {
            "color": "#2a3f5f"
           }
          },
          "ternary": {
           "aaxis": {
            "gridcolor": "white",
            "linecolor": "white",
            "ticks": ""
           },
           "baxis": {
            "gridcolor": "white",
            "linecolor": "white",
            "ticks": ""
           },
           "bgcolor": "#E5ECF6",
           "caxis": {
            "gridcolor": "white",
            "linecolor": "white",
            "ticks": ""
           }
          },
          "title": {
           "x": 0.05
          },
          "xaxis": {
           "automargin": true,
           "gridcolor": "white",
           "linecolor": "white",
           "ticks": "",
           "title": {
            "standoff": 15
           },
           "zerolinecolor": "white",
           "zerolinewidth": 2
          },
          "yaxis": {
           "automargin": true,
           "gridcolor": "white",
           "linecolor": "white",
           "ticks": "",
           "title": {
            "standoff": 15
           },
           "zerolinecolor": "white",
           "zerolinewidth": 2
          }
         }
        },
        "title": {
         "text": "Seasonwise Highest and Lowest Gross Margin Stores"
        },
        "xaxis": {
         "anchor": "y",
         "domain": [
          0,
          0.2125
         ]
        },
        "xaxis2": {
         "anchor": "y2",
         "domain": [
          0.2625,
          0.475
         ]
        },
        "xaxis3": {
         "anchor": "y3",
         "domain": [
          0.525,
          0.7375
         ]
        },
        "xaxis4": {
         "anchor": "y4",
         "domain": [
          0.7875,
          1
         ]
        },
        "yaxis": {
         "anchor": "x",
         "domain": [
          0,
          1
         ]
        },
        "yaxis2": {
         "anchor": "x2",
         "domain": [
          0,
          1
         ]
        },
        "yaxis3": {
         "anchor": "x3",
         "domain": [
          0,
          1
         ]
        },
        "yaxis4": {
         "anchor": "x4",
         "domain": [
          0,
          1
         ]
        }
       }
      },
      "text/html": [
       "<div>                            <div id=\"7ee55ddd-1624-471d-ad2f-ad1be3f82ba6\" class=\"plotly-graph-div\" style=\"height:525px; width:100%;\"></div>            <script type=\"text/javascript\">                require([\"plotly\"], function(Plotly) {                    window.PLOTLYENV=window.PLOTLYENV || {};                                    if (document.getElementById(\"7ee55ddd-1624-471d-ad2f-ad1be3f82ba6\")) {                    Plotly.newPlot(                        \"7ee55ddd-1624-471d-ad2f-ad1be3f82ba6\",                        [{\"legendgroup\":\"Highest\",\"marker\":{\"color\":\"#1f77b4\"},\"name\":\"Highest\",\"showlegend\":true,\"x\":[\"Store 19\"],\"y\":[62.843509741754424],\"type\":\"bar\",\"xaxis\":\"x\",\"yaxis\":\"y\"},{\"legendgroup\":\"Lowest\",\"marker\":{\"color\":\"#aec7e8\"},\"name\":\"Lowest\",\"showlegend\":true,\"x\":[\"Store 3\"],\"y\":[57.44833071365837],\"type\":\"bar\",\"xaxis\":\"x\",\"yaxis\":\"y\"},{\"legendgroup\":\"Highest\",\"marker\":{\"color\":\"#1f77b4\"},\"name\":\"Highest\",\"showlegend\":false,\"x\":[\"Store 21\"],\"y\":[65.96992160032785],\"type\":\"bar\",\"xaxis\":\"x2\",\"yaxis\":\"y2\"},{\"legendgroup\":\"Lowest\",\"marker\":{\"color\":\"#aec7e8\"},\"name\":\"Lowest\",\"showlegend\":false,\"x\":[\"Store 13\"],\"y\":[60.35407613583151],\"type\":\"bar\",\"xaxis\":\"x2\",\"yaxis\":\"y2\"},{\"legendgroup\":\"Highest\",\"marker\":{\"color\":\"#1f77b4\"},\"name\":\"Highest\",\"showlegend\":false,\"x\":[\"Store 13\"],\"y\":[68.57649221260063],\"type\":\"bar\",\"xaxis\":\"x3\",\"yaxis\":\"y3\"},{\"legendgroup\":\"Lowest\",\"marker\":{\"color\":\"#aec7e8\"},\"name\":\"Lowest\",\"showlegend\":false,\"x\":[\"Store 3\"],\"y\":[62.90319610759726],\"type\":\"bar\",\"xaxis\":\"x3\",\"yaxis\":\"y3\"},{\"legendgroup\":\"Highest\",\"marker\":{\"color\":\"#1f77b4\"},\"name\":\"Highest\",\"showlegend\":false,\"x\":[\"Store 21\"],\"y\":[64.91677586176196],\"type\":\"bar\",\"xaxis\":\"x4\",\"yaxis\":\"y4\"},{\"legendgroup\":\"Lowest\",\"marker\":{\"color\":\"#aec7e8\"},\"name\":\"Lowest\",\"showlegend\":false,\"x\":[\"Store 11\"],\"y\":[57.02593573025232],\"type\":\"bar\",\"xaxis\":\"x4\",\"yaxis\":\"y4\"}],                        {\"template\":{\"data\":{\"bar\":[{\"error_x\":{\"color\":\"#2a3f5f\"},\"error_y\":{\"color\":\"#2a3f5f\"},\"marker\":{\"line\":{\"color\":\"#E5ECF6\",\"width\":0.5},\"pattern\":{\"fillmode\":\"overlay\",\"size\":10,\"solidity\":0.2}},\"type\":\"bar\"}],\"barpolar\":[{\"marker\":{\"line\":{\"color\":\"#E5ECF6\",\"width\":0.5},\"pattern\":{\"fillmode\":\"overlay\",\"size\":10,\"solidity\":0.2}},\"type\":\"barpolar\"}],\"carpet\":[{\"aaxis\":{\"endlinecolor\":\"#2a3f5f\",\"gridcolor\":\"white\",\"linecolor\":\"white\",\"minorgridcolor\":\"white\",\"startlinecolor\":\"#2a3f5f\"},\"baxis\":{\"endlinecolor\":\"#2a3f5f\",\"gridcolor\":\"white\",\"linecolor\":\"white\",\"minorgridcolor\":\"white\",\"startlinecolor\":\"#2a3f5f\"},\"type\":\"carpet\"}],\"choropleth\":[{\"colorbar\":{\"outlinewidth\":0,\"ticks\":\"\"},\"type\":\"choropleth\"}],\"contour\":[{\"colorbar\":{\"outlinewidth\":0,\"ticks\":\"\"},\"colorscale\":[[0.0,\"#0d0887\"],[0.1111111111111111,\"#46039f\"],[0.2222222222222222,\"#7201a8\"],[0.3333333333333333,\"#9c179e\"],[0.4444444444444444,\"#bd3786\"],[0.5555555555555556,\"#d8576b\"],[0.6666666666666666,\"#ed7953\"],[0.7777777777777778,\"#fb9f3a\"],[0.8888888888888888,\"#fdca26\"],[1.0,\"#f0f921\"]],\"type\":\"contour\"}],\"contourcarpet\":[{\"colorbar\":{\"outlinewidth\":0,\"ticks\":\"\"},\"type\":\"contourcarpet\"}],\"heatmap\":[{\"colorbar\":{\"outlinewidth\":0,\"ticks\":\"\"},\"colorscale\":[[0.0,\"#0d0887\"],[0.1111111111111111,\"#46039f\"],[0.2222222222222222,\"#7201a8\"],[0.3333333333333333,\"#9c179e\"],[0.4444444444444444,\"#bd3786\"],[0.5555555555555556,\"#d8576b\"],[0.6666666666666666,\"#ed7953\"],[0.7777777777777778,\"#fb9f3a\"],[0.8888888888888888,\"#fdca26\"],[1.0,\"#f0f921\"]],\"type\":\"heatmap\"}],\"heatmapgl\":[{\"colorbar\":{\"outlinewidth\":0,\"ticks\":\"\"},\"colorscale\":[[0.0,\"#0d0887\"],[0.1111111111111111,\"#46039f\"],[0.2222222222222222,\"#7201a8\"],[0.3333333333333333,\"#9c179e\"],[0.4444444444444444,\"#bd3786\"],[0.5555555555555556,\"#d8576b\"],[0.6666666666666666,\"#ed7953\"],[0.7777777777777778,\"#fb9f3a\"],[0.8888888888888888,\"#fdca26\"],[1.0,\"#f0f921\"]],\"type\":\"heatmapgl\"}],\"histogram\":[{\"marker\":{\"pattern\":{\"fillmode\":\"overlay\",\"size\":10,\"solidity\":0.2}},\"type\":\"histogram\"}],\"histogram2d\":[{\"colorbar\":{\"outlinewidth\":0,\"ticks\":\"\"},\"colorscale\":[[0.0,\"#0d0887\"],[0.1111111111111111,\"#46039f\"],[0.2222222222222222,\"#7201a8\"],[0.3333333333333333,\"#9c179e\"],[0.4444444444444444,\"#bd3786\"],[0.5555555555555556,\"#d8576b\"],[0.6666666666666666,\"#ed7953\"],[0.7777777777777778,\"#fb9f3a\"],[0.8888888888888888,\"#fdca26\"],[1.0,\"#f0f921\"]],\"type\":\"histogram2d\"}],\"histogram2dcontour\":[{\"colorbar\":{\"outlinewidth\":0,\"ticks\":\"\"},\"colorscale\":[[0.0,\"#0d0887\"],[0.1111111111111111,\"#46039f\"],[0.2222222222222222,\"#7201a8\"],[0.3333333333333333,\"#9c179e\"],[0.4444444444444444,\"#bd3786\"],[0.5555555555555556,\"#d8576b\"],[0.6666666666666666,\"#ed7953\"],[0.7777777777777778,\"#fb9f3a\"],[0.8888888888888888,\"#fdca26\"],[1.0,\"#f0f921\"]],\"type\":\"histogram2dcontour\"}],\"mesh3d\":[{\"colorbar\":{\"outlinewidth\":0,\"ticks\":\"\"},\"type\":\"mesh3d\"}],\"parcoords\":[{\"line\":{\"colorbar\":{\"outlinewidth\":0,\"ticks\":\"\"}},\"type\":\"parcoords\"}],\"pie\":[{\"automargin\":true,\"type\":\"pie\"}],\"scatter\":[{\"marker\":{\"colorbar\":{\"outlinewidth\":0,\"ticks\":\"\"}},\"type\":\"scatter\"}],\"scatter3d\":[{\"line\":{\"colorbar\":{\"outlinewidth\":0,\"ticks\":\"\"}},\"marker\":{\"colorbar\":{\"outlinewidth\":0,\"ticks\":\"\"}},\"type\":\"scatter3d\"}],\"scattercarpet\":[{\"marker\":{\"colorbar\":{\"outlinewidth\":0,\"ticks\":\"\"}},\"type\":\"scattercarpet\"}],\"scattergeo\":[{\"marker\":{\"colorbar\":{\"outlinewidth\":0,\"ticks\":\"\"}},\"type\":\"scattergeo\"}],\"scattergl\":[{\"marker\":{\"colorbar\":{\"outlinewidth\":0,\"ticks\":\"\"}},\"type\":\"scattergl\"}],\"scattermapbox\":[{\"marker\":{\"colorbar\":{\"outlinewidth\":0,\"ticks\":\"\"}},\"type\":\"scattermapbox\"}],\"scatterpolar\":[{\"marker\":{\"colorbar\":{\"outlinewidth\":0,\"ticks\":\"\"}},\"type\":\"scatterpolar\"}],\"scatterpolargl\":[{\"marker\":{\"colorbar\":{\"outlinewidth\":0,\"ticks\":\"\"}},\"type\":\"scatterpolargl\"}],\"scatterternary\":[{\"marker\":{\"colorbar\":{\"outlinewidth\":0,\"ticks\":\"\"}},\"type\":\"scatterternary\"}],\"surface\":[{\"colorbar\":{\"outlinewidth\":0,\"ticks\":\"\"},\"colorscale\":[[0.0,\"#0d0887\"],[0.1111111111111111,\"#46039f\"],[0.2222222222222222,\"#7201a8\"],[0.3333333333333333,\"#9c179e\"],[0.4444444444444444,\"#bd3786\"],[0.5555555555555556,\"#d8576b\"],[0.6666666666666666,\"#ed7953\"],[0.7777777777777778,\"#fb9f3a\"],[0.8888888888888888,\"#fdca26\"],[1.0,\"#f0f921\"]],\"type\":\"surface\"}],\"table\":[{\"cells\":{\"fill\":{\"color\":\"#EBF0F8\"},\"line\":{\"color\":\"white\"}},\"header\":{\"fill\":{\"color\":\"#C8D4E3\"},\"line\":{\"color\":\"white\"}},\"type\":\"table\"}]},\"layout\":{\"annotationdefaults\":{\"arrowcolor\":\"#2a3f5f\",\"arrowhead\":0,\"arrowwidth\":1},\"autotypenumbers\":\"strict\",\"coloraxis\":{\"colorbar\":{\"outlinewidth\":0,\"ticks\":\"\"}},\"colorscale\":{\"diverging\":[[0,\"#8e0152\"],[0.1,\"#c51b7d\"],[0.2,\"#de77ae\"],[0.3,\"#f1b6da\"],[0.4,\"#fde0ef\"],[0.5,\"#f7f7f7\"],[0.6,\"#e6f5d0\"],[0.7,\"#b8e186\"],[0.8,\"#7fbc41\"],[0.9,\"#4d9221\"],[1,\"#276419\"]],\"sequential\":[[0.0,\"#0d0887\"],[0.1111111111111111,\"#46039f\"],[0.2222222222222222,\"#7201a8\"],[0.3333333333333333,\"#9c179e\"],[0.4444444444444444,\"#bd3786\"],[0.5555555555555556,\"#d8576b\"],[0.6666666666666666,\"#ed7953\"],[0.7777777777777778,\"#fb9f3a\"],[0.8888888888888888,\"#fdca26\"],[1.0,\"#f0f921\"]],\"sequentialminus\":[[0.0,\"#0d0887\"],[0.1111111111111111,\"#46039f\"],[0.2222222222222222,\"#7201a8\"],[0.3333333333333333,\"#9c179e\"],[0.4444444444444444,\"#bd3786\"],[0.5555555555555556,\"#d8576b\"],[0.6666666666666666,\"#ed7953\"],[0.7777777777777778,\"#fb9f3a\"],[0.8888888888888888,\"#fdca26\"],[1.0,\"#f0f921\"]]},\"colorway\":[\"#636efa\",\"#EF553B\",\"#00cc96\",\"#ab63fa\",\"#FFA15A\",\"#19d3f3\",\"#FF6692\",\"#B6E880\",\"#FF97FF\",\"#FECB52\"],\"font\":{\"color\":\"#2a3f5f\"},\"geo\":{\"bgcolor\":\"white\",\"lakecolor\":\"white\",\"landcolor\":\"#E5ECF6\",\"showlakes\":true,\"showland\":true,\"subunitcolor\":\"white\"},\"hoverlabel\":{\"align\":\"left\"},\"hovermode\":\"closest\",\"mapbox\":{\"style\":\"light\"},\"paper_bgcolor\":\"white\",\"plot_bgcolor\":\"#E5ECF6\",\"polar\":{\"angularaxis\":{\"gridcolor\":\"white\",\"linecolor\":\"white\",\"ticks\":\"\"},\"bgcolor\":\"#E5ECF6\",\"radialaxis\":{\"gridcolor\":\"white\",\"linecolor\":\"white\",\"ticks\":\"\"}},\"scene\":{\"xaxis\":{\"backgroundcolor\":\"#E5ECF6\",\"gridcolor\":\"white\",\"gridwidth\":2,\"linecolor\":\"white\",\"showbackground\":true,\"ticks\":\"\",\"zerolinecolor\":\"white\"},\"yaxis\":{\"backgroundcolor\":\"#E5ECF6\",\"gridcolor\":\"white\",\"gridwidth\":2,\"linecolor\":\"white\",\"showbackground\":true,\"ticks\":\"\",\"zerolinecolor\":\"white\"},\"zaxis\":{\"backgroundcolor\":\"#E5ECF6\",\"gridcolor\":\"white\",\"gridwidth\":2,\"linecolor\":\"white\",\"showbackground\":true,\"ticks\":\"\",\"zerolinecolor\":\"white\"}},\"shapedefaults\":{\"line\":{\"color\":\"#2a3f5f\"}},\"ternary\":{\"aaxis\":{\"gridcolor\":\"white\",\"linecolor\":\"white\",\"ticks\":\"\"},\"baxis\":{\"gridcolor\":\"white\",\"linecolor\":\"white\",\"ticks\":\"\"},\"bgcolor\":\"#E5ECF6\",\"caxis\":{\"gridcolor\":\"white\",\"linecolor\":\"white\",\"ticks\":\"\"}},\"title\":{\"x\":0.05},\"xaxis\":{\"automargin\":true,\"gridcolor\":\"white\",\"linecolor\":\"white\",\"ticks\":\"\",\"title\":{\"standoff\":15},\"zerolinecolor\":\"white\",\"zerolinewidth\":2},\"yaxis\":{\"automargin\":true,\"gridcolor\":\"white\",\"linecolor\":\"white\",\"ticks\":\"\",\"title\":{\"standoff\":15},\"zerolinecolor\":\"white\",\"zerolinewidth\":2}}},\"xaxis\":{\"anchor\":\"y\",\"domain\":[0.0,0.2125]},\"yaxis\":{\"anchor\":\"x\",\"domain\":[0.0,1.0]},\"xaxis2\":{\"anchor\":\"y2\",\"domain\":[0.2625,0.475]},\"yaxis2\":{\"anchor\":\"x2\",\"domain\":[0.0,1.0]},\"xaxis3\":{\"anchor\":\"y3\",\"domain\":[0.525,0.7375]},\"yaxis3\":{\"anchor\":\"x3\",\"domain\":[0.0,1.0]},\"xaxis4\":{\"anchor\":\"y4\",\"domain\":[0.7875,1.0]},\"yaxis4\":{\"anchor\":\"x4\",\"domain\":[0.0,1.0]},\"annotations\":[{\"font\":{\"size\":16},\"showarrow\":false,\"text\":\"Fall\",\"x\":0.10625,\"xanchor\":\"center\",\"xref\":\"paper\",\"y\":1.0,\"yanchor\":\"bottom\",\"yref\":\"paper\"},{\"font\":{\"size\":16},\"showarrow\":false,\"text\":\"Spring\",\"x\":0.36875,\"xanchor\":\"center\",\"xref\":\"paper\",\"y\":1.0,\"yanchor\":\"bottom\",\"yref\":\"paper\"},{\"font\":{\"size\":16},\"showarrow\":false,\"text\":\"Summer\",\"x\":0.6312500000000001,\"xanchor\":\"center\",\"xref\":\"paper\",\"y\":1.0,\"yanchor\":\"bottom\",\"yref\":\"paper\"},{\"font\":{\"size\":16},\"showarrow\":false,\"text\":\"Winter\",\"x\":0.89375,\"xanchor\":\"center\",\"xref\":\"paper\",\"y\":1.0,\"yanchor\":\"bottom\",\"yref\":\"paper\"}],\"title\":{\"text\":\"Seasonwise Highest and Lowest Gross Margin Stores\"},\"barmode\":\"group\",\"plot_bgcolor\":\"rgba(0,0,0,0)\"},                        {\"responsive\": true}                    ).then(function(){\n",
       "                            \n",
       "var gd = document.getElementById('7ee55ddd-1624-471d-ad2f-ad1be3f82ba6');\n",
       "var x = new MutationObserver(function (mutations, observer) {{\n",
       "        var display = window.getComputedStyle(gd).display;\n",
       "        if (!display || display === 'none') {{\n",
       "            console.log([gd, 'removed!']);\n",
       "            Plotly.purge(gd);\n",
       "            observer.disconnect();\n",
       "        }}\n",
       "}});\n",
       "\n",
       "// Listen for the removal of the full notebook cells\n",
       "var notebookContainer = gd.closest('#notebook-container');\n",
       "if (notebookContainer) {{\n",
       "    x.observe(notebookContainer, {childList: true});\n",
       "}}\n",
       "\n",
       "// Listen for the clearing of the current output cell\n",
       "var outputEl = gd.closest('.output');\n",
       "if (outputEl) {{\n",
       "    x.observe(outputEl, {childList: true});\n",
       "}}\n",
       "\n",
       "                        })                };                });            </script>        </div>"
      ]
     },
     "metadata": {},
     "output_type": "display_data"
    }
   ],
   "source": [
    "import pandas as pd\n",
    "import plotly.graph_objs as go\n",
    "from plotly.subplots import make_subplots\n",
    "\n",
    "# Assuming the sorted DataFrame is named results_df7\n",
    "season_wise_gross_sorted = results_df7\n",
    "\n",
    "# Find the highest and lowest gross margin stores for each season\n",
    "highest_gross_margin = season_wise_gross_sorted.groupby('season').head(1)\n",
    "lowest_gross_margin = season_wise_gross_sorted.groupby('season').tail(1)\n",
    "\n",
    "# Merge the highest and lowest gross margin stores\n",
    "combined_df = pd.concat([highest_gross_margin, lowest_gross_margin])\n",
    "\n",
    "# Create a grouped bar chart with subplots for each season\n",
    "fig = make_subplots(rows=1, cols=4, subplot_titles=(\"Fall\", \"Spring\", \"Summer\", \"Winter\"))\n",
    "\n",
    "# Define the color scale\n",
    "color_scale = {'Highest': '#1f77b4', 'Lowest': '#aec7e8'}\n",
    "\n",
    "# Add traces for each season and store\n",
    "for index, (season, season_df) in enumerate(combined_df.groupby(\"season\")):\n",
    "    for idx, row in season_df.iterrows():\n",
    "        if row['store'] == highest_gross_margin.loc[highest_gross_margin['season'] == row['season'], 'store'].values[0]:\n",
    "            label = \"Highest\"\n",
    "        else:\n",
    "            label = \"Lowest\"\n",
    "\n",
    "        fig.add_trace(go.Bar(x=[f\"Store {row['store']}\"],\n",
    "                             y=[row['gross_margin']*100],\n",
    "                             name=label,\n",
    "                             marker=dict(color=color_scale[label]),\n",
    "                             legendgroup=label,\n",
    "                             showlegend=index == 0),\n",
    "                      row=1, col=index + 1)\n",
    "\n",
    "# Update the layout\n",
    "fig.update_layout(title=\"Seasonwise Highest and Lowest Gross Margin Stores\",\n",
    "                  barmode='group',\n",
    "                  plot_bgcolor='rgba(0,0,0,0)',\n",
    "                  )\n",
    "\n",
    "# Show the figure\n",
    "fig.show()\n"
   ]
  },
  {
   "cell_type": "code",
   "execution_count": 77,
   "id": "8a5ce005",
   "metadata": {},
   "outputs": [
    {
     "name": "stdout",
     "output_type": "stream",
     "text": [
      "              Gross Margin\n",
      "Season Store              \n",
      "Fall   3          0.574483\n",
      "       19         0.628435\n",
      "Spring 13         0.603541\n",
      "       21         0.659699\n",
      "Summer 3          0.629032\n",
      "       13         0.685765\n",
      "Winter 11         0.570259\n",
      "       21         0.649168\n"
     ]
    }
   ],
   "source": [
    "# Merge the highest and lowest gross margin stores into a single DataFrame\n",
    "combined_df = pd.concat([highest_gross_margin, lowest_gross_margin])\n",
    "\n",
    "# Set new index names for better readability\n",
    "combined_df = combined_df.set_index(['season', 'store']).sort_index()\n",
    "\n",
    "# Rename the columns for better readability\n",
    "combined_df.index.names = ['Season', 'Store']\n",
    "combined_df.columns = ['Gross Margin']\n",
    "\n",
    "# Print the resulting DataFrame\n",
    "print(combined_df)\n"
   ]
  },
  {
   "cell_type": "code",
   "execution_count": 78,
   "id": "9b62d2aa",
   "metadata": {},
   "outputs": [
    {
     "name": "stdout",
     "output_type": "stream",
     "text": [
      "                          gross_margin                class.desc\n",
      "class.desc                                                      \n",
      "Cardigans,Wraps,Sweaters      0.625601  Cardigans,Wraps,Sweaters\n",
      "Fashion Tops                  0.636779              Fashion Tops\n"
     ]
    }
   ],
   "source": [
    "###gross margin by product class\n",
    "profit_productclass_wise = merged_df.groupby(['class.desc'])['sale.amt'].sum() - merged_df.groupby(['class.desc'])['cost'].sum()\n",
    "profit_productclass_wise\n",
    "sales_per_class=merged_df.groupby(['class.desc'])['sale.amt'].sum()\n",
    "sales_per_class\n",
    "gross_margin_pclass_wise = profit_productclass_wise / sales_per_class\n",
    "results_df1 = pd.DataFrame()\n",
    "\n",
    "# add the gross margin column to the DataFrame\n",
    "results_df1['gross_margin'] = gross_margin_pclass_wise\n",
    "\n",
    "# add the store column to the DataFrame\n",
    "results_df1['class.desc'] = profit_productclass_wise.index\n",
    "\n",
    "print(results_df1)"
   ]
  },
  {
   "cell_type": "code",
   "execution_count": 82,
   "id": "fcaaac89",
   "metadata": {},
   "outputs": [
    {
     "name": "stdout",
     "output_type": "stream",
     "text": [
      "    store                class.desc  Gross Margin\n",
      "10     16  Cardigans,Wraps,Sweaters      0.645759\n",
      "16     21  Cardigans,Wraps,Sweaters      0.635935\n",
      "11     16              Fashion Tops      0.648809\n",
      "17     21              Fashion Tops      0.646045\n",
      "18     27  Cardigans,Wraps,Sweaters      0.606443\n",
      "0       3  Cardigans,Wraps,Sweaters      0.596400\n",
      "5      11              Fashion Tops      0.615052\n",
      "1       3              Fashion Tops      0.613242\n"
     ]
    }
   ],
   "source": [
    "# Calculate the profit for each store under each product class\n",
    "profit_store_productclass = merged_df.groupby(['store', 'class.desc'])['sale.amt'].sum() - merged_df.groupby(['store', 'class.desc'])['cost'].sum()\n",
    "\n",
    "# Calculate the sales for each store under each product class\n",
    "sales_store_productclass = merged_df.groupby(['store', 'class.desc'])['sale.amt'].sum()\n",
    "\n",
    "# Calculate the gross margin for each store under each product class\n",
    "gross_margin_store_productclass = profit_store_productclass / sales_store_productclass\n",
    "\n",
    "# Create a DataFrame with the store, product class, and gross margin\n",
    "store_productclass_data = pd.DataFrame({'Gross Margin': gross_margin_store_productclass})\n",
    "\n",
    "# Reset the index to convert the multi-level index to columns\n",
    "store_productclass_data = store_productclass_data.reset_index()\n",
    "\n",
    "# Sort the data in descending order by product class and gross margin\n",
    "store_productclass_data_sorted = store_productclass_data.sort_values(by=['class.desc', 'Gross Margin'], ascending=[True, False])\n",
    "\n",
    "# Find the highest and lowest 2 gross margin stores for each product class\n",
    "highest_gross_margin = store_productclass_data_sorted.groupby('class.desc').head(2)\n",
    "lowest_gross_margin = store_productclass_data_sorted.groupby('class.desc').tail(2)\n",
    "\n",
    "# Merge the highest and lowest 2 gross margin stores\n",
    "combined_df = pd.concat([highest_gross_margin, lowest_gross_margin])\n",
    "\n",
    "# Print the combined DataFrame\n",
    "print(combined_df)\n"
   ]
  },
  {
   "cell_type": "code",
   "execution_count": 84,
   "id": "d64eaf7f",
   "metadata": {},
   "outputs": [
    {
     "data": {
      "application/vnd.plotly.v1+json": {
       "config": {
        "plotlyServerURL": "https://plot.ly"
       },
       "data": [
        {
         "legendgroup": "Highest",
         "marker": {
          "color": "#9467bd"
         },
         "name": "Highest",
         "showlegend": false,
         "type": "bar",
         "x": [
          "Store 16"
         ],
         "xaxis": "x",
         "y": [
          64.57586783865274
         ],
         "yaxis": "y"
        },
        {
         "legendgroup": "Highest",
         "marker": {
          "color": "#9467bd"
         },
         "name": "Highest",
         "showlegend": false,
         "type": "bar",
         "x": [
          "Store 21"
         ],
         "xaxis": "x",
         "y": [
          63.593506860664064
         ],
         "yaxis": "y"
        },
        {
         "legendgroup": "Lowest",
         "marker": {
          "color": "#c5b0d5"
         },
         "name": "Lowest",
         "showlegend": false,
         "type": "bar",
         "x": [
          "Store 27"
         ],
         "xaxis": "x",
         "y": [
          60.644325395704115
         ],
         "yaxis": "y"
        },
        {
         "legendgroup": "Lowest",
         "marker": {
          "color": "#c5b0d5"
         },
         "name": "Lowest",
         "showlegend": true,
         "type": "bar",
         "x": [
          "Store 3"
         ],
         "xaxis": "x",
         "y": [
          59.63996734788988
         ],
         "yaxis": "y"
        },
        {
         "legendgroup": "Highest",
         "marker": {
          "color": "#9467bd"
         },
         "name": "Highest",
         "showlegend": false,
         "type": "bar",
         "x": [
          "Store 16"
         ],
         "xaxis": "x2",
         "y": [
          64.88087977457124
         ],
         "yaxis": "y2"
        },
        {
         "legendgroup": "Highest",
         "marker": {
          "color": "#9467bd"
         },
         "name": "Highest",
         "showlegend": false,
         "type": "bar",
         "x": [
          "Store 21"
         ],
         "xaxis": "x2",
         "y": [
          64.60449648786118
         ],
         "yaxis": "y2"
        },
        {
         "legendgroup": "Lowest",
         "marker": {
          "color": "#c5b0d5"
         },
         "name": "Lowest",
         "showlegend": false,
         "type": "bar",
         "x": [
          "Store 11"
         ],
         "xaxis": "x2",
         "y": [
          61.5051556235832
         ],
         "yaxis": "y2"
        },
        {
         "legendgroup": "Lowest",
         "marker": {
          "color": "#c5b0d5"
         },
         "name": "Lowest",
         "showlegend": false,
         "type": "bar",
         "x": [
          "Store 3"
         ],
         "xaxis": "x2",
         "y": [
          61.32415831622691
         ],
         "yaxis": "y2"
        }
       ],
       "layout": {
        "annotations": [
         {
          "font": {
           "size": 16
          },
          "showarrow": false,
          "text": "Cardigans,Wraps,Sweaters",
          "x": 0.225,
          "xanchor": "center",
          "xref": "paper",
          "y": 1,
          "yanchor": "bottom",
          "yref": "paper"
         },
         {
          "font": {
           "size": 16
          },
          "showarrow": false,
          "text": "Fashion Tops",
          "x": 0.775,
          "xanchor": "center",
          "xref": "paper",
          "y": 1,
          "yanchor": "bottom",
          "yref": "paper"
         }
        ],
        "barmode": "group",
        "plot_bgcolor": "rgba(0,0,0,0)",
        "template": {
         "data": {
          "bar": [
           {
            "error_x": {
             "color": "#2a3f5f"
            },
            "error_y": {
             "color": "#2a3f5f"
            },
            "marker": {
             "line": {
              "color": "#E5ECF6",
              "width": 0.5
             },
             "pattern": {
              "fillmode": "overlay",
              "size": 10,
              "solidity": 0.2
             }
            },
            "type": "bar"
           }
          ],
          "barpolar": [
           {
            "marker": {
             "line": {
              "color": "#E5ECF6",
              "width": 0.5
             },
             "pattern": {
              "fillmode": "overlay",
              "size": 10,
              "solidity": 0.2
             }
            },
            "type": "barpolar"
           }
          ],
          "carpet": [
           {
            "aaxis": {
             "endlinecolor": "#2a3f5f",
             "gridcolor": "white",
             "linecolor": "white",
             "minorgridcolor": "white",
             "startlinecolor": "#2a3f5f"
            },
            "baxis": {
             "endlinecolor": "#2a3f5f",
             "gridcolor": "white",
             "linecolor": "white",
             "minorgridcolor": "white",
             "startlinecolor": "#2a3f5f"
            },
            "type": "carpet"
           }
          ],
          "choropleth": [
           {
            "colorbar": {
             "outlinewidth": 0,
             "ticks": ""
            },
            "type": "choropleth"
           }
          ],
          "contour": [
           {
            "colorbar": {
             "outlinewidth": 0,
             "ticks": ""
            },
            "colorscale": [
             [
              0,
              "#0d0887"
             ],
             [
              0.1111111111111111,
              "#46039f"
             ],
             [
              0.2222222222222222,
              "#7201a8"
             ],
             [
              0.3333333333333333,
              "#9c179e"
             ],
             [
              0.4444444444444444,
              "#bd3786"
             ],
             [
              0.5555555555555556,
              "#d8576b"
             ],
             [
              0.6666666666666666,
              "#ed7953"
             ],
             [
              0.7777777777777778,
              "#fb9f3a"
             ],
             [
              0.8888888888888888,
              "#fdca26"
             ],
             [
              1,
              "#f0f921"
             ]
            ],
            "type": "contour"
           }
          ],
          "contourcarpet": [
           {
            "colorbar": {
             "outlinewidth": 0,
             "ticks": ""
            },
            "type": "contourcarpet"
           }
          ],
          "heatmap": [
           {
            "colorbar": {
             "outlinewidth": 0,
             "ticks": ""
            },
            "colorscale": [
             [
              0,
              "#0d0887"
             ],
             [
              0.1111111111111111,
              "#46039f"
             ],
             [
              0.2222222222222222,
              "#7201a8"
             ],
             [
              0.3333333333333333,
              "#9c179e"
             ],
             [
              0.4444444444444444,
              "#bd3786"
             ],
             [
              0.5555555555555556,
              "#d8576b"
             ],
             [
              0.6666666666666666,
              "#ed7953"
             ],
             [
              0.7777777777777778,
              "#fb9f3a"
             ],
             [
              0.8888888888888888,
              "#fdca26"
             ],
             [
              1,
              "#f0f921"
             ]
            ],
            "type": "heatmap"
           }
          ],
          "heatmapgl": [
           {
            "colorbar": {
             "outlinewidth": 0,
             "ticks": ""
            },
            "colorscale": [
             [
              0,
              "#0d0887"
             ],
             [
              0.1111111111111111,
              "#46039f"
             ],
             [
              0.2222222222222222,
              "#7201a8"
             ],
             [
              0.3333333333333333,
              "#9c179e"
             ],
             [
              0.4444444444444444,
              "#bd3786"
             ],
             [
              0.5555555555555556,
              "#d8576b"
             ],
             [
              0.6666666666666666,
              "#ed7953"
             ],
             [
              0.7777777777777778,
              "#fb9f3a"
             ],
             [
              0.8888888888888888,
              "#fdca26"
             ],
             [
              1,
              "#f0f921"
             ]
            ],
            "type": "heatmapgl"
           }
          ],
          "histogram": [
           {
            "marker": {
             "pattern": {
              "fillmode": "overlay",
              "size": 10,
              "solidity": 0.2
             }
            },
            "type": "histogram"
           }
          ],
          "histogram2d": [
           {
            "colorbar": {
             "outlinewidth": 0,
             "ticks": ""
            },
            "colorscale": [
             [
              0,
              "#0d0887"
             ],
             [
              0.1111111111111111,
              "#46039f"
             ],
             [
              0.2222222222222222,
              "#7201a8"
             ],
             [
              0.3333333333333333,
              "#9c179e"
             ],
             [
              0.4444444444444444,
              "#bd3786"
             ],
             [
              0.5555555555555556,
              "#d8576b"
             ],
             [
              0.6666666666666666,
              "#ed7953"
             ],
             [
              0.7777777777777778,
              "#fb9f3a"
             ],
             [
              0.8888888888888888,
              "#fdca26"
             ],
             [
              1,
              "#f0f921"
             ]
            ],
            "type": "histogram2d"
           }
          ],
          "histogram2dcontour": [
           {
            "colorbar": {
             "outlinewidth": 0,
             "ticks": ""
            },
            "colorscale": [
             [
              0,
              "#0d0887"
             ],
             [
              0.1111111111111111,
              "#46039f"
             ],
             [
              0.2222222222222222,
              "#7201a8"
             ],
             [
              0.3333333333333333,
              "#9c179e"
             ],
             [
              0.4444444444444444,
              "#bd3786"
             ],
             [
              0.5555555555555556,
              "#d8576b"
             ],
             [
              0.6666666666666666,
              "#ed7953"
             ],
             [
              0.7777777777777778,
              "#fb9f3a"
             ],
             [
              0.8888888888888888,
              "#fdca26"
             ],
             [
              1,
              "#f0f921"
             ]
            ],
            "type": "histogram2dcontour"
           }
          ],
          "mesh3d": [
           {
            "colorbar": {
             "outlinewidth": 0,
             "ticks": ""
            },
            "type": "mesh3d"
           }
          ],
          "parcoords": [
           {
            "line": {
             "colorbar": {
              "outlinewidth": 0,
              "ticks": ""
             }
            },
            "type": "parcoords"
           }
          ],
          "pie": [
           {
            "automargin": true,
            "type": "pie"
           }
          ],
          "scatter": [
           {
            "marker": {
             "colorbar": {
              "outlinewidth": 0,
              "ticks": ""
             }
            },
            "type": "scatter"
           }
          ],
          "scatter3d": [
           {
            "line": {
             "colorbar": {
              "outlinewidth": 0,
              "ticks": ""
             }
            },
            "marker": {
             "colorbar": {
              "outlinewidth": 0,
              "ticks": ""
             }
            },
            "type": "scatter3d"
           }
          ],
          "scattercarpet": [
           {
            "marker": {
             "colorbar": {
              "outlinewidth": 0,
              "ticks": ""
             }
            },
            "type": "scattercarpet"
           }
          ],
          "scattergeo": [
           {
            "marker": {
             "colorbar": {
              "outlinewidth": 0,
              "ticks": ""
             }
            },
            "type": "scattergeo"
           }
          ],
          "scattergl": [
           {
            "marker": {
             "colorbar": {
              "outlinewidth": 0,
              "ticks": ""
             }
            },
            "type": "scattergl"
           }
          ],
          "scattermapbox": [
           {
            "marker": {
             "colorbar": {
              "outlinewidth": 0,
              "ticks": ""
             }
            },
            "type": "scattermapbox"
           }
          ],
          "scatterpolar": [
           {
            "marker": {
             "colorbar": {
              "outlinewidth": 0,
              "ticks": ""
             }
            },
            "type": "scatterpolar"
           }
          ],
          "scatterpolargl": [
           {
            "marker": {
             "colorbar": {
              "outlinewidth": 0,
              "ticks": ""
             }
            },
            "type": "scatterpolargl"
           }
          ],
          "scatterternary": [
           {
            "marker": {
             "colorbar": {
              "outlinewidth": 0,
              "ticks": ""
             }
            },
            "type": "scatterternary"
           }
          ],
          "surface": [
           {
            "colorbar": {
             "outlinewidth": 0,
             "ticks": ""
            },
            "colorscale": [
             [
              0,
              "#0d0887"
             ],
             [
              0.1111111111111111,
              "#46039f"
             ],
             [
              0.2222222222222222,
              "#7201a8"
             ],
             [
              0.3333333333333333,
              "#9c179e"
             ],
             [
              0.4444444444444444,
              "#bd3786"
             ],
             [
              0.5555555555555556,
              "#d8576b"
             ],
             [
              0.6666666666666666,
              "#ed7953"
             ],
             [
              0.7777777777777778,
              "#fb9f3a"
             ],
             [
              0.8888888888888888,
              "#fdca26"
             ],
             [
              1,
              "#f0f921"
             ]
            ],
            "type": "surface"
           }
          ],
          "table": [
           {
            "cells": {
             "fill": {
              "color": "#EBF0F8"
             },
             "line": {
              "color": "white"
             }
            },
            "header": {
             "fill": {
              "color": "#C8D4E3"
             },
             "line": {
              "color": "white"
             }
            },
            "type": "table"
           }
          ]
         },
         "layout": {
          "annotationdefaults": {
           "arrowcolor": "#2a3f5f",
           "arrowhead": 0,
           "arrowwidth": 1
          },
          "autotypenumbers": "strict",
          "coloraxis": {
           "colorbar": {
            "outlinewidth": 0,
            "ticks": ""
           }
          },
          "colorscale": {
           "diverging": [
            [
             0,
             "#8e0152"
            ],
            [
             0.1,
             "#c51b7d"
            ],
            [
             0.2,
             "#de77ae"
            ],
            [
             0.3,
             "#f1b6da"
            ],
            [
             0.4,
             "#fde0ef"
            ],
            [
             0.5,
             "#f7f7f7"
            ],
            [
             0.6,
             "#e6f5d0"
            ],
            [
             0.7,
             "#b8e186"
            ],
            [
             0.8,
             "#7fbc41"
            ],
            [
             0.9,
             "#4d9221"
            ],
            [
             1,
             "#276419"
            ]
           ],
           "sequential": [
            [
             0,
             "#0d0887"
            ],
            [
             0.1111111111111111,
             "#46039f"
            ],
            [
             0.2222222222222222,
             "#7201a8"
            ],
            [
             0.3333333333333333,
             "#9c179e"
            ],
            [
             0.4444444444444444,
             "#bd3786"
            ],
            [
             0.5555555555555556,
             "#d8576b"
            ],
            [
             0.6666666666666666,
             "#ed7953"
            ],
            [
             0.7777777777777778,
             "#fb9f3a"
            ],
            [
             0.8888888888888888,
             "#fdca26"
            ],
            [
             1,
             "#f0f921"
            ]
           ],
           "sequentialminus": [
            [
             0,
             "#0d0887"
            ],
            [
             0.1111111111111111,
             "#46039f"
            ],
            [
             0.2222222222222222,
             "#7201a8"
            ],
            [
             0.3333333333333333,
             "#9c179e"
            ],
            [
             0.4444444444444444,
             "#bd3786"
            ],
            [
             0.5555555555555556,
             "#d8576b"
            ],
            [
             0.6666666666666666,
             "#ed7953"
            ],
            [
             0.7777777777777778,
             "#fb9f3a"
            ],
            [
             0.8888888888888888,
             "#fdca26"
            ],
            [
             1,
             "#f0f921"
            ]
           ]
          },
          "colorway": [
           "#636efa",
           "#EF553B",
           "#00cc96",
           "#ab63fa",
           "#FFA15A",
           "#19d3f3",
           "#FF6692",
           "#B6E880",
           "#FF97FF",
           "#FECB52"
          ],
          "font": {
           "color": "#2a3f5f"
          },
          "geo": {
           "bgcolor": "white",
           "lakecolor": "white",
           "landcolor": "#E5ECF6",
           "showlakes": true,
           "showland": true,
           "subunitcolor": "white"
          },
          "hoverlabel": {
           "align": "left"
          },
          "hovermode": "closest",
          "mapbox": {
           "style": "light"
          },
          "paper_bgcolor": "white",
          "plot_bgcolor": "#E5ECF6",
          "polar": {
           "angularaxis": {
            "gridcolor": "white",
            "linecolor": "white",
            "ticks": ""
           },
           "bgcolor": "#E5ECF6",
           "radialaxis": {
            "gridcolor": "white",
            "linecolor": "white",
            "ticks": ""
           }
          },
          "scene": {
           "xaxis": {
            "backgroundcolor": "#E5ECF6",
            "gridcolor": "white",
            "gridwidth": 2,
            "linecolor": "white",
            "showbackground": true,
            "ticks": "",
            "zerolinecolor": "white"
           },
           "yaxis": {
            "backgroundcolor": "#E5ECF6",
            "gridcolor": "white",
            "gridwidth": 2,
            "linecolor": "white",
            "showbackground": true,
            "ticks": "",
            "zerolinecolor": "white"
           },
           "zaxis": {
            "backgroundcolor": "#E5ECF6",
            "gridcolor": "white",
            "gridwidth": 2,
            "linecolor": "white",
            "showbackground": true,
            "ticks": "",
            "zerolinecolor": "white"
           }
          },
          "shapedefaults": {
           "line": {
            "color": "#2a3f5f"
           }
          },
          "ternary": {
           "aaxis": {
            "gridcolor": "white",
            "linecolor": "white",
            "ticks": ""
           },
           "baxis": {
            "gridcolor": "white",
            "linecolor": "white",
            "ticks": ""
           },
           "bgcolor": "#E5ECF6",
           "caxis": {
            "gridcolor": "white",
            "linecolor": "white",
            "ticks": ""
           }
          },
          "title": {
           "x": 0.05
          },
          "xaxis": {
           "automargin": true,
           "gridcolor": "white",
           "linecolor": "white",
           "ticks": "",
           "title": {
            "standoff": 15
           },
           "zerolinecolor": "white",
           "zerolinewidth": 2
          },
          "yaxis": {
           "automargin": true,
           "gridcolor": "white",
           "linecolor": "white",
           "ticks": "",
           "title": {
            "standoff": 15
           },
           "zerolinecolor": "white",
           "zerolinewidth": 2
          }
         }
        },
        "title": {
         "text": "Product Class-wise Highest and Lowest Gross Margin Stores"
        },
        "xaxis": {
         "anchor": "y",
         "domain": [
          0,
          0.45
         ]
        },
        "xaxis2": {
         "anchor": "y2",
         "domain": [
          0.55,
          1
         ]
        },
        "yaxis": {
         "anchor": "x",
         "domain": [
          0,
          1
         ]
        },
        "yaxis2": {
         "anchor": "x2",
         "domain": [
          0,
          1
         ],
         "matches": "y",
         "showticklabels": false
        }
       }
      },
      "text/html": [
       "<div>                            <div id=\"df486532-800a-4c0d-a4c0-1b3030073d2d\" class=\"plotly-graph-div\" style=\"height:525px; width:100%;\"></div>            <script type=\"text/javascript\">                require([\"plotly\"], function(Plotly) {                    window.PLOTLYENV=window.PLOTLYENV || {};                                    if (document.getElementById(\"df486532-800a-4c0d-a4c0-1b3030073d2d\")) {                    Plotly.newPlot(                        \"df486532-800a-4c0d-a4c0-1b3030073d2d\",                        [{\"legendgroup\":\"Highest\",\"marker\":{\"color\":\"#9467bd\"},\"name\":\"Highest\",\"showlegend\":false,\"x\":[\"Store 16\"],\"y\":[64.57586783865274],\"type\":\"bar\",\"xaxis\":\"x\",\"yaxis\":\"y\"},{\"legendgroup\":\"Highest\",\"marker\":{\"color\":\"#9467bd\"},\"name\":\"Highest\",\"showlegend\":false,\"x\":[\"Store 21\"],\"y\":[63.593506860664064],\"type\":\"bar\",\"xaxis\":\"x\",\"yaxis\":\"y\"},{\"legendgroup\":\"Lowest\",\"marker\":{\"color\":\"#c5b0d5\"},\"name\":\"Lowest\",\"showlegend\":false,\"x\":[\"Store 27\"],\"y\":[60.644325395704115],\"type\":\"bar\",\"xaxis\":\"x\",\"yaxis\":\"y\"},{\"legendgroup\":\"Lowest\",\"marker\":{\"color\":\"#c5b0d5\"},\"name\":\"Lowest\",\"showlegend\":true,\"x\":[\"Store 3\"],\"y\":[59.63996734788988],\"type\":\"bar\",\"xaxis\":\"x\",\"yaxis\":\"y\"},{\"legendgroup\":\"Highest\",\"marker\":{\"color\":\"#9467bd\"},\"name\":\"Highest\",\"showlegend\":false,\"x\":[\"Store 16\"],\"y\":[64.88087977457124],\"type\":\"bar\",\"xaxis\":\"x2\",\"yaxis\":\"y2\"},{\"legendgroup\":\"Highest\",\"marker\":{\"color\":\"#9467bd\"},\"name\":\"Highest\",\"showlegend\":false,\"x\":[\"Store 21\"],\"y\":[64.60449648786118],\"type\":\"bar\",\"xaxis\":\"x2\",\"yaxis\":\"y2\"},{\"legendgroup\":\"Lowest\",\"marker\":{\"color\":\"#c5b0d5\"},\"name\":\"Lowest\",\"showlegend\":false,\"x\":[\"Store 11\"],\"y\":[61.5051556235832],\"type\":\"bar\",\"xaxis\":\"x2\",\"yaxis\":\"y2\"},{\"legendgroup\":\"Lowest\",\"marker\":{\"color\":\"#c5b0d5\"},\"name\":\"Lowest\",\"showlegend\":false,\"x\":[\"Store 3\"],\"y\":[61.32415831622691],\"type\":\"bar\",\"xaxis\":\"x2\",\"yaxis\":\"y2\"}],                        {\"template\":{\"data\":{\"bar\":[{\"error_x\":{\"color\":\"#2a3f5f\"},\"error_y\":{\"color\":\"#2a3f5f\"},\"marker\":{\"line\":{\"color\":\"#E5ECF6\",\"width\":0.5},\"pattern\":{\"fillmode\":\"overlay\",\"size\":10,\"solidity\":0.2}},\"type\":\"bar\"}],\"barpolar\":[{\"marker\":{\"line\":{\"color\":\"#E5ECF6\",\"width\":0.5},\"pattern\":{\"fillmode\":\"overlay\",\"size\":10,\"solidity\":0.2}},\"type\":\"barpolar\"}],\"carpet\":[{\"aaxis\":{\"endlinecolor\":\"#2a3f5f\",\"gridcolor\":\"white\",\"linecolor\":\"white\",\"minorgridcolor\":\"white\",\"startlinecolor\":\"#2a3f5f\"},\"baxis\":{\"endlinecolor\":\"#2a3f5f\",\"gridcolor\":\"white\",\"linecolor\":\"white\",\"minorgridcolor\":\"white\",\"startlinecolor\":\"#2a3f5f\"},\"type\":\"carpet\"}],\"choropleth\":[{\"colorbar\":{\"outlinewidth\":0,\"ticks\":\"\"},\"type\":\"choropleth\"}],\"contour\":[{\"colorbar\":{\"outlinewidth\":0,\"ticks\":\"\"},\"colorscale\":[[0.0,\"#0d0887\"],[0.1111111111111111,\"#46039f\"],[0.2222222222222222,\"#7201a8\"],[0.3333333333333333,\"#9c179e\"],[0.4444444444444444,\"#bd3786\"],[0.5555555555555556,\"#d8576b\"],[0.6666666666666666,\"#ed7953\"],[0.7777777777777778,\"#fb9f3a\"],[0.8888888888888888,\"#fdca26\"],[1.0,\"#f0f921\"]],\"type\":\"contour\"}],\"contourcarpet\":[{\"colorbar\":{\"outlinewidth\":0,\"ticks\":\"\"},\"type\":\"contourcarpet\"}],\"heatmap\":[{\"colorbar\":{\"outlinewidth\":0,\"ticks\":\"\"},\"colorscale\":[[0.0,\"#0d0887\"],[0.1111111111111111,\"#46039f\"],[0.2222222222222222,\"#7201a8\"],[0.3333333333333333,\"#9c179e\"],[0.4444444444444444,\"#bd3786\"],[0.5555555555555556,\"#d8576b\"],[0.6666666666666666,\"#ed7953\"],[0.7777777777777778,\"#fb9f3a\"],[0.8888888888888888,\"#fdca26\"],[1.0,\"#f0f921\"]],\"type\":\"heatmap\"}],\"heatmapgl\":[{\"colorbar\":{\"outlinewidth\":0,\"ticks\":\"\"},\"colorscale\":[[0.0,\"#0d0887\"],[0.1111111111111111,\"#46039f\"],[0.2222222222222222,\"#7201a8\"],[0.3333333333333333,\"#9c179e\"],[0.4444444444444444,\"#bd3786\"],[0.5555555555555556,\"#d8576b\"],[0.6666666666666666,\"#ed7953\"],[0.7777777777777778,\"#fb9f3a\"],[0.8888888888888888,\"#fdca26\"],[1.0,\"#f0f921\"]],\"type\":\"heatmapgl\"}],\"histogram\":[{\"marker\":{\"pattern\":{\"fillmode\":\"overlay\",\"size\":10,\"solidity\":0.2}},\"type\":\"histogram\"}],\"histogram2d\":[{\"colorbar\":{\"outlinewidth\":0,\"ticks\":\"\"},\"colorscale\":[[0.0,\"#0d0887\"],[0.1111111111111111,\"#46039f\"],[0.2222222222222222,\"#7201a8\"],[0.3333333333333333,\"#9c179e\"],[0.4444444444444444,\"#bd3786\"],[0.5555555555555556,\"#d8576b\"],[0.6666666666666666,\"#ed7953\"],[0.7777777777777778,\"#fb9f3a\"],[0.8888888888888888,\"#fdca26\"],[1.0,\"#f0f921\"]],\"type\":\"histogram2d\"}],\"histogram2dcontour\":[{\"colorbar\":{\"outlinewidth\":0,\"ticks\":\"\"},\"colorscale\":[[0.0,\"#0d0887\"],[0.1111111111111111,\"#46039f\"],[0.2222222222222222,\"#7201a8\"],[0.3333333333333333,\"#9c179e\"],[0.4444444444444444,\"#bd3786\"],[0.5555555555555556,\"#d8576b\"],[0.6666666666666666,\"#ed7953\"],[0.7777777777777778,\"#fb9f3a\"],[0.8888888888888888,\"#fdca26\"],[1.0,\"#f0f921\"]],\"type\":\"histogram2dcontour\"}],\"mesh3d\":[{\"colorbar\":{\"outlinewidth\":0,\"ticks\":\"\"},\"type\":\"mesh3d\"}],\"parcoords\":[{\"line\":{\"colorbar\":{\"outlinewidth\":0,\"ticks\":\"\"}},\"type\":\"parcoords\"}],\"pie\":[{\"automargin\":true,\"type\":\"pie\"}],\"scatter\":[{\"marker\":{\"colorbar\":{\"outlinewidth\":0,\"ticks\":\"\"}},\"type\":\"scatter\"}],\"scatter3d\":[{\"line\":{\"colorbar\":{\"outlinewidth\":0,\"ticks\":\"\"}},\"marker\":{\"colorbar\":{\"outlinewidth\":0,\"ticks\":\"\"}},\"type\":\"scatter3d\"}],\"scattercarpet\":[{\"marker\":{\"colorbar\":{\"outlinewidth\":0,\"ticks\":\"\"}},\"type\":\"scattercarpet\"}],\"scattergeo\":[{\"marker\":{\"colorbar\":{\"outlinewidth\":0,\"ticks\":\"\"}},\"type\":\"scattergeo\"}],\"scattergl\":[{\"marker\":{\"colorbar\":{\"outlinewidth\":0,\"ticks\":\"\"}},\"type\":\"scattergl\"}],\"scattermapbox\":[{\"marker\":{\"colorbar\":{\"outlinewidth\":0,\"ticks\":\"\"}},\"type\":\"scattermapbox\"}],\"scatterpolar\":[{\"marker\":{\"colorbar\":{\"outlinewidth\":0,\"ticks\":\"\"}},\"type\":\"scatterpolar\"}],\"scatterpolargl\":[{\"marker\":{\"colorbar\":{\"outlinewidth\":0,\"ticks\":\"\"}},\"type\":\"scatterpolargl\"}],\"scatterternary\":[{\"marker\":{\"colorbar\":{\"outlinewidth\":0,\"ticks\":\"\"}},\"type\":\"scatterternary\"}],\"surface\":[{\"colorbar\":{\"outlinewidth\":0,\"ticks\":\"\"},\"colorscale\":[[0.0,\"#0d0887\"],[0.1111111111111111,\"#46039f\"],[0.2222222222222222,\"#7201a8\"],[0.3333333333333333,\"#9c179e\"],[0.4444444444444444,\"#bd3786\"],[0.5555555555555556,\"#d8576b\"],[0.6666666666666666,\"#ed7953\"],[0.7777777777777778,\"#fb9f3a\"],[0.8888888888888888,\"#fdca26\"],[1.0,\"#f0f921\"]],\"type\":\"surface\"}],\"table\":[{\"cells\":{\"fill\":{\"color\":\"#EBF0F8\"},\"line\":{\"color\":\"white\"}},\"header\":{\"fill\":{\"color\":\"#C8D4E3\"},\"line\":{\"color\":\"white\"}},\"type\":\"table\"}]},\"layout\":{\"annotationdefaults\":{\"arrowcolor\":\"#2a3f5f\",\"arrowhead\":0,\"arrowwidth\":1},\"autotypenumbers\":\"strict\",\"coloraxis\":{\"colorbar\":{\"outlinewidth\":0,\"ticks\":\"\"}},\"colorscale\":{\"diverging\":[[0,\"#8e0152\"],[0.1,\"#c51b7d\"],[0.2,\"#de77ae\"],[0.3,\"#f1b6da\"],[0.4,\"#fde0ef\"],[0.5,\"#f7f7f7\"],[0.6,\"#e6f5d0\"],[0.7,\"#b8e186\"],[0.8,\"#7fbc41\"],[0.9,\"#4d9221\"],[1,\"#276419\"]],\"sequential\":[[0.0,\"#0d0887\"],[0.1111111111111111,\"#46039f\"],[0.2222222222222222,\"#7201a8\"],[0.3333333333333333,\"#9c179e\"],[0.4444444444444444,\"#bd3786\"],[0.5555555555555556,\"#d8576b\"],[0.6666666666666666,\"#ed7953\"],[0.7777777777777778,\"#fb9f3a\"],[0.8888888888888888,\"#fdca26\"],[1.0,\"#f0f921\"]],\"sequentialminus\":[[0.0,\"#0d0887\"],[0.1111111111111111,\"#46039f\"],[0.2222222222222222,\"#7201a8\"],[0.3333333333333333,\"#9c179e\"],[0.4444444444444444,\"#bd3786\"],[0.5555555555555556,\"#d8576b\"],[0.6666666666666666,\"#ed7953\"],[0.7777777777777778,\"#fb9f3a\"],[0.8888888888888888,\"#fdca26\"],[1.0,\"#f0f921\"]]},\"colorway\":[\"#636efa\",\"#EF553B\",\"#00cc96\",\"#ab63fa\",\"#FFA15A\",\"#19d3f3\",\"#FF6692\",\"#B6E880\",\"#FF97FF\",\"#FECB52\"],\"font\":{\"color\":\"#2a3f5f\"},\"geo\":{\"bgcolor\":\"white\",\"lakecolor\":\"white\",\"landcolor\":\"#E5ECF6\",\"showlakes\":true,\"showland\":true,\"subunitcolor\":\"white\"},\"hoverlabel\":{\"align\":\"left\"},\"hovermode\":\"closest\",\"mapbox\":{\"style\":\"light\"},\"paper_bgcolor\":\"white\",\"plot_bgcolor\":\"#E5ECF6\",\"polar\":{\"angularaxis\":{\"gridcolor\":\"white\",\"linecolor\":\"white\",\"ticks\":\"\"},\"bgcolor\":\"#E5ECF6\",\"radialaxis\":{\"gridcolor\":\"white\",\"linecolor\":\"white\",\"ticks\":\"\"}},\"scene\":{\"xaxis\":{\"backgroundcolor\":\"#E5ECF6\",\"gridcolor\":\"white\",\"gridwidth\":2,\"linecolor\":\"white\",\"showbackground\":true,\"ticks\":\"\",\"zerolinecolor\":\"white\"},\"yaxis\":{\"backgroundcolor\":\"#E5ECF6\",\"gridcolor\":\"white\",\"gridwidth\":2,\"linecolor\":\"white\",\"showbackground\":true,\"ticks\":\"\",\"zerolinecolor\":\"white\"},\"zaxis\":{\"backgroundcolor\":\"#E5ECF6\",\"gridcolor\":\"white\",\"gridwidth\":2,\"linecolor\":\"white\",\"showbackground\":true,\"ticks\":\"\",\"zerolinecolor\":\"white\"}},\"shapedefaults\":{\"line\":{\"color\":\"#2a3f5f\"}},\"ternary\":{\"aaxis\":{\"gridcolor\":\"white\",\"linecolor\":\"white\",\"ticks\":\"\"},\"baxis\":{\"gridcolor\":\"white\",\"linecolor\":\"white\",\"ticks\":\"\"},\"bgcolor\":\"#E5ECF6\",\"caxis\":{\"gridcolor\":\"white\",\"linecolor\":\"white\",\"ticks\":\"\"}},\"title\":{\"x\":0.05},\"xaxis\":{\"automargin\":true,\"gridcolor\":\"white\",\"linecolor\":\"white\",\"ticks\":\"\",\"title\":{\"standoff\":15},\"zerolinecolor\":\"white\",\"zerolinewidth\":2},\"yaxis\":{\"automargin\":true,\"gridcolor\":\"white\",\"linecolor\":\"white\",\"ticks\":\"\",\"title\":{\"standoff\":15},\"zerolinecolor\":\"white\",\"zerolinewidth\":2}}},\"xaxis\":{\"anchor\":\"y\",\"domain\":[0.0,0.45]},\"yaxis\":{\"anchor\":\"x\",\"domain\":[0.0,1.0]},\"xaxis2\":{\"anchor\":\"y2\",\"domain\":[0.55,1.0]},\"yaxis2\":{\"anchor\":\"x2\",\"domain\":[0.0,1.0],\"matches\":\"y\",\"showticklabels\":false},\"annotations\":[{\"font\":{\"size\":16},\"showarrow\":false,\"text\":\"Cardigans,Wraps,Sweaters\",\"x\":0.225,\"xanchor\":\"center\",\"xref\":\"paper\",\"y\":1.0,\"yanchor\":\"bottom\",\"yref\":\"paper\"},{\"font\":{\"size\":16},\"showarrow\":false,\"text\":\"Fashion Tops\",\"x\":0.775,\"xanchor\":\"center\",\"xref\":\"paper\",\"y\":1.0,\"yanchor\":\"bottom\",\"yref\":\"paper\"}],\"title\":{\"text\":\"Product Class-wise Highest and Lowest Gross Margin Stores\"},\"barmode\":\"group\",\"plot_bgcolor\":\"rgba(0,0,0,0)\"},                        {\"responsive\": true}                    ).then(function(){\n",
       "                            \n",
       "var gd = document.getElementById('df486532-800a-4c0d-a4c0-1b3030073d2d');\n",
       "var x = new MutationObserver(function (mutations, observer) {{\n",
       "        var display = window.getComputedStyle(gd).display;\n",
       "        if (!display || display === 'none') {{\n",
       "            console.log([gd, 'removed!']);\n",
       "            Plotly.purge(gd);\n",
       "            observer.disconnect();\n",
       "        }}\n",
       "}});\n",
       "\n",
       "// Listen for the removal of the full notebook cells\n",
       "var notebookContainer = gd.closest('#notebook-container');\n",
       "if (notebookContainer) {{\n",
       "    x.observe(notebookContainer, {childList: true});\n",
       "}}\n",
       "\n",
       "// Listen for the clearing of the current output cell\n",
       "var outputEl = gd.closest('.output');\n",
       "if (outputEl) {{\n",
       "    x.observe(outputEl, {childList: true});\n",
       "}}\n",
       "\n",
       "                        })                };                });            </script>        </div>"
      ]
     },
     "metadata": {},
     "output_type": "display_data"
    }
   ],
   "source": [
    "import pandas as pd\n",
    "import plotly.graph_objs as go\n",
    "from plotly.subplots import make_subplots\n",
    "\n",
    "# Assuming the combined_df DataFrame is already created\n",
    "combined_df = combined_df.sort_values(by=['class.desc', 'Gross Margin'], ascending=[True, False])\n",
    "\n",
    "# Get unique product classes\n",
    "product_classes = combined_df['class.desc'].unique()\n",
    "\n",
    "# Create a grouped bar chart with subplots for each product class\n",
    "fig = make_subplots(rows=1, cols=len(product_classes), subplot_titles=product_classes, shared_yaxes=True)\n",
    "\n",
    "# Define the color scale\n",
    "color_scale = {'Highest': '#9467bd', 'Lowest': '#c5b0d5'}\n",
    "\n",
    "# Add traces for each product class and store\n",
    "for index, (product_class, class_df) in enumerate(combined_df.groupby(\"class.desc\")):\n",
    "    for idx, row in class_df.iterrows():\n",
    "        if row['store'] in highest_gross_margin.loc[highest_gross_margin['class.desc'] == row['class.desc'], 'store'].values:\n",
    "            label = \"Highest\"\n",
    "        else:\n",
    "            label = \"Lowest\"\n",
    "\n",
    "        fig.add_trace(go.Bar(x=[f\"Store {row['store']}\"],\n",
    "                             y=[row['Gross Margin'] * 100],\n",
    "                             name=label,\n",
    "                             marker=dict(color=color_scale[label]),\n",
    "                             legendgroup=label,\n",
    "                             showlegend=(index == 0 and (idx == 0 or idx == len(class_df) - 1))),\n",
    "                      row=1, col=index + 1)\n",
    "\n",
    "# Update the layout\n",
    "fig.update_layout(title=\"Product Class-wise Highest and Lowest Gross Margin Stores\",\n",
    "                  barmode='group',\n",
    "                  plot_bgcolor='rgba(0,0,0,0)',\n",
    "                  )\n",
    "\n",
    "# Show the figure\n",
    "fig.show()\n"
   ]
  },
  {
   "cell_type": "code",
   "execution_count": 85,
   "id": "9601c8e8",
   "metadata": {},
   "outputs": [
    {
     "data": {
      "text/html": [
       "<div>\n",
       "<style scoped>\n",
       "    .dataframe tbody tr th:only-of-type {\n",
       "        vertical-align: middle;\n",
       "    }\n",
       "\n",
       "    .dataframe tbody tr th {\n",
       "        vertical-align: top;\n",
       "    }\n",
       "\n",
       "    .dataframe thead th {\n",
       "        text-align: right;\n",
       "    }\n",
       "</style>\n",
       "<table border=\"1\" class=\"dataframe\">\n",
       "  <thead>\n",
       "    <tr style=\"text-align: right;\">\n",
       "      <th></th>\n",
       "      <th>gross_margin</th>\n",
       "      <th>color</th>\n",
       "    </tr>\n",
       "    <tr>\n",
       "      <th>color</th>\n",
       "      <th></th>\n",
       "      <th></th>\n",
       "    </tr>\n",
       "  </thead>\n",
       "  <tbody>\n",
       "    <tr>\n",
       "      <th>Dark Rose</th>\n",
       "      <td>0.809060</td>\n",
       "      <td>Dark Rose</td>\n",
       "    </tr>\n",
       "    <tr>\n",
       "      <th>Topaz</th>\n",
       "      <td>0.800972</td>\n",
       "      <td>Topaz</td>\n",
       "    </tr>\n",
       "    <tr>\n",
       "      <th>No Color</th>\n",
       "      <td>0.747500</td>\n",
       "      <td>No Color</td>\n",
       "    </tr>\n",
       "    <tr>\n",
       "      <th>Yellow</th>\n",
       "      <td>0.745763</td>\n",
       "      <td>Yellow</td>\n",
       "    </tr>\n",
       "    <tr>\n",
       "      <th>Banana</th>\n",
       "      <td>0.744733</td>\n",
       "      <td>Banana</td>\n",
       "    </tr>\n",
       "    <tr>\n",
       "      <th>...</th>\n",
       "      <td>...</td>\n",
       "      <td>...</td>\n",
       "    </tr>\n",
       "    <tr>\n",
       "      <th>Dark Teal</th>\n",
       "      <td>0.254326</td>\n",
       "      <td>Dark Teal</td>\n",
       "    </tr>\n",
       "    <tr>\n",
       "      <th>Light Rose</th>\n",
       "      <td>0.243299</td>\n",
       "      <td>Light Rose</td>\n",
       "    </tr>\n",
       "    <tr>\n",
       "      <th>Mint</th>\n",
       "      <td>0.231860</td>\n",
       "      <td>Mint</td>\n",
       "    </tr>\n",
       "    <tr>\n",
       "      <th>Raspberry</th>\n",
       "      <td>0.101864</td>\n",
       "      <td>Raspberry</td>\n",
       "    </tr>\n",
       "    <tr>\n",
       "      <th>Vintage Purple</th>\n",
       "      <td>0.027822</td>\n",
       "      <td>Vintage Purple</td>\n",
       "    </tr>\n",
       "  </tbody>\n",
       "</table>\n",
       "<p>87 rows × 2 columns</p>\n",
       "</div>"
      ],
      "text/plain": [
       "                gross_margin           color\n",
       "color                                       \n",
       "Dark Rose           0.809060       Dark Rose\n",
       "Topaz               0.800972           Topaz\n",
       "No Color            0.747500        No Color\n",
       "Yellow              0.745763          Yellow\n",
       "Banana              0.744733          Banana\n",
       "...                      ...             ...\n",
       "Dark Teal           0.254326       Dark Teal\n",
       "Light Rose          0.243299      Light Rose\n",
       "Mint                0.231860            Mint\n",
       "Raspberry           0.101864       Raspberry\n",
       "Vintage Purple      0.027822  Vintage Purple\n",
       "\n",
       "[87 rows x 2 columns]"
      ]
     },
     "execution_count": 85,
     "metadata": {},
     "output_type": "execute_result"
    }
   ],
   "source": [
    "###gross margin by product colorwise\n",
    "profit_productcolor_wise = merged_df.groupby(['color'])['sale.amt'].sum() - merged_df.groupby(['color'])['cost'].sum()\n",
    "profit_productcolor_wise\n",
    "sales_per_color=merged_df.groupby(['color'])['sale.amt'].sum()\n",
    "sales_per_color\n",
    "gross_margin_color_wise = profit_productcolor_wise / sales_per_color\n",
    "results_df2 = pd.DataFrame()\n",
    "\n",
    "# add the gross margin column to the DataFrame\n",
    "results_df2['gross_margin'] = gross_margin_color_wise\n",
    "\n",
    "# add the store column to the DataFrame\n",
    "results_df2['color'] = profit_productcolor_wise.index\n",
    "\n",
    "results_df2.sort_values('gross_margin', ascending=False)"
   ]
  },
  {
   "cell_type": "code",
   "execution_count": 86,
   "id": "facc28b8",
   "metadata": {},
   "outputs": [
    {
     "data": {
      "text/html": [
       "<div>\n",
       "<style scoped>\n",
       "    .dataframe tbody tr th:only-of-type {\n",
       "        vertical-align: middle;\n",
       "    }\n",
       "\n",
       "    .dataframe tbody tr th {\n",
       "        vertical-align: top;\n",
       "    }\n",
       "\n",
       "    .dataframe thead th {\n",
       "        text-align: right;\n",
       "    }\n",
       "</style>\n",
       "<table border=\"1\" class=\"dataframe\">\n",
       "  <thead>\n",
       "    <tr style=\"text-align: right;\">\n",
       "      <th></th>\n",
       "      <th>gross_margin</th>\n",
       "      <th>No. of units sold</th>\n",
       "      <th>Perc. of units sold</th>\n",
       "      <th>sub_class</th>\n",
       "    </tr>\n",
       "    <tr>\n",
       "      <th>sub.class.desc</th>\n",
       "      <th></th>\n",
       "      <th></th>\n",
       "      <th></th>\n",
       "      <th></th>\n",
       "    </tr>\n",
       "  </thead>\n",
       "  <tbody>\n",
       "    <tr>\n",
       "      <th>Sweater Tanks and Tanks</th>\n",
       "      <td>0.676506</td>\n",
       "      <td>1707</td>\n",
       "      <td>3.08</td>\n",
       "      <td>Sweater Tanks and Tanks</td>\n",
       "    </tr>\n",
       "    <tr>\n",
       "      <th>Kimono</th>\n",
       "      <td>0.667929</td>\n",
       "      <td>457</td>\n",
       "      <td>0.82</td>\n",
       "      <td>Kimono</td>\n",
       "    </tr>\n",
       "    <tr>\n",
       "      <th>Sleeveless Woven Tanks</th>\n",
       "      <td>0.659874</td>\n",
       "      <td>7882</td>\n",
       "      <td>14.22</td>\n",
       "      <td>Sleeveless Woven Tanks</td>\n",
       "    </tr>\n",
       "    <tr>\n",
       "      <th>Button Down</th>\n",
       "      <td>0.653293</td>\n",
       "      <td>6925</td>\n",
       "      <td>12.49</td>\n",
       "      <td>Button Down</td>\n",
       "    </tr>\n",
       "    <tr>\n",
       "      <th>Short Sleeve Knits</th>\n",
       "      <td>0.646518</td>\n",
       "      <td>10220</td>\n",
       "      <td>18.43</td>\n",
       "      <td>Short Sleeve Knits</td>\n",
       "    </tr>\n",
       "    <tr>\n",
       "      <th>Pullover Sweater</th>\n",
       "      <td>0.627983</td>\n",
       "      <td>8944</td>\n",
       "      <td>16.13</td>\n",
       "      <td>Pullover Sweater</td>\n",
       "    </tr>\n",
       "    <tr>\n",
       "      <th>Traditional Cardigan</th>\n",
       "      <td>0.623431</td>\n",
       "      <td>281</td>\n",
       "      <td>0.51</td>\n",
       "      <td>Traditional Cardigan</td>\n",
       "    </tr>\n",
       "    <tr>\n",
       "      <th>Long Sleeve Knits</th>\n",
       "      <td>0.621562</td>\n",
       "      <td>2948</td>\n",
       "      <td>5.32</td>\n",
       "      <td>Long Sleeve Knits</td>\n",
       "    </tr>\n",
       "    <tr>\n",
       "      <th>Bodysuits</th>\n",
       "      <td>0.618602</td>\n",
       "      <td>439</td>\n",
       "      <td>0.79</td>\n",
       "      <td>Bodysuits</td>\n",
       "    </tr>\n",
       "    <tr>\n",
       "      <th>Blouse</th>\n",
       "      <td>0.610024</td>\n",
       "      <td>11191</td>\n",
       "      <td>20.18</td>\n",
       "      <td>Blouse</td>\n",
       "    </tr>\n",
       "    <tr>\n",
       "      <th>Long Cardigans</th>\n",
       "      <td>0.608206</td>\n",
       "      <td>1512</td>\n",
       "      <td>2.73</td>\n",
       "      <td>Long Cardigans</td>\n",
       "    </tr>\n",
       "    <tr>\n",
       "      <th>Short Cardigans</th>\n",
       "      <td>0.583902</td>\n",
       "      <td>2135</td>\n",
       "      <td>3.85</td>\n",
       "      <td>Short Cardigans</td>\n",
       "    </tr>\n",
       "    <tr>\n",
       "      <th>Sweatshirt</th>\n",
       "      <td>0.565208</td>\n",
       "      <td>719</td>\n",
       "      <td>1.30</td>\n",
       "      <td>Sweatshirt</td>\n",
       "    </tr>\n",
       "    <tr>\n",
       "      <th>Vest</th>\n",
       "      <td>0.470560</td>\n",
       "      <td>83</td>\n",
       "      <td>0.15</td>\n",
       "      <td>Vest</td>\n",
       "    </tr>\n",
       "    <tr>\n",
       "      <th>Misc Fashion Tops</th>\n",
       "      <td>0.386012</td>\n",
       "      <td>2</td>\n",
       "      <td>0.00</td>\n",
       "      <td>Misc Fashion Tops</td>\n",
       "    </tr>\n",
       "  </tbody>\n",
       "</table>\n",
       "</div>"
      ],
      "text/plain": [
       "                         gross_margin  No. of units sold  Perc. of units sold  \\\n",
       "sub.class.desc                                                                  \n",
       "Sweater Tanks and Tanks      0.676506               1707                 3.08   \n",
       "Kimono                       0.667929                457                 0.82   \n",
       "Sleeveless Woven Tanks       0.659874               7882                14.22   \n",
       "Button Down                  0.653293               6925                12.49   \n",
       "Short Sleeve Knits           0.646518              10220                18.43   \n",
       "Pullover Sweater             0.627983               8944                16.13   \n",
       "Traditional Cardigan         0.623431                281                 0.51   \n",
       "Long Sleeve Knits            0.621562               2948                 5.32   \n",
       "Bodysuits                    0.618602                439                 0.79   \n",
       "Blouse                       0.610024              11191                20.18   \n",
       "Long Cardigans               0.608206               1512                 2.73   \n",
       "Short Cardigans              0.583902               2135                 3.85   \n",
       "Sweatshirt                   0.565208                719                 1.30   \n",
       "Vest                         0.470560                 83                 0.15   \n",
       "Misc Fashion Tops            0.386012                  2                 0.00   \n",
       "\n",
       "                                       sub_class  \n",
       "sub.class.desc                                    \n",
       "Sweater Tanks and Tanks  Sweater Tanks and Tanks  \n",
       "Kimono                                    Kimono  \n",
       "Sleeveless Woven Tanks    Sleeveless Woven Tanks  \n",
       "Button Down                          Button Down  \n",
       "Short Sleeve Knits            Short Sleeve Knits  \n",
       "Pullover Sweater                Pullover Sweater  \n",
       "Traditional Cardigan        Traditional Cardigan  \n",
       "Long Sleeve Knits              Long Sleeve Knits  \n",
       "Bodysuits                              Bodysuits  \n",
       "Blouse                                    Blouse  \n",
       "Long Cardigans                    Long Cardigans  \n",
       "Short Cardigans                  Short Cardigans  \n",
       "Sweatshirt                            Sweatshirt  \n",
       "Vest                                        Vest  \n",
       "Misc Fashion Tops              Misc Fashion Tops  "
      ]
     },
     "execution_count": 86,
     "metadata": {},
     "output_type": "execute_result"
    }
   ],
   "source": [
    "###gross margin by product subclass\n",
    "\n",
    "profit_subclass_wise = merged_df.groupby(['sub.class.desc'])['sale.amt'].sum() - merged_df.groupby(['sub.class.desc'])['cost'].sum()\n",
    "profit_subclass_wise\n",
    "sales_subclasswise=merged_df.groupby(['sub.class.desc'])['sale.amt'].sum()\n",
    "sales_subclasswise\n",
    "gross_margin_subclass_wise = profit_subclass_wise / sales_subclasswise\n",
    "count1=merged_df.groupby(['sub.class.desc'])['sale.amt'].count()\n",
    "total_units_sold = merged_df['sale.amt'].count()\n",
    "perc_transaction=round(count1/total_units_sold *100,2)\n",
    "results_df3 = pd.DataFrame()\n",
    "\n",
    "# add the gross margin column to the DataFrame\n",
    "results_df3['gross_margin'] = gross_margin_subclass_wise\n",
    "\n",
    "#add the count of units sold\n",
    "results_df3['No. of units sold'] = count1\n",
    "\n",
    "#add the percent of units sold\n",
    "results_df3['Perc. of units sold'] = perc_transaction\n",
    "\n",
    "# add the store column to the DataFrame\n",
    "results_df3['sub_class'] = profit_subclass_wise.index\n",
    "\n",
    "results_df3.sort_values('gross_margin', ascending=False)"
   ]
  },
  {
   "cell_type": "code",
   "execution_count": 87,
   "id": "64b2604e",
   "metadata": {},
   "outputs": [
    {
     "data": {
      "application/vnd.plotly.v1+json": {
       "config": {
        "plotlyServerURL": "https://plot.ly"
       },
       "data": [
        {
         "hovertemplate": "<b>%{hovertext}</b><br><br>Gross Margin (%)=%{x}<br>Number of Units Sold=%{y}<br>sub_class=%{text}<extra></extra>",
         "hovertext": [
          "Blouse",
          "Short Sleeve Knits",
          "Pullover Sweater",
          "Misc Fashion Tops",
          "Vest",
          "Traditional Cardigan"
         ],
         "legendgroup": "",
         "marker": {
          "color": "#636efa",
          "line": {
           "color": "DarkSlateGrey",
           "width": 1
          },
          "size": 15,
          "symbol": "circle"
         },
         "mode": "markers+text",
         "name": "",
         "orientation": "v",
         "showlegend": false,
         "text": [
          "Blouse",
          "Short Sleeve Knits",
          "Pullover Sweater",
          "Misc Fashion Tops",
          "Vest",
          "Traditional Cardigan"
         ],
         "textfont": {
          "size": 10
         },
         "textposition": "top center",
         "type": "scatter",
         "x": [
          61.00237336873607,
          64.65182141440503,
          62.79829459122027,
          38.601174586225305,
          47.056021239468585,
          62.34310928753085
         ],
         "xaxis": "x",
         "y": [
          11191,
          10220,
          8944,
          2,
          83,
          281
         ],
         "yaxis": "y"
        }
       ],
       "layout": {
        "height": 600,
        "legend": {
         "tracegroupgap": 0
        },
        "paper_bgcolor": "rgba(0, 0, 0, 0)",
        "plot_bgcolor": "rgba(0, 0, 0, 0)",
        "template": {
         "data": {
          "bar": [
           {
            "error_x": {
             "color": "#2a3f5f"
            },
            "error_y": {
             "color": "#2a3f5f"
            },
            "marker": {
             "line": {
              "color": "#E5ECF6",
              "width": 0.5
             },
             "pattern": {
              "fillmode": "overlay",
              "size": 10,
              "solidity": 0.2
             }
            },
            "type": "bar"
           }
          ],
          "barpolar": [
           {
            "marker": {
             "line": {
              "color": "#E5ECF6",
              "width": 0.5
             },
             "pattern": {
              "fillmode": "overlay",
              "size": 10,
              "solidity": 0.2
             }
            },
            "type": "barpolar"
           }
          ],
          "carpet": [
           {
            "aaxis": {
             "endlinecolor": "#2a3f5f",
             "gridcolor": "white",
             "linecolor": "white",
             "minorgridcolor": "white",
             "startlinecolor": "#2a3f5f"
            },
            "baxis": {
             "endlinecolor": "#2a3f5f",
             "gridcolor": "white",
             "linecolor": "white",
             "minorgridcolor": "white",
             "startlinecolor": "#2a3f5f"
            },
            "type": "carpet"
           }
          ],
          "choropleth": [
           {
            "colorbar": {
             "outlinewidth": 0,
             "ticks": ""
            },
            "type": "choropleth"
           }
          ],
          "contour": [
           {
            "colorbar": {
             "outlinewidth": 0,
             "ticks": ""
            },
            "colorscale": [
             [
              0,
              "#0d0887"
             ],
             [
              0.1111111111111111,
              "#46039f"
             ],
             [
              0.2222222222222222,
              "#7201a8"
             ],
             [
              0.3333333333333333,
              "#9c179e"
             ],
             [
              0.4444444444444444,
              "#bd3786"
             ],
             [
              0.5555555555555556,
              "#d8576b"
             ],
             [
              0.6666666666666666,
              "#ed7953"
             ],
             [
              0.7777777777777778,
              "#fb9f3a"
             ],
             [
              0.8888888888888888,
              "#fdca26"
             ],
             [
              1,
              "#f0f921"
             ]
            ],
            "type": "contour"
           }
          ],
          "contourcarpet": [
           {
            "colorbar": {
             "outlinewidth": 0,
             "ticks": ""
            },
            "type": "contourcarpet"
           }
          ],
          "heatmap": [
           {
            "colorbar": {
             "outlinewidth": 0,
             "ticks": ""
            },
            "colorscale": [
             [
              0,
              "#0d0887"
             ],
             [
              0.1111111111111111,
              "#46039f"
             ],
             [
              0.2222222222222222,
              "#7201a8"
             ],
             [
              0.3333333333333333,
              "#9c179e"
             ],
             [
              0.4444444444444444,
              "#bd3786"
             ],
             [
              0.5555555555555556,
              "#d8576b"
             ],
             [
              0.6666666666666666,
              "#ed7953"
             ],
             [
              0.7777777777777778,
              "#fb9f3a"
             ],
             [
              0.8888888888888888,
              "#fdca26"
             ],
             [
              1,
              "#f0f921"
             ]
            ],
            "type": "heatmap"
           }
          ],
          "heatmapgl": [
           {
            "colorbar": {
             "outlinewidth": 0,
             "ticks": ""
            },
            "colorscale": [
             [
              0,
              "#0d0887"
             ],
             [
              0.1111111111111111,
              "#46039f"
             ],
             [
              0.2222222222222222,
              "#7201a8"
             ],
             [
              0.3333333333333333,
              "#9c179e"
             ],
             [
              0.4444444444444444,
              "#bd3786"
             ],
             [
              0.5555555555555556,
              "#d8576b"
             ],
             [
              0.6666666666666666,
              "#ed7953"
             ],
             [
              0.7777777777777778,
              "#fb9f3a"
             ],
             [
              0.8888888888888888,
              "#fdca26"
             ],
             [
              1,
              "#f0f921"
             ]
            ],
            "type": "heatmapgl"
           }
          ],
          "histogram": [
           {
            "marker": {
             "pattern": {
              "fillmode": "overlay",
              "size": 10,
              "solidity": 0.2
             }
            },
            "type": "histogram"
           }
          ],
          "histogram2d": [
           {
            "colorbar": {
             "outlinewidth": 0,
             "ticks": ""
            },
            "colorscale": [
             [
              0,
              "#0d0887"
             ],
             [
              0.1111111111111111,
              "#46039f"
             ],
             [
              0.2222222222222222,
              "#7201a8"
             ],
             [
              0.3333333333333333,
              "#9c179e"
             ],
             [
              0.4444444444444444,
              "#bd3786"
             ],
             [
              0.5555555555555556,
              "#d8576b"
             ],
             [
              0.6666666666666666,
              "#ed7953"
             ],
             [
              0.7777777777777778,
              "#fb9f3a"
             ],
             [
              0.8888888888888888,
              "#fdca26"
             ],
             [
              1,
              "#f0f921"
             ]
            ],
            "type": "histogram2d"
           }
          ],
          "histogram2dcontour": [
           {
            "colorbar": {
             "outlinewidth": 0,
             "ticks": ""
            },
            "colorscale": [
             [
              0,
              "#0d0887"
             ],
             [
              0.1111111111111111,
              "#46039f"
             ],
             [
              0.2222222222222222,
              "#7201a8"
             ],
             [
              0.3333333333333333,
              "#9c179e"
             ],
             [
              0.4444444444444444,
              "#bd3786"
             ],
             [
              0.5555555555555556,
              "#d8576b"
             ],
             [
              0.6666666666666666,
              "#ed7953"
             ],
             [
              0.7777777777777778,
              "#fb9f3a"
             ],
             [
              0.8888888888888888,
              "#fdca26"
             ],
             [
              1,
              "#f0f921"
             ]
            ],
            "type": "histogram2dcontour"
           }
          ],
          "mesh3d": [
           {
            "colorbar": {
             "outlinewidth": 0,
             "ticks": ""
            },
            "type": "mesh3d"
           }
          ],
          "parcoords": [
           {
            "line": {
             "colorbar": {
              "outlinewidth": 0,
              "ticks": ""
             }
            },
            "type": "parcoords"
           }
          ],
          "pie": [
           {
            "automargin": true,
            "type": "pie"
           }
          ],
          "scatter": [
           {
            "marker": {
             "colorbar": {
              "outlinewidth": 0,
              "ticks": ""
             }
            },
            "type": "scatter"
           }
          ],
          "scatter3d": [
           {
            "line": {
             "colorbar": {
              "outlinewidth": 0,
              "ticks": ""
             }
            },
            "marker": {
             "colorbar": {
              "outlinewidth": 0,
              "ticks": ""
             }
            },
            "type": "scatter3d"
           }
          ],
          "scattercarpet": [
           {
            "marker": {
             "colorbar": {
              "outlinewidth": 0,
              "ticks": ""
             }
            },
            "type": "scattercarpet"
           }
          ],
          "scattergeo": [
           {
            "marker": {
             "colorbar": {
              "outlinewidth": 0,
              "ticks": ""
             }
            },
            "type": "scattergeo"
           }
          ],
          "scattergl": [
           {
            "marker": {
             "colorbar": {
              "outlinewidth": 0,
              "ticks": ""
             }
            },
            "type": "scattergl"
           }
          ],
          "scattermapbox": [
           {
            "marker": {
             "colorbar": {
              "outlinewidth": 0,
              "ticks": ""
             }
            },
            "type": "scattermapbox"
           }
          ],
          "scatterpolar": [
           {
            "marker": {
             "colorbar": {
              "outlinewidth": 0,
              "ticks": ""
             }
            },
            "type": "scatterpolar"
           }
          ],
          "scatterpolargl": [
           {
            "marker": {
             "colorbar": {
              "outlinewidth": 0,
              "ticks": ""
             }
            },
            "type": "scatterpolargl"
           }
          ],
          "scatterternary": [
           {
            "marker": {
             "colorbar": {
              "outlinewidth": 0,
              "ticks": ""
             }
            },
            "type": "scatterternary"
           }
          ],
          "surface": [
           {
            "colorbar": {
             "outlinewidth": 0,
             "ticks": ""
            },
            "colorscale": [
             [
              0,
              "#0d0887"
             ],
             [
              0.1111111111111111,
              "#46039f"
             ],
             [
              0.2222222222222222,
              "#7201a8"
             ],
             [
              0.3333333333333333,
              "#9c179e"
             ],
             [
              0.4444444444444444,
              "#bd3786"
             ],
             [
              0.5555555555555556,
              "#d8576b"
             ],
             [
              0.6666666666666666,
              "#ed7953"
             ],
             [
              0.7777777777777778,
              "#fb9f3a"
             ],
             [
              0.8888888888888888,
              "#fdca26"
             ],
             [
              1,
              "#f0f921"
             ]
            ],
            "type": "surface"
           }
          ],
          "table": [
           {
            "cells": {
             "fill": {
              "color": "#EBF0F8"
             },
             "line": {
              "color": "white"
             }
            },
            "header": {
             "fill": {
              "color": "#C8D4E3"
             },
             "line": {
              "color": "white"
             }
            },
            "type": "table"
           }
          ]
         },
         "layout": {
          "annotationdefaults": {
           "arrowcolor": "#2a3f5f",
           "arrowhead": 0,
           "arrowwidth": 1
          },
          "autotypenumbers": "strict",
          "coloraxis": {
           "colorbar": {
            "outlinewidth": 0,
            "ticks": ""
           }
          },
          "colorscale": {
           "diverging": [
            [
             0,
             "#8e0152"
            ],
            [
             0.1,
             "#c51b7d"
            ],
            [
             0.2,
             "#de77ae"
            ],
            [
             0.3,
             "#f1b6da"
            ],
            [
             0.4,
             "#fde0ef"
            ],
            [
             0.5,
             "#f7f7f7"
            ],
            [
             0.6,
             "#e6f5d0"
            ],
            [
             0.7,
             "#b8e186"
            ],
            [
             0.8,
             "#7fbc41"
            ],
            [
             0.9,
             "#4d9221"
            ],
            [
             1,
             "#276419"
            ]
           ],
           "sequential": [
            [
             0,
             "#0d0887"
            ],
            [
             0.1111111111111111,
             "#46039f"
            ],
            [
             0.2222222222222222,
             "#7201a8"
            ],
            [
             0.3333333333333333,
             "#9c179e"
            ],
            [
             0.4444444444444444,
             "#bd3786"
            ],
            [
             0.5555555555555556,
             "#d8576b"
            ],
            [
             0.6666666666666666,
             "#ed7953"
            ],
            [
             0.7777777777777778,
             "#fb9f3a"
            ],
            [
             0.8888888888888888,
             "#fdca26"
            ],
            [
             1,
             "#f0f921"
            ]
           ],
           "sequentialminus": [
            [
             0,
             "#0d0887"
            ],
            [
             0.1111111111111111,
             "#46039f"
            ],
            [
             0.2222222222222222,
             "#7201a8"
            ],
            [
             0.3333333333333333,
             "#9c179e"
            ],
            [
             0.4444444444444444,
             "#bd3786"
            ],
            [
             0.5555555555555556,
             "#d8576b"
            ],
            [
             0.6666666666666666,
             "#ed7953"
            ],
            [
             0.7777777777777778,
             "#fb9f3a"
            ],
            [
             0.8888888888888888,
             "#fdca26"
            ],
            [
             1,
             "#f0f921"
            ]
           ]
          },
          "colorway": [
           "#636efa",
           "#EF553B",
           "#00cc96",
           "#ab63fa",
           "#FFA15A",
           "#19d3f3",
           "#FF6692",
           "#B6E880",
           "#FF97FF",
           "#FECB52"
          ],
          "font": {
           "color": "#2a3f5f"
          },
          "geo": {
           "bgcolor": "white",
           "lakecolor": "white",
           "landcolor": "#E5ECF6",
           "showlakes": true,
           "showland": true,
           "subunitcolor": "white"
          },
          "hoverlabel": {
           "align": "left"
          },
          "hovermode": "closest",
          "mapbox": {
           "style": "light"
          },
          "paper_bgcolor": "white",
          "plot_bgcolor": "#E5ECF6",
          "polar": {
           "angularaxis": {
            "gridcolor": "white",
            "linecolor": "white",
            "ticks": ""
           },
           "bgcolor": "#E5ECF6",
           "radialaxis": {
            "gridcolor": "white",
            "linecolor": "white",
            "ticks": ""
           }
          },
          "scene": {
           "xaxis": {
            "backgroundcolor": "#E5ECF6",
            "gridcolor": "white",
            "gridwidth": 2,
            "linecolor": "white",
            "showbackground": true,
            "ticks": "",
            "zerolinecolor": "white"
           },
           "yaxis": {
            "backgroundcolor": "#E5ECF6",
            "gridcolor": "white",
            "gridwidth": 2,
            "linecolor": "white",
            "showbackground": true,
            "ticks": "",
            "zerolinecolor": "white"
           },
           "zaxis": {
            "backgroundcolor": "#E5ECF6",
            "gridcolor": "white",
            "gridwidth": 2,
            "linecolor": "white",
            "showbackground": true,
            "ticks": "",
            "zerolinecolor": "white"
           }
          },
          "shapedefaults": {
           "line": {
            "color": "#2a3f5f"
           }
          },
          "ternary": {
           "aaxis": {
            "gridcolor": "white",
            "linecolor": "white",
            "ticks": ""
           },
           "baxis": {
            "gridcolor": "white",
            "linecolor": "white",
            "ticks": ""
           },
           "bgcolor": "#E5ECF6",
           "caxis": {
            "gridcolor": "white",
            "linecolor": "white",
            "ticks": ""
           }
          },
          "title": {
           "x": 0.05
          },
          "xaxis": {
           "automargin": true,
           "gridcolor": "white",
           "linecolor": "white",
           "ticks": "",
           "title": {
            "standoff": 15
           },
           "zerolinecolor": "white",
           "zerolinewidth": 2
          },
          "yaxis": {
           "automargin": true,
           "gridcolor": "white",
           "linecolor": "white",
           "ticks": "",
           "title": {
            "standoff": 15
           },
           "zerolinecolor": "white",
           "zerolinewidth": 2
          }
         }
        },
        "title": {
         "text": "Gross Margin vs. Number of Units Sold for Top 3 and Lowest 3 Subclasses"
        },
        "width": 800,
        "xaxis": {
         "anchor": "y",
         "domain": [
          0,
          1
         ],
         "gridcolor": "LightGray",
         "gridwidth": 1,
         "showgrid": true,
         "tickformat": ".2f",
         "ticksuffix": "%",
         "title": {
          "text": "Gross Margin (%)"
         }
        },
        "yaxis": {
         "anchor": "x",
         "domain": [
          0,
          1
         ],
         "gridcolor": "LightGray",
         "gridwidth": 1,
         "showgrid": true,
         "title": {
          "text": "Number of Units Sold"
         }
        }
       }
      },
      "text/html": [
       "<div>                            <div id=\"545f9019-46b0-42b5-a2a0-681a8be9db70\" class=\"plotly-graph-div\" style=\"height:600px; width:800px;\"></div>            <script type=\"text/javascript\">                require([\"plotly\"], function(Plotly) {                    window.PLOTLYENV=window.PLOTLYENV || {};                                    if (document.getElementById(\"545f9019-46b0-42b5-a2a0-681a8be9db70\")) {                    Plotly.newPlot(                        \"545f9019-46b0-42b5-a2a0-681a8be9db70\",                        [{\"hovertemplate\":\"<b>%{hovertext}</b><br><br>Gross Margin (%)=%{x}<br>Number of Units Sold=%{y}<br>sub_class=%{text}<extra></extra>\",\"hovertext\":[\"Blouse\",\"Short Sleeve Knits\",\"Pullover Sweater\",\"Misc Fashion Tops\",\"Vest\",\"Traditional Cardigan\"],\"legendgroup\":\"\",\"marker\":{\"color\":\"#636efa\",\"symbol\":\"circle\",\"line\":{\"color\":\"DarkSlateGrey\",\"width\":1},\"size\":15},\"mode\":\"markers+text\",\"name\":\"\",\"orientation\":\"v\",\"showlegend\":false,\"text\":[\"Blouse\",\"Short Sleeve Knits\",\"Pullover Sweater\",\"Misc Fashion Tops\",\"Vest\",\"Traditional Cardigan\"],\"x\":[61.00237336873607,64.65182141440503,62.79829459122027,38.601174586225305,47.056021239468585,62.34310928753085],\"xaxis\":\"x\",\"y\":[11191,10220,8944,2,83,281],\"yaxis\":\"y\",\"type\":\"scatter\",\"textfont\":{\"size\":10},\"textposition\":\"top center\"}],                        {\"template\":{\"data\":{\"bar\":[{\"error_x\":{\"color\":\"#2a3f5f\"},\"error_y\":{\"color\":\"#2a3f5f\"},\"marker\":{\"line\":{\"color\":\"#E5ECF6\",\"width\":0.5},\"pattern\":{\"fillmode\":\"overlay\",\"size\":10,\"solidity\":0.2}},\"type\":\"bar\"}],\"barpolar\":[{\"marker\":{\"line\":{\"color\":\"#E5ECF6\",\"width\":0.5},\"pattern\":{\"fillmode\":\"overlay\",\"size\":10,\"solidity\":0.2}},\"type\":\"barpolar\"}],\"carpet\":[{\"aaxis\":{\"endlinecolor\":\"#2a3f5f\",\"gridcolor\":\"white\",\"linecolor\":\"white\",\"minorgridcolor\":\"white\",\"startlinecolor\":\"#2a3f5f\"},\"baxis\":{\"endlinecolor\":\"#2a3f5f\",\"gridcolor\":\"white\",\"linecolor\":\"white\",\"minorgridcolor\":\"white\",\"startlinecolor\":\"#2a3f5f\"},\"type\":\"carpet\"}],\"choropleth\":[{\"colorbar\":{\"outlinewidth\":0,\"ticks\":\"\"},\"type\":\"choropleth\"}],\"contour\":[{\"colorbar\":{\"outlinewidth\":0,\"ticks\":\"\"},\"colorscale\":[[0.0,\"#0d0887\"],[0.1111111111111111,\"#46039f\"],[0.2222222222222222,\"#7201a8\"],[0.3333333333333333,\"#9c179e\"],[0.4444444444444444,\"#bd3786\"],[0.5555555555555556,\"#d8576b\"],[0.6666666666666666,\"#ed7953\"],[0.7777777777777778,\"#fb9f3a\"],[0.8888888888888888,\"#fdca26\"],[1.0,\"#f0f921\"]],\"type\":\"contour\"}],\"contourcarpet\":[{\"colorbar\":{\"outlinewidth\":0,\"ticks\":\"\"},\"type\":\"contourcarpet\"}],\"heatmap\":[{\"colorbar\":{\"outlinewidth\":0,\"ticks\":\"\"},\"colorscale\":[[0.0,\"#0d0887\"],[0.1111111111111111,\"#46039f\"],[0.2222222222222222,\"#7201a8\"],[0.3333333333333333,\"#9c179e\"],[0.4444444444444444,\"#bd3786\"],[0.5555555555555556,\"#d8576b\"],[0.6666666666666666,\"#ed7953\"],[0.7777777777777778,\"#fb9f3a\"],[0.8888888888888888,\"#fdca26\"],[1.0,\"#f0f921\"]],\"type\":\"heatmap\"}],\"heatmapgl\":[{\"colorbar\":{\"outlinewidth\":0,\"ticks\":\"\"},\"colorscale\":[[0.0,\"#0d0887\"],[0.1111111111111111,\"#46039f\"],[0.2222222222222222,\"#7201a8\"],[0.3333333333333333,\"#9c179e\"],[0.4444444444444444,\"#bd3786\"],[0.5555555555555556,\"#d8576b\"],[0.6666666666666666,\"#ed7953\"],[0.7777777777777778,\"#fb9f3a\"],[0.8888888888888888,\"#fdca26\"],[1.0,\"#f0f921\"]],\"type\":\"heatmapgl\"}],\"histogram\":[{\"marker\":{\"pattern\":{\"fillmode\":\"overlay\",\"size\":10,\"solidity\":0.2}},\"type\":\"histogram\"}],\"histogram2d\":[{\"colorbar\":{\"outlinewidth\":0,\"ticks\":\"\"},\"colorscale\":[[0.0,\"#0d0887\"],[0.1111111111111111,\"#46039f\"],[0.2222222222222222,\"#7201a8\"],[0.3333333333333333,\"#9c179e\"],[0.4444444444444444,\"#bd3786\"],[0.5555555555555556,\"#d8576b\"],[0.6666666666666666,\"#ed7953\"],[0.7777777777777778,\"#fb9f3a\"],[0.8888888888888888,\"#fdca26\"],[1.0,\"#f0f921\"]],\"type\":\"histogram2d\"}],\"histogram2dcontour\":[{\"colorbar\":{\"outlinewidth\":0,\"ticks\":\"\"},\"colorscale\":[[0.0,\"#0d0887\"],[0.1111111111111111,\"#46039f\"],[0.2222222222222222,\"#7201a8\"],[0.3333333333333333,\"#9c179e\"],[0.4444444444444444,\"#bd3786\"],[0.5555555555555556,\"#d8576b\"],[0.6666666666666666,\"#ed7953\"],[0.7777777777777778,\"#fb9f3a\"],[0.8888888888888888,\"#fdca26\"],[1.0,\"#f0f921\"]],\"type\":\"histogram2dcontour\"}],\"mesh3d\":[{\"colorbar\":{\"outlinewidth\":0,\"ticks\":\"\"},\"type\":\"mesh3d\"}],\"parcoords\":[{\"line\":{\"colorbar\":{\"outlinewidth\":0,\"ticks\":\"\"}},\"type\":\"parcoords\"}],\"pie\":[{\"automargin\":true,\"type\":\"pie\"}],\"scatter\":[{\"marker\":{\"colorbar\":{\"outlinewidth\":0,\"ticks\":\"\"}},\"type\":\"scatter\"}],\"scatter3d\":[{\"line\":{\"colorbar\":{\"outlinewidth\":0,\"ticks\":\"\"}},\"marker\":{\"colorbar\":{\"outlinewidth\":0,\"ticks\":\"\"}},\"type\":\"scatter3d\"}],\"scattercarpet\":[{\"marker\":{\"colorbar\":{\"outlinewidth\":0,\"ticks\":\"\"}},\"type\":\"scattercarpet\"}],\"scattergeo\":[{\"marker\":{\"colorbar\":{\"outlinewidth\":0,\"ticks\":\"\"}},\"type\":\"scattergeo\"}],\"scattergl\":[{\"marker\":{\"colorbar\":{\"outlinewidth\":0,\"ticks\":\"\"}},\"type\":\"scattergl\"}],\"scattermapbox\":[{\"marker\":{\"colorbar\":{\"outlinewidth\":0,\"ticks\":\"\"}},\"type\":\"scattermapbox\"}],\"scatterpolar\":[{\"marker\":{\"colorbar\":{\"outlinewidth\":0,\"ticks\":\"\"}},\"type\":\"scatterpolar\"}],\"scatterpolargl\":[{\"marker\":{\"colorbar\":{\"outlinewidth\":0,\"ticks\":\"\"}},\"type\":\"scatterpolargl\"}],\"scatterternary\":[{\"marker\":{\"colorbar\":{\"outlinewidth\":0,\"ticks\":\"\"}},\"type\":\"scatterternary\"}],\"surface\":[{\"colorbar\":{\"outlinewidth\":0,\"ticks\":\"\"},\"colorscale\":[[0.0,\"#0d0887\"],[0.1111111111111111,\"#46039f\"],[0.2222222222222222,\"#7201a8\"],[0.3333333333333333,\"#9c179e\"],[0.4444444444444444,\"#bd3786\"],[0.5555555555555556,\"#d8576b\"],[0.6666666666666666,\"#ed7953\"],[0.7777777777777778,\"#fb9f3a\"],[0.8888888888888888,\"#fdca26\"],[1.0,\"#f0f921\"]],\"type\":\"surface\"}],\"table\":[{\"cells\":{\"fill\":{\"color\":\"#EBF0F8\"},\"line\":{\"color\":\"white\"}},\"header\":{\"fill\":{\"color\":\"#C8D4E3\"},\"line\":{\"color\":\"white\"}},\"type\":\"table\"}]},\"layout\":{\"annotationdefaults\":{\"arrowcolor\":\"#2a3f5f\",\"arrowhead\":0,\"arrowwidth\":1},\"autotypenumbers\":\"strict\",\"coloraxis\":{\"colorbar\":{\"outlinewidth\":0,\"ticks\":\"\"}},\"colorscale\":{\"diverging\":[[0,\"#8e0152\"],[0.1,\"#c51b7d\"],[0.2,\"#de77ae\"],[0.3,\"#f1b6da\"],[0.4,\"#fde0ef\"],[0.5,\"#f7f7f7\"],[0.6,\"#e6f5d0\"],[0.7,\"#b8e186\"],[0.8,\"#7fbc41\"],[0.9,\"#4d9221\"],[1,\"#276419\"]],\"sequential\":[[0.0,\"#0d0887\"],[0.1111111111111111,\"#46039f\"],[0.2222222222222222,\"#7201a8\"],[0.3333333333333333,\"#9c179e\"],[0.4444444444444444,\"#bd3786\"],[0.5555555555555556,\"#d8576b\"],[0.6666666666666666,\"#ed7953\"],[0.7777777777777778,\"#fb9f3a\"],[0.8888888888888888,\"#fdca26\"],[1.0,\"#f0f921\"]],\"sequentialminus\":[[0.0,\"#0d0887\"],[0.1111111111111111,\"#46039f\"],[0.2222222222222222,\"#7201a8\"],[0.3333333333333333,\"#9c179e\"],[0.4444444444444444,\"#bd3786\"],[0.5555555555555556,\"#d8576b\"],[0.6666666666666666,\"#ed7953\"],[0.7777777777777778,\"#fb9f3a\"],[0.8888888888888888,\"#fdca26\"],[1.0,\"#f0f921\"]]},\"colorway\":[\"#636efa\",\"#EF553B\",\"#00cc96\",\"#ab63fa\",\"#FFA15A\",\"#19d3f3\",\"#FF6692\",\"#B6E880\",\"#FF97FF\",\"#FECB52\"],\"font\":{\"color\":\"#2a3f5f\"},\"geo\":{\"bgcolor\":\"white\",\"lakecolor\":\"white\",\"landcolor\":\"#E5ECF6\",\"showlakes\":true,\"showland\":true,\"subunitcolor\":\"white\"},\"hoverlabel\":{\"align\":\"left\"},\"hovermode\":\"closest\",\"mapbox\":{\"style\":\"light\"},\"paper_bgcolor\":\"white\",\"plot_bgcolor\":\"#E5ECF6\",\"polar\":{\"angularaxis\":{\"gridcolor\":\"white\",\"linecolor\":\"white\",\"ticks\":\"\"},\"bgcolor\":\"#E5ECF6\",\"radialaxis\":{\"gridcolor\":\"white\",\"linecolor\":\"white\",\"ticks\":\"\"}},\"scene\":{\"xaxis\":{\"backgroundcolor\":\"#E5ECF6\",\"gridcolor\":\"white\",\"gridwidth\":2,\"linecolor\":\"white\",\"showbackground\":true,\"ticks\":\"\",\"zerolinecolor\":\"white\"},\"yaxis\":{\"backgroundcolor\":\"#E5ECF6\",\"gridcolor\":\"white\",\"gridwidth\":2,\"linecolor\":\"white\",\"showbackground\":true,\"ticks\":\"\",\"zerolinecolor\":\"white\"},\"zaxis\":{\"backgroundcolor\":\"#E5ECF6\",\"gridcolor\":\"white\",\"gridwidth\":2,\"linecolor\":\"white\",\"showbackground\":true,\"ticks\":\"\",\"zerolinecolor\":\"white\"}},\"shapedefaults\":{\"line\":{\"color\":\"#2a3f5f\"}},\"ternary\":{\"aaxis\":{\"gridcolor\":\"white\",\"linecolor\":\"white\",\"ticks\":\"\"},\"baxis\":{\"gridcolor\":\"white\",\"linecolor\":\"white\",\"ticks\":\"\"},\"bgcolor\":\"#E5ECF6\",\"caxis\":{\"gridcolor\":\"white\",\"linecolor\":\"white\",\"ticks\":\"\"}},\"title\":{\"x\":0.05},\"xaxis\":{\"automargin\":true,\"gridcolor\":\"white\",\"linecolor\":\"white\",\"ticks\":\"\",\"title\":{\"standoff\":15},\"zerolinecolor\":\"white\",\"zerolinewidth\":2},\"yaxis\":{\"automargin\":true,\"gridcolor\":\"white\",\"linecolor\":\"white\",\"ticks\":\"\",\"title\":{\"standoff\":15},\"zerolinecolor\":\"white\",\"zerolinewidth\":2}}},\"xaxis\":{\"anchor\":\"y\",\"domain\":[0.0,1.0],\"title\":{\"text\":\"Gross Margin (%)\"},\"tickformat\":\".2f\",\"ticksuffix\":\"%\",\"showgrid\":true,\"gridwidth\":1,\"gridcolor\":\"LightGray\"},\"yaxis\":{\"anchor\":\"x\",\"domain\":[0.0,1.0],\"title\":{\"text\":\"Number of Units Sold\"},\"showgrid\":true,\"gridwidth\":1,\"gridcolor\":\"LightGray\"},\"legend\":{\"tracegroupgap\":0},\"title\":{\"text\":\"Gross Margin vs. Number of Units Sold for Top 3 and Lowest 3 Subclasses\"},\"height\":600,\"width\":800,\"plot_bgcolor\":\"rgba(0, 0, 0, 0)\",\"paper_bgcolor\":\"rgba(0, 0, 0, 0)\"},                        {\"responsive\": true}                    ).then(function(){\n",
       "                            \n",
       "var gd = document.getElementById('545f9019-46b0-42b5-a2a0-681a8be9db70');\n",
       "var x = new MutationObserver(function (mutations, observer) {{\n",
       "        var display = window.getComputedStyle(gd).display;\n",
       "        if (!display || display === 'none') {{\n",
       "            console.log([gd, 'removed!']);\n",
       "            Plotly.purge(gd);\n",
       "            observer.disconnect();\n",
       "        }}\n",
       "}});\n",
       "\n",
       "// Listen for the removal of the full notebook cells\n",
       "var notebookContainer = gd.closest('#notebook-container');\n",
       "if (notebookContainer) {{\n",
       "    x.observe(notebookContainer, {childList: true});\n",
       "}}\n",
       "\n",
       "// Listen for the clearing of the current output cell\n",
       "var outputEl = gd.closest('.output');\n",
       "if (outputEl) {{\n",
       "    x.observe(outputEl, {childList: true});\n",
       "}}\n",
       "\n",
       "                        })                };                });            </script>        </div>"
      ]
     },
     "metadata": {},
     "output_type": "display_data"
    }
   ],
   "source": [
    "import plotly.graph_objects as go\n",
    "import plotly.express as px\n",
    "\n",
    "top3 = results_df3.nlargest(3, 'No. of units sold')\n",
    "lowest3 = results_df3.nsmallest(3, 'No. of units sold')\n",
    "\n",
    "combined = pd.concat([top3, lowest3])\n",
    "\n",
    "combined['gross_margin'] = combined['gross_margin'] * 100\n",
    "\n",
    "fig = px.scatter(combined, \n",
    "                 x='gross_margin', \n",
    "                 y='No. of units sold', \n",
    "                 text='sub_class', \n",
    "                 title='Gross Margin vs. Number of Units Sold for Top 3 and Lowest 3 Subclasses',\n",
    "                 labels={'gross_margin': 'Gross Margin (%)',\n",
    "                         'No. of units sold': 'Number of Units Sold'},\n",
    "                 hover_name='sub_class',\n",
    "                 hover_data=['gross_margin', 'No. of units sold'],\n",
    "                 width=800,\n",
    "                 height=600)\n",
    "\n",
    "fig.update_traces(textposition='top center', textfont_size=10, marker=dict(size=15, line=dict(width=1, color='DarkSlateGrey')))\n",
    "fig.update_layout(xaxis=dict(tickformat='.2f', ticksuffix='%'), plot_bgcolor='rgba(0, 0, 0, 0)', paper_bgcolor='rgba(0, 0, 0, 0)')\n",
    "\n",
    "# Add gridlines to the plot\n",
    "fig.update_xaxes(showgrid=True, gridwidth=1, gridcolor='LightGray')\n",
    "fig.update_yaxes(showgrid=True, gridwidth=1, gridcolor='LightGray')\n",
    "\n",
    "fig.show()\n"
   ]
  },
  {
   "cell_type": "code",
   "execution_count": 88,
   "id": "d5421453",
   "metadata": {},
   "outputs": [
    {
     "name": "stdout",
     "output_type": "stream",
     "text": [
      "                      gross_margin  No. of units sold  Perc. of units sold  \\\n",
      "sub.class.desc                                                               \n",
      "Blouse                   61.002373              11191                20.18   \n",
      "Short Sleeve Knits       64.651821              10220                18.43   \n",
      "Pullover Sweater         62.798295               8944                16.13   \n",
      "Misc Fashion Tops        38.601175                  2                 0.00   \n",
      "Vest                     47.056021                 83                 0.15   \n",
      "Traditional Cardigan     62.343109                281                 0.51   \n",
      "\n",
      "                                 sub_class  \n",
      "sub.class.desc                              \n",
      "Blouse                              Blouse  \n",
      "Short Sleeve Knits      Short Sleeve Knits  \n",
      "Pullover Sweater          Pullover Sweater  \n",
      "Misc Fashion Tops        Misc Fashion Tops  \n",
      "Vest                                  Vest  \n",
      "Traditional Cardigan  Traditional Cardigan  \n"
     ]
    }
   ],
   "source": [
    "print(combined)\n"
   ]
  },
  {
   "cell_type": "code",
   "execution_count": 89,
   "id": "501bcb29",
   "metadata": {},
   "outputs": [
    {
     "data": {
      "text/plain": [
       "store  sub.class.desc         \n",
       "3      Blouse                     14594.3538\n",
       "       Bodysuits                    497.6900\n",
       "       Button Down                 9675.7367\n",
       "       Kimono                      1031.0500\n",
       "       Long Cardigans               971.2256\n",
       "                                     ...    \n",
       "27     Sleeveless Woven Tanks      7036.5749\n",
       "       Sweater Tanks and Tanks     1692.6201\n",
       "       Sweatshirt                   860.2667\n",
       "       Traditional Cardigan         239.2700\n",
       "       Vest                          62.3300\n",
       "Length: 142, dtype: float64"
      ]
     },
     "execution_count": 89,
     "metadata": {},
     "output_type": "execute_result"
    }
   ],
   "source": [
    "profit_store_subclass_wise = merged_df.groupby(['store','sub.class.desc'])['sale.amt'].sum() - merged_df.groupby(['store','sub.class.desc'])['cost'].sum()\n",
    "profit_store_subclass_wise\n"
   ]
  },
  {
   "cell_type": "code",
   "execution_count": 90,
   "id": "e321efdb",
   "metadata": {},
   "outputs": [],
   "source": [
    "sales_store_subclasswise=merged_df.groupby(['store','sub.class.desc'])['sale.amt'].sum()\n",
    "sales_store_subclasswise\n",
    "gross_margin_store_subclass_wise = profit_store_subclass_wise / sales_store_subclasswise\n",
    "count2=merged_df.groupby(['store','sub.class.desc'])['sale.amt'].count()\n"
   ]
  },
  {
   "cell_type": "code",
   "execution_count": 91,
   "id": "46d66a1a",
   "metadata": {},
   "outputs": [
    {
     "name": "stdout",
     "output_type": "stream",
     "text": [
      "                                   profit  No. of units sold  gross_margin\n",
      "store sub.class.desc                                                      \n",
      "3     Blouse                   14594.3538                959      0.602983\n",
      "      Bodysuits                  497.6900                 38      0.588947\n",
      "      Button Down               9675.7367                553      0.636788\n",
      "      Kimono                    1031.0500                 52      0.652543\n",
      "      Long Cardigans             971.2256                 76      0.519025\n",
      "...                                   ...                ...           ...\n",
      "27    Sleeveless Woven Tanks    7036.5749                414      0.664290\n",
      "      Sweater Tanks and Tanks   1692.6201                 88      0.659685\n",
      "      Sweatshirt                 860.2667                 58      0.577414\n",
      "      Traditional Cardigan       239.2700                 15      0.594194\n",
      "      Vest                        62.3300                  3      0.637386\n",
      "\n",
      "[142 rows x 3 columns]\n"
     ]
    }
   ],
   "source": [
    "results_df4 = pd.DataFrame()\n",
    "\n",
    "# add the store column to the DataFrame\n",
    "results_df4['profit'] = profit_store_subclass_wise\n",
    "\n",
    "# add the count column to the DataFrame\n",
    "results_df4['No. of units sold'] = count2\n",
    "\n",
    "# add the gross margin column to the DataFrame\n",
    "results_df4['gross_margin'] = gross_margin_store_subclass_wise\n",
    "\n",
    "\n",
    "\n",
    "\n",
    "print(results_df4)"
   ]
  },
  {
   "cell_type": "code",
   "execution_count": 92,
   "id": "5d7597da",
   "metadata": {},
   "outputs": [
    {
     "data": {
      "text/html": [
       "<div>\n",
       "<style scoped>\n",
       "    .dataframe tbody tr th:only-of-type {\n",
       "        vertical-align: middle;\n",
       "    }\n",
       "\n",
       "    .dataframe tbody tr th {\n",
       "        vertical-align: top;\n",
       "    }\n",
       "\n",
       "    .dataframe thead th {\n",
       "        text-align: right;\n",
       "    }\n",
       "</style>\n",
       "<table border=\"1\" class=\"dataframe\">\n",
       "  <thead>\n",
       "    <tr style=\"text-align: right;\">\n",
       "      <th></th>\n",
       "      <th>store</th>\n",
       "      <th>sub.class.desc</th>\n",
       "      <th>profit</th>\n",
       "      <th>No. of units sold</th>\n",
       "      <th>gross_margin</th>\n",
       "    </tr>\n",
       "  </thead>\n",
       "  <tbody>\n",
       "    <tr>\n",
       "      <th>0</th>\n",
       "      <td>3</td>\n",
       "      <td>Sweater Tanks and Tanks</td>\n",
       "      <td>2172.9292</td>\n",
       "      <td>116</td>\n",
       "      <td>0.674749</td>\n",
       "    </tr>\n",
       "    <tr>\n",
       "      <th>1</th>\n",
       "      <td>3</td>\n",
       "      <td>Kimono</td>\n",
       "      <td>1031.0500</td>\n",
       "      <td>52</td>\n",
       "      <td>0.652543</td>\n",
       "    </tr>\n",
       "    <tr>\n",
       "      <th>2</th>\n",
       "      <td>3</td>\n",
       "      <td>Button Down</td>\n",
       "      <td>9675.7367</td>\n",
       "      <td>553</td>\n",
       "      <td>0.636788</td>\n",
       "    </tr>\n",
       "    <tr>\n",
       "      <th>3</th>\n",
       "      <td>7</td>\n",
       "      <td>Button Down</td>\n",
       "      <td>14939.0542</td>\n",
       "      <td>787</td>\n",
       "      <td>0.659685</td>\n",
       "    </tr>\n",
       "    <tr>\n",
       "      <th>4</th>\n",
       "      <td>7</td>\n",
       "      <td>Sleeveless Woven Tanks</td>\n",
       "      <td>17216.4066</td>\n",
       "      <td>1031</td>\n",
       "      <td>0.659673</td>\n",
       "    </tr>\n",
       "    <tr>\n",
       "      <th>5</th>\n",
       "      <td>7</td>\n",
       "      <td>Sweater Tanks and Tanks</td>\n",
       "      <td>3192.1888</td>\n",
       "      <td>178</td>\n",
       "      <td>0.657365</td>\n",
       "    </tr>\n",
       "    <tr>\n",
       "      <th>6</th>\n",
       "      <td>11</td>\n",
       "      <td>Kimono</td>\n",
       "      <td>625.2600</td>\n",
       "      <td>26</td>\n",
       "      <td>0.681371</td>\n",
       "    </tr>\n",
       "    <tr>\n",
       "      <th>7</th>\n",
       "      <td>11</td>\n",
       "      <td>Sleeveless Woven Tanks</td>\n",
       "      <td>8566.5931</td>\n",
       "      <td>498</td>\n",
       "      <td>0.663338</td>\n",
       "    </tr>\n",
       "    <tr>\n",
       "      <th>8</th>\n",
       "      <td>11</td>\n",
       "      <td>Sweater Tanks and Tanks</td>\n",
       "      <td>1632.6528</td>\n",
       "      <td>92</td>\n",
       "      <td>0.655589</td>\n",
       "    </tr>\n",
       "    <tr>\n",
       "      <th>9</th>\n",
       "      <td>13</td>\n",
       "      <td>Kimono</td>\n",
       "      <td>406.6700</td>\n",
       "      <td>17</td>\n",
       "      <td>0.691098</td>\n",
       "    </tr>\n",
       "    <tr>\n",
       "      <th>10</th>\n",
       "      <td>13</td>\n",
       "      <td>Sweater Tanks and Tanks</td>\n",
       "      <td>2430.9597</td>\n",
       "      <td>116</td>\n",
       "      <td>0.682220</td>\n",
       "    </tr>\n",
       "    <tr>\n",
       "      <th>11</th>\n",
       "      <td>13</td>\n",
       "      <td>Bodysuits</td>\n",
       "      <td>356.2300</td>\n",
       "      <td>19</td>\n",
       "      <td>0.671195</td>\n",
       "    </tr>\n",
       "    <tr>\n",
       "      <th>12</th>\n",
       "      <td>14</td>\n",
       "      <td>Kimono</td>\n",
       "      <td>1207.7400</td>\n",
       "      <td>50</td>\n",
       "      <td>0.691172</td>\n",
       "    </tr>\n",
       "    <tr>\n",
       "      <th>13</th>\n",
       "      <td>14</td>\n",
       "      <td>Sweater Tanks and Tanks</td>\n",
       "      <td>3465.2021</td>\n",
       "      <td>167</td>\n",
       "      <td>0.690797</td>\n",
       "    </tr>\n",
       "    <tr>\n",
       "      <th>14</th>\n",
       "      <td>14</td>\n",
       "      <td>Vest</td>\n",
       "      <td>130.2800</td>\n",
       "      <td>5</td>\n",
       "      <td>0.687929</td>\n",
       "    </tr>\n",
       "    <tr>\n",
       "      <th>15</th>\n",
       "      <td>16</td>\n",
       "      <td>Sleeveless Woven Tanks</td>\n",
       "      <td>12470.2301</td>\n",
       "      <td>705</td>\n",
       "      <td>0.670593</td>\n",
       "    </tr>\n",
       "    <tr>\n",
       "      <th>16</th>\n",
       "      <td>16</td>\n",
       "      <td>Sweater Tanks and Tanks</td>\n",
       "      <td>2232.3238</td>\n",
       "      <td>119</td>\n",
       "      <td>0.667369</td>\n",
       "    </tr>\n",
       "    <tr>\n",
       "      <th>17</th>\n",
       "      <td>16</td>\n",
       "      <td>Short Sleeve Knits</td>\n",
       "      <td>11281.5340</td>\n",
       "      <td>707</td>\n",
       "      <td>0.663924</td>\n",
       "    </tr>\n",
       "    <tr>\n",
       "      <th>18</th>\n",
       "      <td>19</td>\n",
       "      <td>Sweater Tanks and Tanks</td>\n",
       "      <td>7763.2582</td>\n",
       "      <td>384</td>\n",
       "      <td>0.687238</td>\n",
       "    </tr>\n",
       "    <tr>\n",
       "      <th>19</th>\n",
       "      <td>19</td>\n",
       "      <td>Kimono</td>\n",
       "      <td>1777.5000</td>\n",
       "      <td>80</td>\n",
       "      <td>0.670395</td>\n",
       "    </tr>\n",
       "    <tr>\n",
       "      <th>20</th>\n",
       "      <td>19</td>\n",
       "      <td>Button Down</td>\n",
       "      <td>26059.3160</td>\n",
       "      <td>1372</td>\n",
       "      <td>0.657599</td>\n",
       "    </tr>\n",
       "    <tr>\n",
       "      <th>21</th>\n",
       "      <td>20</td>\n",
       "      <td>Sweater Tanks and Tanks</td>\n",
       "      <td>4908.2716</td>\n",
       "      <td>256</td>\n",
       "      <td>0.675217</td>\n",
       "    </tr>\n",
       "    <tr>\n",
       "      <th>22</th>\n",
       "      <td>20</td>\n",
       "      <td>Sleeveless Woven Tanks</td>\n",
       "      <td>20640.1677</td>\n",
       "      <td>1225</td>\n",
       "      <td>0.662916</td>\n",
       "    </tr>\n",
       "    <tr>\n",
       "      <th>23</th>\n",
       "      <td>20</td>\n",
       "      <td>Button Down</td>\n",
       "      <td>15839.0317</td>\n",
       "      <td>837</td>\n",
       "      <td>0.656712</td>\n",
       "    </tr>\n",
       "    <tr>\n",
       "      <th>24</th>\n",
       "      <td>21</td>\n",
       "      <td>Kimono</td>\n",
       "      <td>1486.7300</td>\n",
       "      <td>66</td>\n",
       "      <td>0.680382</td>\n",
       "    </tr>\n",
       "    <tr>\n",
       "      <th>25</th>\n",
       "      <td>21</td>\n",
       "      <td>Sweater Tanks and Tanks</td>\n",
       "      <td>3795.8745</td>\n",
       "      <td>191</td>\n",
       "      <td>0.680183</td>\n",
       "    </tr>\n",
       "    <tr>\n",
       "      <th>26</th>\n",
       "      <td>21</td>\n",
       "      <td>Short Sleeve Knits</td>\n",
       "      <td>19413.0626</td>\n",
       "      <td>1197</td>\n",
       "      <td>0.665008</td>\n",
       "    </tr>\n",
       "    <tr>\n",
       "      <th>27</th>\n",
       "      <td>27</td>\n",
       "      <td>Kimono</td>\n",
       "      <td>574.4300</td>\n",
       "      <td>24</td>\n",
       "      <td>0.680250</td>\n",
       "    </tr>\n",
       "    <tr>\n",
       "      <th>28</th>\n",
       "      <td>27</td>\n",
       "      <td>Sleeveless Woven Tanks</td>\n",
       "      <td>7036.5749</td>\n",
       "      <td>414</td>\n",
       "      <td>0.664290</td>\n",
       "    </tr>\n",
       "    <tr>\n",
       "      <th>29</th>\n",
       "      <td>27</td>\n",
       "      <td>Bodysuits</td>\n",
       "      <td>349.3100</td>\n",
       "      <td>20</td>\n",
       "      <td>0.660271</td>\n",
       "    </tr>\n",
       "  </tbody>\n",
       "</table>\n",
       "</div>"
      ],
      "text/plain": [
       "    store           sub.class.desc      profit  No. of units sold  \\\n",
       "0       3  Sweater Tanks and Tanks   2172.9292                116   \n",
       "1       3                   Kimono   1031.0500                 52   \n",
       "2       3              Button Down   9675.7367                553   \n",
       "3       7              Button Down  14939.0542                787   \n",
       "4       7   Sleeveless Woven Tanks  17216.4066               1031   \n",
       "5       7  Sweater Tanks and Tanks   3192.1888                178   \n",
       "6      11                   Kimono    625.2600                 26   \n",
       "7      11   Sleeveless Woven Tanks   8566.5931                498   \n",
       "8      11  Sweater Tanks and Tanks   1632.6528                 92   \n",
       "9      13                   Kimono    406.6700                 17   \n",
       "10     13  Sweater Tanks and Tanks   2430.9597                116   \n",
       "11     13                Bodysuits    356.2300                 19   \n",
       "12     14                   Kimono   1207.7400                 50   \n",
       "13     14  Sweater Tanks and Tanks   3465.2021                167   \n",
       "14     14                     Vest    130.2800                  5   \n",
       "15     16   Sleeveless Woven Tanks  12470.2301                705   \n",
       "16     16  Sweater Tanks and Tanks   2232.3238                119   \n",
       "17     16       Short Sleeve Knits  11281.5340                707   \n",
       "18     19  Sweater Tanks and Tanks   7763.2582                384   \n",
       "19     19                   Kimono   1777.5000                 80   \n",
       "20     19              Button Down  26059.3160               1372   \n",
       "21     20  Sweater Tanks and Tanks   4908.2716                256   \n",
       "22     20   Sleeveless Woven Tanks  20640.1677               1225   \n",
       "23     20              Button Down  15839.0317                837   \n",
       "24     21                   Kimono   1486.7300                 66   \n",
       "25     21  Sweater Tanks and Tanks   3795.8745                191   \n",
       "26     21       Short Sleeve Knits  19413.0626               1197   \n",
       "27     27                   Kimono    574.4300                 24   \n",
       "28     27   Sleeveless Woven Tanks   7036.5749                414   \n",
       "29     27                Bodysuits    349.3100                 20   \n",
       "\n",
       "    gross_margin  \n",
       "0       0.674749  \n",
       "1       0.652543  \n",
       "2       0.636788  \n",
       "3       0.659685  \n",
       "4       0.659673  \n",
       "5       0.657365  \n",
       "6       0.681371  \n",
       "7       0.663338  \n",
       "8       0.655589  \n",
       "9       0.691098  \n",
       "10      0.682220  \n",
       "11      0.671195  \n",
       "12      0.691172  \n",
       "13      0.690797  \n",
       "14      0.687929  \n",
       "15      0.670593  \n",
       "16      0.667369  \n",
       "17      0.663924  \n",
       "18      0.687238  \n",
       "19      0.670395  \n",
       "20      0.657599  \n",
       "21      0.675217  \n",
       "22      0.662916  \n",
       "23      0.656712  \n",
       "24      0.680382  \n",
       "25      0.680183  \n",
       "26      0.665008  \n",
       "27      0.680250  \n",
       "28      0.664290  \n",
       "29      0.660271  "
      ]
     },
     "execution_count": 92,
     "metadata": {},
     "output_type": "execute_result"
    }
   ],
   "source": [
    "top3_df = results_df4.groupby(['store']).apply(lambda x: x.nlargest(3, 'gross_margin')).reset_index(level=1, drop=True).reset_index()\n",
    "top3_df"
   ]
  },
  {
   "cell_type": "code",
   "execution_count": 93,
   "id": "bc4d2d10",
   "metadata": {},
   "outputs": [
    {
     "data": {
      "text/html": [
       "<div>\n",
       "<style scoped>\n",
       "    .dataframe tbody tr th:only-of-type {\n",
       "        vertical-align: middle;\n",
       "    }\n",
       "\n",
       "    .dataframe tbody tr th {\n",
       "        vertical-align: top;\n",
       "    }\n",
       "\n",
       "    .dataframe thead th {\n",
       "        text-align: right;\n",
       "    }\n",
       "</style>\n",
       "<table border=\"1\" class=\"dataframe\">\n",
       "  <thead>\n",
       "    <tr style=\"text-align: right;\">\n",
       "      <th></th>\n",
       "      <th>store</th>\n",
       "      <th>sub.class.desc</th>\n",
       "      <th>profit</th>\n",
       "      <th>No. of units sold</th>\n",
       "      <th>gross_margin</th>\n",
       "    </tr>\n",
       "  </thead>\n",
       "  <tbody>\n",
       "    <tr>\n",
       "      <th>0</th>\n",
       "      <td>3</td>\n",
       "      <td>Vest</td>\n",
       "      <td>41.1100</td>\n",
       "      <td>14</td>\n",
       "      <td>0.197692</td>\n",
       "    </tr>\n",
       "    <tr>\n",
       "      <th>1</th>\n",
       "      <td>3</td>\n",
       "      <td>Traditional Cardigan</td>\n",
       "      <td>178.0500</td>\n",
       "      <td>17</td>\n",
       "      <td>0.491444</td>\n",
       "    </tr>\n",
       "    <tr>\n",
       "      <th>2</th>\n",
       "      <td>3</td>\n",
       "      <td>Long Cardigans</td>\n",
       "      <td>971.2256</td>\n",
       "      <td>76</td>\n",
       "      <td>0.519025</td>\n",
       "    </tr>\n",
       "    <tr>\n",
       "      <th>3</th>\n",
       "      <td>7</td>\n",
       "      <td>Vest</td>\n",
       "      <td>85.3100</td>\n",
       "      <td>11</td>\n",
       "      <td>0.392014</td>\n",
       "    </tr>\n",
       "    <tr>\n",
       "      <th>4</th>\n",
       "      <td>7</td>\n",
       "      <td>Short Cardigans</td>\n",
       "      <td>3981.0773</td>\n",
       "      <td>249</td>\n",
       "      <td>0.561360</td>\n",
       "    </tr>\n",
       "    <tr>\n",
       "      <th>5</th>\n",
       "      <td>7</td>\n",
       "      <td>Sweatshirt</td>\n",
       "      <td>1031.8250</td>\n",
       "      <td>74</td>\n",
       "      <td>0.568176</td>\n",
       "    </tr>\n",
       "    <tr>\n",
       "      <th>6</th>\n",
       "      <td>11</td>\n",
       "      <td>Vest</td>\n",
       "      <td>91.9600</td>\n",
       "      <td>10</td>\n",
       "      <td>0.436160</td>\n",
       "    </tr>\n",
       "    <tr>\n",
       "      <th>7</th>\n",
       "      <td>11</td>\n",
       "      <td>Sweatshirt</td>\n",
       "      <td>844.7148</td>\n",
       "      <td>60</td>\n",
       "      <td>0.556752</td>\n",
       "    </tr>\n",
       "    <tr>\n",
       "      <th>8</th>\n",
       "      <td>11</td>\n",
       "      <td>Blouse</td>\n",
       "      <td>13808.2174</td>\n",
       "      <td>961</td>\n",
       "      <td>0.585576</td>\n",
       "    </tr>\n",
       "    <tr>\n",
       "      <th>9</th>\n",
       "      <td>13</td>\n",
       "      <td>Vest</td>\n",
       "      <td>3.4000</td>\n",
       "      <td>1</td>\n",
       "      <td>0.213836</td>\n",
       "    </tr>\n",
       "    <tr>\n",
       "      <th>10</th>\n",
       "      <td>13</td>\n",
       "      <td>Sweatshirt</td>\n",
       "      <td>473.3100</td>\n",
       "      <td>34</td>\n",
       "      <td>0.562046</td>\n",
       "    </tr>\n",
       "    <tr>\n",
       "      <th>11</th>\n",
       "      <td>13</td>\n",
       "      <td>Traditional Cardigan</td>\n",
       "      <td>236.6100</td>\n",
       "      <td>16</td>\n",
       "      <td>0.578438</td>\n",
       "    </tr>\n",
       "    <tr>\n",
       "      <th>12</th>\n",
       "      <td>14</td>\n",
       "      <td>Short Cardigans</td>\n",
       "      <td>2884.8879</td>\n",
       "      <td>207</td>\n",
       "      <td>0.526222</td>\n",
       "    </tr>\n",
       "    <tr>\n",
       "      <th>13</th>\n",
       "      <td>14</td>\n",
       "      <td>Long Cardigans</td>\n",
       "      <td>1722.4800</td>\n",
       "      <td>116</td>\n",
       "      <td>0.558434</td>\n",
       "    </tr>\n",
       "    <tr>\n",
       "      <th>14</th>\n",
       "      <td>14</td>\n",
       "      <td>Sweatshirt</td>\n",
       "      <td>1131.5093</td>\n",
       "      <td>82</td>\n",
       "      <td>0.558643</td>\n",
       "    </tr>\n",
       "    <tr>\n",
       "      <th>15</th>\n",
       "      <td>16</td>\n",
       "      <td>Vest</td>\n",
       "      <td>23.7200</td>\n",
       "      <td>2</td>\n",
       "      <td>0.495612</td>\n",
       "    </tr>\n",
       "    <tr>\n",
       "      <th>16</th>\n",
       "      <td>16</td>\n",
       "      <td>Sweatshirt</td>\n",
       "      <td>815.4520</td>\n",
       "      <td>56</td>\n",
       "      <td>0.573684</td>\n",
       "    </tr>\n",
       "    <tr>\n",
       "      <th>17</th>\n",
       "      <td>16</td>\n",
       "      <td>Short Cardigans</td>\n",
       "      <td>1909.5107</td>\n",
       "      <td>101</td>\n",
       "      <td>0.599455</td>\n",
       "    </tr>\n",
       "    <tr>\n",
       "      <th>18</th>\n",
       "      <td>19</td>\n",
       "      <td>Vest</td>\n",
       "      <td>257.3600</td>\n",
       "      <td>18</td>\n",
       "      <td>0.545277</td>\n",
       "    </tr>\n",
       "    <tr>\n",
       "      <th>19</th>\n",
       "      <td>19</td>\n",
       "      <td>Sweatshirt</td>\n",
       "      <td>1559.6256</td>\n",
       "      <td>104</td>\n",
       "      <td>0.582898</td>\n",
       "    </tr>\n",
       "    <tr>\n",
       "      <th>20</th>\n",
       "      <td>19</td>\n",
       "      <td>Short Cardigans</td>\n",
       "      <td>5969.1724</td>\n",
       "      <td>332</td>\n",
       "      <td>0.584937</td>\n",
       "    </tr>\n",
       "    <tr>\n",
       "      <th>21</th>\n",
       "      <td>20</td>\n",
       "      <td>Vest</td>\n",
       "      <td>32.7700</td>\n",
       "      <td>11</td>\n",
       "      <td>0.200465</td>\n",
       "    </tr>\n",
       "    <tr>\n",
       "      <th>22</th>\n",
       "      <td>20</td>\n",
       "      <td>Sweatshirt</td>\n",
       "      <td>1583.6018</td>\n",
       "      <td>111</td>\n",
       "      <td>0.567063</td>\n",
       "    </tr>\n",
       "    <tr>\n",
       "      <th>23</th>\n",
       "      <td>20</td>\n",
       "      <td>Short Cardigans</td>\n",
       "      <td>5936.3101</td>\n",
       "      <td>341</td>\n",
       "      <td>0.585119</td>\n",
       "    </tr>\n",
       "    <tr>\n",
       "      <th>24</th>\n",
       "      <td>21</td>\n",
       "      <td>Misc Fashion Tops</td>\n",
       "      <td>-2.0000</td>\n",
       "      <td>1</td>\n",
       "      <td>-0.533333</td>\n",
       "    </tr>\n",
       "    <tr>\n",
       "      <th>25</th>\n",
       "      <td>21</td>\n",
       "      <td>Sweatshirt</td>\n",
       "      <td>1123.1041</td>\n",
       "      <td>84</td>\n",
       "      <td>0.551528</td>\n",
       "    </tr>\n",
       "    <tr>\n",
       "      <th>26</th>\n",
       "      <td>21</td>\n",
       "      <td>Blouse</td>\n",
       "      <td>15391.6089</td>\n",
       "      <td>969</td>\n",
       "      <td>0.614505</td>\n",
       "    </tr>\n",
       "    <tr>\n",
       "      <th>27</th>\n",
       "      <td>27</td>\n",
       "      <td>Long Cardigans</td>\n",
       "      <td>821.9813</td>\n",
       "      <td>58</td>\n",
       "      <td>0.541504</td>\n",
       "    </tr>\n",
       "    <tr>\n",
       "      <th>28</th>\n",
       "      <td>27</td>\n",
       "      <td>Short Cardigans</td>\n",
       "      <td>2283.4990</td>\n",
       "      <td>147</td>\n",
       "      <td>0.549164</td>\n",
       "    </tr>\n",
       "    <tr>\n",
       "      <th>29</th>\n",
       "      <td>27</td>\n",
       "      <td>Sweatshirt</td>\n",
       "      <td>860.2667</td>\n",
       "      <td>58</td>\n",
       "      <td>0.577414</td>\n",
       "    </tr>\n",
       "  </tbody>\n",
       "</table>\n",
       "</div>"
      ],
      "text/plain": [
       "    store        sub.class.desc      profit  No. of units sold  gross_margin\n",
       "0       3                  Vest     41.1100                 14      0.197692\n",
       "1       3  Traditional Cardigan    178.0500                 17      0.491444\n",
       "2       3        Long Cardigans    971.2256                 76      0.519025\n",
       "3       7                  Vest     85.3100                 11      0.392014\n",
       "4       7       Short Cardigans   3981.0773                249      0.561360\n",
       "5       7            Sweatshirt   1031.8250                 74      0.568176\n",
       "6      11                  Vest     91.9600                 10      0.436160\n",
       "7      11            Sweatshirt    844.7148                 60      0.556752\n",
       "8      11                Blouse  13808.2174                961      0.585576\n",
       "9      13                  Vest      3.4000                  1      0.213836\n",
       "10     13            Sweatshirt    473.3100                 34      0.562046\n",
       "11     13  Traditional Cardigan    236.6100                 16      0.578438\n",
       "12     14       Short Cardigans   2884.8879                207      0.526222\n",
       "13     14        Long Cardigans   1722.4800                116      0.558434\n",
       "14     14            Sweatshirt   1131.5093                 82      0.558643\n",
       "15     16                  Vest     23.7200                  2      0.495612\n",
       "16     16            Sweatshirt    815.4520                 56      0.573684\n",
       "17     16       Short Cardigans   1909.5107                101      0.599455\n",
       "18     19                  Vest    257.3600                 18      0.545277\n",
       "19     19            Sweatshirt   1559.6256                104      0.582898\n",
       "20     19       Short Cardigans   5969.1724                332      0.584937\n",
       "21     20                  Vest     32.7700                 11      0.200465\n",
       "22     20            Sweatshirt   1583.6018                111      0.567063\n",
       "23     20       Short Cardigans   5936.3101                341      0.585119\n",
       "24     21     Misc Fashion Tops     -2.0000                  1     -0.533333\n",
       "25     21            Sweatshirt   1123.1041                 84      0.551528\n",
       "26     21                Blouse  15391.6089                969      0.614505\n",
       "27     27        Long Cardigans    821.9813                 58      0.541504\n",
       "28     27       Short Cardigans   2283.4990                147      0.549164\n",
       "29     27            Sweatshirt    860.2667                 58      0.577414"
      ]
     },
     "execution_count": 93,
     "metadata": {},
     "output_type": "execute_result"
    }
   ],
   "source": [
    "bottom3_df = results_df4.groupby(['store']).apply(lambda x: x.nsmallest(3, 'gross_margin')).reset_index(level=1, drop=True).reset_index()\n",
    "bottom3_df"
   ]
  },
  {
   "cell_type": "code",
   "execution_count": 94,
   "id": "0438334d",
   "metadata": {},
   "outputs": [
    {
     "data": {
      "application/vnd.plotly.v1+json": {
       "config": {
        "plotlyServerURL": "https://plot.ly"
       },
       "data": [
        {
         "legendgroup": "Kimono",
         "marker": {
          "color": "#FEE0D2"
         },
         "name": "Kimono",
         "showlegend": true,
         "type": "bar",
         "x": [
          "Store 14"
         ],
         "xaxis": "x",
         "y": [
          0.6911719259691653
         ],
         "yaxis": "y"
        },
        {
         "legendgroup": "Sweater Tanks and Tanks",
         "marker": {
          "color": "#FBB4B9"
         },
         "name": "Sweater Tanks and Tanks",
         "showlegend": true,
         "type": "bar",
         "x": [
          "Store 14"
         ],
         "xaxis": "x",
         "y": [
          0.6907967122785194
         ],
         "yaxis": "y"
        },
        {
         "legendgroup": "Vest",
         "marker": {
          "color": "#F768A1"
         },
         "name": "Vest",
         "showlegend": true,
         "type": "bar",
         "x": [
          "Store 14"
         ],
         "xaxis": "x",
         "y": [
          0.687929031576724
         ],
         "yaxis": "y"
        },
        {
         "legendgroup": "Misc Fashion Tops",
         "marker": {
          "color": "#FEE0D2"
         },
         "name": "Misc Fashion Tops",
         "showlegend": false,
         "type": "bar",
         "x": [
          "Store 21"
         ],
         "xaxis": "x2",
         "y": [
          -0.5333333333333333
         ],
         "yaxis": "y2"
        },
        {
         "legendgroup": "Sweatshirt",
         "marker": {
          "color": "#FBB4B9"
         },
         "name": "Sweatshirt",
         "showlegend": false,
         "type": "bar",
         "x": [
          "Store 21"
         ],
         "xaxis": "x2",
         "y": [
          0.5515280280894739
         ],
         "yaxis": "y2"
        },
        {
         "legendgroup": "Blouse",
         "marker": {
          "color": "#F768A1"
         },
         "name": "Blouse",
         "showlegend": false,
         "type": "bar",
         "x": [
          "Store 21"
         ],
         "xaxis": "x2",
         "y": [
          0.6145049081393228
         ],
         "yaxis": "y2"
        },
        {
         "cells": {
          "align": "center",
          "fill": {
           "color": "rgba(255, 255, 179, 0.5)"
          },
          "font": {
           "size": 10
          },
          "values": [
           [
            14,
            14,
            14,
            21,
            21,
            21
           ],
           [
            "Kimono",
            "Sweater Tanks and Tanks",
            "Vest",
            "Misc Fashion Tops",
            "Sweatshirt",
            "Blouse"
           ],
           [
            50,
            167,
            5,
            1,
            84,
            969
           ]
          ]
         },
         "domain": {
          "x": [
           0.8266666666666667,
           1
          ],
          "y": [
           0,
           1
          ]
         },
         "header": {
          "align": "center",
          "fill": {
           "color": "rgba(245, 245, 245, 1)"
          },
          "values": [
           "Store",
           "Subclass",
           "Units Sold"
          ]
         },
         "type": "table"
        }
       ],
       "layout": {
        "annotations": [
         {
          "font": {
           "size": 16
          },
          "showarrow": false,
          "text": "Store 14 (Highest)",
          "x": 0.17333333333333334,
          "xanchor": "center",
          "xref": "paper",
          "y": 1,
          "yanchor": "bottom",
          "yref": "paper"
         },
         {
          "font": {
           "size": 16
          },
          "showarrow": false,
          "text": "Store 21 (Lowest)",
          "x": 0.5866666666666667,
          "xanchor": "center",
          "xref": "paper",
          "y": 1,
          "yanchor": "bottom",
          "yref": "paper"
         },
         {
          "font": {
           "size": 16
          },
          "showarrow": false,
          "text": "Units Sold",
          "x": 0.9133333333333333,
          "xanchor": "center",
          "xref": "paper",
          "y": 1,
          "yanchor": "bottom",
          "yref": "paper"
         }
        ],
        "barmode": "group",
        "template": {
         "data": {
          "bar": [
           {
            "error_x": {
             "color": "#2a3f5f"
            },
            "error_y": {
             "color": "#2a3f5f"
            },
            "marker": {
             "line": {
              "color": "#E5ECF6",
              "width": 0.5
             },
             "pattern": {
              "fillmode": "overlay",
              "size": 10,
              "solidity": 0.2
             }
            },
            "type": "bar"
           }
          ],
          "barpolar": [
           {
            "marker": {
             "line": {
              "color": "#E5ECF6",
              "width": 0.5
             },
             "pattern": {
              "fillmode": "overlay",
              "size": 10,
              "solidity": 0.2
             }
            },
            "type": "barpolar"
           }
          ],
          "carpet": [
           {
            "aaxis": {
             "endlinecolor": "#2a3f5f",
             "gridcolor": "white",
             "linecolor": "white",
             "minorgridcolor": "white",
             "startlinecolor": "#2a3f5f"
            },
            "baxis": {
             "endlinecolor": "#2a3f5f",
             "gridcolor": "white",
             "linecolor": "white",
             "minorgridcolor": "white",
             "startlinecolor": "#2a3f5f"
            },
            "type": "carpet"
           }
          ],
          "choropleth": [
           {
            "colorbar": {
             "outlinewidth": 0,
             "ticks": ""
            },
            "type": "choropleth"
           }
          ],
          "contour": [
           {
            "colorbar": {
             "outlinewidth": 0,
             "ticks": ""
            },
            "colorscale": [
             [
              0,
              "#0d0887"
             ],
             [
              0.1111111111111111,
              "#46039f"
             ],
             [
              0.2222222222222222,
              "#7201a8"
             ],
             [
              0.3333333333333333,
              "#9c179e"
             ],
             [
              0.4444444444444444,
              "#bd3786"
             ],
             [
              0.5555555555555556,
              "#d8576b"
             ],
             [
              0.6666666666666666,
              "#ed7953"
             ],
             [
              0.7777777777777778,
              "#fb9f3a"
             ],
             [
              0.8888888888888888,
              "#fdca26"
             ],
             [
              1,
              "#f0f921"
             ]
            ],
            "type": "contour"
           }
          ],
          "contourcarpet": [
           {
            "colorbar": {
             "outlinewidth": 0,
             "ticks": ""
            },
            "type": "contourcarpet"
           }
          ],
          "heatmap": [
           {
            "colorbar": {
             "outlinewidth": 0,
             "ticks": ""
            },
            "colorscale": [
             [
              0,
              "#0d0887"
             ],
             [
              0.1111111111111111,
              "#46039f"
             ],
             [
              0.2222222222222222,
              "#7201a8"
             ],
             [
              0.3333333333333333,
              "#9c179e"
             ],
             [
              0.4444444444444444,
              "#bd3786"
             ],
             [
              0.5555555555555556,
              "#d8576b"
             ],
             [
              0.6666666666666666,
              "#ed7953"
             ],
             [
              0.7777777777777778,
              "#fb9f3a"
             ],
             [
              0.8888888888888888,
              "#fdca26"
             ],
             [
              1,
              "#f0f921"
             ]
            ],
            "type": "heatmap"
           }
          ],
          "heatmapgl": [
           {
            "colorbar": {
             "outlinewidth": 0,
             "ticks": ""
            },
            "colorscale": [
             [
              0,
              "#0d0887"
             ],
             [
              0.1111111111111111,
              "#46039f"
             ],
             [
              0.2222222222222222,
              "#7201a8"
             ],
             [
              0.3333333333333333,
              "#9c179e"
             ],
             [
              0.4444444444444444,
              "#bd3786"
             ],
             [
              0.5555555555555556,
              "#d8576b"
             ],
             [
              0.6666666666666666,
              "#ed7953"
             ],
             [
              0.7777777777777778,
              "#fb9f3a"
             ],
             [
              0.8888888888888888,
              "#fdca26"
             ],
             [
              1,
              "#f0f921"
             ]
            ],
            "type": "heatmapgl"
           }
          ],
          "histogram": [
           {
            "marker": {
             "pattern": {
              "fillmode": "overlay",
              "size": 10,
              "solidity": 0.2
             }
            },
            "type": "histogram"
           }
          ],
          "histogram2d": [
           {
            "colorbar": {
             "outlinewidth": 0,
             "ticks": ""
            },
            "colorscale": [
             [
              0,
              "#0d0887"
             ],
             [
              0.1111111111111111,
              "#46039f"
             ],
             [
              0.2222222222222222,
              "#7201a8"
             ],
             [
              0.3333333333333333,
              "#9c179e"
             ],
             [
              0.4444444444444444,
              "#bd3786"
             ],
             [
              0.5555555555555556,
              "#d8576b"
             ],
             [
              0.6666666666666666,
              "#ed7953"
             ],
             [
              0.7777777777777778,
              "#fb9f3a"
             ],
             [
              0.8888888888888888,
              "#fdca26"
             ],
             [
              1,
              "#f0f921"
             ]
            ],
            "type": "histogram2d"
           }
          ],
          "histogram2dcontour": [
           {
            "colorbar": {
             "outlinewidth": 0,
             "ticks": ""
            },
            "colorscale": [
             [
              0,
              "#0d0887"
             ],
             [
              0.1111111111111111,
              "#46039f"
             ],
             [
              0.2222222222222222,
              "#7201a8"
             ],
             [
              0.3333333333333333,
              "#9c179e"
             ],
             [
              0.4444444444444444,
              "#bd3786"
             ],
             [
              0.5555555555555556,
              "#d8576b"
             ],
             [
              0.6666666666666666,
              "#ed7953"
             ],
             [
              0.7777777777777778,
              "#fb9f3a"
             ],
             [
              0.8888888888888888,
              "#fdca26"
             ],
             [
              1,
              "#f0f921"
             ]
            ],
            "type": "histogram2dcontour"
           }
          ],
          "mesh3d": [
           {
            "colorbar": {
             "outlinewidth": 0,
             "ticks": ""
            },
            "type": "mesh3d"
           }
          ],
          "parcoords": [
           {
            "line": {
             "colorbar": {
              "outlinewidth": 0,
              "ticks": ""
             }
            },
            "type": "parcoords"
           }
          ],
          "pie": [
           {
            "automargin": true,
            "type": "pie"
           }
          ],
          "scatter": [
           {
            "marker": {
             "colorbar": {
              "outlinewidth": 0,
              "ticks": ""
             }
            },
            "type": "scatter"
           }
          ],
          "scatter3d": [
           {
            "line": {
             "colorbar": {
              "outlinewidth": 0,
              "ticks": ""
             }
            },
            "marker": {
             "colorbar": {
              "outlinewidth": 0,
              "ticks": ""
             }
            },
            "type": "scatter3d"
           }
          ],
          "scattercarpet": [
           {
            "marker": {
             "colorbar": {
              "outlinewidth": 0,
              "ticks": ""
             }
            },
            "type": "scattercarpet"
           }
          ],
          "scattergeo": [
           {
            "marker": {
             "colorbar": {
              "outlinewidth": 0,
              "ticks": ""
             }
            },
            "type": "scattergeo"
           }
          ],
          "scattergl": [
           {
            "marker": {
             "colorbar": {
              "outlinewidth": 0,
              "ticks": ""
             }
            },
            "type": "scattergl"
           }
          ],
          "scattermapbox": [
           {
            "marker": {
             "colorbar": {
              "outlinewidth": 0,
              "ticks": ""
             }
            },
            "type": "scattermapbox"
           }
          ],
          "scatterpolar": [
           {
            "marker": {
             "colorbar": {
              "outlinewidth": 0,
              "ticks": ""
             }
            },
            "type": "scatterpolar"
           }
          ],
          "scatterpolargl": [
           {
            "marker": {
             "colorbar": {
              "outlinewidth": 0,
              "ticks": ""
             }
            },
            "type": "scatterpolargl"
           }
          ],
          "scatterternary": [
           {
            "marker": {
             "colorbar": {
              "outlinewidth": 0,
              "ticks": ""
             }
            },
            "type": "scatterternary"
           }
          ],
          "surface": [
           {
            "colorbar": {
             "outlinewidth": 0,
             "ticks": ""
            },
            "colorscale": [
             [
              0,
              "#0d0887"
             ],
             [
              0.1111111111111111,
              "#46039f"
             ],
             [
              0.2222222222222222,
              "#7201a8"
             ],
             [
              0.3333333333333333,
              "#9c179e"
             ],
             [
              0.4444444444444444,
              "#bd3786"
             ],
             [
              0.5555555555555556,
              "#d8576b"
             ],
             [
              0.6666666666666666,
              "#ed7953"
             ],
             [
              0.7777777777777778,
              "#fb9f3a"
             ],
             [
              0.8888888888888888,
              "#fdca26"
             ],
             [
              1,
              "#f0f921"
             ]
            ],
            "type": "surface"
           }
          ],
          "table": [
           {
            "cells": {
             "fill": {
              "color": "#EBF0F8"
             },
             "line": {
              "color": "white"
             }
            },
            "header": {
             "fill": {
              "color": "#C8D4E3"
             },
             "line": {
              "color": "white"
             }
            },
            "type": "table"
           }
          ]
         },
         "layout": {
          "annotationdefaults": {
           "arrowcolor": "#2a3f5f",
           "arrowhead": 0,
           "arrowwidth": 1
          },
          "autotypenumbers": "strict",
          "coloraxis": {
           "colorbar": {
            "outlinewidth": 0,
            "ticks": ""
           }
          },
          "colorscale": {
           "diverging": [
            [
             0,
             "#8e0152"
            ],
            [
             0.1,
             "#c51b7d"
            ],
            [
             0.2,
             "#de77ae"
            ],
            [
             0.3,
             "#f1b6da"
            ],
            [
             0.4,
             "#fde0ef"
            ],
            [
             0.5,
             "#f7f7f7"
            ],
            [
             0.6,
             "#e6f5d0"
            ],
            [
             0.7,
             "#b8e186"
            ],
            [
             0.8,
             "#7fbc41"
            ],
            [
             0.9,
             "#4d9221"
            ],
            [
             1,
             "#276419"
            ]
           ],
           "sequential": [
            [
             0,
             "#0d0887"
            ],
            [
             0.1111111111111111,
             "#46039f"
            ],
            [
             0.2222222222222222,
             "#7201a8"
            ],
            [
             0.3333333333333333,
             "#9c179e"
            ],
            [
             0.4444444444444444,
             "#bd3786"
            ],
            [
             0.5555555555555556,
             "#d8576b"
            ],
            [
             0.6666666666666666,
             "#ed7953"
            ],
            [
             0.7777777777777778,
             "#fb9f3a"
            ],
            [
             0.8888888888888888,
             "#fdca26"
            ],
            [
             1,
             "#f0f921"
            ]
           ],
           "sequentialminus": [
            [
             0,
             "#0d0887"
            ],
            [
             0.1111111111111111,
             "#46039f"
            ],
            [
             0.2222222222222222,
             "#7201a8"
            ],
            [
             0.3333333333333333,
             "#9c179e"
            ],
            [
             0.4444444444444444,
             "#bd3786"
            ],
            [
             0.5555555555555556,
             "#d8576b"
            ],
            [
             0.6666666666666666,
             "#ed7953"
            ],
            [
             0.7777777777777778,
             "#fb9f3a"
            ],
            [
             0.8888888888888888,
             "#fdca26"
            ],
            [
             1,
             "#f0f921"
            ]
           ]
          },
          "colorway": [
           "#636efa",
           "#EF553B",
           "#00cc96",
           "#ab63fa",
           "#FFA15A",
           "#19d3f3",
           "#FF6692",
           "#B6E880",
           "#FF97FF",
           "#FECB52"
          ],
          "font": {
           "color": "#2a3f5f"
          },
          "geo": {
           "bgcolor": "white",
           "lakecolor": "white",
           "landcolor": "#E5ECF6",
           "showlakes": true,
           "showland": true,
           "subunitcolor": "white"
          },
          "hoverlabel": {
           "align": "left"
          },
          "hovermode": "closest",
          "mapbox": {
           "style": "light"
          },
          "paper_bgcolor": "white",
          "plot_bgcolor": "#E5ECF6",
          "polar": {
           "angularaxis": {
            "gridcolor": "white",
            "linecolor": "white",
            "ticks": ""
           },
           "bgcolor": "#E5ECF6",
           "radialaxis": {
            "gridcolor": "white",
            "linecolor": "white",
            "ticks": ""
           }
          },
          "scene": {
           "xaxis": {
            "backgroundcolor": "#E5ECF6",
            "gridcolor": "white",
            "gridwidth": 2,
            "linecolor": "white",
            "showbackground": true,
            "ticks": "",
            "zerolinecolor": "white"
           },
           "yaxis": {
            "backgroundcolor": "#E5ECF6",
            "gridcolor": "white",
            "gridwidth": 2,
            "linecolor": "white",
            "showbackground": true,
            "ticks": "",
            "zerolinecolor": "white"
           },
           "zaxis": {
            "backgroundcolor": "#E5ECF6",
            "gridcolor": "white",
            "gridwidth": 2,
            "linecolor": "white",
            "showbackground": true,
            "ticks": "",
            "zerolinecolor": "white"
           }
          },
          "shapedefaults": {
           "line": {
            "color": "#2a3f5f"
           }
          },
          "ternary": {
           "aaxis": {
            "gridcolor": "white",
            "linecolor": "white",
            "ticks": ""
           },
           "baxis": {
            "gridcolor": "white",
            "linecolor": "white",
            "ticks": ""
           },
           "bgcolor": "#E5ECF6",
           "caxis": {
            "gridcolor": "white",
            "linecolor": "white",
            "ticks": ""
           }
          },
          "title": {
           "x": 0.05
          },
          "xaxis": {
           "automargin": true,
           "gridcolor": "white",
           "linecolor": "white",
           "ticks": "",
           "title": {
            "standoff": 15
           },
           "zerolinecolor": "white",
           "zerolinewidth": 2
          },
          "yaxis": {
           "automargin": true,
           "gridcolor": "white",
           "linecolor": "white",
           "ticks": "",
           "title": {
            "standoff": 15
           },
           "zerolinecolor": "white",
           "zerolinewidth": 2
          }
         }
        },
        "title": {
         "text": "Highest and Lowest Gross Margin Stores"
        },
        "xaxis": {
         "anchor": "y",
         "domain": [
          0,
          0.3466666666666667
         ]
        },
        "xaxis2": {
         "anchor": "y2",
         "domain": [
          0.41333333333333333,
          0.76
         ]
        },
        "yaxis": {
         "anchor": "x",
         "domain": [
          0,
          1
         ],
         "title": {
          "text": "Gross Margin"
         }
        },
        "yaxis2": {
         "anchor": "x2",
         "domain": [
          0,
          1
         ]
        }
       }
      },
      "text/html": [
       "<div>                            <div id=\"aac35389-2d0a-4932-954e-6f946feb65ad\" class=\"plotly-graph-div\" style=\"height:525px; width:100%;\"></div>            <script type=\"text/javascript\">                require([\"plotly\"], function(Plotly) {                    window.PLOTLYENV=window.PLOTLYENV || {};                                    if (document.getElementById(\"aac35389-2d0a-4932-954e-6f946feb65ad\")) {                    Plotly.newPlot(                        \"aac35389-2d0a-4932-954e-6f946feb65ad\",                        [{\"legendgroup\":\"Kimono\",\"marker\":{\"color\":\"#FEE0D2\"},\"name\":\"Kimono\",\"showlegend\":true,\"x\":[\"Store 14\"],\"y\":[0.6911719259691653],\"type\":\"bar\",\"xaxis\":\"x\",\"yaxis\":\"y\"},{\"legendgroup\":\"Sweater Tanks and Tanks\",\"marker\":{\"color\":\"#FBB4B9\"},\"name\":\"Sweater Tanks and Tanks\",\"showlegend\":true,\"x\":[\"Store 14\"],\"y\":[0.6907967122785194],\"type\":\"bar\",\"xaxis\":\"x\",\"yaxis\":\"y\"},{\"legendgroup\":\"Vest\",\"marker\":{\"color\":\"#F768A1\"},\"name\":\"Vest\",\"showlegend\":true,\"x\":[\"Store 14\"],\"y\":[0.687929031576724],\"type\":\"bar\",\"xaxis\":\"x\",\"yaxis\":\"y\"},{\"legendgroup\":\"Misc Fashion Tops\",\"marker\":{\"color\":\"#FEE0D2\"},\"name\":\"Misc Fashion Tops\",\"showlegend\":false,\"x\":[\"Store 21\"],\"y\":[-0.5333333333333333],\"type\":\"bar\",\"xaxis\":\"x2\",\"yaxis\":\"y2\"},{\"legendgroup\":\"Sweatshirt\",\"marker\":{\"color\":\"#FBB4B9\"},\"name\":\"Sweatshirt\",\"showlegend\":false,\"x\":[\"Store 21\"],\"y\":[0.5515280280894739],\"type\":\"bar\",\"xaxis\":\"x2\",\"yaxis\":\"y2\"},{\"legendgroup\":\"Blouse\",\"marker\":{\"color\":\"#F768A1\"},\"name\":\"Blouse\",\"showlegend\":false,\"x\":[\"Store 21\"],\"y\":[0.6145049081393228],\"type\":\"bar\",\"xaxis\":\"x2\",\"yaxis\":\"y2\"},{\"cells\":{\"align\":\"center\",\"fill\":{\"color\":\"rgba(255, 255, 179, 0.5)\"},\"font\":{\"size\":10},\"values\":[[14,14,14,21,21,21],[\"Kimono\",\"Sweater Tanks and Tanks\",\"Vest\",\"Misc Fashion Tops\",\"Sweatshirt\",\"Blouse\"],[50,167,5,1,84,969]]},\"header\":{\"align\":\"center\",\"fill\":{\"color\":\"rgba(245, 245, 245, 1)\"},\"values\":[\"Store\",\"Subclass\",\"Units Sold\"]},\"type\":\"table\",\"domain\":{\"x\":[0.8266666666666667,1.0],\"y\":[0.0,1.0]}}],                        {\"template\":{\"data\":{\"bar\":[{\"error_x\":{\"color\":\"#2a3f5f\"},\"error_y\":{\"color\":\"#2a3f5f\"},\"marker\":{\"line\":{\"color\":\"#E5ECF6\",\"width\":0.5},\"pattern\":{\"fillmode\":\"overlay\",\"size\":10,\"solidity\":0.2}},\"type\":\"bar\"}],\"barpolar\":[{\"marker\":{\"line\":{\"color\":\"#E5ECF6\",\"width\":0.5},\"pattern\":{\"fillmode\":\"overlay\",\"size\":10,\"solidity\":0.2}},\"type\":\"barpolar\"}],\"carpet\":[{\"aaxis\":{\"endlinecolor\":\"#2a3f5f\",\"gridcolor\":\"white\",\"linecolor\":\"white\",\"minorgridcolor\":\"white\",\"startlinecolor\":\"#2a3f5f\"},\"baxis\":{\"endlinecolor\":\"#2a3f5f\",\"gridcolor\":\"white\",\"linecolor\":\"white\",\"minorgridcolor\":\"white\",\"startlinecolor\":\"#2a3f5f\"},\"type\":\"carpet\"}],\"choropleth\":[{\"colorbar\":{\"outlinewidth\":0,\"ticks\":\"\"},\"type\":\"choropleth\"}],\"contour\":[{\"colorbar\":{\"outlinewidth\":0,\"ticks\":\"\"},\"colorscale\":[[0.0,\"#0d0887\"],[0.1111111111111111,\"#46039f\"],[0.2222222222222222,\"#7201a8\"],[0.3333333333333333,\"#9c179e\"],[0.4444444444444444,\"#bd3786\"],[0.5555555555555556,\"#d8576b\"],[0.6666666666666666,\"#ed7953\"],[0.7777777777777778,\"#fb9f3a\"],[0.8888888888888888,\"#fdca26\"],[1.0,\"#f0f921\"]],\"type\":\"contour\"}],\"contourcarpet\":[{\"colorbar\":{\"outlinewidth\":0,\"ticks\":\"\"},\"type\":\"contourcarpet\"}],\"heatmap\":[{\"colorbar\":{\"outlinewidth\":0,\"ticks\":\"\"},\"colorscale\":[[0.0,\"#0d0887\"],[0.1111111111111111,\"#46039f\"],[0.2222222222222222,\"#7201a8\"],[0.3333333333333333,\"#9c179e\"],[0.4444444444444444,\"#bd3786\"],[0.5555555555555556,\"#d8576b\"],[0.6666666666666666,\"#ed7953\"],[0.7777777777777778,\"#fb9f3a\"],[0.8888888888888888,\"#fdca26\"],[1.0,\"#f0f921\"]],\"type\":\"heatmap\"}],\"heatmapgl\":[{\"colorbar\":{\"outlinewidth\":0,\"ticks\":\"\"},\"colorscale\":[[0.0,\"#0d0887\"],[0.1111111111111111,\"#46039f\"],[0.2222222222222222,\"#7201a8\"],[0.3333333333333333,\"#9c179e\"],[0.4444444444444444,\"#bd3786\"],[0.5555555555555556,\"#d8576b\"],[0.6666666666666666,\"#ed7953\"],[0.7777777777777778,\"#fb9f3a\"],[0.8888888888888888,\"#fdca26\"],[1.0,\"#f0f921\"]],\"type\":\"heatmapgl\"}],\"histogram\":[{\"marker\":{\"pattern\":{\"fillmode\":\"overlay\",\"size\":10,\"solidity\":0.2}},\"type\":\"histogram\"}],\"histogram2d\":[{\"colorbar\":{\"outlinewidth\":0,\"ticks\":\"\"},\"colorscale\":[[0.0,\"#0d0887\"],[0.1111111111111111,\"#46039f\"],[0.2222222222222222,\"#7201a8\"],[0.3333333333333333,\"#9c179e\"],[0.4444444444444444,\"#bd3786\"],[0.5555555555555556,\"#d8576b\"],[0.6666666666666666,\"#ed7953\"],[0.7777777777777778,\"#fb9f3a\"],[0.8888888888888888,\"#fdca26\"],[1.0,\"#f0f921\"]],\"type\":\"histogram2d\"}],\"histogram2dcontour\":[{\"colorbar\":{\"outlinewidth\":0,\"ticks\":\"\"},\"colorscale\":[[0.0,\"#0d0887\"],[0.1111111111111111,\"#46039f\"],[0.2222222222222222,\"#7201a8\"],[0.3333333333333333,\"#9c179e\"],[0.4444444444444444,\"#bd3786\"],[0.5555555555555556,\"#d8576b\"],[0.6666666666666666,\"#ed7953\"],[0.7777777777777778,\"#fb9f3a\"],[0.8888888888888888,\"#fdca26\"],[1.0,\"#f0f921\"]],\"type\":\"histogram2dcontour\"}],\"mesh3d\":[{\"colorbar\":{\"outlinewidth\":0,\"ticks\":\"\"},\"type\":\"mesh3d\"}],\"parcoords\":[{\"line\":{\"colorbar\":{\"outlinewidth\":0,\"ticks\":\"\"}},\"type\":\"parcoords\"}],\"pie\":[{\"automargin\":true,\"type\":\"pie\"}],\"scatter\":[{\"marker\":{\"colorbar\":{\"outlinewidth\":0,\"ticks\":\"\"}},\"type\":\"scatter\"}],\"scatter3d\":[{\"line\":{\"colorbar\":{\"outlinewidth\":0,\"ticks\":\"\"}},\"marker\":{\"colorbar\":{\"outlinewidth\":0,\"ticks\":\"\"}},\"type\":\"scatter3d\"}],\"scattercarpet\":[{\"marker\":{\"colorbar\":{\"outlinewidth\":0,\"ticks\":\"\"}},\"type\":\"scattercarpet\"}],\"scattergeo\":[{\"marker\":{\"colorbar\":{\"outlinewidth\":0,\"ticks\":\"\"}},\"type\":\"scattergeo\"}],\"scattergl\":[{\"marker\":{\"colorbar\":{\"outlinewidth\":0,\"ticks\":\"\"}},\"type\":\"scattergl\"}],\"scattermapbox\":[{\"marker\":{\"colorbar\":{\"outlinewidth\":0,\"ticks\":\"\"}},\"type\":\"scattermapbox\"}],\"scatterpolar\":[{\"marker\":{\"colorbar\":{\"outlinewidth\":0,\"ticks\":\"\"}},\"type\":\"scatterpolar\"}],\"scatterpolargl\":[{\"marker\":{\"colorbar\":{\"outlinewidth\":0,\"ticks\":\"\"}},\"type\":\"scatterpolargl\"}],\"scatterternary\":[{\"marker\":{\"colorbar\":{\"outlinewidth\":0,\"ticks\":\"\"}},\"type\":\"scatterternary\"}],\"surface\":[{\"colorbar\":{\"outlinewidth\":0,\"ticks\":\"\"},\"colorscale\":[[0.0,\"#0d0887\"],[0.1111111111111111,\"#46039f\"],[0.2222222222222222,\"#7201a8\"],[0.3333333333333333,\"#9c179e\"],[0.4444444444444444,\"#bd3786\"],[0.5555555555555556,\"#d8576b\"],[0.6666666666666666,\"#ed7953\"],[0.7777777777777778,\"#fb9f3a\"],[0.8888888888888888,\"#fdca26\"],[1.0,\"#f0f921\"]],\"type\":\"surface\"}],\"table\":[{\"cells\":{\"fill\":{\"color\":\"#EBF0F8\"},\"line\":{\"color\":\"white\"}},\"header\":{\"fill\":{\"color\":\"#C8D4E3\"},\"line\":{\"color\":\"white\"}},\"type\":\"table\"}]},\"layout\":{\"annotationdefaults\":{\"arrowcolor\":\"#2a3f5f\",\"arrowhead\":0,\"arrowwidth\":1},\"autotypenumbers\":\"strict\",\"coloraxis\":{\"colorbar\":{\"outlinewidth\":0,\"ticks\":\"\"}},\"colorscale\":{\"diverging\":[[0,\"#8e0152\"],[0.1,\"#c51b7d\"],[0.2,\"#de77ae\"],[0.3,\"#f1b6da\"],[0.4,\"#fde0ef\"],[0.5,\"#f7f7f7\"],[0.6,\"#e6f5d0\"],[0.7,\"#b8e186\"],[0.8,\"#7fbc41\"],[0.9,\"#4d9221\"],[1,\"#276419\"]],\"sequential\":[[0.0,\"#0d0887\"],[0.1111111111111111,\"#46039f\"],[0.2222222222222222,\"#7201a8\"],[0.3333333333333333,\"#9c179e\"],[0.4444444444444444,\"#bd3786\"],[0.5555555555555556,\"#d8576b\"],[0.6666666666666666,\"#ed7953\"],[0.7777777777777778,\"#fb9f3a\"],[0.8888888888888888,\"#fdca26\"],[1.0,\"#f0f921\"]],\"sequentialminus\":[[0.0,\"#0d0887\"],[0.1111111111111111,\"#46039f\"],[0.2222222222222222,\"#7201a8\"],[0.3333333333333333,\"#9c179e\"],[0.4444444444444444,\"#bd3786\"],[0.5555555555555556,\"#d8576b\"],[0.6666666666666666,\"#ed7953\"],[0.7777777777777778,\"#fb9f3a\"],[0.8888888888888888,\"#fdca26\"],[1.0,\"#f0f921\"]]},\"colorway\":[\"#636efa\",\"#EF553B\",\"#00cc96\",\"#ab63fa\",\"#FFA15A\",\"#19d3f3\",\"#FF6692\",\"#B6E880\",\"#FF97FF\",\"#FECB52\"],\"font\":{\"color\":\"#2a3f5f\"},\"geo\":{\"bgcolor\":\"white\",\"lakecolor\":\"white\",\"landcolor\":\"#E5ECF6\",\"showlakes\":true,\"showland\":true,\"subunitcolor\":\"white\"},\"hoverlabel\":{\"align\":\"left\"},\"hovermode\":\"closest\",\"mapbox\":{\"style\":\"light\"},\"paper_bgcolor\":\"white\",\"plot_bgcolor\":\"#E5ECF6\",\"polar\":{\"angularaxis\":{\"gridcolor\":\"white\",\"linecolor\":\"white\",\"ticks\":\"\"},\"bgcolor\":\"#E5ECF6\",\"radialaxis\":{\"gridcolor\":\"white\",\"linecolor\":\"white\",\"ticks\":\"\"}},\"scene\":{\"xaxis\":{\"backgroundcolor\":\"#E5ECF6\",\"gridcolor\":\"white\",\"gridwidth\":2,\"linecolor\":\"white\",\"showbackground\":true,\"ticks\":\"\",\"zerolinecolor\":\"white\"},\"yaxis\":{\"backgroundcolor\":\"#E5ECF6\",\"gridcolor\":\"white\",\"gridwidth\":2,\"linecolor\":\"white\",\"showbackground\":true,\"ticks\":\"\",\"zerolinecolor\":\"white\"},\"zaxis\":{\"backgroundcolor\":\"#E5ECF6\",\"gridcolor\":\"white\",\"gridwidth\":2,\"linecolor\":\"white\",\"showbackground\":true,\"ticks\":\"\",\"zerolinecolor\":\"white\"}},\"shapedefaults\":{\"line\":{\"color\":\"#2a3f5f\"}},\"ternary\":{\"aaxis\":{\"gridcolor\":\"white\",\"linecolor\":\"white\",\"ticks\":\"\"},\"baxis\":{\"gridcolor\":\"white\",\"linecolor\":\"white\",\"ticks\":\"\"},\"bgcolor\":\"#E5ECF6\",\"caxis\":{\"gridcolor\":\"white\",\"linecolor\":\"white\",\"ticks\":\"\"}},\"title\":{\"x\":0.05},\"xaxis\":{\"automargin\":true,\"gridcolor\":\"white\",\"linecolor\":\"white\",\"ticks\":\"\",\"title\":{\"standoff\":15},\"zerolinecolor\":\"white\",\"zerolinewidth\":2},\"yaxis\":{\"automargin\":true,\"gridcolor\":\"white\",\"linecolor\":\"white\",\"ticks\":\"\",\"title\":{\"standoff\":15},\"zerolinecolor\":\"white\",\"zerolinewidth\":2}}},\"xaxis\":{\"anchor\":\"y\",\"domain\":[0.0,0.3466666666666667]},\"yaxis\":{\"anchor\":\"x\",\"domain\":[0.0,1.0],\"title\":{\"text\":\"Gross Margin\"}},\"xaxis2\":{\"anchor\":\"y2\",\"domain\":[0.41333333333333333,0.76]},\"yaxis2\":{\"anchor\":\"x2\",\"domain\":[0.0,1.0]},\"annotations\":[{\"font\":{\"size\":16},\"showarrow\":false,\"text\":\"Store 14 (Highest)\",\"x\":0.17333333333333334,\"xanchor\":\"center\",\"xref\":\"paper\",\"y\":1.0,\"yanchor\":\"bottom\",\"yref\":\"paper\"},{\"font\":{\"size\":16},\"showarrow\":false,\"text\":\"Store 21 (Lowest)\",\"x\":0.5866666666666667,\"xanchor\":\"center\",\"xref\":\"paper\",\"y\":1.0,\"yanchor\":\"bottom\",\"yref\":\"paper\"},{\"font\":{\"size\":16},\"showarrow\":false,\"text\":\"Units Sold\",\"x\":0.9133333333333333,\"xanchor\":\"center\",\"xref\":\"paper\",\"y\":1.0,\"yanchor\":\"bottom\",\"yref\":\"paper\"}],\"title\":{\"text\":\"Highest and Lowest Gross Margin Stores\"},\"barmode\":\"group\"},                        {\"responsive\": true}                    ).then(function(){\n",
       "                            \n",
       "var gd = document.getElementById('aac35389-2d0a-4932-954e-6f946feb65ad');\n",
       "var x = new MutationObserver(function (mutations, observer) {{\n",
       "        var display = window.getComputedStyle(gd).display;\n",
       "        if (!display || display === 'none') {{\n",
       "            console.log([gd, 'removed!']);\n",
       "            Plotly.purge(gd);\n",
       "            observer.disconnect();\n",
       "        }}\n",
       "}});\n",
       "\n",
       "// Listen for the removal of the full notebook cells\n",
       "var notebookContainer = gd.closest('#notebook-container');\n",
       "if (notebookContainer) {{\n",
       "    x.observe(notebookContainer, {childList: true});\n",
       "}}\n",
       "\n",
       "// Listen for the clearing of the current output cell\n",
       "var outputEl = gd.closest('.output');\n",
       "if (outputEl) {{\n",
       "    x.observe(outputEl, {childList: true});\n",
       "}}\n",
       "\n",
       "                        })                };                });            </script>        </div>"
      ]
     },
     "metadata": {},
     "output_type": "display_data"
    }
   ],
   "source": [
    "import pandas as pd\n",
    "import plotly.graph_objs as go\n",
    "from plotly.subplots import make_subplots\n",
    "\n",
    "# Assuming your dataframes are already created: top3_df and bottom3_df\n",
    "\n",
    "# Find the store with the highest gross margin\n",
    "highest_margin_store = top3_df.loc[top3_df['gross_margin'].idxmax()]['store']\n",
    "\n",
    "# Filter the top3_df for the highest margin store\n",
    "highest_store_df = top3_df[top3_df['store'] == highest_margin_store]\n",
    "\n",
    "# Find the store with the lowest gross margin\n",
    "lowest_margin_store = bottom3_df.loc[bottom3_df['gross_margin'].idxmin()]['store']\n",
    "\n",
    "# Filter the bottom3_df for the lowest margin store\n",
    "lowest_store_df = bottom3_df[bottom3_df['store'] == lowest_margin_store]\n",
    "\n",
    "# Merge the highest and lowest margin store data\n",
    "combined_df = pd.concat([highest_store_df, lowest_store_df])\n",
    "\n",
    "# Create a grouped bar chart with 1 row and 3 columns (2 for bar chart and 1 for table)\n",
    "fig = make_subplots(rows=1, cols=3, column_widths=[0.4, 0.4, 0.2], specs=[[{'type': 'xy'}, {'type': 'xy'}, {'type': 'domain'}]], subplot_titles=(f\"Store {highest_margin_store} (Highest)\",\n",
    "                                                    f\"Store {lowest_margin_store} (Lowest)\", \"Units Sold\"))\n",
    "\n",
    "# Define the color scale\n",
    "color_scale = ['#FEE0D2', '#FBB4B9', '#F768A1']\n",
    "\n",
    "# Add traces for each store and subclass\n",
    "for index, (store, store_df) in enumerate(combined_df.groupby(\"store\")):\n",
    "    for idx, row in store_df.iterrows():\n",
    "        fig.add_trace(go.Bar(x=[f\"Store {row['store']}\"],\n",
    "                             y=[row['gross_margin']],\n",
    "                             name=row['sub.class.desc'],\n",
    "                             marker=dict(color=color_scale[idx % 3]),\n",
    "                             legendgroup=row['sub.class.desc'],\n",
    "                             showlegend=index == 0),\n",
    "                      row=1, col=index + 1)\n",
    "\n",
    "# Update the layout\n",
    "fig.update_layout(title=\"Highest and Lowest Gross Margin Stores\",\n",
    "                  yaxis_title=\"Gross Margin\",\n",
    "                  barmode='group')\n",
    "\n",
    "# Add a table with No. of units sold\n",
    "# Add a table with No. of units sold\n",
    "fig.add_trace(go.Table(header=dict(values=['Store', 'Subclass', 'Units Sold'],\n",
    "                                    fill_color='rgba(245, 245, 245, 1)',\n",
    "                                    align='center'),\n",
    "                        cells=dict(values=[combined_df['store'],\n",
    "                                           combined_df['sub.class.desc'],\n",
    "                                           combined_df['No. of units sold']],\n",
    "                                   fill_color='rgba(255, 255, 179, 0.5)',\n",
    "                                   align='center',\n",
    "                                   font=dict(size=10)),  # Set the font size to 10\n",
    "                        ),\n",
    "              row=1, col=3)\n",
    "\n",
    "\n",
    "# Show the figure\n",
    "fig.show()\n"
   ]
  },
  {
   "cell_type": "code",
   "execution_count": 95,
   "id": "abed9f2b",
   "metadata": {},
   "outputs": [
    {
     "name": "stdout",
     "output_type": "stream",
     "text": [
      "    store           sub.class.desc      profit  No. of units sold  \\\n",
      "12     14                   Kimono   1207.7400                 50   \n",
      "13     14  Sweater Tanks and Tanks   3465.2021                167   \n",
      "14     14                     Vest    130.2800                  5   \n",
      "24     21        Misc Fashion Tops     -2.0000                  1   \n",
      "25     21               Sweatshirt   1123.1041                 84   \n",
      "26     21                   Blouse  15391.6089                969   \n",
      "\n",
      "    gross_margin  \n",
      "12      0.691172  \n",
      "13      0.690797  \n",
      "14      0.687929  \n",
      "24     -0.533333  \n",
      "25      0.551528  \n",
      "26      0.614505  \n"
     ]
    }
   ],
   "source": [
    "print(combined_df)\n"
   ]
  },
  {
   "cell_type": "code",
   "execution_count": 96,
   "id": "b9693693",
   "metadata": {},
   "outputs": [
    {
     "data": {
      "text/html": [
       "<div>\n",
       "<style scoped>\n",
       "    .dataframe tbody tr th:only-of-type {\n",
       "        vertical-align: middle;\n",
       "    }\n",
       "\n",
       "    .dataframe tbody tr th {\n",
       "        vertical-align: top;\n",
       "    }\n",
       "\n",
       "    .dataframe thead th {\n",
       "        text-align: right;\n",
       "    }\n",
       "</style>\n",
       "<table border=\"1\" class=\"dataframe\">\n",
       "  <thead>\n",
       "    <tr style=\"text-align: right;\">\n",
       "      <th></th>\n",
       "      <th></th>\n",
       "      <th>sales</th>\n",
       "      <th>Units sold</th>\n",
       "      <th>Percent_of_store_units_sold</th>\n",
       "    </tr>\n",
       "    <tr>\n",
       "      <th>store</th>\n",
       "      <th>sub.class.desc</th>\n",
       "      <th></th>\n",
       "      <th></th>\n",
       "      <th></th>\n",
       "    </tr>\n",
       "  </thead>\n",
       "  <tbody>\n",
       "    <tr>\n",
       "      <th rowspan=\"5\" valign=\"top\">3</th>\n",
       "      <th>Blouse</th>\n",
       "      <td>24203.61</td>\n",
       "      <td>959</td>\n",
       "      <td>23.11</td>\n",
       "    </tr>\n",
       "    <tr>\n",
       "      <th>Bodysuits</th>\n",
       "      <td>845.05</td>\n",
       "      <td>38</td>\n",
       "      <td>0.92</td>\n",
       "    </tr>\n",
       "    <tr>\n",
       "      <th>Button Down</th>\n",
       "      <td>15194.59</td>\n",
       "      <td>553</td>\n",
       "      <td>13.33</td>\n",
       "    </tr>\n",
       "    <tr>\n",
       "      <th>Kimono</th>\n",
       "      <td>1580.05</td>\n",
       "      <td>52</td>\n",
       "      <td>1.25</td>\n",
       "    </tr>\n",
       "    <tr>\n",
       "      <th>Long Cardigans</th>\n",
       "      <td>1871.25</td>\n",
       "      <td>76</td>\n",
       "      <td>1.83</td>\n",
       "    </tr>\n",
       "    <tr>\n",
       "      <th>...</th>\n",
       "      <th>...</th>\n",
       "      <td>...</td>\n",
       "      <td>...</td>\n",
       "      <td>...</td>\n",
       "    </tr>\n",
       "    <tr>\n",
       "      <th rowspan=\"5\" valign=\"top\">27</th>\n",
       "      <th>Sleeveless Woven Tanks</th>\n",
       "      <td>10592.62</td>\n",
       "      <td>414</td>\n",
       "      <td>12.09</td>\n",
       "    </tr>\n",
       "    <tr>\n",
       "      <th>Sweater Tanks and Tanks</th>\n",
       "      <td>2565.80</td>\n",
       "      <td>88</td>\n",
       "      <td>2.57</td>\n",
       "    </tr>\n",
       "    <tr>\n",
       "      <th>Sweatshirt</th>\n",
       "      <td>1489.86</td>\n",
       "      <td>58</td>\n",
       "      <td>1.69</td>\n",
       "    </tr>\n",
       "    <tr>\n",
       "      <th>Traditional Cardigan</th>\n",
       "      <td>402.68</td>\n",
       "      <td>15</td>\n",
       "      <td>0.44</td>\n",
       "    </tr>\n",
       "    <tr>\n",
       "      <th>Vest</th>\n",
       "      <td>97.79</td>\n",
       "      <td>3</td>\n",
       "      <td>0.09</td>\n",
       "    </tr>\n",
       "  </tbody>\n",
       "</table>\n",
       "<p>142 rows × 3 columns</p>\n",
       "</div>"
      ],
      "text/plain": [
       "                                  sales  Units sold  \\\n",
       "store sub.class.desc                                  \n",
       "3     Blouse                   24203.61         959   \n",
       "      Bodysuits                  845.05          38   \n",
       "      Button Down              15194.59         553   \n",
       "      Kimono                    1580.05          52   \n",
       "      Long Cardigans            1871.25          76   \n",
       "...                                 ...         ...   \n",
       "27    Sleeveless Woven Tanks   10592.62         414   \n",
       "      Sweater Tanks and Tanks   2565.80          88   \n",
       "      Sweatshirt                1489.86          58   \n",
       "      Traditional Cardigan       402.68          15   \n",
       "      Vest                        97.79           3   \n",
       "\n",
       "                               Percent_of_store_units_sold  \n",
       "store sub.class.desc                                        \n",
       "3     Blouse                                         23.11  \n",
       "      Bodysuits                                       0.92  \n",
       "      Button Down                                    13.33  \n",
       "      Kimono                                          1.25  \n",
       "      Long Cardigans                                  1.83  \n",
       "...                                                    ...  \n",
       "27    Sleeveless Woven Tanks                         12.09  \n",
       "      Sweater Tanks and Tanks                         2.57  \n",
       "      Sweatshirt                                      1.69  \n",
       "      Traditional Cardigan                            0.44  \n",
       "      Vest                                            0.09  \n",
       "\n",
       "[142 rows x 3 columns]"
      ]
     },
     "execution_count": 96,
     "metadata": {},
     "output_type": "execute_result"
    }
   ],
   "source": [
    "#Top 5 items saleswise in each store\n",
    "sales_store_subclasswise=merged_df.groupby(['store','sub.class.desc'])['sale.amt'].sum()\n",
    "count3=merged_df.groupby(['store','sub.class.desc'])['sale.amt'].count()\n",
    "store_count=merged_df.groupby(['store'])['sale.amt'].count()\n",
    "perc=round((count3/store_count)*100,2)           \n",
    "results_df5 = pd.DataFrame()\n",
    "\n",
    "# add the sales column to the DataFrame\n",
    "results_df5['sales'] = sales_store_subclasswise\n",
    "results_df5['Units sold'] = count3\n",
    "results_df5['Percent_of_store_units_sold'] = perc\n",
    "results_df5"
   ]
  },
  {
   "cell_type": "code",
   "execution_count": 97,
   "id": "0b65e193",
   "metadata": {},
   "outputs": [
    {
     "data": {
      "text/plain": [
       "store\n",
       "3     4149\n",
       "7     7246\n",
       "11    4217\n",
       "13    2910\n",
       "14    6519\n",
       "16    3787\n",
       "19    9036\n",
       "20    8133\n",
       "21    6025\n",
       "27    3423\n",
       "Name: sale.amt, dtype: int64"
      ]
     },
     "execution_count": 97,
     "metadata": {},
     "output_type": "execute_result"
    }
   ],
   "source": [
    "store_count"
   ]
  },
  {
   "cell_type": "code",
   "execution_count": 98,
   "id": "86c721d1",
   "metadata": {},
   "outputs": [
    {
     "data": {
      "text/html": [
       "<div>\n",
       "<style scoped>\n",
       "    .dataframe tbody tr th:only-of-type {\n",
       "        vertical-align: middle;\n",
       "    }\n",
       "\n",
       "    .dataframe tbody tr th {\n",
       "        vertical-align: top;\n",
       "    }\n",
       "\n",
       "    .dataframe thead th {\n",
       "        text-align: right;\n",
       "    }\n",
       "</style>\n",
       "<table border=\"1\" class=\"dataframe\">\n",
       "  <thead>\n",
       "    <tr style=\"text-align: right;\">\n",
       "      <th></th>\n",
       "      <th>store</th>\n",
       "      <th>sub.class.desc</th>\n",
       "      <th>sales</th>\n",
       "      <th>Units sold</th>\n",
       "      <th>Percent_of_store_units_sold</th>\n",
       "    </tr>\n",
       "  </thead>\n",
       "  <tbody>\n",
       "    <tr>\n",
       "      <th>0</th>\n",
       "      <td>3</td>\n",
       "      <td>Blouse</td>\n",
       "      <td>24203.61</td>\n",
       "      <td>959</td>\n",
       "      <td>23.11</td>\n",
       "    </tr>\n",
       "    <tr>\n",
       "      <th>1</th>\n",
       "      <td>3</td>\n",
       "      <td>Pullover Sweater</td>\n",
       "      <td>16104.40</td>\n",
       "      <td>580</td>\n",
       "      <td>13.98</td>\n",
       "    </tr>\n",
       "    <tr>\n",
       "      <th>2</th>\n",
       "      <td>3</td>\n",
       "      <td>Sleeveless Woven Tanks</td>\n",
       "      <td>15916.28</td>\n",
       "      <td>694</td>\n",
       "      <td>16.73</td>\n",
       "    </tr>\n",
       "    <tr>\n",
       "      <th>3</th>\n",
       "      <td>3</td>\n",
       "      <td>Button Down</td>\n",
       "      <td>15194.59</td>\n",
       "      <td>553</td>\n",
       "      <td>13.33</td>\n",
       "    </tr>\n",
       "    <tr>\n",
       "      <th>4</th>\n",
       "      <td>3</td>\n",
       "      <td>Short Sleeve Knits</td>\n",
       "      <td>14664.77</td>\n",
       "      <td>676</td>\n",
       "      <td>16.29</td>\n",
       "    </tr>\n",
       "    <tr>\n",
       "      <th>5</th>\n",
       "      <td>7</td>\n",
       "      <td>Blouse</td>\n",
       "      <td>41477.43</td>\n",
       "      <td>1590</td>\n",
       "      <td>21.94</td>\n",
       "    </tr>\n",
       "    <tr>\n",
       "      <th>6</th>\n",
       "      <td>7</td>\n",
       "      <td>Pullover Sweater</td>\n",
       "      <td>40637.30</td>\n",
       "      <td>1338</td>\n",
       "      <td>18.47</td>\n",
       "    </tr>\n",
       "    <tr>\n",
       "      <th>7</th>\n",
       "      <td>7</td>\n",
       "      <td>Short Sleeve Knits</td>\n",
       "      <td>30475.53</td>\n",
       "      <td>1328</td>\n",
       "      <td>18.33</td>\n",
       "    </tr>\n",
       "    <tr>\n",
       "      <th>8</th>\n",
       "      <td>7</td>\n",
       "      <td>Sleeveless Woven Tanks</td>\n",
       "      <td>26098.39</td>\n",
       "      <td>1031</td>\n",
       "      <td>14.23</td>\n",
       "    </tr>\n",
       "    <tr>\n",
       "      <th>9</th>\n",
       "      <td>7</td>\n",
       "      <td>Button Down</td>\n",
       "      <td>22645.74</td>\n",
       "      <td>787</td>\n",
       "      <td>10.86</td>\n",
       "    </tr>\n",
       "    <tr>\n",
       "      <th>10</th>\n",
       "      <td>11</td>\n",
       "      <td>Blouse</td>\n",
       "      <td>23580.59</td>\n",
       "      <td>961</td>\n",
       "      <td>22.79</td>\n",
       "    </tr>\n",
       "    <tr>\n",
       "      <th>11</th>\n",
       "      <td>11</td>\n",
       "      <td>Pullover Sweater</td>\n",
       "      <td>23155.45</td>\n",
       "      <td>776</td>\n",
       "      <td>18.40</td>\n",
       "    </tr>\n",
       "    <tr>\n",
       "      <th>12</th>\n",
       "      <td>11</td>\n",
       "      <td>Short Sleeve Knits</td>\n",
       "      <td>13917.16</td>\n",
       "      <td>622</td>\n",
       "      <td>14.75</td>\n",
       "    </tr>\n",
       "    <tr>\n",
       "      <th>13</th>\n",
       "      <td>11</td>\n",
       "      <td>Sleeveless Woven Tanks</td>\n",
       "      <td>12914.37</td>\n",
       "      <td>498</td>\n",
       "      <td>11.81</td>\n",
       "    </tr>\n",
       "    <tr>\n",
       "      <th>14</th>\n",
       "      <td>11</td>\n",
       "      <td>Button Down</td>\n",
       "      <td>11107.07</td>\n",
       "      <td>419</td>\n",
       "      <td>9.94</td>\n",
       "    </tr>\n",
       "    <tr>\n",
       "      <th>15</th>\n",
       "      <td>13</td>\n",
       "      <td>Pullover Sweater</td>\n",
       "      <td>17616.52</td>\n",
       "      <td>590</td>\n",
       "      <td>20.27</td>\n",
       "    </tr>\n",
       "    <tr>\n",
       "      <th>16</th>\n",
       "      <td>13</td>\n",
       "      <td>Blouse</td>\n",
       "      <td>16418.32</td>\n",
       "      <td>623</td>\n",
       "      <td>21.41</td>\n",
       "    </tr>\n",
       "    <tr>\n",
       "      <th>17</th>\n",
       "      <td>13</td>\n",
       "      <td>Button Down</td>\n",
       "      <td>11849.50</td>\n",
       "      <td>399</td>\n",
       "      <td>13.71</td>\n",
       "    </tr>\n",
       "    <tr>\n",
       "      <th>18</th>\n",
       "      <td>13</td>\n",
       "      <td>Sleeveless Woven Tanks</td>\n",
       "      <td>8678.64</td>\n",
       "      <td>333</td>\n",
       "      <td>11.44</td>\n",
       "    </tr>\n",
       "    <tr>\n",
       "      <th>19</th>\n",
       "      <td>13</td>\n",
       "      <td>Short Sleeve Knits</td>\n",
       "      <td>8331.91</td>\n",
       "      <td>353</td>\n",
       "      <td>12.13</td>\n",
       "    </tr>\n",
       "    <tr>\n",
       "      <th>20</th>\n",
       "      <td>14</td>\n",
       "      <td>Blouse</td>\n",
       "      <td>46114.84</td>\n",
       "      <td>1706</td>\n",
       "      <td>26.17</td>\n",
       "    </tr>\n",
       "    <tr>\n",
       "      <th>21</th>\n",
       "      <td>14</td>\n",
       "      <td>Sleeveless Woven Tanks</td>\n",
       "      <td>33542.61</td>\n",
       "      <td>1261</td>\n",
       "      <td>19.34</td>\n",
       "    </tr>\n",
       "    <tr>\n",
       "      <th>22</th>\n",
       "      <td>14</td>\n",
       "      <td>Pullover Sweater</td>\n",
       "      <td>23652.51</td>\n",
       "      <td>771</td>\n",
       "      <td>11.83</td>\n",
       "    </tr>\n",
       "    <tr>\n",
       "      <th>23</th>\n",
       "      <td>14</td>\n",
       "      <td>Short Sleeve Knits</td>\n",
       "      <td>22885.05</td>\n",
       "      <td>990</td>\n",
       "      <td>15.19</td>\n",
       "    </tr>\n",
       "    <tr>\n",
       "      <th>24</th>\n",
       "      <td>14</td>\n",
       "      <td>Button Down</td>\n",
       "      <td>20648.62</td>\n",
       "      <td>725</td>\n",
       "      <td>11.12</td>\n",
       "    </tr>\n",
       "    <tr>\n",
       "      <th>25</th>\n",
       "      <td>16</td>\n",
       "      <td>Blouse</td>\n",
       "      <td>20291.07</td>\n",
       "      <td>768</td>\n",
       "      <td>20.28</td>\n",
       "    </tr>\n",
       "    <tr>\n",
       "      <th>26</th>\n",
       "      <td>16</td>\n",
       "      <td>Sleeveless Woven Tanks</td>\n",
       "      <td>18595.83</td>\n",
       "      <td>705</td>\n",
       "      <td>18.62</td>\n",
       "    </tr>\n",
       "    <tr>\n",
       "      <th>27</th>\n",
       "      <td>16</td>\n",
       "      <td>Short Sleeve Knits</td>\n",
       "      <td>16992.20</td>\n",
       "      <td>707</td>\n",
       "      <td>18.67</td>\n",
       "    </tr>\n",
       "    <tr>\n",
       "      <th>28</th>\n",
       "      <td>16</td>\n",
       "      <td>Pullover Sweater</td>\n",
       "      <td>15591.82</td>\n",
       "      <td>493</td>\n",
       "      <td>13.02</td>\n",
       "    </tr>\n",
       "    <tr>\n",
       "      <th>29</th>\n",
       "      <td>16</td>\n",
       "      <td>Button Down</td>\n",
       "      <td>15277.55</td>\n",
       "      <td>531</td>\n",
       "      <td>14.02</td>\n",
       "    </tr>\n",
       "    <tr>\n",
       "      <th>30</th>\n",
       "      <td>19</td>\n",
       "      <td>Short Sleeve Knits</td>\n",
       "      <td>47937.56</td>\n",
       "      <td>2054</td>\n",
       "      <td>22.73</td>\n",
       "    </tr>\n",
       "    <tr>\n",
       "      <th>31</th>\n",
       "      <td>19</td>\n",
       "      <td>Blouse</td>\n",
       "      <td>40490.68</td>\n",
       "      <td>1624</td>\n",
       "      <td>17.97</td>\n",
       "    </tr>\n",
       "    <tr>\n",
       "      <th>32</th>\n",
       "      <td>19</td>\n",
       "      <td>Button Down</td>\n",
       "      <td>39628.00</td>\n",
       "      <td>1372</td>\n",
       "      <td>15.18</td>\n",
       "    </tr>\n",
       "    <tr>\n",
       "      <th>33</th>\n",
       "      <td>19</td>\n",
       "      <td>Pullover Sweater</td>\n",
       "      <td>34454.90</td>\n",
       "      <td>1170</td>\n",
       "      <td>12.95</td>\n",
       "    </tr>\n",
       "    <tr>\n",
       "      <th>34</th>\n",
       "      <td>19</td>\n",
       "      <td>Sleeveless Woven Tanks</td>\n",
       "      <td>27580.20</td>\n",
       "      <td>1094</td>\n",
       "      <td>12.11</td>\n",
       "    </tr>\n",
       "    <tr>\n",
       "      <th>35</th>\n",
       "      <td>20</td>\n",
       "      <td>Pullover Sweater</td>\n",
       "      <td>45574.04</td>\n",
       "      <td>1510</td>\n",
       "      <td>18.57</td>\n",
       "    </tr>\n",
       "    <tr>\n",
       "      <th>36</th>\n",
       "      <td>20</td>\n",
       "      <td>Short Sleeve Knits</td>\n",
       "      <td>37188.59</td>\n",
       "      <td>1584</td>\n",
       "      <td>19.48</td>\n",
       "    </tr>\n",
       "    <tr>\n",
       "      <th>37</th>\n",
       "      <td>20</td>\n",
       "      <td>Blouse</td>\n",
       "      <td>36949.86</td>\n",
       "      <td>1423</td>\n",
       "      <td>17.50</td>\n",
       "    </tr>\n",
       "    <tr>\n",
       "      <th>38</th>\n",
       "      <td>20</td>\n",
       "      <td>Sleeveless Woven Tanks</td>\n",
       "      <td>31135.42</td>\n",
       "      <td>1225</td>\n",
       "      <td>15.06</td>\n",
       "    </tr>\n",
       "    <tr>\n",
       "      <th>39</th>\n",
       "      <td>20</td>\n",
       "      <td>Button Down</td>\n",
       "      <td>24118.67</td>\n",
       "      <td>837</td>\n",
       "      <td>10.29</td>\n",
       "    </tr>\n",
       "    <tr>\n",
       "      <th>40</th>\n",
       "      <td>21</td>\n",
       "      <td>Pullover Sweater</td>\n",
       "      <td>31220.14</td>\n",
       "      <td>1035</td>\n",
       "      <td>17.18</td>\n",
       "    </tr>\n",
       "    <tr>\n",
       "      <th>41</th>\n",
       "      <td>21</td>\n",
       "      <td>Short Sleeve Knits</td>\n",
       "      <td>29192.22</td>\n",
       "      <td>1197</td>\n",
       "      <td>19.87</td>\n",
       "    </tr>\n",
       "    <tr>\n",
       "      <th>42</th>\n",
       "      <td>21</td>\n",
       "      <td>Button Down</td>\n",
       "      <td>25325.55</td>\n",
       "      <td>865</td>\n",
       "      <td>14.36</td>\n",
       "    </tr>\n",
       "    <tr>\n",
       "      <th>43</th>\n",
       "      <td>21</td>\n",
       "      <td>Blouse</td>\n",
       "      <td>25047.17</td>\n",
       "      <td>969</td>\n",
       "      <td>16.08</td>\n",
       "    </tr>\n",
       "    <tr>\n",
       "      <th>44</th>\n",
       "      <td>21</td>\n",
       "      <td>Sleeveless Woven Tanks</td>\n",
       "      <td>16301.03</td>\n",
       "      <td>627</td>\n",
       "      <td>10.41</td>\n",
       "    </tr>\n",
       "    <tr>\n",
       "      <th>45</th>\n",
       "      <td>27</td>\n",
       "      <td>Pullover Sweater</td>\n",
       "      <td>19786.78</td>\n",
       "      <td>681</td>\n",
       "      <td>19.89</td>\n",
       "    </tr>\n",
       "    <tr>\n",
       "      <th>46</th>\n",
       "      <td>27</td>\n",
       "      <td>Short Sleeve Knits</td>\n",
       "      <td>16932.12</td>\n",
       "      <td>709</td>\n",
       "      <td>20.71</td>\n",
       "    </tr>\n",
       "    <tr>\n",
       "      <th>47</th>\n",
       "      <td>27</td>\n",
       "      <td>Blouse</td>\n",
       "      <td>13712.86</td>\n",
       "      <td>568</td>\n",
       "      <td>16.59</td>\n",
       "    </tr>\n",
       "    <tr>\n",
       "      <th>48</th>\n",
       "      <td>27</td>\n",
       "      <td>Button Down</td>\n",
       "      <td>12362.01</td>\n",
       "      <td>437</td>\n",
       "      <td>12.77</td>\n",
       "    </tr>\n",
       "    <tr>\n",
       "      <th>49</th>\n",
       "      <td>27</td>\n",
       "      <td>Sleeveless Woven Tanks</td>\n",
       "      <td>10592.62</td>\n",
       "      <td>414</td>\n",
       "      <td>12.09</td>\n",
       "    </tr>\n",
       "  </tbody>\n",
       "</table>\n",
       "</div>"
      ],
      "text/plain": [
       "    store          sub.class.desc     sales  Units sold  \\\n",
       "0       3                  Blouse  24203.61         959   \n",
       "1       3        Pullover Sweater  16104.40         580   \n",
       "2       3  Sleeveless Woven Tanks  15916.28         694   \n",
       "3       3             Button Down  15194.59         553   \n",
       "4       3      Short Sleeve Knits  14664.77         676   \n",
       "5       7                  Blouse  41477.43        1590   \n",
       "6       7        Pullover Sweater  40637.30        1338   \n",
       "7       7      Short Sleeve Knits  30475.53        1328   \n",
       "8       7  Sleeveless Woven Tanks  26098.39        1031   \n",
       "9       7             Button Down  22645.74         787   \n",
       "10     11                  Blouse  23580.59         961   \n",
       "11     11        Pullover Sweater  23155.45         776   \n",
       "12     11      Short Sleeve Knits  13917.16         622   \n",
       "13     11  Sleeveless Woven Tanks  12914.37         498   \n",
       "14     11             Button Down  11107.07         419   \n",
       "15     13        Pullover Sweater  17616.52         590   \n",
       "16     13                  Blouse  16418.32         623   \n",
       "17     13             Button Down  11849.50         399   \n",
       "18     13  Sleeveless Woven Tanks   8678.64         333   \n",
       "19     13      Short Sleeve Knits   8331.91         353   \n",
       "20     14                  Blouse  46114.84        1706   \n",
       "21     14  Sleeveless Woven Tanks  33542.61        1261   \n",
       "22     14        Pullover Sweater  23652.51         771   \n",
       "23     14      Short Sleeve Knits  22885.05         990   \n",
       "24     14             Button Down  20648.62         725   \n",
       "25     16                  Blouse  20291.07         768   \n",
       "26     16  Sleeveless Woven Tanks  18595.83         705   \n",
       "27     16      Short Sleeve Knits  16992.20         707   \n",
       "28     16        Pullover Sweater  15591.82         493   \n",
       "29     16             Button Down  15277.55         531   \n",
       "30     19      Short Sleeve Knits  47937.56        2054   \n",
       "31     19                  Blouse  40490.68        1624   \n",
       "32     19             Button Down  39628.00        1372   \n",
       "33     19        Pullover Sweater  34454.90        1170   \n",
       "34     19  Sleeveless Woven Tanks  27580.20        1094   \n",
       "35     20        Pullover Sweater  45574.04        1510   \n",
       "36     20      Short Sleeve Knits  37188.59        1584   \n",
       "37     20                  Blouse  36949.86        1423   \n",
       "38     20  Sleeveless Woven Tanks  31135.42        1225   \n",
       "39     20             Button Down  24118.67         837   \n",
       "40     21        Pullover Sweater  31220.14        1035   \n",
       "41     21      Short Sleeve Knits  29192.22        1197   \n",
       "42     21             Button Down  25325.55         865   \n",
       "43     21                  Blouse  25047.17         969   \n",
       "44     21  Sleeveless Woven Tanks  16301.03         627   \n",
       "45     27        Pullover Sweater  19786.78         681   \n",
       "46     27      Short Sleeve Knits  16932.12         709   \n",
       "47     27                  Blouse  13712.86         568   \n",
       "48     27             Button Down  12362.01         437   \n",
       "49     27  Sleeveless Woven Tanks  10592.62         414   \n",
       "\n",
       "    Percent_of_store_units_sold  \n",
       "0                         23.11  \n",
       "1                         13.98  \n",
       "2                         16.73  \n",
       "3                         13.33  \n",
       "4                         16.29  \n",
       "5                         21.94  \n",
       "6                         18.47  \n",
       "7                         18.33  \n",
       "8                         14.23  \n",
       "9                         10.86  \n",
       "10                        22.79  \n",
       "11                        18.40  \n",
       "12                        14.75  \n",
       "13                        11.81  \n",
       "14                         9.94  \n",
       "15                        20.27  \n",
       "16                        21.41  \n",
       "17                        13.71  \n",
       "18                        11.44  \n",
       "19                        12.13  \n",
       "20                        26.17  \n",
       "21                        19.34  \n",
       "22                        11.83  \n",
       "23                        15.19  \n",
       "24                        11.12  \n",
       "25                        20.28  \n",
       "26                        18.62  \n",
       "27                        18.67  \n",
       "28                        13.02  \n",
       "29                        14.02  \n",
       "30                        22.73  \n",
       "31                        17.97  \n",
       "32                        15.18  \n",
       "33                        12.95  \n",
       "34                        12.11  \n",
       "35                        18.57  \n",
       "36                        19.48  \n",
       "37                        17.50  \n",
       "38                        15.06  \n",
       "39                        10.29  \n",
       "40                        17.18  \n",
       "41                        19.87  \n",
       "42                        14.36  \n",
       "43                        16.08  \n",
       "44                        10.41  \n",
       "45                        19.89  \n",
       "46                        20.71  \n",
       "47                        16.59  \n",
       "48                        12.77  \n",
       "49                        12.09  "
      ]
     },
     "execution_count": 98,
     "metadata": {},
     "output_type": "execute_result"
    }
   ],
   "source": [
    "top5_df = results_df5.groupby(['store']).apply(lambda x: x.nlargest(5, 'sales')).reset_index(level=1, drop=True).reset_index()\n",
    "top5_df"
   ]
  },
  {
   "cell_type": "markdown",
   "id": "affa999d",
   "metadata": {},
   "source": [
    "# Graph for size store wise "
   ]
  },
  {
   "cell_type": "code",
   "execution_count": 99,
   "id": "0623ed2f",
   "metadata": {},
   "outputs": [
    {
     "name": "stdout",
     "output_type": "stream",
     "text": [
      "    store         size  gross_margin\n",
      "0       3  Extra Small      0.606992\n",
      "1       3           LG      0.603958\n",
      "2       3          MED      0.605389\n",
      "3       3           SM      0.621656\n",
      "4       3           XL      0.595741\n",
      "..    ...          ...           ...\n",
      "71     27      No Size      0.747500\n",
      "72     27          S/M      0.453844\n",
      "73     27           SM      0.623282\n",
      "74     27           XL      0.622718\n",
      "75     27          XXS      0.636157\n",
      "\n",
      "[76 rows x 3 columns]\n"
     ]
    }
   ],
   "source": [
    "# Calculate the profit store and size-wise\n",
    "profit_store_size_wise = merged_df.groupby(['store', 'size'])['sale.amt'].sum() - merged_df.groupby(['store', 'size'])['cost'].sum()\n",
    "\n",
    "# Calculate the sales store and size-wise\n",
    "sales_per_store_size = merged_df.groupby(['store', 'size'])['sale.amt'].sum()\n",
    "\n",
    "# Calculate the gross margin store and size-wise\n",
    "gross_margin_store_size_wise = profit_store_size_wise / sales_per_store_size\n",
    "\n",
    "# Create a DataFrame for the results\n",
    "results_df2 = pd.DataFrame()\n",
    "\n",
    "# Add the gross margin column to the DataFrame\n",
    "results_df2['gross_margin'] = gross_margin_store_size_wise\n",
    "\n",
    "# Reset the index to move the store and size columns from the index to columns\n",
    "results_df2.reset_index(inplace=True)\n",
    "\n",
    "print(results_df2)\n"
   ]
  },
  {
   "cell_type": "code",
   "execution_count": 100,
   "id": "0c1b5a6d",
   "metadata": {},
   "outputs": [
    {
     "name": "stdout",
     "output_type": "stream",
     "text": [
      "    store     size  gross_margin\n",
      "71     27  No Size      0.747500\n",
      "63     21      S/M      0.736665\n",
      "55     20      S/M      0.719970\n",
      "33     14      S/M      0.707462\n",
      "23     13      M/L      0.695102\n",
      "44     16      XXS      0.656769\n",
      "10      7      S/M      0.653967\n",
      "48     19       SM      0.638360\n",
      "19     11       XL      0.627810\n",
      "3       3       SM      0.621656\n"
     ]
    }
   ],
   "source": [
    "# Find the index of the maximum gross margin for each store\n",
    "max_gross_margin_idx = results_df2.groupby('store')['gross_margin'].idxmax()\n",
    "\n",
    "# Extract the rows with the maximum gross margin for each store\n",
    "highest_gross_margin_sizes = results_df2.loc[max_gross_margin_idx]\n",
    "\n",
    "# Sort the DataFrame by gross_margin in descending order\n",
    "sorted_highest_gross_margin_sizes = highest_gross_margin_sizes.sort_values(by='gross_margin', ascending=False)\n",
    "\n",
    "print(sorted_highest_gross_margin_sizes)\n",
    "\n"
   ]
  },
  {
   "cell_type": "code",
   "execution_count": 101,
   "id": "8218ac2d",
   "metadata": {},
   "outputs": [
    {
     "name": "stdout",
     "output_type": "stream",
     "text": [
      "    store size  gross_margin\n",
      "72     27  S/M      0.453844\n",
      "16     11  M/L      0.523583\n",
      "53     20  M/L      0.546148\n",
      "8       7  M/L      0.546437\n",
      "5       3  XXS      0.570917\n",
      "41     16  S/M      0.578810\n",
      "35     14   XL      0.597423\n",
      "50     19  XXS      0.613133\n",
      "61     21  M/L      0.622249\n",
      "25     13  S/M      0.626798\n"
     ]
    }
   ],
   "source": [
    "# Find the index of the minimum gross margin for each store\n",
    "min_gross_margin_idx = results_df2.groupby('store')['gross_margin'].idxmin()\n",
    "\n",
    "# Extract the rows with the minimum gross margin for each store\n",
    "lowest_gross_margin_sizes = results_df2.loc[min_gross_margin_idx]\n",
    "\n",
    "# Sort the DataFrame by gross_margin in ascending order\n",
    "sorted_lowest_gross_margin_sizes = lowest_gross_margin_sizes.sort_values(by='gross_margin', ascending=True)\n",
    "\n",
    "print(sorted_lowest_gross_margin_sizes)\n"
   ]
  },
  {
   "cell_type": "code",
   "execution_count": 102,
   "id": "cc7acd60",
   "metadata": {},
   "outputs": [
    {
     "name": "stdout",
     "output_type": "stream",
     "text": [
      "Top 3 stores with the highest gross margin:\n",
      "    store     size  gross_margin\n",
      "71     27  No Size      0.747500\n",
      "63     21      S/M      0.736665\n",
      "55     20      S/M      0.719970\n",
      "\n",
      "Bottom 3 stores with the lowest gross margin:\n",
      "    store size  gross_margin\n",
      "72     27  S/M      0.453844\n",
      "16     11  M/L      0.523583\n",
      "53     20  M/L      0.546148\n"
     ]
    }
   ],
   "source": [
    "# Extract the top 3 stores with the highest gross margin\n",
    "top_3_stores_highest_margin = sorted_highest_gross_margin_sizes.head(3)\n",
    "\n",
    "# Extract the bottom 3 stores with the lowest gross margin\n",
    "bottom_3_stores_lowest_margin = sorted_lowest_gross_margin_sizes.head(3)\n",
    "\n",
    "print(\"Top 3 stores with the highest gross margin:\")\n",
    "print(top_3_stores_highest_margin)\n",
    "\n",
    "print(\"\\nBottom 3 stores with the lowest gross margin:\")\n",
    "print(bottom_3_stores_lowest_margin)\n"
   ]
  },
  {
   "cell_type": "code",
   "execution_count": 103,
   "id": "7806e4fb",
   "metadata": {},
   "outputs": [
    {
     "data": {
      "application/vnd.plotly.v1+json": {
       "config": {
        "plotlyServerURL": "https://plot.ly"
       },
       "data": [
        {
         "legendgroup": "Highest",
         "marker": {
          "color": "#1f77b4"
         },
         "name": "Highest",
         "type": "bar",
         "x": [
          "27 (No Size)",
          "21 (S/M)",
          "20 (S/M)"
         ],
         "y": [
          74.75,
          73.6665,
          71.997
         ]
        },
        {
         "legendgroup": "Lowest",
         "marker": {
          "color": "#aec7e8"
         },
         "name": "Lowest",
         "type": "bar",
         "x": [
          "27 (S/M)",
          "11 (M/L)",
          "20 (M/L)"
         ],
         "y": [
          45.3844,
          52.3583,
          54.614799999999995
         ]
        }
       ],
       "layout": {
        "barmode": "group",
        "plot_bgcolor": "rgba(0, 0, 0, 0)",
        "template": {
         "data": {
          "bar": [
           {
            "error_x": {
             "color": "#2a3f5f"
            },
            "error_y": {
             "color": "#2a3f5f"
            },
            "marker": {
             "line": {
              "color": "#E5ECF6",
              "width": 0.5
             },
             "pattern": {
              "fillmode": "overlay",
              "size": 10,
              "solidity": 0.2
             }
            },
            "type": "bar"
           }
          ],
          "barpolar": [
           {
            "marker": {
             "line": {
              "color": "#E5ECF6",
              "width": 0.5
             },
             "pattern": {
              "fillmode": "overlay",
              "size": 10,
              "solidity": 0.2
             }
            },
            "type": "barpolar"
           }
          ],
          "carpet": [
           {
            "aaxis": {
             "endlinecolor": "#2a3f5f",
             "gridcolor": "white",
             "linecolor": "white",
             "minorgridcolor": "white",
             "startlinecolor": "#2a3f5f"
            },
            "baxis": {
             "endlinecolor": "#2a3f5f",
             "gridcolor": "white",
             "linecolor": "white",
             "minorgridcolor": "white",
             "startlinecolor": "#2a3f5f"
            },
            "type": "carpet"
           }
          ],
          "choropleth": [
           {
            "colorbar": {
             "outlinewidth": 0,
             "ticks": ""
            },
            "type": "choropleth"
           }
          ],
          "contour": [
           {
            "colorbar": {
             "outlinewidth": 0,
             "ticks": ""
            },
            "colorscale": [
             [
              0,
              "#0d0887"
             ],
             [
              0.1111111111111111,
              "#46039f"
             ],
             [
              0.2222222222222222,
              "#7201a8"
             ],
             [
              0.3333333333333333,
              "#9c179e"
             ],
             [
              0.4444444444444444,
              "#bd3786"
             ],
             [
              0.5555555555555556,
              "#d8576b"
             ],
             [
              0.6666666666666666,
              "#ed7953"
             ],
             [
              0.7777777777777778,
              "#fb9f3a"
             ],
             [
              0.8888888888888888,
              "#fdca26"
             ],
             [
              1,
              "#f0f921"
             ]
            ],
            "type": "contour"
           }
          ],
          "contourcarpet": [
           {
            "colorbar": {
             "outlinewidth": 0,
             "ticks": ""
            },
            "type": "contourcarpet"
           }
          ],
          "heatmap": [
           {
            "colorbar": {
             "outlinewidth": 0,
             "ticks": ""
            },
            "colorscale": [
             [
              0,
              "#0d0887"
             ],
             [
              0.1111111111111111,
              "#46039f"
             ],
             [
              0.2222222222222222,
              "#7201a8"
             ],
             [
              0.3333333333333333,
              "#9c179e"
             ],
             [
              0.4444444444444444,
              "#bd3786"
             ],
             [
              0.5555555555555556,
              "#d8576b"
             ],
             [
              0.6666666666666666,
              "#ed7953"
             ],
             [
              0.7777777777777778,
              "#fb9f3a"
             ],
             [
              0.8888888888888888,
              "#fdca26"
             ],
             [
              1,
              "#f0f921"
             ]
            ],
            "type": "heatmap"
           }
          ],
          "heatmapgl": [
           {
            "colorbar": {
             "outlinewidth": 0,
             "ticks": ""
            },
            "colorscale": [
             [
              0,
              "#0d0887"
             ],
             [
              0.1111111111111111,
              "#46039f"
             ],
             [
              0.2222222222222222,
              "#7201a8"
             ],
             [
              0.3333333333333333,
              "#9c179e"
             ],
             [
              0.4444444444444444,
              "#bd3786"
             ],
             [
              0.5555555555555556,
              "#d8576b"
             ],
             [
              0.6666666666666666,
              "#ed7953"
             ],
             [
              0.7777777777777778,
              "#fb9f3a"
             ],
             [
              0.8888888888888888,
              "#fdca26"
             ],
             [
              1,
              "#f0f921"
             ]
            ],
            "type": "heatmapgl"
           }
          ],
          "histogram": [
           {
            "marker": {
             "pattern": {
              "fillmode": "overlay",
              "size": 10,
              "solidity": 0.2
             }
            },
            "type": "histogram"
           }
          ],
          "histogram2d": [
           {
            "colorbar": {
             "outlinewidth": 0,
             "ticks": ""
            },
            "colorscale": [
             [
              0,
              "#0d0887"
             ],
             [
              0.1111111111111111,
              "#46039f"
             ],
             [
              0.2222222222222222,
              "#7201a8"
             ],
             [
              0.3333333333333333,
              "#9c179e"
             ],
             [
              0.4444444444444444,
              "#bd3786"
             ],
             [
              0.5555555555555556,
              "#d8576b"
             ],
             [
              0.6666666666666666,
              "#ed7953"
             ],
             [
              0.7777777777777778,
              "#fb9f3a"
             ],
             [
              0.8888888888888888,
              "#fdca26"
             ],
             [
              1,
              "#f0f921"
             ]
            ],
            "type": "histogram2d"
           }
          ],
          "histogram2dcontour": [
           {
            "colorbar": {
             "outlinewidth": 0,
             "ticks": ""
            },
            "colorscale": [
             [
              0,
              "#0d0887"
             ],
             [
              0.1111111111111111,
              "#46039f"
             ],
             [
              0.2222222222222222,
              "#7201a8"
             ],
             [
              0.3333333333333333,
              "#9c179e"
             ],
             [
              0.4444444444444444,
              "#bd3786"
             ],
             [
              0.5555555555555556,
              "#d8576b"
             ],
             [
              0.6666666666666666,
              "#ed7953"
             ],
             [
              0.7777777777777778,
              "#fb9f3a"
             ],
             [
              0.8888888888888888,
              "#fdca26"
             ],
             [
              1,
              "#f0f921"
             ]
            ],
            "type": "histogram2dcontour"
           }
          ],
          "mesh3d": [
           {
            "colorbar": {
             "outlinewidth": 0,
             "ticks": ""
            },
            "type": "mesh3d"
           }
          ],
          "parcoords": [
           {
            "line": {
             "colorbar": {
              "outlinewidth": 0,
              "ticks": ""
             }
            },
            "type": "parcoords"
           }
          ],
          "pie": [
           {
            "automargin": true,
            "type": "pie"
           }
          ],
          "scatter": [
           {
            "marker": {
             "colorbar": {
              "outlinewidth": 0,
              "ticks": ""
             }
            },
            "type": "scatter"
           }
          ],
          "scatter3d": [
           {
            "line": {
             "colorbar": {
              "outlinewidth": 0,
              "ticks": ""
             }
            },
            "marker": {
             "colorbar": {
              "outlinewidth": 0,
              "ticks": ""
             }
            },
            "type": "scatter3d"
           }
          ],
          "scattercarpet": [
           {
            "marker": {
             "colorbar": {
              "outlinewidth": 0,
              "ticks": ""
             }
            },
            "type": "scattercarpet"
           }
          ],
          "scattergeo": [
           {
            "marker": {
             "colorbar": {
              "outlinewidth": 0,
              "ticks": ""
             }
            },
            "type": "scattergeo"
           }
          ],
          "scattergl": [
           {
            "marker": {
             "colorbar": {
              "outlinewidth": 0,
              "ticks": ""
             }
            },
            "type": "scattergl"
           }
          ],
          "scattermapbox": [
           {
            "marker": {
             "colorbar": {
              "outlinewidth": 0,
              "ticks": ""
             }
            },
            "type": "scattermapbox"
           }
          ],
          "scatterpolar": [
           {
            "marker": {
             "colorbar": {
              "outlinewidth": 0,
              "ticks": ""
             }
            },
            "type": "scatterpolar"
           }
          ],
          "scatterpolargl": [
           {
            "marker": {
             "colorbar": {
              "outlinewidth": 0,
              "ticks": ""
             }
            },
            "type": "scatterpolargl"
           }
          ],
          "scatterternary": [
           {
            "marker": {
             "colorbar": {
              "outlinewidth": 0,
              "ticks": ""
             }
            },
            "type": "scatterternary"
           }
          ],
          "surface": [
           {
            "colorbar": {
             "outlinewidth": 0,
             "ticks": ""
            },
            "colorscale": [
             [
              0,
              "#0d0887"
             ],
             [
              0.1111111111111111,
              "#46039f"
             ],
             [
              0.2222222222222222,
              "#7201a8"
             ],
             [
              0.3333333333333333,
              "#9c179e"
             ],
             [
              0.4444444444444444,
              "#bd3786"
             ],
             [
              0.5555555555555556,
              "#d8576b"
             ],
             [
              0.6666666666666666,
              "#ed7953"
             ],
             [
              0.7777777777777778,
              "#fb9f3a"
             ],
             [
              0.8888888888888888,
              "#fdca26"
             ],
             [
              1,
              "#f0f921"
             ]
            ],
            "type": "surface"
           }
          ],
          "table": [
           {
            "cells": {
             "fill": {
              "color": "#EBF0F8"
             },
             "line": {
              "color": "white"
             }
            },
            "header": {
             "fill": {
              "color": "#C8D4E3"
             },
             "line": {
              "color": "white"
             }
            },
            "type": "table"
           }
          ]
         },
         "layout": {
          "annotationdefaults": {
           "arrowcolor": "#2a3f5f",
           "arrowhead": 0,
           "arrowwidth": 1
          },
          "autotypenumbers": "strict",
          "coloraxis": {
           "colorbar": {
            "outlinewidth": 0,
            "ticks": ""
           }
          },
          "colorscale": {
           "diverging": [
            [
             0,
             "#8e0152"
            ],
            [
             0.1,
             "#c51b7d"
            ],
            [
             0.2,
             "#de77ae"
            ],
            [
             0.3,
             "#f1b6da"
            ],
            [
             0.4,
             "#fde0ef"
            ],
            [
             0.5,
             "#f7f7f7"
            ],
            [
             0.6,
             "#e6f5d0"
            ],
            [
             0.7,
             "#b8e186"
            ],
            [
             0.8,
             "#7fbc41"
            ],
            [
             0.9,
             "#4d9221"
            ],
            [
             1,
             "#276419"
            ]
           ],
           "sequential": [
            [
             0,
             "#0d0887"
            ],
            [
             0.1111111111111111,
             "#46039f"
            ],
            [
             0.2222222222222222,
             "#7201a8"
            ],
            [
             0.3333333333333333,
             "#9c179e"
            ],
            [
             0.4444444444444444,
             "#bd3786"
            ],
            [
             0.5555555555555556,
             "#d8576b"
            ],
            [
             0.6666666666666666,
             "#ed7953"
            ],
            [
             0.7777777777777778,
             "#fb9f3a"
            ],
            [
             0.8888888888888888,
             "#fdca26"
            ],
            [
             1,
             "#f0f921"
            ]
           ],
           "sequentialminus": [
            [
             0,
             "#0d0887"
            ],
            [
             0.1111111111111111,
             "#46039f"
            ],
            [
             0.2222222222222222,
             "#7201a8"
            ],
            [
             0.3333333333333333,
             "#9c179e"
            ],
            [
             0.4444444444444444,
             "#bd3786"
            ],
            [
             0.5555555555555556,
             "#d8576b"
            ],
            [
             0.6666666666666666,
             "#ed7953"
            ],
            [
             0.7777777777777778,
             "#fb9f3a"
            ],
            [
             0.8888888888888888,
             "#fdca26"
            ],
            [
             1,
             "#f0f921"
            ]
           ]
          },
          "colorway": [
           "#636efa",
           "#EF553B",
           "#00cc96",
           "#ab63fa",
           "#FFA15A",
           "#19d3f3",
           "#FF6692",
           "#B6E880",
           "#FF97FF",
           "#FECB52"
          ],
          "font": {
           "color": "#2a3f5f"
          },
          "geo": {
           "bgcolor": "white",
           "lakecolor": "white",
           "landcolor": "#E5ECF6",
           "showlakes": true,
           "showland": true,
           "subunitcolor": "white"
          },
          "hoverlabel": {
           "align": "left"
          },
          "hovermode": "closest",
          "mapbox": {
           "style": "light"
          },
          "paper_bgcolor": "white",
          "plot_bgcolor": "#E5ECF6",
          "polar": {
           "angularaxis": {
            "gridcolor": "white",
            "linecolor": "white",
            "ticks": ""
           },
           "bgcolor": "#E5ECF6",
           "radialaxis": {
            "gridcolor": "white",
            "linecolor": "white",
            "ticks": ""
           }
          },
          "scene": {
           "xaxis": {
            "backgroundcolor": "#E5ECF6",
            "gridcolor": "white",
            "gridwidth": 2,
            "linecolor": "white",
            "showbackground": true,
            "ticks": "",
            "zerolinecolor": "white"
           },
           "yaxis": {
            "backgroundcolor": "#E5ECF6",
            "gridcolor": "white",
            "gridwidth": 2,
            "linecolor": "white",
            "showbackground": true,
            "ticks": "",
            "zerolinecolor": "white"
           },
           "zaxis": {
            "backgroundcolor": "#E5ECF6",
            "gridcolor": "white",
            "gridwidth": 2,
            "linecolor": "white",
            "showbackground": true,
            "ticks": "",
            "zerolinecolor": "white"
           }
          },
          "shapedefaults": {
           "line": {
            "color": "#2a3f5f"
           }
          },
          "ternary": {
           "aaxis": {
            "gridcolor": "white",
            "linecolor": "white",
            "ticks": ""
           },
           "baxis": {
            "gridcolor": "white",
            "linecolor": "white",
            "ticks": ""
           },
           "bgcolor": "#E5ECF6",
           "caxis": {
            "gridcolor": "white",
            "linecolor": "white",
            "ticks": ""
           }
          },
          "title": {
           "x": 0.05
          },
          "xaxis": {
           "automargin": true,
           "gridcolor": "white",
           "linecolor": "white",
           "ticks": "",
           "title": {
            "standoff": 15
           },
           "zerolinecolor": "white",
           "zerolinewidth": 2
          },
          "yaxis": {
           "automargin": true,
           "gridcolor": "white",
           "linecolor": "white",
           "ticks": "",
           "title": {
            "standoff": 15
           },
           "zerolinecolor": "white",
           "zerolinewidth": 2
          }
         }
        },
        "title": {
         "text": "Top 3 and Bottom 3 Gross Margin Stores"
        },
        "xaxis": {
         "title": {
          "text": "Store (Size)"
         }
        },
        "yaxis": {
         "title": {
          "text": "Gross Margin (%)"
         }
        }
       }
      },
      "text/html": [
       "<div>                            <div id=\"2259bd36-b8ae-487d-86ba-1141f2b0b505\" class=\"plotly-graph-div\" style=\"height:525px; width:100%;\"></div>            <script type=\"text/javascript\">                require([\"plotly\"], function(Plotly) {                    window.PLOTLYENV=window.PLOTLYENV || {};                                    if (document.getElementById(\"2259bd36-b8ae-487d-86ba-1141f2b0b505\")) {                    Plotly.newPlot(                        \"2259bd36-b8ae-487d-86ba-1141f2b0b505\",                        [{\"legendgroup\":\"Highest\",\"marker\":{\"color\":\"#1f77b4\"},\"name\":\"Highest\",\"x\":[\"27 (No Size)\",\"21 (S/M)\",\"20 (S/M)\"],\"y\":[74.75,73.6665,71.997],\"type\":\"bar\"},{\"legendgroup\":\"Lowest\",\"marker\":{\"color\":\"#aec7e8\"},\"name\":\"Lowest\",\"x\":[\"27 (S/M)\",\"11 (M/L)\",\"20 (M/L)\"],\"y\":[45.3844,52.3583,54.614799999999995],\"type\":\"bar\"}],                        {\"template\":{\"data\":{\"bar\":[{\"error_x\":{\"color\":\"#2a3f5f\"},\"error_y\":{\"color\":\"#2a3f5f\"},\"marker\":{\"line\":{\"color\":\"#E5ECF6\",\"width\":0.5},\"pattern\":{\"fillmode\":\"overlay\",\"size\":10,\"solidity\":0.2}},\"type\":\"bar\"}],\"barpolar\":[{\"marker\":{\"line\":{\"color\":\"#E5ECF6\",\"width\":0.5},\"pattern\":{\"fillmode\":\"overlay\",\"size\":10,\"solidity\":0.2}},\"type\":\"barpolar\"}],\"carpet\":[{\"aaxis\":{\"endlinecolor\":\"#2a3f5f\",\"gridcolor\":\"white\",\"linecolor\":\"white\",\"minorgridcolor\":\"white\",\"startlinecolor\":\"#2a3f5f\"},\"baxis\":{\"endlinecolor\":\"#2a3f5f\",\"gridcolor\":\"white\",\"linecolor\":\"white\",\"minorgridcolor\":\"white\",\"startlinecolor\":\"#2a3f5f\"},\"type\":\"carpet\"}],\"choropleth\":[{\"colorbar\":{\"outlinewidth\":0,\"ticks\":\"\"},\"type\":\"choropleth\"}],\"contour\":[{\"colorbar\":{\"outlinewidth\":0,\"ticks\":\"\"},\"colorscale\":[[0.0,\"#0d0887\"],[0.1111111111111111,\"#46039f\"],[0.2222222222222222,\"#7201a8\"],[0.3333333333333333,\"#9c179e\"],[0.4444444444444444,\"#bd3786\"],[0.5555555555555556,\"#d8576b\"],[0.6666666666666666,\"#ed7953\"],[0.7777777777777778,\"#fb9f3a\"],[0.8888888888888888,\"#fdca26\"],[1.0,\"#f0f921\"]],\"type\":\"contour\"}],\"contourcarpet\":[{\"colorbar\":{\"outlinewidth\":0,\"ticks\":\"\"},\"type\":\"contourcarpet\"}],\"heatmap\":[{\"colorbar\":{\"outlinewidth\":0,\"ticks\":\"\"},\"colorscale\":[[0.0,\"#0d0887\"],[0.1111111111111111,\"#46039f\"],[0.2222222222222222,\"#7201a8\"],[0.3333333333333333,\"#9c179e\"],[0.4444444444444444,\"#bd3786\"],[0.5555555555555556,\"#d8576b\"],[0.6666666666666666,\"#ed7953\"],[0.7777777777777778,\"#fb9f3a\"],[0.8888888888888888,\"#fdca26\"],[1.0,\"#f0f921\"]],\"type\":\"heatmap\"}],\"heatmapgl\":[{\"colorbar\":{\"outlinewidth\":0,\"ticks\":\"\"},\"colorscale\":[[0.0,\"#0d0887\"],[0.1111111111111111,\"#46039f\"],[0.2222222222222222,\"#7201a8\"],[0.3333333333333333,\"#9c179e\"],[0.4444444444444444,\"#bd3786\"],[0.5555555555555556,\"#d8576b\"],[0.6666666666666666,\"#ed7953\"],[0.7777777777777778,\"#fb9f3a\"],[0.8888888888888888,\"#fdca26\"],[1.0,\"#f0f921\"]],\"type\":\"heatmapgl\"}],\"histogram\":[{\"marker\":{\"pattern\":{\"fillmode\":\"overlay\",\"size\":10,\"solidity\":0.2}},\"type\":\"histogram\"}],\"histogram2d\":[{\"colorbar\":{\"outlinewidth\":0,\"ticks\":\"\"},\"colorscale\":[[0.0,\"#0d0887\"],[0.1111111111111111,\"#46039f\"],[0.2222222222222222,\"#7201a8\"],[0.3333333333333333,\"#9c179e\"],[0.4444444444444444,\"#bd3786\"],[0.5555555555555556,\"#d8576b\"],[0.6666666666666666,\"#ed7953\"],[0.7777777777777778,\"#fb9f3a\"],[0.8888888888888888,\"#fdca26\"],[1.0,\"#f0f921\"]],\"type\":\"histogram2d\"}],\"histogram2dcontour\":[{\"colorbar\":{\"outlinewidth\":0,\"ticks\":\"\"},\"colorscale\":[[0.0,\"#0d0887\"],[0.1111111111111111,\"#46039f\"],[0.2222222222222222,\"#7201a8\"],[0.3333333333333333,\"#9c179e\"],[0.4444444444444444,\"#bd3786\"],[0.5555555555555556,\"#d8576b\"],[0.6666666666666666,\"#ed7953\"],[0.7777777777777778,\"#fb9f3a\"],[0.8888888888888888,\"#fdca26\"],[1.0,\"#f0f921\"]],\"type\":\"histogram2dcontour\"}],\"mesh3d\":[{\"colorbar\":{\"outlinewidth\":0,\"ticks\":\"\"},\"type\":\"mesh3d\"}],\"parcoords\":[{\"line\":{\"colorbar\":{\"outlinewidth\":0,\"ticks\":\"\"}},\"type\":\"parcoords\"}],\"pie\":[{\"automargin\":true,\"type\":\"pie\"}],\"scatter\":[{\"marker\":{\"colorbar\":{\"outlinewidth\":0,\"ticks\":\"\"}},\"type\":\"scatter\"}],\"scatter3d\":[{\"line\":{\"colorbar\":{\"outlinewidth\":0,\"ticks\":\"\"}},\"marker\":{\"colorbar\":{\"outlinewidth\":0,\"ticks\":\"\"}},\"type\":\"scatter3d\"}],\"scattercarpet\":[{\"marker\":{\"colorbar\":{\"outlinewidth\":0,\"ticks\":\"\"}},\"type\":\"scattercarpet\"}],\"scattergeo\":[{\"marker\":{\"colorbar\":{\"outlinewidth\":0,\"ticks\":\"\"}},\"type\":\"scattergeo\"}],\"scattergl\":[{\"marker\":{\"colorbar\":{\"outlinewidth\":0,\"ticks\":\"\"}},\"type\":\"scattergl\"}],\"scattermapbox\":[{\"marker\":{\"colorbar\":{\"outlinewidth\":0,\"ticks\":\"\"}},\"type\":\"scattermapbox\"}],\"scatterpolar\":[{\"marker\":{\"colorbar\":{\"outlinewidth\":0,\"ticks\":\"\"}},\"type\":\"scatterpolar\"}],\"scatterpolargl\":[{\"marker\":{\"colorbar\":{\"outlinewidth\":0,\"ticks\":\"\"}},\"type\":\"scatterpolargl\"}],\"scatterternary\":[{\"marker\":{\"colorbar\":{\"outlinewidth\":0,\"ticks\":\"\"}},\"type\":\"scatterternary\"}],\"surface\":[{\"colorbar\":{\"outlinewidth\":0,\"ticks\":\"\"},\"colorscale\":[[0.0,\"#0d0887\"],[0.1111111111111111,\"#46039f\"],[0.2222222222222222,\"#7201a8\"],[0.3333333333333333,\"#9c179e\"],[0.4444444444444444,\"#bd3786\"],[0.5555555555555556,\"#d8576b\"],[0.6666666666666666,\"#ed7953\"],[0.7777777777777778,\"#fb9f3a\"],[0.8888888888888888,\"#fdca26\"],[1.0,\"#f0f921\"]],\"type\":\"surface\"}],\"table\":[{\"cells\":{\"fill\":{\"color\":\"#EBF0F8\"},\"line\":{\"color\":\"white\"}},\"header\":{\"fill\":{\"color\":\"#C8D4E3\"},\"line\":{\"color\":\"white\"}},\"type\":\"table\"}]},\"layout\":{\"annotationdefaults\":{\"arrowcolor\":\"#2a3f5f\",\"arrowhead\":0,\"arrowwidth\":1},\"autotypenumbers\":\"strict\",\"coloraxis\":{\"colorbar\":{\"outlinewidth\":0,\"ticks\":\"\"}},\"colorscale\":{\"diverging\":[[0,\"#8e0152\"],[0.1,\"#c51b7d\"],[0.2,\"#de77ae\"],[0.3,\"#f1b6da\"],[0.4,\"#fde0ef\"],[0.5,\"#f7f7f7\"],[0.6,\"#e6f5d0\"],[0.7,\"#b8e186\"],[0.8,\"#7fbc41\"],[0.9,\"#4d9221\"],[1,\"#276419\"]],\"sequential\":[[0.0,\"#0d0887\"],[0.1111111111111111,\"#46039f\"],[0.2222222222222222,\"#7201a8\"],[0.3333333333333333,\"#9c179e\"],[0.4444444444444444,\"#bd3786\"],[0.5555555555555556,\"#d8576b\"],[0.6666666666666666,\"#ed7953\"],[0.7777777777777778,\"#fb9f3a\"],[0.8888888888888888,\"#fdca26\"],[1.0,\"#f0f921\"]],\"sequentialminus\":[[0.0,\"#0d0887\"],[0.1111111111111111,\"#46039f\"],[0.2222222222222222,\"#7201a8\"],[0.3333333333333333,\"#9c179e\"],[0.4444444444444444,\"#bd3786\"],[0.5555555555555556,\"#d8576b\"],[0.6666666666666666,\"#ed7953\"],[0.7777777777777778,\"#fb9f3a\"],[0.8888888888888888,\"#fdca26\"],[1.0,\"#f0f921\"]]},\"colorway\":[\"#636efa\",\"#EF553B\",\"#00cc96\",\"#ab63fa\",\"#FFA15A\",\"#19d3f3\",\"#FF6692\",\"#B6E880\",\"#FF97FF\",\"#FECB52\"],\"font\":{\"color\":\"#2a3f5f\"},\"geo\":{\"bgcolor\":\"white\",\"lakecolor\":\"white\",\"landcolor\":\"#E5ECF6\",\"showlakes\":true,\"showland\":true,\"subunitcolor\":\"white\"},\"hoverlabel\":{\"align\":\"left\"},\"hovermode\":\"closest\",\"mapbox\":{\"style\":\"light\"},\"paper_bgcolor\":\"white\",\"plot_bgcolor\":\"#E5ECF6\",\"polar\":{\"angularaxis\":{\"gridcolor\":\"white\",\"linecolor\":\"white\",\"ticks\":\"\"},\"bgcolor\":\"#E5ECF6\",\"radialaxis\":{\"gridcolor\":\"white\",\"linecolor\":\"white\",\"ticks\":\"\"}},\"scene\":{\"xaxis\":{\"backgroundcolor\":\"#E5ECF6\",\"gridcolor\":\"white\",\"gridwidth\":2,\"linecolor\":\"white\",\"showbackground\":true,\"ticks\":\"\",\"zerolinecolor\":\"white\"},\"yaxis\":{\"backgroundcolor\":\"#E5ECF6\",\"gridcolor\":\"white\",\"gridwidth\":2,\"linecolor\":\"white\",\"showbackground\":true,\"ticks\":\"\",\"zerolinecolor\":\"white\"},\"zaxis\":{\"backgroundcolor\":\"#E5ECF6\",\"gridcolor\":\"white\",\"gridwidth\":2,\"linecolor\":\"white\",\"showbackground\":true,\"ticks\":\"\",\"zerolinecolor\":\"white\"}},\"shapedefaults\":{\"line\":{\"color\":\"#2a3f5f\"}},\"ternary\":{\"aaxis\":{\"gridcolor\":\"white\",\"linecolor\":\"white\",\"ticks\":\"\"},\"baxis\":{\"gridcolor\":\"white\",\"linecolor\":\"white\",\"ticks\":\"\"},\"bgcolor\":\"#E5ECF6\",\"caxis\":{\"gridcolor\":\"white\",\"linecolor\":\"white\",\"ticks\":\"\"}},\"title\":{\"x\":0.05},\"xaxis\":{\"automargin\":true,\"gridcolor\":\"white\",\"linecolor\":\"white\",\"ticks\":\"\",\"title\":{\"standoff\":15},\"zerolinecolor\":\"white\",\"zerolinewidth\":2},\"yaxis\":{\"automargin\":true,\"gridcolor\":\"white\",\"linecolor\":\"white\",\"ticks\":\"\",\"title\":{\"standoff\":15},\"zerolinecolor\":\"white\",\"zerolinewidth\":2}}},\"title\":{\"text\":\"Top 3 and Bottom 3 Gross Margin Stores\"},\"xaxis\":{\"title\":{\"text\":\"Store (Size)\"}},\"yaxis\":{\"title\":{\"text\":\"Gross Margin (%)\"}},\"barmode\":\"group\",\"plot_bgcolor\":\"rgba(0, 0, 0, 0)\"},                        {\"responsive\": true}                    ).then(function(){\n",
       "                            \n",
       "var gd = document.getElementById('2259bd36-b8ae-487d-86ba-1141f2b0b505');\n",
       "var x = new MutationObserver(function (mutations, observer) {{\n",
       "        var display = window.getComputedStyle(gd).display;\n",
       "        if (!display || display === 'none') {{\n",
       "            console.log([gd, 'removed!']);\n",
       "            Plotly.purge(gd);\n",
       "            observer.disconnect();\n",
       "        }}\n",
       "}});\n",
       "\n",
       "// Listen for the removal of the full notebook cells\n",
       "var notebookContainer = gd.closest('#notebook-container');\n",
       "if (notebookContainer) {{\n",
       "    x.observe(notebookContainer, {childList: true});\n",
       "}}\n",
       "\n",
       "// Listen for the clearing of the current output cell\n",
       "var outputEl = gd.closest('.output');\n",
       "if (outputEl) {{\n",
       "    x.observe(outputEl, {childList: true});\n",
       "}}\n",
       "\n",
       "                        })                };                });            </script>        </div>"
      ]
     },
     "metadata": {},
     "output_type": "display_data"
    }
   ],
   "source": [
    "import pandas as pd\n",
    "import plotly.graph_objs as go\n",
    "\n",
    "# Create the DataFrame\n",
    "data = {'store': [27, 21, 20, 27, 11, 20],\n",
    "        'size': ['No Size', 'S/M', 'S/M', 'S/M', 'M/L', 'M/L'],\n",
    "        'gross_margin': [0.747500, 0.736665, 0.719970, 0.453844, 0.523583, 0.546148],\n",
    "        'category': ['Highest'] * 3 + ['Lowest'] * 3}\n",
    "\n",
    "df = pd.DataFrame(data)\n",
    "\n",
    "# Create a grouped bar chart\n",
    "fig = go.Figure()\n",
    "\n",
    "# Define the color scale\n",
    "color_scale = {'Highest': '#1f77b4', 'Lowest': '#aec7e8'}\n",
    "\n",
    "for category in ['Highest', 'Lowest']:\n",
    "    category_df = df[df['category'] == category]\n",
    "    fig.add_trace(go.Bar(\n",
    "        x=category_df['store'].astype(str) + \" (\" + category_df['size'] + \")\",\n",
    "        y=category_df['gross_margin'] * 100,\n",
    "        name=category,\n",
    "        marker=dict(color=color_scale[category]),\n",
    "        legendgroup=category\n",
    "    ))\n",
    "\n",
    "fig.update_layout(\n",
    "    title=\"Top 3 and Bottom 3 Gross Margin Stores\",\n",
    "    xaxis_title=\"Store (Size)\",\n",
    "    yaxis_title=\"Gross Margin (%)\",\n",
    "    barmode='group',\n",
    "    plot_bgcolor='rgba(0, 0, 0, 0)'\n",
    ")\n",
    "\n",
    "fig.show()\n"
   ]
  },
  {
   "cell_type": "code",
   "execution_count": 104,
   "id": "9913e3f2",
   "metadata": {},
   "outputs": [
    {
     "name": "stdout",
     "output_type": "stream",
     "text": [
      "   store     size  gross_margin category\n",
      "0     27  No Size      0.747500  Highest\n",
      "1     21      S/M      0.736665  Highest\n",
      "2     20      S/M      0.719970  Highest\n",
      "3     20      M/L      0.546148   Lowest\n",
      "4     11      M/L      0.523583   Lowest\n",
      "5     27      S/M      0.453844   Lowest\n"
     ]
    }
   ],
   "source": [
    "# Print the results in a tabular format\n",
    "print(df.sort_values(by=['category', 'gross_margin'], ascending=[True, False]).reset_index(drop=True))\n"
   ]
  },
  {
   "cell_type": "code",
   "execution_count": 105,
   "id": "be24dafe",
   "metadata": {},
   "outputs": [],
   "source": [
    "#Flagging the items that are going on clearance sale\n",
    "merged_df['product clearance'] = merged_df['unit.current.retail'].apply(lambda x: 1 if str(x)[-2:] == '97' or str(x)[-2:] == '98' else 0)"
   ]
  },
  {
   "cell_type": "code",
   "execution_count": 106,
   "id": "f9ab9fa0",
   "metadata": {},
   "outputs": [
    {
     "data": {
      "text/plain": [
       "0        0\n",
       "1        0\n",
       "2        1\n",
       "3        1\n",
       "4        1\n",
       "        ..\n",
       "50922    1\n",
       "50923    1\n",
       "50924    0\n",
       "50925    0\n",
       "50926    0\n",
       "Name: product clearance, Length: 55445, dtype: int64"
      ]
     },
     "execution_count": 106,
     "metadata": {},
     "output_type": "execute_result"
    }
   ],
   "source": [
    "merged_df['product clearance']"
   ]
  },
  {
   "cell_type": "code",
   "execution_count": 107,
   "id": "5d82d9c3",
   "metadata": {},
   "outputs": [
    {
     "data": {
      "text/plain": [
       "0    44106\n",
       "1    11339\n",
       "Name: product clearance, dtype: int64"
      ]
     },
     "execution_count": 107,
     "metadata": {},
     "output_type": "execute_result"
    }
   ],
   "source": [
    "merged_df['product clearance'].value_counts()"
   ]
  },
  {
   "cell_type": "code",
   "execution_count": 127,
   "id": "50bab4e5",
   "metadata": {},
   "outputs": [
    {
     "data": {
      "text/plain": [
       "store\n",
       "3     1269\n",
       "7     1354\n",
       "11     937\n",
       "13     575\n",
       "14    1319\n",
       "16     684\n",
       "19    2230\n",
       "20    1505\n",
       "21     675\n",
       "27     791\n",
       "Name: product clearance, dtype: int64"
      ]
     },
     "execution_count": 127,
     "metadata": {},
     "output_type": "execute_result"
    }
   ],
   "source": [
    "storewise_clearance=merged_df.groupby(['store'])['product clearance'].sum()\n",
    "storewise_clearance"
   ]
  },
  {
   "cell_type": "markdown",
   "id": "66071e38",
   "metadata": {},
   "source": [
    "# Graph for storewise clearance "
   ]
  },
  {
   "cell_type": "code",
   "execution_count": 128,
   "id": "856181ff",
   "metadata": {},
   "outputs": [],
   "source": [
    "import pandas as pd\n",
    "\n",
    "# Assuming that you have a DataFrame named merged_df that contains the data\n",
    "\n",
    "# Calculate the total clearance for each store\n",
    "storewise_clearance = merged_df.groupby('store')['product clearance'].sum()\n",
    "\n",
    "# Convert the result to a DataFrame and reset the index\n",
    "clearance_df = pd.DataFrame({'store': storewise_clearance.index, 'clearance': storewise_clearance.values})\n",
    "\n",
    "# Sort the DataFrame by clearance in descending order\n",
    "clearance_df = clearance_df.sort_values('clearance', ascending=False)\n"
   ]
  },
  {
   "cell_type": "code",
   "execution_count": 130,
   "id": "4d49ede7",
   "metadata": {},
   "outputs": [
    {
     "data": {
      "image/png": "[encoded data removed]",
      "text/plain": [
       "<Figure size 1080x720 with 1 Axes>"
      ]
     },
     "metadata": {},
     "output_type": "display_data"
    }
   ],
   "source": [
    "import matplotlib.pyplot as plt\n",
    "import seaborn as sns\n",
    "\n",
    "# Assuming your DataFrame is named clearance_df\n",
    "storewise_clearance = clearance_df.groupby('store')['clearance'].sum()\n",
    "storewise_clearance_sorted = storewise_clearance.sort_values(ascending=False)\n",
    "\n",
    "# Create the bar chart using the sorted DataFrame and light green color\n",
    "plt.figure(figsize=(15, 10))\n",
    "sns.set_theme(style='darkgrid')\n",
    "ax = sns.barplot(x=storewise_clearance_sorted.index, y=storewise_clearance_sorted.values, color='lightgreen')\n",
    "\n",
    "# Set the background color to white\n",
    "ax.set_facecolor(\"white\")\n",
    "\n",
    "# Set the title and labels\n",
    "plt.title(\"Store-wise Clearance Percentage\", fontsize=16)\n",
    "plt.xlabel(\"Store\", fontsize=14)\n",
    "plt.ylabel(\"Clearance Percentage\", fontsize=14)\n",
    "\n",
    "# Show the bar chart\n",
    "plt.show()\n"
   ]
  },
  {
   "cell_type": "code",
   "execution_count": 131,
   "id": "c4f274f2",
   "metadata": {},
   "outputs": [
    {
     "data": {
      "text/plain": [
       "Index(['store', 'sale.date', 'tran.no', 'tran.type', 'cashier', 'size',\n",
       "       'color', 'class.desc', 'sub.class.desc', 'unit', 'unit.cost',\n",
       "       'sale.amt', 'unit.current.retail', 'unit.original.retail',\n",
       "       'gross_margin', 'cost', 'season', 'product clearance'],\n",
       "      dtype='object')"
      ]
     },
     "execution_count": 131,
     "metadata": {},
     "output_type": "execute_result"
    }
   ],
   "source": [
    "merged_df.columns"
   ]
  },
  {
   "cell_type": "code",
   "execution_count": 132,
   "id": "a4e10e73",
   "metadata": {},
   "outputs": [
    {
     "data": {
      "text/html": [
       "<div>\n",
       "<style scoped>\n",
       "    .dataframe tbody tr th:only-of-type {\n",
       "        vertical-align: middle;\n",
       "    }\n",
       "\n",
       "    .dataframe tbody tr th {\n",
       "        vertical-align: top;\n",
       "    }\n",
       "\n",
       "    .dataframe thead th {\n",
       "        text-align: right;\n",
       "    }\n",
       "</style>\n",
       "<table border=\"1\" class=\"dataframe\">\n",
       "  <thead>\n",
       "    <tr style=\"text-align: right;\">\n",
       "      <th></th>\n",
       "      <th>store</th>\n",
       "      <th>sale.date</th>\n",
       "      <th>tran.no</th>\n",
       "      <th>tran.type</th>\n",
       "      <th>cashier</th>\n",
       "      <th>size</th>\n",
       "      <th>color</th>\n",
       "      <th>class.desc</th>\n",
       "      <th>sub.class.desc</th>\n",
       "      <th>unit</th>\n",
       "      <th>unit.cost</th>\n",
       "      <th>sale.amt</th>\n",
       "      <th>unit.current.retail</th>\n",
       "      <th>unit.original.retail</th>\n",
       "      <th>gross_margin</th>\n",
       "      <th>cost</th>\n",
       "      <th>season</th>\n",
       "      <th>product clearance</th>\n",
       "    </tr>\n",
       "  </thead>\n",
       "  <tbody>\n",
       "    <tr>\n",
       "      <th>0</th>\n",
       "      <td>19</td>\n",
       "      <td>2019-01-01</td>\n",
       "      <td>15553</td>\n",
       "      <td>S</td>\n",
       "      <td>2</td>\n",
       "      <td>MED</td>\n",
       "      <td>Ivory</td>\n",
       "      <td>Fashion Tops</td>\n",
       "      <td>Button Down</td>\n",
       "      <td>1</td>\n",
       "      <td>9.70</td>\n",
       "      <td>31.49</td>\n",
       "      <td>40.00</td>\n",
       "      <td>40.0</td>\n",
       "      <td>0.691966</td>\n",
       "      <td>9.70</td>\n",
       "      <td>Winter</td>\n",
       "      <td>0</td>\n",
       "    </tr>\n",
       "    <tr>\n",
       "      <th>1</th>\n",
       "      <td>19</td>\n",
       "      <td>2019-01-01</td>\n",
       "      <td>15555</td>\n",
       "      <td>S</td>\n",
       "      <td>2</td>\n",
       "      <td>SM</td>\n",
       "      <td>FOREST GREEN</td>\n",
       "      <td>Fashion Tops</td>\n",
       "      <td>Blouse</td>\n",
       "      <td>1</td>\n",
       "      <td>8.37</td>\n",
       "      <td>48.00</td>\n",
       "      <td>48.00</td>\n",
       "      <td>48.0</td>\n",
       "      <td>0.825625</td>\n",
       "      <td>8.37</td>\n",
       "      <td>Winter</td>\n",
       "      <td>0</td>\n",
       "    </tr>\n",
       "    <tr>\n",
       "      <th>2</th>\n",
       "      <td>19</td>\n",
       "      <td>2019-01-01</td>\n",
       "      <td>15557</td>\n",
       "      <td>S</td>\n",
       "      <td>2</td>\n",
       "      <td>MED</td>\n",
       "      <td>Black</td>\n",
       "      <td>Fashion Tops</td>\n",
       "      <td>Blouse</td>\n",
       "      <td>1</td>\n",
       "      <td>9.60</td>\n",
       "      <td>12.75</td>\n",
       "      <td>21.98</td>\n",
       "      <td>40.0</td>\n",
       "      <td>0.247059</td>\n",
       "      <td>9.60</td>\n",
       "      <td>Winter</td>\n",
       "      <td>1</td>\n",
       "    </tr>\n",
       "    <tr>\n",
       "      <th>3</th>\n",
       "      <td>19</td>\n",
       "      <td>2019-01-01</td>\n",
       "      <td>15557</td>\n",
       "      <td>S</td>\n",
       "      <td>2</td>\n",
       "      <td>MED</td>\n",
       "      <td>Ivory</td>\n",
       "      <td>Fashion Tops</td>\n",
       "      <td>Blouse</td>\n",
       "      <td>1</td>\n",
       "      <td>11.23</td>\n",
       "      <td>16.23</td>\n",
       "      <td>27.98</td>\n",
       "      <td>44.0</td>\n",
       "      <td>0.308071</td>\n",
       "      <td>11.23</td>\n",
       "      <td>Winter</td>\n",
       "      <td>1</td>\n",
       "    </tr>\n",
       "    <tr>\n",
       "      <th>4</th>\n",
       "      <td>19</td>\n",
       "      <td>2019-01-01</td>\n",
       "      <td>15561</td>\n",
       "      <td>S</td>\n",
       "      <td>2</td>\n",
       "      <td>Extra Small</td>\n",
       "      <td>Ivory</td>\n",
       "      <td>Fashion Tops</td>\n",
       "      <td>Blouse</td>\n",
       "      <td>1</td>\n",
       "      <td>11.23</td>\n",
       "      <td>14.95</td>\n",
       "      <td>27.98</td>\n",
       "      <td>44.0</td>\n",
       "      <td>0.248829</td>\n",
       "      <td>11.23</td>\n",
       "      <td>Winter</td>\n",
       "      <td>1</td>\n",
       "    </tr>\n",
       "  </tbody>\n",
       "</table>\n",
       "</div>"
      ],
      "text/plain": [
       "   store  sale.date  tran.no tran.type  cashier         size         color  \\\n",
       "0     19 2019-01-01    15553         S        2          MED         Ivory   \n",
       "1     19 2019-01-01    15555         S        2           SM  FOREST GREEN   \n",
       "2     19 2019-01-01    15557         S        2          MED         Black   \n",
       "3     19 2019-01-01    15557         S        2          MED         Ivory   \n",
       "4     19 2019-01-01    15561         S        2  Extra Small         Ivory   \n",
       "\n",
       "     class.desc sub.class.desc  unit  unit.cost  sale.amt  \\\n",
       "0  Fashion Tops    Button Down     1       9.70     31.49   \n",
       "1  Fashion Tops         Blouse     1       8.37     48.00   \n",
       "2  Fashion Tops         Blouse     1       9.60     12.75   \n",
       "3  Fashion Tops         Blouse     1      11.23     16.23   \n",
       "4  Fashion Tops         Blouse     1      11.23     14.95   \n",
       "\n",
       "   unit.current.retail  unit.original.retail  gross_margin   cost  season  \\\n",
       "0                40.00                  40.0      0.691966   9.70  Winter   \n",
       "1                48.00                  48.0      0.825625   8.37  Winter   \n",
       "2                21.98                  40.0      0.247059   9.60  Winter   \n",
       "3                27.98                  44.0      0.308071  11.23  Winter   \n",
       "4                27.98                  44.0      0.248829  11.23  Winter   \n",
       "\n",
       "   product clearance  \n",
       "0                  0  \n",
       "1                  0  \n",
       "2                  1  \n",
       "3                  1  \n",
       "4                  1  "
      ]
     },
     "execution_count": 132,
     "metadata": {},
     "output_type": "execute_result"
    }
   ],
   "source": [
    "merged_df.head()"
   ]
  },
  {
   "cell_type": "code",
   "execution_count": 133,
   "id": "6739822d",
   "metadata": {},
   "outputs": [
    {
     "data": {
      "text/plain": [
       "season\n",
       "Fall      2390\n",
       "Spring    3962\n",
       "Summer    2259\n",
       "Winter    2728\n",
       "Name: product clearance, dtype: int64"
      ]
     },
     "execution_count": 133,
     "metadata": {},
     "output_type": "execute_result"
    }
   ],
   "source": [
    "season_wise_clearance=merged_df.groupby(['season'])['product clearance'].sum()\n",
    "season_wise_clearance"
   ]
  },
  {
   "cell_type": "code",
   "execution_count": 134,
   "id": "0da7e2d5",
   "metadata": {},
   "outputs": [
    {
     "data": {
      "text/plain": [
       "season  store\n",
       "Fall    3        14.518828\n",
       "        7        11.129707\n",
       "        11        8.995816\n",
       "        13        3.430962\n",
       "        14       15.523013\n",
       "        16        4.686192\n",
       "        19       15.564854\n",
       "        20       13.556485\n",
       "        21        6.150628\n",
       "        27        6.443515\n",
       "Spring  3        10.121151\n",
       "        7        10.146391\n",
       "        11        7.218576\n",
       "        13        8.101969\n",
       "        14       10.752145\n",
       "        16        7.521454\n",
       "        19       21.049975\n",
       "        20       12.342251\n",
       "        21        4.921757\n",
       "        27        7.824331\n",
       "Summer  3        14.519699\n",
       "        7        15.714918\n",
       "        11        9.384683\n",
       "        13        2.257636\n",
       "        14       12.616202\n",
       "        16        4.205401\n",
       "        19       14.431164\n",
       "        20       15.095175\n",
       "        21        5.976096\n",
       "        27        5.799026\n",
       "Winter  3         7.074780\n",
       "        7        12.133431\n",
       "        11        8.211144\n",
       "        13        4.435484\n",
       "        14        8.687683\n",
       "        16        6.561584\n",
       "        19       25.586510\n",
       "        20       12.866569\n",
       "        21        7.258065\n",
       "        27        7.184751\n",
       "Name: product clearance, dtype: float64"
      ]
     },
     "execution_count": 134,
     "metadata": {},
     "output_type": "execute_result"
    }
   ],
   "source": [
    "season_wise_storewise_clearance=merged_df.groupby(['season','store'])['product clearance'].sum()\n",
    "season_wise_storewise_clearance\n",
    "total_clearance_each_season=merged_df.groupby(['season'])['product clearance'].sum()\n",
    "perc_clearance_seasonwise=season_wise_storewise_clearance/total_clearance_each_season*100\n",
    "perc_clearance_seasonwise"
   ]
  },
  {
   "cell_type": "code",
   "execution_count": 135,
   "id": "6a545a3e",
   "metadata": {},
   "outputs": [
    {
     "data": {
      "application/vnd.plotly.v1+json": {
       "config": {
        "plotlyServerURL": "https://plot.ly"
       },
       "data": [
        {
         "legendgroup": "Highest",
         "marker": {
          "color": "#fdae6b"
         },
         "name": "Highest",
         "showlegend": true,
         "type": "bar",
         "x": [
          "Store 19"
         ],
         "xaxis": "x",
         "y": [
          15.564853556485355
         ],
         "yaxis": "y"
        },
        {
         "legendgroup": "Lowest",
         "marker": {
          "color": "#e6550d"
         },
         "name": "Lowest",
         "showlegend": true,
         "type": "bar",
         "x": [
          "Store 13"
         ],
         "xaxis": "x",
         "y": [
          3.430962343096234
         ],
         "yaxis": "y"
        },
        {
         "legendgroup": "Highest",
         "marker": {
          "color": "#fdae6b"
         },
         "name": "Highest",
         "showlegend": false,
         "type": "bar",
         "x": [
          "Store 19"
         ],
         "xaxis": "x2",
         "y": [
          21.04997476022211
         ],
         "yaxis": "y2"
        },
        {
         "legendgroup": "Lowest",
         "marker": {
          "color": "#e6550d"
         },
         "name": "Lowest",
         "showlegend": false,
         "type": "bar",
         "x": [
          "Store 21"
         ],
         "xaxis": "x2",
         "y": [
          4.921756688541141
         ],
         "yaxis": "y2"
        },
        {
         "legendgroup": "Highest",
         "marker": {
          "color": "#fdae6b"
         },
         "name": "Highest",
         "showlegend": false,
         "type": "bar",
         "x": [
          "Store 7"
         ],
         "xaxis": "x3",
         "y": [
          15.714918105356352
         ],
         "yaxis": "y3"
        },
        {
         "legendgroup": "Lowest",
         "marker": {
          "color": "#e6550d"
         },
         "name": "Lowest",
         "showlegend": false,
         "type": "bar",
         "x": [
          "Store 13"
         ],
         "xaxis": "x3",
         "y": [
          2.257636122177955
         ],
         "yaxis": "y3"
        },
        {
         "legendgroup": "Highest",
         "marker": {
          "color": "#fdae6b"
         },
         "name": "Highest",
         "showlegend": false,
         "type": "bar",
         "x": [
          "Store 19"
         ],
         "xaxis": "x4",
         "y": [
          25.58651026392962
         ],
         "yaxis": "y4"
        },
        {
         "legendgroup": "Lowest",
         "marker": {
          "color": "#e6550d"
         },
         "name": "Lowest",
         "showlegend": false,
         "type": "bar",
         "x": [
          "Store 13"
         ],
         "xaxis": "x4",
         "y": [
          4.435483870967742
         ],
         "yaxis": "y4"
        }
       ],
       "layout": {
        "annotations": [
         {
          "font": {
           "size": 16
          },
          "showarrow": false,
          "text": "Fall",
          "x": 0.10625,
          "xanchor": "center",
          "xref": "paper",
          "y": 1,
          "yanchor": "bottom",
          "yref": "paper"
         },
         {
          "font": {
           "size": 16
          },
          "showarrow": false,
          "text": "Spring",
          "x": 0.36875,
          "xanchor": "center",
          "xref": "paper",
          "y": 1,
          "yanchor": "bottom",
          "yref": "paper"
         },
         {
          "font": {
           "size": 16
          },
          "showarrow": false,
          "text": "Summer",
          "x": 0.6312500000000001,
          "xanchor": "center",
          "xref": "paper",
          "y": 1,
          "yanchor": "bottom",
          "yref": "paper"
         },
         {
          "font": {
           "size": 16
          },
          "showarrow": false,
          "text": "Winter",
          "x": 0.89375,
          "xanchor": "center",
          "xref": "paper",
          "y": 1,
          "yanchor": "bottom",
          "yref": "paper"
         }
        ],
        "barmode": "group",
        "plot_bgcolor": "rgba(0,0,0,0)",
        "template": {
         "data": {
          "bar": [
           {
            "error_x": {
             "color": "#2a3f5f"
            },
            "error_y": {
             "color": "#2a3f5f"
            },
            "marker": {
             "line": {
              "color": "#E5ECF6",
              "width": 0.5
             },
             "pattern": {
              "fillmode": "overlay",
              "size": 10,
              "solidity": 0.2
             }
            },
            "type": "bar"
           }
          ],
          "barpolar": [
           {
            "marker": {
             "line": {
              "color": "#E5ECF6",
              "width": 0.5
             },
             "pattern": {
              "fillmode": "overlay",
              "size": 10,
              "solidity": 0.2
             }
            },
            "type": "barpolar"
           }
          ],
          "carpet": [
           {
            "aaxis": {
             "endlinecolor": "#2a3f5f",
             "gridcolor": "white",
             "linecolor": "white",
             "minorgridcolor": "white",
             "startlinecolor": "#2a3f5f"
            },
            "baxis": {
             "endlinecolor": "#2a3f5f",
             "gridcolor": "white",
             "linecolor": "white",
             "minorgridcolor": "white",
             "startlinecolor": "#2a3f5f"
            },
            "type": "carpet"
           }
          ],
          "choropleth": [
           {
            "colorbar": {
             "outlinewidth": 0,
             "ticks": ""
            },
            "type": "choropleth"
           }
          ],
          "contour": [
           {
            "colorbar": {
             "outlinewidth": 0,
             "ticks": ""
            },
            "colorscale": [
             [
              0,
              "#0d0887"
             ],
             [
              0.1111111111111111,
              "#46039f"
             ],
             [
              0.2222222222222222,
              "#7201a8"
             ],
             [
              0.3333333333333333,
              "#9c179e"
             ],
             [
              0.4444444444444444,
              "#bd3786"
             ],
             [
              0.5555555555555556,
              "#d8576b"
             ],
             [
              0.6666666666666666,
              "#ed7953"
             ],
             [
              0.7777777777777778,
              "#fb9f3a"
             ],
             [
              0.8888888888888888,
              "#fdca26"
             ],
             [
              1,
              "#f0f921"
             ]
            ],
            "type": "contour"
           }
          ],
          "contourcarpet": [
           {
            "colorbar": {
             "outlinewidth": 0,
             "ticks": ""
            },
            "type": "contourcarpet"
           }
          ],
          "heatmap": [
           {
            "colorbar": {
             "outlinewidth": 0,
             "ticks": ""
            },
            "colorscale": [
             [
              0,
              "#0d0887"
             ],
             [
              0.1111111111111111,
              "#46039f"
             ],
             [
              0.2222222222222222,
              "#7201a8"
             ],
             [
              0.3333333333333333,
              "#9c179e"
             ],
             [
              0.4444444444444444,
              "#bd3786"
             ],
             [
              0.5555555555555556,
              "#d8576b"
             ],
             [
              0.6666666666666666,
              "#ed7953"
             ],
             [
              0.7777777777777778,
              "#fb9f3a"
             ],
             [
              0.8888888888888888,
              "#fdca26"
             ],
             [
              1,
              "#f0f921"
             ]
            ],
            "type": "heatmap"
           }
          ],
          "heatmapgl": [
           {
            "colorbar": {
             "outlinewidth": 0,
             "ticks": ""
            },
            "colorscale": [
             [
              0,
              "#0d0887"
             ],
             [
              0.1111111111111111,
              "#46039f"
             ],
             [
              0.2222222222222222,
              "#7201a8"
             ],
             [
              0.3333333333333333,
              "#9c179e"
             ],
             [
              0.4444444444444444,
              "#bd3786"
             ],
             [
              0.5555555555555556,
              "#d8576b"
             ],
             [
              0.6666666666666666,
              "#ed7953"
             ],
             [
              0.7777777777777778,
              "#fb9f3a"
             ],
             [
              0.8888888888888888,
              "#fdca26"
             ],
             [
              1,
              "#f0f921"
             ]
            ],
            "type": "heatmapgl"
           }
          ],
          "histogram": [
           {
            "marker": {
             "pattern": {
              "fillmode": "overlay",
              "size": 10,
              "solidity": 0.2
             }
            },
            "type": "histogram"
           }
          ],
          "histogram2d": [
           {
            "colorbar": {
             "outlinewidth": 0,
             "ticks": ""
            },
            "colorscale": [
             [
              0,
              "#0d0887"
             ],
             [
              0.1111111111111111,
              "#46039f"
             ],
             [
              0.2222222222222222,
              "#7201a8"
             ],
             [
              0.3333333333333333,
              "#9c179e"
             ],
             [
              0.4444444444444444,
              "#bd3786"
             ],
             [
              0.5555555555555556,
              "#d8576b"
             ],
             [
              0.6666666666666666,
              "#ed7953"
             ],
             [
              0.7777777777777778,
              "#fb9f3a"
             ],
             [
              0.8888888888888888,
              "#fdca26"
             ],
             [
              1,
              "#f0f921"
             ]
            ],
            "type": "histogram2d"
           }
          ],
          "histogram2dcontour": [
           {
            "colorbar": {
             "outlinewidth": 0,
             "ticks": ""
            },
            "colorscale": [
             [
              0,
              "#0d0887"
             ],
             [
              0.1111111111111111,
              "#46039f"
             ],
             [
              0.2222222222222222,
              "#7201a8"
             ],
             [
              0.3333333333333333,
              "#9c179e"
             ],
             [
              0.4444444444444444,
              "#bd3786"
             ],
             [
              0.5555555555555556,
              "#d8576b"
             ],
             [
              0.6666666666666666,
              "#ed7953"
             ],
             [
              0.7777777777777778,
              "#fb9f3a"
             ],
             [
              0.8888888888888888,
              "#fdca26"
             ],
             [
              1,
              "#f0f921"
             ]
            ],
            "type": "histogram2dcontour"
           }
          ],
          "mesh3d": [
           {
            "colorbar": {
             "outlinewidth": 0,
             "ticks": ""
            },
            "type": "mesh3d"
           }
          ],
          "parcoords": [
           {
            "line": {
             "colorbar": {
              "outlinewidth": 0,
              "ticks": ""
             }
            },
            "type": "parcoords"
           }
          ],
          "pie": [
           {
            "automargin": true,
            "type": "pie"
           }
          ],
          "scatter": [
           {
            "marker": {
             "colorbar": {
              "outlinewidth": 0,
              "ticks": ""
             }
            },
            "type": "scatter"
           }
          ],
          "scatter3d": [
           {
            "line": {
             "colorbar": {
              "outlinewidth": 0,
              "ticks": ""
             }
            },
            "marker": {
             "colorbar": {
              "outlinewidth": 0,
              "ticks": ""
             }
            },
            "type": "scatter3d"
           }
          ],
          "scattercarpet": [
           {
            "marker": {
             "colorbar": {
              "outlinewidth": 0,
              "ticks": ""
             }
            },
            "type": "scattercarpet"
           }
          ],
          "scattergeo": [
           {
            "marker": {
             "colorbar": {
              "outlinewidth": 0,
              "ticks": ""
             }
            },
            "type": "scattergeo"
           }
          ],
          "scattergl": [
           {
            "marker": {
             "colorbar": {
              "outlinewidth": 0,
              "ticks": ""
             }
            },
            "type": "scattergl"
           }
          ],
          "scattermapbox": [
           {
            "marker": {
             "colorbar": {
              "outlinewidth": 0,
              "ticks": ""
             }
            },
            "type": "scattermapbox"
           }
          ],
          "scatterpolar": [
           {
            "marker": {
             "colorbar": {
              "outlinewidth": 0,
              "ticks": ""
             }
            },
            "type": "scatterpolar"
           }
          ],
          "scatterpolargl": [
           {
            "marker": {
             "colorbar": {
              "outlinewidth": 0,
              "ticks": ""
             }
            },
            "type": "scatterpolargl"
           }
          ],
          "scatterternary": [
           {
            "marker": {
             "colorbar": {
              "outlinewidth": 0,
              "ticks": ""
             }
            },
            "type": "scatterternary"
           }
          ],
          "surface": [
           {
            "colorbar": {
             "outlinewidth": 0,
             "ticks": ""
            },
            "colorscale": [
             [
              0,
              "#0d0887"
             ],
             [
              0.1111111111111111,
              "#46039f"
             ],
             [
              0.2222222222222222,
              "#7201a8"
             ],
             [
              0.3333333333333333,
              "#9c179e"
             ],
             [
              0.4444444444444444,
              "#bd3786"
             ],
             [
              0.5555555555555556,
              "#d8576b"
             ],
             [
              0.6666666666666666,
              "#ed7953"
             ],
             [
              0.7777777777777778,
              "#fb9f3a"
             ],
             [
              0.8888888888888888,
              "#fdca26"
             ],
             [
              1,
              "#f0f921"
             ]
            ],
            "type": "surface"
           }
          ],
          "table": [
           {
            "cells": {
             "fill": {
              "color": "#EBF0F8"
             },
             "line": {
              "color": "white"
             }
            },
            "header": {
             "fill": {
              "color": "#C8D4E3"
             },
             "line": {
              "color": "white"
             }
            },
            "type": "table"
           }
          ]
         },
         "layout": {
          "annotationdefaults": {
           "arrowcolor": "#2a3f5f",
           "arrowhead": 0,
           "arrowwidth": 1
          },
          "autotypenumbers": "strict",
          "coloraxis": {
           "colorbar": {
            "outlinewidth": 0,
            "ticks": ""
           }
          },
          "colorscale": {
           "diverging": [
            [
             0,
             "#8e0152"
            ],
            [
             0.1,
             "#c51b7d"
            ],
            [
             0.2,
             "#de77ae"
            ],
            [
             0.3,
             "#f1b6da"
            ],
            [
             0.4,
             "#fde0ef"
            ],
            [
             0.5,
             "#f7f7f7"
            ],
            [
             0.6,
             "#e6f5d0"
            ],
            [
             0.7,
             "#b8e186"
            ],
            [
             0.8,
             "#7fbc41"
            ],
            [
             0.9,
             "#4d9221"
            ],
            [
             1,
             "#276419"
            ]
           ],
           "sequential": [
            [
             0,
             "#0d0887"
            ],
            [
             0.1111111111111111,
             "#46039f"
            ],
            [
             0.2222222222222222,
             "#7201a8"
            ],
            [
             0.3333333333333333,
             "#9c179e"
            ],
            [
             0.4444444444444444,
             "#bd3786"
            ],
            [
             0.5555555555555556,
             "#d8576b"
            ],
            [
             0.6666666666666666,
             "#ed7953"
            ],
            [
             0.7777777777777778,
             "#fb9f3a"
            ],
            [
             0.8888888888888888,
             "#fdca26"
            ],
            [
             1,
             "#f0f921"
            ]
           ],
           "sequentialminus": [
            [
             0,
             "#0d0887"
            ],
            [
             0.1111111111111111,
             "#46039f"
            ],
            [
             0.2222222222222222,
             "#7201a8"
            ],
            [
             0.3333333333333333,
             "#9c179e"
            ],
            [
             0.4444444444444444,
             "#bd3786"
            ],
            [
             0.5555555555555556,
             "#d8576b"
            ],
            [
             0.6666666666666666,
             "#ed7953"
            ],
            [
             0.7777777777777778,
             "#fb9f3a"
            ],
            [
             0.8888888888888888,
             "#fdca26"
            ],
            [
             1,
             "#f0f921"
            ]
           ]
          },
          "colorway": [
           "#636efa",
           "#EF553B",
           "#00cc96",
           "#ab63fa",
           "#FFA15A",
           "#19d3f3",
           "#FF6692",
           "#B6E880",
           "#FF97FF",
           "#FECB52"
          ],
          "font": {
           "color": "#2a3f5f"
          },
          "geo": {
           "bgcolor": "white",
           "lakecolor": "white",
           "landcolor": "#E5ECF6",
           "showlakes": true,
           "showland": true,
           "subunitcolor": "white"
          },
          "hoverlabel": {
           "align": "left"
          },
          "hovermode": "closest",
          "mapbox": {
           "style": "light"
          },
          "paper_bgcolor": "white",
          "plot_bgcolor": "#E5ECF6",
          "polar": {
           "angularaxis": {
            "gridcolor": "white",
            "linecolor": "white",
            "ticks": ""
           },
           "bgcolor": "#E5ECF6",
           "radialaxis": {
            "gridcolor": "white",
            "linecolor": "white",
            "ticks": ""
           }
          },
          "scene": {
           "xaxis": {
            "backgroundcolor": "#E5ECF6",
            "gridcolor": "white",
            "gridwidth": 2,
            "linecolor": "white",
            "showbackground": true,
            "ticks": "",
            "zerolinecolor": "white"
           },
           "yaxis": {
            "backgroundcolor": "#E5ECF6",
            "gridcolor": "white",
            "gridwidth": 2,
            "linecolor": "white",
            "showbackground": true,
            "ticks": "",
            "zerolinecolor": "white"
           },
           "zaxis": {
            "backgroundcolor": "#E5ECF6",
            "gridcolor": "white",
            "gridwidth": 2,
            "linecolor": "white",
            "showbackground": true,
            "ticks": "",
            "zerolinecolor": "white"
           }
          },
          "shapedefaults": {
           "line": {
            "color": "#2a3f5f"
           }
          },
          "ternary": {
           "aaxis": {
            "gridcolor": "white",
            "linecolor": "white",
            "ticks": ""
           },
           "baxis": {
            "gridcolor": "white",
            "linecolor": "white",
            "ticks": ""
           },
           "bgcolor": "#E5ECF6",
           "caxis": {
            "gridcolor": "white",
            "linecolor": "white",
            "ticks": ""
           }
          },
          "title": {
           "x": 0.05
          },
          "xaxis": {
           "automargin": true,
           "gridcolor": "white",
           "linecolor": "white",
           "ticks": "",
           "title": {
            "standoff": 15
           },
           "zerolinecolor": "white",
           "zerolinewidth": 2
          },
          "yaxis": {
           "automargin": true,
           "gridcolor": "white",
           "linecolor": "white",
           "ticks": "",
           "title": {
            "standoff": 15
           },
           "zerolinecolor": "white",
           "zerolinewidth": 2
          }
         }
        },
        "title": {
         "text": "Seasonwise Highest and Lowest Product Clearance Stores"
        },
        "xaxis": {
         "anchor": "y",
         "domain": [
          0,
          0.2125
         ]
        },
        "xaxis2": {
         "anchor": "y2",
         "domain": [
          0.2625,
          0.475
         ]
        },
        "xaxis3": {
         "anchor": "y3",
         "domain": [
          0.525,
          0.7375
         ]
        },
        "xaxis4": {
         "anchor": "y4",
         "domain": [
          0.7875,
          1
         ]
        },
        "yaxis": {
         "anchor": "x",
         "domain": [
          0,
          1
         ]
        },
        "yaxis2": {
         "anchor": "x2",
         "domain": [
          0,
          1
         ]
        },
        "yaxis3": {
         "anchor": "x3",
         "domain": [
          0,
          1
         ]
        },
        "yaxis4": {
         "anchor": "x4",
         "domain": [
          0,
          1
         ]
        }
       }
      },
      "text/html": [
       "<div>                            <div id=\"0b876dda-2a88-438a-a978-0c48c2eedc1c\" class=\"plotly-graph-div\" style=\"height:525px; width:100%;\"></div>            <script type=\"text/javascript\">                require([\"plotly\"], function(Plotly) {                    window.PLOTLYENV=window.PLOTLYENV || {};                                    if (document.getElementById(\"0b876dda-2a88-438a-a978-0c48c2eedc1c\")) {                    Plotly.newPlot(                        \"0b876dda-2a88-438a-a978-0c48c2eedc1c\",                        [{\"legendgroup\":\"Highest\",\"marker\":{\"color\":\"#fdae6b\"},\"name\":\"Highest\",\"showlegend\":true,\"x\":[\"Store 19\"],\"y\":[15.564853556485355],\"type\":\"bar\",\"xaxis\":\"x\",\"yaxis\":\"y\"},{\"legendgroup\":\"Lowest\",\"marker\":{\"color\":\"#e6550d\"},\"name\":\"Lowest\",\"showlegend\":true,\"x\":[\"Store 13\"],\"y\":[3.430962343096234],\"type\":\"bar\",\"xaxis\":\"x\",\"yaxis\":\"y\"},{\"legendgroup\":\"Highest\",\"marker\":{\"color\":\"#fdae6b\"},\"name\":\"Highest\",\"showlegend\":false,\"x\":[\"Store 19\"],\"y\":[21.04997476022211],\"type\":\"bar\",\"xaxis\":\"x2\",\"yaxis\":\"y2\"},{\"legendgroup\":\"Lowest\",\"marker\":{\"color\":\"#e6550d\"},\"name\":\"Lowest\",\"showlegend\":false,\"x\":[\"Store 21\"],\"y\":[4.921756688541141],\"type\":\"bar\",\"xaxis\":\"x2\",\"yaxis\":\"y2\"},{\"legendgroup\":\"Highest\",\"marker\":{\"color\":\"#fdae6b\"},\"name\":\"Highest\",\"showlegend\":false,\"x\":[\"Store 7\"],\"y\":[15.714918105356352],\"type\":\"bar\",\"xaxis\":\"x3\",\"yaxis\":\"y3\"},{\"legendgroup\":\"Lowest\",\"marker\":{\"color\":\"#e6550d\"},\"name\":\"Lowest\",\"showlegend\":false,\"x\":[\"Store 13\"],\"y\":[2.257636122177955],\"type\":\"bar\",\"xaxis\":\"x3\",\"yaxis\":\"y3\"},{\"legendgroup\":\"Highest\",\"marker\":{\"color\":\"#fdae6b\"},\"name\":\"Highest\",\"showlegend\":false,\"x\":[\"Store 19\"],\"y\":[25.58651026392962],\"type\":\"bar\",\"xaxis\":\"x4\",\"yaxis\":\"y4\"},{\"legendgroup\":\"Lowest\",\"marker\":{\"color\":\"#e6550d\"},\"name\":\"Lowest\",\"showlegend\":false,\"x\":[\"Store 13\"],\"y\":[4.435483870967742],\"type\":\"bar\",\"xaxis\":\"x4\",\"yaxis\":\"y4\"}],                        {\"template\":{\"data\":{\"bar\":[{\"error_x\":{\"color\":\"#2a3f5f\"},\"error_y\":{\"color\":\"#2a3f5f\"},\"marker\":{\"line\":{\"color\":\"#E5ECF6\",\"width\":0.5},\"pattern\":{\"fillmode\":\"overlay\",\"size\":10,\"solidity\":0.2}},\"type\":\"bar\"}],\"barpolar\":[{\"marker\":{\"line\":{\"color\":\"#E5ECF6\",\"width\":0.5},\"pattern\":{\"fillmode\":\"overlay\",\"size\":10,\"solidity\":0.2}},\"type\":\"barpolar\"}],\"carpet\":[{\"aaxis\":{\"endlinecolor\":\"#2a3f5f\",\"gridcolor\":\"white\",\"linecolor\":\"white\",\"minorgridcolor\":\"white\",\"startlinecolor\":\"#2a3f5f\"},\"baxis\":{\"endlinecolor\":\"#2a3f5f\",\"gridcolor\":\"white\",\"linecolor\":\"white\",\"minorgridcolor\":\"white\",\"startlinecolor\":\"#2a3f5f\"},\"type\":\"carpet\"}],\"choropleth\":[{\"colorbar\":{\"outlinewidth\":0,\"ticks\":\"\"},\"type\":\"choropleth\"}],\"contour\":[{\"colorbar\":{\"outlinewidth\":0,\"ticks\":\"\"},\"colorscale\":[[0.0,\"#0d0887\"],[0.1111111111111111,\"#46039f\"],[0.2222222222222222,\"#7201a8\"],[0.3333333333333333,\"#9c179e\"],[0.4444444444444444,\"#bd3786\"],[0.5555555555555556,\"#d8576b\"],[0.6666666666666666,\"#ed7953\"],[0.7777777777777778,\"#fb9f3a\"],[0.8888888888888888,\"#fdca26\"],[1.0,\"#f0f921\"]],\"type\":\"contour\"}],\"contourcarpet\":[{\"colorbar\":{\"outlinewidth\":0,\"ticks\":\"\"},\"type\":\"contourcarpet\"}],\"heatmap\":[{\"colorbar\":{\"outlinewidth\":0,\"ticks\":\"\"},\"colorscale\":[[0.0,\"#0d0887\"],[0.1111111111111111,\"#46039f\"],[0.2222222222222222,\"#7201a8\"],[0.3333333333333333,\"#9c179e\"],[0.4444444444444444,\"#bd3786\"],[0.5555555555555556,\"#d8576b\"],[0.6666666666666666,\"#ed7953\"],[0.7777777777777778,\"#fb9f3a\"],[0.8888888888888888,\"#fdca26\"],[1.0,\"#f0f921\"]],\"type\":\"heatmap\"}],\"heatmapgl\":[{\"colorbar\":{\"outlinewidth\":0,\"ticks\":\"\"},\"colorscale\":[[0.0,\"#0d0887\"],[0.1111111111111111,\"#46039f\"],[0.2222222222222222,\"#7201a8\"],[0.3333333333333333,\"#9c179e\"],[0.4444444444444444,\"#bd3786\"],[0.5555555555555556,\"#d8576b\"],[0.6666666666666666,\"#ed7953\"],[0.7777777777777778,\"#fb9f3a\"],[0.8888888888888888,\"#fdca26\"],[1.0,\"#f0f921\"]],\"type\":\"heatmapgl\"}],\"histogram\":[{\"marker\":{\"pattern\":{\"fillmode\":\"overlay\",\"size\":10,\"solidity\":0.2}},\"type\":\"histogram\"}],\"histogram2d\":[{\"colorbar\":{\"outlinewidth\":0,\"ticks\":\"\"},\"colorscale\":[[0.0,\"#0d0887\"],[0.1111111111111111,\"#46039f\"],[0.2222222222222222,\"#7201a8\"],[0.3333333333333333,\"#9c179e\"],[0.4444444444444444,\"#bd3786\"],[0.5555555555555556,\"#d8576b\"],[0.6666666666666666,\"#ed7953\"],[0.7777777777777778,\"#fb9f3a\"],[0.8888888888888888,\"#fdca26\"],[1.0,\"#f0f921\"]],\"type\":\"histogram2d\"}],\"histogram2dcontour\":[{\"colorbar\":{\"outlinewidth\":0,\"ticks\":\"\"},\"colorscale\":[[0.0,\"#0d0887\"],[0.1111111111111111,\"#46039f\"],[0.2222222222222222,\"#7201a8\"],[0.3333333333333333,\"#9c179e\"],[0.4444444444444444,\"#bd3786\"],[0.5555555555555556,\"#d8576b\"],[0.6666666666666666,\"#ed7953\"],[0.7777777777777778,\"#fb9f3a\"],[0.8888888888888888,\"#fdca26\"],[1.0,\"#f0f921\"]],\"type\":\"histogram2dcontour\"}],\"mesh3d\":[{\"colorbar\":{\"outlinewidth\":0,\"ticks\":\"\"},\"type\":\"mesh3d\"}],\"parcoords\":[{\"line\":{\"colorbar\":{\"outlinewidth\":0,\"ticks\":\"\"}},\"type\":\"parcoords\"}],\"pie\":[{\"automargin\":true,\"type\":\"pie\"}],\"scatter\":[{\"marker\":{\"colorbar\":{\"outlinewidth\":0,\"ticks\":\"\"}},\"type\":\"scatter\"}],\"scatter3d\":[{\"line\":{\"colorbar\":{\"outlinewidth\":0,\"ticks\":\"\"}},\"marker\":{\"colorbar\":{\"outlinewidth\":0,\"ticks\":\"\"}},\"type\":\"scatter3d\"}],\"scattercarpet\":[{\"marker\":{\"colorbar\":{\"outlinewidth\":0,\"ticks\":\"\"}},\"type\":\"scattercarpet\"}],\"scattergeo\":[{\"marker\":{\"colorbar\":{\"outlinewidth\":0,\"ticks\":\"\"}},\"type\":\"scattergeo\"}],\"scattergl\":[{\"marker\":{\"colorbar\":{\"outlinewidth\":0,\"ticks\":\"\"}},\"type\":\"scattergl\"}],\"scattermapbox\":[{\"marker\":{\"colorbar\":{\"outlinewidth\":0,\"ticks\":\"\"}},\"type\":\"scattermapbox\"}],\"scatterpolar\":[{\"marker\":{\"colorbar\":{\"outlinewidth\":0,\"ticks\":\"\"}},\"type\":\"scatterpolar\"}],\"scatterpolargl\":[{\"marker\":{\"colorbar\":{\"outlinewidth\":0,\"ticks\":\"\"}},\"type\":\"scatterpolargl\"}],\"scatterternary\":[{\"marker\":{\"colorbar\":{\"outlinewidth\":0,\"ticks\":\"\"}},\"type\":\"scatterternary\"}],\"surface\":[{\"colorbar\":{\"outlinewidth\":0,\"ticks\":\"\"},\"colorscale\":[[0.0,\"#0d0887\"],[0.1111111111111111,\"#46039f\"],[0.2222222222222222,\"#7201a8\"],[0.3333333333333333,\"#9c179e\"],[0.4444444444444444,\"#bd3786\"],[0.5555555555555556,\"#d8576b\"],[0.6666666666666666,\"#ed7953\"],[0.7777777777777778,\"#fb9f3a\"],[0.8888888888888888,\"#fdca26\"],[1.0,\"#f0f921\"]],\"type\":\"surface\"}],\"table\":[{\"cells\":{\"fill\":{\"color\":\"#EBF0F8\"},\"line\":{\"color\":\"white\"}},\"header\":{\"fill\":{\"color\":\"#C8D4E3\"},\"line\":{\"color\":\"white\"}},\"type\":\"table\"}]},\"layout\":{\"annotationdefaults\":{\"arrowcolor\":\"#2a3f5f\",\"arrowhead\":0,\"arrowwidth\":1},\"autotypenumbers\":\"strict\",\"coloraxis\":{\"colorbar\":{\"outlinewidth\":0,\"ticks\":\"\"}},\"colorscale\":{\"diverging\":[[0,\"#8e0152\"],[0.1,\"#c51b7d\"],[0.2,\"#de77ae\"],[0.3,\"#f1b6da\"],[0.4,\"#fde0ef\"],[0.5,\"#f7f7f7\"],[0.6,\"#e6f5d0\"],[0.7,\"#b8e186\"],[0.8,\"#7fbc41\"],[0.9,\"#4d9221\"],[1,\"#276419\"]],\"sequential\":[[0.0,\"#0d0887\"],[0.1111111111111111,\"#46039f\"],[0.2222222222222222,\"#7201a8\"],[0.3333333333333333,\"#9c179e\"],[0.4444444444444444,\"#bd3786\"],[0.5555555555555556,\"#d8576b\"],[0.6666666666666666,\"#ed7953\"],[0.7777777777777778,\"#fb9f3a\"],[0.8888888888888888,\"#fdca26\"],[1.0,\"#f0f921\"]],\"sequentialminus\":[[0.0,\"#0d0887\"],[0.1111111111111111,\"#46039f\"],[0.2222222222222222,\"#7201a8\"],[0.3333333333333333,\"#9c179e\"],[0.4444444444444444,\"#bd3786\"],[0.5555555555555556,\"#d8576b\"],[0.6666666666666666,\"#ed7953\"],[0.7777777777777778,\"#fb9f3a\"],[0.8888888888888888,\"#fdca26\"],[1.0,\"#f0f921\"]]},\"colorway\":[\"#636efa\",\"#EF553B\",\"#00cc96\",\"#ab63fa\",\"#FFA15A\",\"#19d3f3\",\"#FF6692\",\"#B6E880\",\"#FF97FF\",\"#FECB52\"],\"font\":{\"color\":\"#2a3f5f\"},\"geo\":{\"bgcolor\":\"white\",\"lakecolor\":\"white\",\"landcolor\":\"#E5ECF6\",\"showlakes\":true,\"showland\":true,\"subunitcolor\":\"white\"},\"hoverlabel\":{\"align\":\"left\"},\"hovermode\":\"closest\",\"mapbox\":{\"style\":\"light\"},\"paper_bgcolor\":\"white\",\"plot_bgcolor\":\"#E5ECF6\",\"polar\":{\"angularaxis\":{\"gridcolor\":\"white\",\"linecolor\":\"white\",\"ticks\":\"\"},\"bgcolor\":\"#E5ECF6\",\"radialaxis\":{\"gridcolor\":\"white\",\"linecolor\":\"white\",\"ticks\":\"\"}},\"scene\":{\"xaxis\":{\"backgroundcolor\":\"#E5ECF6\",\"gridcolor\":\"white\",\"gridwidth\":2,\"linecolor\":\"white\",\"showbackground\":true,\"ticks\":\"\",\"zerolinecolor\":\"white\"},\"yaxis\":{\"backgroundcolor\":\"#E5ECF6\",\"gridcolor\":\"white\",\"gridwidth\":2,\"linecolor\":\"white\",\"showbackground\":true,\"ticks\":\"\",\"zerolinecolor\":\"white\"},\"zaxis\":{\"backgroundcolor\":\"#E5ECF6\",\"gridcolor\":\"white\",\"gridwidth\":2,\"linecolor\":\"white\",\"showbackground\":true,\"ticks\":\"\",\"zerolinecolor\":\"white\"}},\"shapedefaults\":{\"line\":{\"color\":\"#2a3f5f\"}},\"ternary\":{\"aaxis\":{\"gridcolor\":\"white\",\"linecolor\":\"white\",\"ticks\":\"\"},\"baxis\":{\"gridcolor\":\"white\",\"linecolor\":\"white\",\"ticks\":\"\"},\"bgcolor\":\"#E5ECF6\",\"caxis\":{\"gridcolor\":\"white\",\"linecolor\":\"white\",\"ticks\":\"\"}},\"title\":{\"x\":0.05},\"xaxis\":{\"automargin\":true,\"gridcolor\":\"white\",\"linecolor\":\"white\",\"ticks\":\"\",\"title\":{\"standoff\":15},\"zerolinecolor\":\"white\",\"zerolinewidth\":2},\"yaxis\":{\"automargin\":true,\"gridcolor\":\"white\",\"linecolor\":\"white\",\"ticks\":\"\",\"title\":{\"standoff\":15},\"zerolinecolor\":\"white\",\"zerolinewidth\":2}}},\"xaxis\":{\"anchor\":\"y\",\"domain\":[0.0,0.2125]},\"yaxis\":{\"anchor\":\"x\",\"domain\":[0.0,1.0]},\"xaxis2\":{\"anchor\":\"y2\",\"domain\":[0.2625,0.475]},\"yaxis2\":{\"anchor\":\"x2\",\"domain\":[0.0,1.0]},\"xaxis3\":{\"anchor\":\"y3\",\"domain\":[0.525,0.7375]},\"yaxis3\":{\"anchor\":\"x3\",\"domain\":[0.0,1.0]},\"xaxis4\":{\"anchor\":\"y4\",\"domain\":[0.7875,1.0]},\"yaxis4\":{\"anchor\":\"x4\",\"domain\":[0.0,1.0]},\"annotations\":[{\"font\":{\"size\":16},\"showarrow\":false,\"text\":\"Fall\",\"x\":0.10625,\"xanchor\":\"center\",\"xref\":\"paper\",\"y\":1.0,\"yanchor\":\"bottom\",\"yref\":\"paper\"},{\"font\":{\"size\":16},\"showarrow\":false,\"text\":\"Spring\",\"x\":0.36875,\"xanchor\":\"center\",\"xref\":\"paper\",\"y\":1.0,\"yanchor\":\"bottom\",\"yref\":\"paper\"},{\"font\":{\"size\":16},\"showarrow\":false,\"text\":\"Summer\",\"x\":0.6312500000000001,\"xanchor\":\"center\",\"xref\":\"paper\",\"y\":1.0,\"yanchor\":\"bottom\",\"yref\":\"paper\"},{\"font\":{\"size\":16},\"showarrow\":false,\"text\":\"Winter\",\"x\":0.89375,\"xanchor\":\"center\",\"xref\":\"paper\",\"y\":1.0,\"yanchor\":\"bottom\",\"yref\":\"paper\"}],\"title\":{\"text\":\"Seasonwise Highest and Lowest Product Clearance Stores\"},\"barmode\":\"group\",\"plot_bgcolor\":\"rgba(0,0,0,0)\"},                        {\"responsive\": true}                    ).then(function(){\n",
       "                            \n",
       "var gd = document.getElementById('0b876dda-2a88-438a-a978-0c48c2eedc1c');\n",
       "var x = new MutationObserver(function (mutations, observer) {{\n",
       "        var display = window.getComputedStyle(gd).display;\n",
       "        if (!display || display === 'none') {{\n",
       "            console.log([gd, 'removed!']);\n",
       "            Plotly.purge(gd);\n",
       "            observer.disconnect();\n",
       "        }}\n",
       "}});\n",
       "\n",
       "// Listen for the removal of the full notebook cells\n",
       "var notebookContainer = gd.closest('#notebook-container');\n",
       "if (notebookContainer) {{\n",
       "    x.observe(notebookContainer, {childList: true});\n",
       "}}\n",
       "\n",
       "// Listen for the clearing of the current output cell\n",
       "var outputEl = gd.closest('.output');\n",
       "if (outputEl) {{\n",
       "    x.observe(outputEl, {childList: true});\n",
       "}}\n",
       "\n",
       "                        })                };                });            </script>        </div>"
      ]
     },
     "metadata": {},
     "output_type": "display_data"
    }
   ],
   "source": [
    "import pandas as pd\n",
    "import plotly.graph_objs as go\n",
    "from plotly.subplots import make_subplots\n",
    "\n",
    "# Assuming the percentage clearance DataFrame is already created and named perc_clearance_seasonwise\n",
    "\n",
    "# Reset the index to convert the multi-level index to columns\n",
    "perc_clearance_df = perc_clearance_seasonwise.reset_index()\n",
    "\n",
    "# Sort the data in descending order for each season\n",
    "perc_clearance_df_sorted = perc_clearance_df.sort_values(by=['season', 'product clearance'], ascending=[True, False])\n",
    "\n",
    "# Find the highest and lowest clearance stores for each season\n",
    "highest_clearance = perc_clearance_df_sorted.groupby('season').head(1)\n",
    "lowest_clearance = perc_clearance_df_sorted.groupby('season').tail(1)\n",
    "\n",
    "# Merge the highest and lowest clearance stores\n",
    "combined_df = pd.concat([highest_clearance, lowest_clearance])\n",
    "\n",
    "# Create a grouped bar chart with subplots for each season\n",
    "fig = make_subplots(rows=1, cols=4, subplot_titles=(\"Fall\", \"Spring\", \"Summer\", \"Winter\"))\n",
    "\n",
    "# Define the color scale\n",
    "color_scale = {'Highest': '#fdae6b', 'Lowest': '#e6550d'}\n",
    "\n",
    "# Add traces for each season and store\n",
    "for index, (season, season_df) in enumerate(combined_df.groupby(\"season\")):\n",
    "    for idx, row in season_df.iterrows():\n",
    "        if row['store'] == highest_clearance.loc[highest_clearance['season'] == row['season'], 'store'].values[0]:\n",
    "            label = \"Highest\"\n",
    "        else:\n",
    "            label = \"Lowest\"\n",
    "\n",
    "        fig.add_trace(go.Bar(x=[f\"Store {row['store']}\"],\n",
    "                             y=[row['product clearance']],\n",
    "                             name=label,\n",
    "                             marker=dict(color=color_scale[label]),\n",
    "                             legendgroup=label,\n",
    "                             showlegend=index == 0),\n",
    "                      row=1, col=index + 1)\n",
    "\n",
    "# Update the layout\n",
    "fig.update_layout(title=\"Seasonwise Highest and Lowest Product Clearance Stores\",\n",
    "                  barmode='group',\n",
    "                  plot_bgcolor='rgba(0,0,0,0)',\n",
    "                  )\n",
    "\n",
    "# Show the figure\n",
    "fig.show()\n"
   ]
  },
  {
   "cell_type": "code",
   "execution_count": 136,
   "id": "f4ca4d97",
   "metadata": {},
   "outputs": [
    {
     "name": "stdout",
     "output_type": "stream",
     "text": [
      "Highest and Lowest Clearance Stores by Season:\n",
      "    season  store  product clearance\n",
      "6     Fall     19          15.564854\n",
      "16  Spring     19          21.049975\n",
      "21  Summer      7          15.714918\n",
      "36  Winter     19          25.586510\n",
      "3     Fall     13           3.430962\n",
      "18  Spring     21           4.921757\n",
      "23  Summer     13           2.257636\n",
      "33  Winter     13           4.435484\n"
     ]
    }
   ],
   "source": [
    "# Print the highest and lowest clearance stores for each season\n",
    "print(\"Highest and Lowest Clearance Stores by Season:\")\n",
    "print(combined_df)\n"
   ]
  },
  {
   "cell_type": "markdown",
   "id": "9ec31f21",
   "metadata": {},
   "source": [
    "# Graph of clerance by size "
   ]
  },
  {
   "cell_type": "code",
   "execution_count": 139,
   "id": "648dac3d",
   "metadata": {},
   "outputs": [
    {
     "name": "stdout",
     "output_type": "stream",
     "text": [
      "    store         size  clearance\n",
      "0       3  Extra Small        147\n",
      "1       3           LG        203\n",
      "2       3          MED        392\n",
      "3       3           SM        365\n",
      "4       3           XL         58\n",
      "..    ...          ...        ...\n",
      "71     27      No Size          0\n",
      "72     27          S/M          1\n",
      "73     27           SM        268\n",
      "74     27           XL         21\n",
      "75     27          XXS         36\n",
      "\n",
      "[76 rows x 3 columns]\n"
     ]
    }
   ],
   "source": [
    "# Calculate the clearance store and size-wise\n",
    "clearance_store_size_wise = merged_df.groupby(['store', 'size'])['product clearance'].sum()\n",
    "\n",
    "# Create a DataFrame for the results\n",
    "results_df2 = pd.DataFrame()\n",
    "\n",
    "# Add the clearance column to the DataFrame\n",
    "results_df2['clearance'] = clearance_store_size_wise\n",
    "\n",
    "# Reset the index to move the store and size columns from the index to columns\n",
    "results_df2.reset_index(inplace=True)\n",
    "\n",
    "print(results_df2)\n"
   ]
  },
  {
   "cell_type": "code",
   "execution_count": 142,
   "id": "b73edf99",
   "metadata": {},
   "outputs": [
    {
     "name": "stdout",
     "output_type": "stream",
     "text": [
      "    store     size  clearance\n",
      "10      7      S/M          0\n",
      "23     13      M/L          0\n",
      "33     14      S/M          0\n",
      "41     16      S/M          0\n",
      "55     20      S/M          0\n",
      "61     21      M/L          0\n",
      "71     27  No Size          0\n",
      "16     11      M/L          1\n",
      "4       3       XL         58\n",
      "49     19       XL         96\n"
     ]
    }
   ],
   "source": [
    "min_gross_margin_idx = results_df2.groupby('store')['clearance'].idxmin()\n",
    "\n",
    "lowest_gross_margin_sizes = results_df2.loc[min_gross_margin_idx]\n",
    "\n",
    "sorted_lowest_gross_margin_sizes = lowest_gross_margin_sizes.sort_values(by='clearance', ascending=True)\n",
    "\n",
    "print(sorted_lowest_gross_margin_sizes)\n"
   ]
  },
  {
   "cell_type": "code",
   "execution_count": 143,
   "id": "0ae632ee",
   "metadata": {},
   "outputs": [
    {
     "name": "stdout",
     "output_type": "stream",
     "text": [
      "    store size  clearance\n",
      "47     19  MED        686\n",
      "54     20  MED        435\n",
      "11      7   SM        402\n",
      "2       3  MED        392\n",
      "32     14  MED        359\n",
      "17     11  MED        303\n",
      "73     27   SM        268\n",
      "40     16  MED        212\n",
      "62     21  MED        212\n",
      "24     13  MED        190\n"
     ]
    }
   ],
   "source": [
    "max_gross_margin_idx = results_df2.groupby('store')['clearance'].idxmax()\n",
    "\n",
    "highest_gross_margin_sizes = results_df2.loc[max_gross_margin_idx]\n",
    "\n",
    "sorted_highest_gross_margin_sizes = highest_gross_margin_sizes.sort_values(by='clearance', ascending=False)\n",
    "\n",
    "print(sorted_highest_gross_margin_sizes)\n",
    "\n"
   ]
  },
  {
   "cell_type": "code",
   "execution_count": 148,
   "id": "1d3028d2",
   "metadata": {},
   "outputs": [
    {
     "name": "stdout",
     "output_type": "stream",
     "text": [
      "Top 3 stores with the highest Clearance\n",
      "    store size  clearance\n",
      "47     19  MED        686\n",
      "54     20  MED        435\n",
      "11      7   SM        402\n",
      "\n",
      "Bottom 3 stores with the lowest Clearance:\n",
      "    store size  clearance\n",
      "10      7  S/M          0\n",
      "23     13  M/L          0\n",
      "33     14  S/M          0\n"
     ]
    }
   ],
   "source": [
    "top_3_stores_highest_margin = sorted_highest_gross_margin_sizes.head(3)\n",
    "\n",
    "bottom_3_stores_lowest_margin = sorted_lowest_gross_margin_sizes.head(3)\n",
    "\n",
    "print(\"Top 3 stores with the highest Clearance\")\n",
    "print(top_3_stores_highest_margin)\n",
    "\n",
    "print(\"\\nBottom 3 stores with the lowest Clearance:\")\n",
    "print(bottom_3_stores_lowest_margin)\n"
   ]
  },
  {
   "cell_type": "code",
   "execution_count": 149,
   "id": "893300fb",
   "metadata": {},
   "outputs": [
    {
     "data": {
      "application/vnd.plotly.v1+json": {
       "config": {
        "plotlyServerURL": "https://plot.ly"
       },
       "data": [
        {
         "legendgroup": "Highest",
         "marker": {
          "color": "#1f77b4"
         },
         "name": "Highest",
         "type": "bar",
         "x": [
          "19 (MED)",
          "20 (MED)",
          "7 (SM)"
         ],
         "y": [
          686,
          435,
          402
         ]
        },
        {
         "legendgroup": "Lowest",
         "marker": {
          "color": "#aec7e8"
         },
         "name": "Lowest",
         "type": "bar",
         "x": [
          "7 (S/M)",
          "13 (M/L)",
          "14 (S/M)"
         ],
         "y": [
          0,
          0,
          0
         ]
        }
       ],
       "layout": {
        "barmode": "group",
        "plot_bgcolor": "rgba(0, 0, 0, 0)",
        "template": {
         "data": {
          "bar": [
           {
            "error_x": {
             "color": "#2a3f5f"
            },
            "error_y": {
             "color": "#2a3f5f"
            },
            "marker": {
             "line": {
              "color": "#E5ECF6",
              "width": 0.5
             },
             "pattern": {
              "fillmode": "overlay",
              "size": 10,
              "solidity": 0.2
             }
            },
            "type": "bar"
           }
          ],
          "barpolar": [
           {
            "marker": {
             "line": {
              "color": "#E5ECF6",
              "width": 0.5
             },
             "pattern": {
              "fillmode": "overlay",
              "size": 10,
              "solidity": 0.2
             }
            },
            "type": "barpolar"
           }
          ],
          "carpet": [
           {
            "aaxis": {
             "endlinecolor": "#2a3f5f",
             "gridcolor": "white",
             "linecolor": "white",
             "minorgridcolor": "white",
             "startlinecolor": "#2a3f5f"
            },
            "baxis": {
             "endlinecolor": "#2a3f5f",
             "gridcolor": "white",
             "linecolor": "white",
             "minorgridcolor": "white",
             "startlinecolor": "#2a3f5f"
            },
            "type": "carpet"
           }
          ],
          "choropleth": [
           {
            "colorbar": {
             "outlinewidth": 0,
             "ticks": ""
            },
            "type": "choropleth"
           }
          ],
          "contour": [
           {
            "colorbar": {
             "outlinewidth": 0,
             "ticks": ""
            },
            "colorscale": [
             [
              0,
              "#0d0887"
             ],
             [
              0.1111111111111111,
              "#46039f"
             ],
             [
              0.2222222222222222,
              "#7201a8"
             ],
             [
              0.3333333333333333,
              "#9c179e"
             ],
             [
              0.4444444444444444,
              "#bd3786"
             ],
             [
              0.5555555555555556,
              "#d8576b"
             ],
             [
              0.6666666666666666,
              "#ed7953"
             ],
             [
              0.7777777777777778,
              "#fb9f3a"
             ],
             [
              0.8888888888888888,
              "#fdca26"
             ],
             [
              1,
              "#f0f921"
             ]
            ],
            "type": "contour"
           }
          ],
          "contourcarpet": [
           {
            "colorbar": {
             "outlinewidth": 0,
             "ticks": ""
            },
            "type": "contourcarpet"
           }
          ],
          "heatmap": [
           {
            "colorbar": {
             "outlinewidth": 0,
             "ticks": ""
            },
            "colorscale": [
             [
              0,
              "#0d0887"
             ],
             [
              0.1111111111111111,
              "#46039f"
             ],
             [
              0.2222222222222222,
              "#7201a8"
             ],
             [
              0.3333333333333333,
              "#9c179e"
             ],
             [
              0.4444444444444444,
              "#bd3786"
             ],
             [
              0.5555555555555556,
              "#d8576b"
             ],
             [
              0.6666666666666666,
              "#ed7953"
             ],
             [
              0.7777777777777778,
              "#fb9f3a"
             ],
             [
              0.8888888888888888,
              "#fdca26"
             ],
             [
              1,
              "#f0f921"
             ]
            ],
            "type": "heatmap"
           }
          ],
          "heatmapgl": [
           {
            "colorbar": {
             "outlinewidth": 0,
             "ticks": ""
            },
            "colorscale": [
             [
              0,
              "#0d0887"
             ],
             [
              0.1111111111111111,
              "#46039f"
             ],
             [
              0.2222222222222222,
              "#7201a8"
             ],
             [
              0.3333333333333333,
              "#9c179e"
             ],
             [
              0.4444444444444444,
              "#bd3786"
             ],
             [
              0.5555555555555556,
              "#d8576b"
             ],
             [
              0.6666666666666666,
              "#ed7953"
             ],
             [
              0.7777777777777778,
              "#fb9f3a"
             ],
             [
              0.8888888888888888,
              "#fdca26"
             ],
             [
              1,
              "#f0f921"
             ]
            ],
            "type": "heatmapgl"
           }
          ],
          "histogram": [
           {
            "marker": {
             "pattern": {
              "fillmode": "overlay",
              "size": 10,
              "solidity": 0.2
             }
            },
            "type": "histogram"
           }
          ],
          "histogram2d": [
           {
            "colorbar": {
             "outlinewidth": 0,
             "ticks": ""
            },
            "colorscale": [
             [
              0,
              "#0d0887"
             ],
             [
              0.1111111111111111,
              "#46039f"
             ],
             [
              0.2222222222222222,
              "#7201a8"
             ],
             [
              0.3333333333333333,
              "#9c179e"
             ],
             [
              0.4444444444444444,
              "#bd3786"
             ],
             [
              0.5555555555555556,
              "#d8576b"
             ],
             [
              0.6666666666666666,
              "#ed7953"
             ],
             [
              0.7777777777777778,
              "#fb9f3a"
             ],
             [
              0.8888888888888888,
              "#fdca26"
             ],
             [
              1,
              "#f0f921"
             ]
            ],
            "type": "histogram2d"
           }
          ],
          "histogram2dcontour": [
           {
            "colorbar": {
             "outlinewidth": 0,
             "ticks": ""
            },
            "colorscale": [
             [
              0,
              "#0d0887"
             ],
             [
              0.1111111111111111,
              "#46039f"
             ],
             [
              0.2222222222222222,
              "#7201a8"
             ],
             [
              0.3333333333333333,
              "#9c179e"
             ],
             [
              0.4444444444444444,
              "#bd3786"
             ],
             [
              0.5555555555555556,
              "#d8576b"
             ],
             [
              0.6666666666666666,
              "#ed7953"
             ],
             [
              0.7777777777777778,
              "#fb9f3a"
             ],
             [
              0.8888888888888888,
              "#fdca26"
             ],
             [
              1,
              "#f0f921"
             ]
            ],
            "type": "histogram2dcontour"
           }
          ],
          "mesh3d": [
           {
            "colorbar": {
             "outlinewidth": 0,
             "ticks": ""
            },
            "type": "mesh3d"
           }
          ],
          "parcoords": [
           {
            "line": {
             "colorbar": {
              "outlinewidth": 0,
              "ticks": ""
             }
            },
            "type": "parcoords"
           }
          ],
          "pie": [
           {
            "automargin": true,
            "type": "pie"
           }
          ],
          "scatter": [
           {
            "marker": {
             "colorbar": {
              "outlinewidth": 0,
              "ticks": ""
             }
            },
            "type": "scatter"
           }
          ],
          "scatter3d": [
           {
            "line": {
             "colorbar": {
              "outlinewidth": 0,
              "ticks": ""
             }
            },
            "marker": {
             "colorbar": {
              "outlinewidth": 0,
              "ticks": ""
             }
            },
            "type": "scatter3d"
           }
          ],
          "scattercarpet": [
           {
            "marker": {
             "colorbar": {
              "outlinewidth": 0,
              "ticks": ""
             }
            },
            "type": "scattercarpet"
           }
          ],
          "scattergeo": [
           {
            "marker": {
             "colorbar": {
              "outlinewidth": 0,
              "ticks": ""
             }
            },
            "type": "scattergeo"
           }
          ],
          "scattergl": [
           {
            "marker": {
             "colorbar": {
              "outlinewidth": 0,
              "ticks": ""
             }
            },
            "type": "scattergl"
           }
          ],
          "scattermapbox": [
           {
            "marker": {
             "colorbar": {
              "outlinewidth": 0,
              "ticks": ""
             }
            },
            "type": "scattermapbox"
           }
          ],
          "scatterpolar": [
           {
            "marker": {
             "colorbar": {
              "outlinewidth": 0,
              "ticks": ""
             }
            },
            "type": "scatterpolar"
           }
          ],
          "scatterpolargl": [
           {
            "marker": {
             "colorbar": {
              "outlinewidth": 0,
              "ticks": ""
             }
            },
            "type": "scatterpolargl"
           }
          ],
          "scatterternary": [
           {
            "marker": {
             "colorbar": {
              "outlinewidth": 0,
              "ticks": ""
             }
            },
            "type": "scatterternary"
           }
          ],
          "surface": [
           {
            "colorbar": {
             "outlinewidth": 0,
             "ticks": ""
            },
            "colorscale": [
             [
              0,
              "#0d0887"
             ],
             [
              0.1111111111111111,
              "#46039f"
             ],
             [
              0.2222222222222222,
              "#7201a8"
             ],
             [
              0.3333333333333333,
              "#9c179e"
             ],
             [
              0.4444444444444444,
              "#bd3786"
             ],
             [
              0.5555555555555556,
              "#d8576b"
             ],
             [
              0.6666666666666666,
              "#ed7953"
             ],
             [
              0.7777777777777778,
              "#fb9f3a"
             ],
             [
              0.8888888888888888,
              "#fdca26"
             ],
             [
              1,
              "#f0f921"
             ]
            ],
            "type": "surface"
           }
          ],
          "table": [
           {
            "cells": {
             "fill": {
              "color": "#EBF0F8"
             },
             "line": {
              "color": "white"
             }
            },
            "header": {
             "fill": {
              "color": "#C8D4E3"
             },
             "line": {
              "color": "white"
             }
            },
            "type": "table"
           }
          ]
         },
         "layout": {
          "annotationdefaults": {
           "arrowcolor": "#2a3f5f",
           "arrowhead": 0,
           "arrowwidth": 1
          },
          "autotypenumbers": "strict",
          "coloraxis": {
           "colorbar": {
            "outlinewidth": 0,
            "ticks": ""
           }
          },
          "colorscale": {
           "diverging": [
            [
             0,
             "#8e0152"
            ],
            [
             0.1,
             "#c51b7d"
            ],
            [
             0.2,
             "#de77ae"
            ],
            [
             0.3,
             "#f1b6da"
            ],
            [
             0.4,
             "#fde0ef"
            ],
            [
             0.5,
             "#f7f7f7"
            ],
            [
             0.6,
             "#e6f5d0"
            ],
            [
             0.7,
             "#b8e186"
            ],
            [
             0.8,
             "#7fbc41"
            ],
            [
             0.9,
             "#4d9221"
            ],
            [
             1,
             "#276419"
            ]
           ],
           "sequential": [
            [
             0,
             "#0d0887"
            ],
            [
             0.1111111111111111,
             "#46039f"
            ],
            [
             0.2222222222222222,
             "#7201a8"
            ],
            [
             0.3333333333333333,
             "#9c179e"
            ],
            [
             0.4444444444444444,
             "#bd3786"
            ],
            [
             0.5555555555555556,
             "#d8576b"
            ],
            [
             0.6666666666666666,
             "#ed7953"
            ],
            [
             0.7777777777777778,
             "#fb9f3a"
            ],
            [
             0.8888888888888888,
             "#fdca26"
            ],
            [
             1,
             "#f0f921"
            ]
           ],
           "sequentialminus": [
            [
             0,
             "#0d0887"
            ],
            [
             0.1111111111111111,
             "#46039f"
            ],
            [
             0.2222222222222222,
             "#7201a8"
            ],
            [
             0.3333333333333333,
             "#9c179e"
            ],
            [
             0.4444444444444444,
             "#bd3786"
            ],
            [
             0.5555555555555556,
             "#d8576b"
            ],
            [
             0.6666666666666666,
             "#ed7953"
            ],
            [
             0.7777777777777778,
             "#fb9f3a"
            ],
            [
             0.8888888888888888,
             "#fdca26"
            ],
            [
             1,
             "#f0f921"
            ]
           ]
          },
          "colorway": [
           "#636efa",
           "#EF553B",
           "#00cc96",
           "#ab63fa",
           "#FFA15A",
           "#19d3f3",
           "#FF6692",
           "#B6E880",
           "#FF97FF",
           "#FECB52"
          ],
          "font": {
           "color": "#2a3f5f"
          },
          "geo": {
           "bgcolor": "white",
           "lakecolor": "white",
           "landcolor": "#E5ECF6",
           "showlakes": true,
           "showland": true,
           "subunitcolor": "white"
          },
          "hoverlabel": {
           "align": "left"
          },
          "hovermode": "closest",
          "mapbox": {
           "style": "light"
          },
          "paper_bgcolor": "white",
          "plot_bgcolor": "#E5ECF6",
          "polar": {
           "angularaxis": {
            "gridcolor": "white",
            "linecolor": "white",
            "ticks": ""
           },
           "bgcolor": "#E5ECF6",
           "radialaxis": {
            "gridcolor": "white",
            "linecolor": "white",
            "ticks": ""
           }
          },
          "scene": {
           "xaxis": {
            "backgroundcolor": "#E5ECF6",
            "gridcolor": "white",
            "gridwidth": 2,
            "linecolor": "white",
            "showbackground": true,
            "ticks": "",
            "zerolinecolor": "white"
           },
           "yaxis": {
            "backgroundcolor": "#E5ECF6",
            "gridcolor": "white",
            "gridwidth": 2,
            "linecolor": "white",
            "showbackground": true,
            "ticks": "",
            "zerolinecolor": "white"
           },
           "zaxis": {
            "backgroundcolor": "#E5ECF6",
            "gridcolor": "white",
            "gridwidth": 2,
            "linecolor": "white",
            "showbackground": true,
            "ticks": "",
            "zerolinecolor": "white"
           }
          },
          "shapedefaults": {
           "line": {
            "color": "#2a3f5f"
           }
          },
          "ternary": {
           "aaxis": {
            "gridcolor": "white",
            "linecolor": "white",
            "ticks": ""
           },
           "baxis": {
            "gridcolor": "white",
            "linecolor": "white",
            "ticks": ""
           },
           "bgcolor": "#E5ECF6",
           "caxis": {
            "gridcolor": "white",
            "linecolor": "white",
            "ticks": ""
           }
          },
          "title": {
           "x": 0.05
          },
          "xaxis": {
           "automargin": true,
           "gridcolor": "white",
           "linecolor": "white",
           "ticks": "",
           "title": {
            "standoff": 15
           },
           "zerolinecolor": "white",
           "zerolinewidth": 2
          },
          "yaxis": {
           "automargin": true,
           "gridcolor": "white",
           "linecolor": "white",
           "ticks": "",
           "title": {
            "standoff": 15
           },
           "zerolinecolor": "white",
           "zerolinewidth": 2
          }
         }
        },
        "title": {
         "text": "Top 3 and Bottom 3 Clearance Stores"
        },
        "xaxis": {
         "title": {
          "text": "Store (Size)"
         }
        },
        "yaxis": {
         "title": {
          "text": "Clearance"
         }
        }
       }
      },
      "text/html": [
       "<div>                            <div id=\"4c7366e1-5d9b-4cc2-9440-31f91b5f8b9e\" class=\"plotly-graph-div\" style=\"height:525px; width:100%;\"></div>            <script type=\"text/javascript\">                require([\"plotly\"], function(Plotly) {                    window.PLOTLYENV=window.PLOTLYENV || {};                                    if (document.getElementById(\"4c7366e1-5d9b-4cc2-9440-31f91b5f8b9e\")) {                    Plotly.newPlot(                        \"4c7366e1-5d9b-4cc2-9440-31f91b5f8b9e\",                        [{\"legendgroup\":\"Highest\",\"marker\":{\"color\":\"#1f77b4\"},\"name\":\"Highest\",\"x\":[\"19 (MED)\",\"20 (MED)\",\"7 (SM)\"],\"y\":[686,435,402],\"type\":\"bar\"},{\"legendgroup\":\"Lowest\",\"marker\":{\"color\":\"#aec7e8\"},\"name\":\"Lowest\",\"x\":[\"7 (S/M)\",\"13 (M/L)\",\"14 (S/M)\"],\"y\":[0,0,0],\"type\":\"bar\"}],                        {\"template\":{\"data\":{\"bar\":[{\"error_x\":{\"color\":\"#2a3f5f\"},\"error_y\":{\"color\":\"#2a3f5f\"},\"marker\":{\"line\":{\"color\":\"#E5ECF6\",\"width\":0.5},\"pattern\":{\"fillmode\":\"overlay\",\"size\":10,\"solidity\":0.2}},\"type\":\"bar\"}],\"barpolar\":[{\"marker\":{\"line\":{\"color\":\"#E5ECF6\",\"width\":0.5},\"pattern\":{\"fillmode\":\"overlay\",\"size\":10,\"solidity\":0.2}},\"type\":\"barpolar\"}],\"carpet\":[{\"aaxis\":{\"endlinecolor\":\"#2a3f5f\",\"gridcolor\":\"white\",\"linecolor\":\"white\",\"minorgridcolor\":\"white\",\"startlinecolor\":\"#2a3f5f\"},\"baxis\":{\"endlinecolor\":\"#2a3f5f\",\"gridcolor\":\"white\",\"linecolor\":\"white\",\"minorgridcolor\":\"white\",\"startlinecolor\":\"#2a3f5f\"},\"type\":\"carpet\"}],\"choropleth\":[{\"colorbar\":{\"outlinewidth\":0,\"ticks\":\"\"},\"type\":\"choropleth\"}],\"contour\":[{\"colorbar\":{\"outlinewidth\":0,\"ticks\":\"\"},\"colorscale\":[[0.0,\"#0d0887\"],[0.1111111111111111,\"#46039f\"],[0.2222222222222222,\"#7201a8\"],[0.3333333333333333,\"#9c179e\"],[0.4444444444444444,\"#bd3786\"],[0.5555555555555556,\"#d8576b\"],[0.6666666666666666,\"#ed7953\"],[0.7777777777777778,\"#fb9f3a\"],[0.8888888888888888,\"#fdca26\"],[1.0,\"#f0f921\"]],\"type\":\"contour\"}],\"contourcarpet\":[{\"colorbar\":{\"outlinewidth\":0,\"ticks\":\"\"},\"type\":\"contourcarpet\"}],\"heatmap\":[{\"colorbar\":{\"outlinewidth\":0,\"ticks\":\"\"},\"colorscale\":[[0.0,\"#0d0887\"],[0.1111111111111111,\"#46039f\"],[0.2222222222222222,\"#7201a8\"],[0.3333333333333333,\"#9c179e\"],[0.4444444444444444,\"#bd3786\"],[0.5555555555555556,\"#d8576b\"],[0.6666666666666666,\"#ed7953\"],[0.7777777777777778,\"#fb9f3a\"],[0.8888888888888888,\"#fdca26\"],[1.0,\"#f0f921\"]],\"type\":\"heatmap\"}],\"heatmapgl\":[{\"colorbar\":{\"outlinewidth\":0,\"ticks\":\"\"},\"colorscale\":[[0.0,\"#0d0887\"],[0.1111111111111111,\"#46039f\"],[0.2222222222222222,\"#7201a8\"],[0.3333333333333333,\"#9c179e\"],[0.4444444444444444,\"#bd3786\"],[0.5555555555555556,\"#d8576b\"],[0.6666666666666666,\"#ed7953\"],[0.7777777777777778,\"#fb9f3a\"],[0.8888888888888888,\"#fdca26\"],[1.0,\"#f0f921\"]],\"type\":\"heatmapgl\"}],\"histogram\":[{\"marker\":{\"pattern\":{\"fillmode\":\"overlay\",\"size\":10,\"solidity\":0.2}},\"type\":\"histogram\"}],\"histogram2d\":[{\"colorbar\":{\"outlinewidth\":0,\"ticks\":\"\"},\"colorscale\":[[0.0,\"#0d0887\"],[0.1111111111111111,\"#46039f\"],[0.2222222222222222,\"#7201a8\"],[0.3333333333333333,\"#9c179e\"],[0.4444444444444444,\"#bd3786\"],[0.5555555555555556,\"#d8576b\"],[0.6666666666666666,\"#ed7953\"],[0.7777777777777778,\"#fb9f3a\"],[0.8888888888888888,\"#fdca26\"],[1.0,\"#f0f921\"]],\"type\":\"histogram2d\"}],\"histogram2dcontour\":[{\"colorbar\":{\"outlinewidth\":0,\"ticks\":\"\"},\"colorscale\":[[0.0,\"#0d0887\"],[0.1111111111111111,\"#46039f\"],[0.2222222222222222,\"#7201a8\"],[0.3333333333333333,\"#9c179e\"],[0.4444444444444444,\"#bd3786\"],[0.5555555555555556,\"#d8576b\"],[0.6666666666666666,\"#ed7953\"],[0.7777777777777778,\"#fb9f3a\"],[0.8888888888888888,\"#fdca26\"],[1.0,\"#f0f921\"]],\"type\":\"histogram2dcontour\"}],\"mesh3d\":[{\"colorbar\":{\"outlinewidth\":0,\"ticks\":\"\"},\"type\":\"mesh3d\"}],\"parcoords\":[{\"line\":{\"colorbar\":{\"outlinewidth\":0,\"ticks\":\"\"}},\"type\":\"parcoords\"}],\"pie\":[{\"automargin\":true,\"type\":\"pie\"}],\"scatter\":[{\"marker\":{\"colorbar\":{\"outlinewidth\":0,\"ticks\":\"\"}},\"type\":\"scatter\"}],\"scatter3d\":[{\"line\":{\"colorbar\":{\"outlinewidth\":0,\"ticks\":\"\"}},\"marker\":{\"colorbar\":{\"outlinewidth\":0,\"ticks\":\"\"}},\"type\":\"scatter3d\"}],\"scattercarpet\":[{\"marker\":{\"colorbar\":{\"outlinewidth\":0,\"ticks\":\"\"}},\"type\":\"scattercarpet\"}],\"scattergeo\":[{\"marker\":{\"colorbar\":{\"outlinewidth\":0,\"ticks\":\"\"}},\"type\":\"scattergeo\"}],\"scattergl\":[{\"marker\":{\"colorbar\":{\"outlinewidth\":0,\"ticks\":\"\"}},\"type\":\"scattergl\"}],\"scattermapbox\":[{\"marker\":{\"colorbar\":{\"outlinewidth\":0,\"ticks\":\"\"}},\"type\":\"scattermapbox\"}],\"scatterpolar\":[{\"marker\":{\"colorbar\":{\"outlinewidth\":0,\"ticks\":\"\"}},\"type\":\"scatterpolar\"}],\"scatterpolargl\":[{\"marker\":{\"colorbar\":{\"outlinewidth\":0,\"ticks\":\"\"}},\"type\":\"scatterpolargl\"}],\"scatterternary\":[{\"marker\":{\"colorbar\":{\"outlinewidth\":0,\"ticks\":\"\"}},\"type\":\"scatterternary\"}],\"surface\":[{\"colorbar\":{\"outlinewidth\":0,\"ticks\":\"\"},\"colorscale\":[[0.0,\"#0d0887\"],[0.1111111111111111,\"#46039f\"],[0.2222222222222222,\"#7201a8\"],[0.3333333333333333,\"#9c179e\"],[0.4444444444444444,\"#bd3786\"],[0.5555555555555556,\"#d8576b\"],[0.6666666666666666,\"#ed7953\"],[0.7777777777777778,\"#fb9f3a\"],[0.8888888888888888,\"#fdca26\"],[1.0,\"#f0f921\"]],\"type\":\"surface\"}],\"table\":[{\"cells\":{\"fill\":{\"color\":\"#EBF0F8\"},\"line\":{\"color\":\"white\"}},\"header\":{\"fill\":{\"color\":\"#C8D4E3\"},\"line\":{\"color\":\"white\"}},\"type\":\"table\"}]},\"layout\":{\"annotationdefaults\":{\"arrowcolor\":\"#2a3f5f\",\"arrowhead\":0,\"arrowwidth\":1},\"autotypenumbers\":\"strict\",\"coloraxis\":{\"colorbar\":{\"outlinewidth\":0,\"ticks\":\"\"}},\"colorscale\":{\"diverging\":[[0,\"#8e0152\"],[0.1,\"#c51b7d\"],[0.2,\"#de77ae\"],[0.3,\"#f1b6da\"],[0.4,\"#fde0ef\"],[0.5,\"#f7f7f7\"],[0.6,\"#e6f5d0\"],[0.7,\"#b8e186\"],[0.8,\"#7fbc41\"],[0.9,\"#4d9221\"],[1,\"#276419\"]],\"sequential\":[[0.0,\"#0d0887\"],[0.1111111111111111,\"#46039f\"],[0.2222222222222222,\"#7201a8\"],[0.3333333333333333,\"#9c179e\"],[0.4444444444444444,\"#bd3786\"],[0.5555555555555556,\"#d8576b\"],[0.6666666666666666,\"#ed7953\"],[0.7777777777777778,\"#fb9f3a\"],[0.8888888888888888,\"#fdca26\"],[1.0,\"#f0f921\"]],\"sequentialminus\":[[0.0,\"#0d0887\"],[0.1111111111111111,\"#46039f\"],[0.2222222222222222,\"#7201a8\"],[0.3333333333333333,\"#9c179e\"],[0.4444444444444444,\"#bd3786\"],[0.5555555555555556,\"#d8576b\"],[0.6666666666666666,\"#ed7953\"],[0.7777777777777778,\"#fb9f3a\"],[0.8888888888888888,\"#fdca26\"],[1.0,\"#f0f921\"]]},\"colorway\":[\"#636efa\",\"#EF553B\",\"#00cc96\",\"#ab63fa\",\"#FFA15A\",\"#19d3f3\",\"#FF6692\",\"#B6E880\",\"#FF97FF\",\"#FECB52\"],\"font\":{\"color\":\"#2a3f5f\"},\"geo\":{\"bgcolor\":\"white\",\"lakecolor\":\"white\",\"landcolor\":\"#E5ECF6\",\"showlakes\":true,\"showland\":true,\"subunitcolor\":\"white\"},\"hoverlabel\":{\"align\":\"left\"},\"hovermode\":\"closest\",\"mapbox\":{\"style\":\"light\"},\"paper_bgcolor\":\"white\",\"plot_bgcolor\":\"#E5ECF6\",\"polar\":{\"angularaxis\":{\"gridcolor\":\"white\",\"linecolor\":\"white\",\"ticks\":\"\"},\"bgcolor\":\"#E5ECF6\",\"radialaxis\":{\"gridcolor\":\"white\",\"linecolor\":\"white\",\"ticks\":\"\"}},\"scene\":{\"xaxis\":{\"backgroundcolor\":\"#E5ECF6\",\"gridcolor\":\"white\",\"gridwidth\":2,\"linecolor\":\"white\",\"showbackground\":true,\"ticks\":\"\",\"zerolinecolor\":\"white\"},\"yaxis\":{\"backgroundcolor\":\"#E5ECF6\",\"gridcolor\":\"white\",\"gridwidth\":2,\"linecolor\":\"white\",\"showbackground\":true,\"ticks\":\"\",\"zerolinecolor\":\"white\"},\"zaxis\":{\"backgroundcolor\":\"#E5ECF6\",\"gridcolor\":\"white\",\"gridwidth\":2,\"linecolor\":\"white\",\"showbackground\":true,\"ticks\":\"\",\"zerolinecolor\":\"white\"}},\"shapedefaults\":{\"line\":{\"color\":\"#2a3f5f\"}},\"ternary\":{\"aaxis\":{\"gridcolor\":\"white\",\"linecolor\":\"white\",\"ticks\":\"\"},\"baxis\":{\"gridcolor\":\"white\",\"linecolor\":\"white\",\"ticks\":\"\"},\"bgcolor\":\"#E5ECF6\",\"caxis\":{\"gridcolor\":\"white\",\"linecolor\":\"white\",\"ticks\":\"\"}},\"title\":{\"x\":0.05},\"xaxis\":{\"automargin\":true,\"gridcolor\":\"white\",\"linecolor\":\"white\",\"ticks\":\"\",\"title\":{\"standoff\":15},\"zerolinecolor\":\"white\",\"zerolinewidth\":2},\"yaxis\":{\"automargin\":true,\"gridcolor\":\"white\",\"linecolor\":\"white\",\"ticks\":\"\",\"title\":{\"standoff\":15},\"zerolinecolor\":\"white\",\"zerolinewidth\":2}}},\"title\":{\"text\":\"Top 3 and Bottom 3 Clearance Stores\"},\"xaxis\":{\"title\":{\"text\":\"Store (Size)\"}},\"yaxis\":{\"title\":{\"text\":\"Clearance\"}},\"barmode\":\"group\",\"plot_bgcolor\":\"rgba(0, 0, 0, 0)\"},                        {\"responsive\": true}                    ).then(function(){\n",
       "                            \n",
       "var gd = document.getElementById('4c7366e1-5d9b-4cc2-9440-31f91b5f8b9e');\n",
       "var x = new MutationObserver(function (mutations, observer) {{\n",
       "        var display = window.getComputedStyle(gd).display;\n",
       "        if (!display || display === 'none') {{\n",
       "            console.log([gd, 'removed!']);\n",
       "            Plotly.purge(gd);\n",
       "            observer.disconnect();\n",
       "        }}\n",
       "}});\n",
       "\n",
       "// Listen for the removal of the full notebook cells\n",
       "var notebookContainer = gd.closest('#notebook-container');\n",
       "if (notebookContainer) {{\n",
       "    x.observe(notebookContainer, {childList: true});\n",
       "}}\n",
       "\n",
       "// Listen for the clearing of the current output cell\n",
       "var outputEl = gd.closest('.output');\n",
       "if (outputEl) {{\n",
       "    x.observe(outputEl, {childList: true});\n",
       "}}\n",
       "\n",
       "                        })                };                });            </script>        </div>"
      ]
     },
     "metadata": {},
     "output_type": "display_data"
    }
   ],
   "source": [
    "import pandas as pd\n",
    "import plotly.graph_objs as go\n",
    "\n",
    "# Create the DataFrame\n",
    "data = {'store': [19, 20, 7, 7, 13, 14],\n",
    "        'size': ['MED', 'MED', 'SM', 'S/M', 'M/L', 'S/M'],\n",
    "        'Clearance': [686, 435, 402, 0, 0, 0],\n",
    "        'category': ['Highest'] * 3 + ['Lowest'] * 3}\n",
    "\n",
    "df = pd.DataFrame(data)\n",
    "\n",
    "# Create a grouped bar chart\n",
    "fig = go.Figure()\n",
    "\n",
    "# Define the color scale\n",
    "color_scale = {'Highest': '#1f77b4', 'Lowest': '#aec7e8'}\n",
    "\n",
    "for category in ['Highest', 'Lowest']:\n",
    "    category_df = df[df['category'] == category]\n",
    "    fig.add_trace(go.Bar(\n",
    "        x=category_df['store'].astype(str) + \" (\" + category_df['size'] + \")\",\n",
    "        y=category_df['Clearance'],\n",
    "        name=category,\n",
    "        marker=dict(color=color_scale[category]),\n",
    "        legendgroup=category\n",
    "    ))\n",
    "\n",
    "fig.update_layout(\n",
    "    title=\"Top 3 and Bottom 3 Clearance Stores\",\n",
    "    xaxis_title=\"Store (Size)\",\n",
    "    yaxis_title=\"Clearance\",\n",
    "    barmode='group',\n",
    "    plot_bgcolor='rgba(0, 0, 0, 0)'\n",
    ")\n",
    "\n",
    "fig.show()"
   ]
  },
  {
   "cell_type": "code",
   "execution_count": 150,
   "id": "f05a2d50",
   "metadata": {},
   "outputs": [],
   "source": [
    "import seaborn as sns"
   ]
  },
  {
   "cell_type": "code",
   "execution_count": 151,
   "id": "2eaef026",
   "metadata": {},
   "outputs": [],
   "source": [
    "df = season_wise_storewise_clearance.reset_index()"
   ]
  },
  {
   "cell_type": "code",
   "execution_count": 152,
   "id": "532d1b4f",
   "metadata": {},
   "outputs": [
    {
     "data": {
      "text/plain": [
       "<matplotlib.legend.Legend at 0x7fb3addaafd0>"
      ]
     },
     "execution_count": 152,
     "metadata": {},
     "output_type": "execute_result"
    },
    {
     "data": {
      "image/png": "[encoded data removed]",
      "text/plain": [
       "<Figure size 432x288 with 1 Axes>"
      ]
     },
     "metadata": {},
     "output_type": "display_data"
    }
   ],
   "source": [
    "sns.set(style=\"darkgrid\")\n",
    "sns.lineplot(data=df, x=\"season\", y=\"product clearance\", hue=\"store\", palette=\"Set1\")\n",
    "\n",
    "plt.xlabel(\"Season\")\n",
    "plt.ylabel(\"Store wise clearance\")\n",
    "plt.legend(loc='upper center', bbox_to_anchor=(0.5, 1.15), ncol=len(df['store'].unique()), fontsize='small')"
   ]
  },
  {
   "cell_type": "code",
   "execution_count": 153,
   "id": "348ab9a3",
   "metadata": {},
   "outputs": [
    {
     "data": {
      "text/html": [
       "<div>\n",
       "<style scoped>\n",
       "    .dataframe tbody tr th:only-of-type {\n",
       "        vertical-align: middle;\n",
       "    }\n",
       "\n",
       "    .dataframe tbody tr th {\n",
       "        vertical-align: top;\n",
       "    }\n",
       "\n",
       "    .dataframe thead th {\n",
       "        text-align: right;\n",
       "    }\n",
       "</style>\n",
       "<table border=\"1\" class=\"dataframe\">\n",
       "  <thead>\n",
       "    <tr style=\"text-align: right;\">\n",
       "      <th></th>\n",
       "      <th>store</th>\n",
       "      <th>sale.date</th>\n",
       "      <th>tran.no</th>\n",
       "      <th>tran.type</th>\n",
       "      <th>cashier</th>\n",
       "      <th>size</th>\n",
       "      <th>color</th>\n",
       "      <th>class.desc</th>\n",
       "      <th>sub.class.desc</th>\n",
       "      <th>unit</th>\n",
       "      <th>unit.cost</th>\n",
       "      <th>sale.amt</th>\n",
       "      <th>unit.current.retail</th>\n",
       "      <th>unit.original.retail</th>\n",
       "      <th>gross_margin</th>\n",
       "      <th>cost</th>\n",
       "      <th>season</th>\n",
       "      <th>product clearance</th>\n",
       "    </tr>\n",
       "  </thead>\n",
       "  <tbody>\n",
       "    <tr>\n",
       "      <th>0</th>\n",
       "      <td>19</td>\n",
       "      <td>2019-01-01</td>\n",
       "      <td>15553</td>\n",
       "      <td>S</td>\n",
       "      <td>2</td>\n",
       "      <td>MED</td>\n",
       "      <td>Ivory</td>\n",
       "      <td>Fashion Tops</td>\n",
       "      <td>Button Down</td>\n",
       "      <td>1</td>\n",
       "      <td>9.70</td>\n",
       "      <td>31.49</td>\n",
       "      <td>40.00</td>\n",
       "      <td>40.0</td>\n",
       "      <td>0.691966</td>\n",
       "      <td>9.70</td>\n",
       "      <td>Winter</td>\n",
       "      <td>0</td>\n",
       "    </tr>\n",
       "    <tr>\n",
       "      <th>1</th>\n",
       "      <td>19</td>\n",
       "      <td>2019-01-01</td>\n",
       "      <td>15555</td>\n",
       "      <td>S</td>\n",
       "      <td>2</td>\n",
       "      <td>SM</td>\n",
       "      <td>FOREST GREEN</td>\n",
       "      <td>Fashion Tops</td>\n",
       "      <td>Blouse</td>\n",
       "      <td>1</td>\n",
       "      <td>8.37</td>\n",
       "      <td>48.00</td>\n",
       "      <td>48.00</td>\n",
       "      <td>48.0</td>\n",
       "      <td>0.825625</td>\n",
       "      <td>8.37</td>\n",
       "      <td>Winter</td>\n",
       "      <td>0</td>\n",
       "    </tr>\n",
       "    <tr>\n",
       "      <th>2</th>\n",
       "      <td>19</td>\n",
       "      <td>2019-01-01</td>\n",
       "      <td>15557</td>\n",
       "      <td>S</td>\n",
       "      <td>2</td>\n",
       "      <td>MED</td>\n",
       "      <td>Black</td>\n",
       "      <td>Fashion Tops</td>\n",
       "      <td>Blouse</td>\n",
       "      <td>1</td>\n",
       "      <td>9.60</td>\n",
       "      <td>12.75</td>\n",
       "      <td>21.98</td>\n",
       "      <td>40.0</td>\n",
       "      <td>0.247059</td>\n",
       "      <td>9.60</td>\n",
       "      <td>Winter</td>\n",
       "      <td>1</td>\n",
       "    </tr>\n",
       "    <tr>\n",
       "      <th>3</th>\n",
       "      <td>19</td>\n",
       "      <td>2019-01-01</td>\n",
       "      <td>15557</td>\n",
       "      <td>S</td>\n",
       "      <td>2</td>\n",
       "      <td>MED</td>\n",
       "      <td>Ivory</td>\n",
       "      <td>Fashion Tops</td>\n",
       "      <td>Blouse</td>\n",
       "      <td>1</td>\n",
       "      <td>11.23</td>\n",
       "      <td>16.23</td>\n",
       "      <td>27.98</td>\n",
       "      <td>44.0</td>\n",
       "      <td>0.308071</td>\n",
       "      <td>11.23</td>\n",
       "      <td>Winter</td>\n",
       "      <td>1</td>\n",
       "    </tr>\n",
       "    <tr>\n",
       "      <th>4</th>\n",
       "      <td>19</td>\n",
       "      <td>2019-01-01</td>\n",
       "      <td>15561</td>\n",
       "      <td>S</td>\n",
       "      <td>2</td>\n",
       "      <td>Extra Small</td>\n",
       "      <td>Ivory</td>\n",
       "      <td>Fashion Tops</td>\n",
       "      <td>Blouse</td>\n",
       "      <td>1</td>\n",
       "      <td>11.23</td>\n",
       "      <td>14.95</td>\n",
       "      <td>27.98</td>\n",
       "      <td>44.0</td>\n",
       "      <td>0.248829</td>\n",
       "      <td>11.23</td>\n",
       "      <td>Winter</td>\n",
       "      <td>1</td>\n",
       "    </tr>\n",
       "  </tbody>\n",
       "</table>\n",
       "</div>"
      ],
      "text/plain": [
       "   store  sale.date  tran.no tran.type  cashier         size         color  \\\n",
       "0     19 2019-01-01    15553         S        2          MED         Ivory   \n",
       "1     19 2019-01-01    15555         S        2           SM  FOREST GREEN   \n",
       "2     19 2019-01-01    15557         S        2          MED         Black   \n",
       "3     19 2019-01-01    15557         S        2          MED         Ivory   \n",
       "4     19 2019-01-01    15561         S        2  Extra Small         Ivory   \n",
       "\n",
       "     class.desc sub.class.desc  unit  unit.cost  sale.amt  \\\n",
       "0  Fashion Tops    Button Down     1       9.70     31.49   \n",
       "1  Fashion Tops         Blouse     1       8.37     48.00   \n",
       "2  Fashion Tops         Blouse     1       9.60     12.75   \n",
       "3  Fashion Tops         Blouse     1      11.23     16.23   \n",
       "4  Fashion Tops         Blouse     1      11.23     14.95   \n",
       "\n",
       "   unit.current.retail  unit.original.retail  gross_margin   cost  season  \\\n",
       "0                40.00                  40.0      0.691966   9.70  Winter   \n",
       "1                48.00                  48.0      0.825625   8.37  Winter   \n",
       "2                21.98                  40.0      0.247059   9.60  Winter   \n",
       "3                27.98                  44.0      0.308071  11.23  Winter   \n",
       "4                27.98                  44.0      0.248829  11.23  Winter   \n",
       "\n",
       "   product clearance  \n",
       "0                  0  \n",
       "1                  0  \n",
       "2                  1  \n",
       "3                  1  \n",
       "4                  1  "
      ]
     },
     "execution_count": 153,
     "metadata": {},
     "output_type": "execute_result"
    }
   ],
   "source": [
    "merged_df.head()"
   ]
  },
  {
   "cell_type": "code",
   "execution_count": null,
   "id": "5c5b9db2",
   "metadata": {},
   "outputs": [],
   "source": []
  }
 ],
 "metadata": {
  "kernelspec": {
   "display_name": "Python 3 (ipykernel)",
   "language": "python",
   "name": "python3"
  },
  "language_info": {
   "codemirror_mode": {
    "name": "ipython",
    "version": 3
   },
   "file_extension": ".py",
   "mimetype": "text/x-python",
   "name": "python",
   "nbconvert_exporter": "python",
   "pygments_lexer": "ipython3",
   "version": "3.9.12"
  }
 },
 "nbformat": 4,
 "nbformat_minor": 5
}
